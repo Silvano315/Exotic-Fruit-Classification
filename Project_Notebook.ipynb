{
 "cells": [
  {
   "cell_type": "markdown",
   "metadata": {},
   "source": [
    "# EXOTIC FRUIT CLASSIFICATION \n",
    "*Fourth Master AI Engineering project*"
   ]
  },
  {
   "cell_type": "markdown",
   "metadata": {},
   "source": [
    "## Import Libraries and Dataset\n",
    "\n",
    "* The Python packages I used in this projects are in requirements.txt file\n",
    "* Dataset is stored in the 'Data' folder\n",
    "* I renamed the columns for two reasons:\n",
    "    - I need to translate Italian column names into English ones\n",
    "    - I didn't want measurement units and ranges in the column names"
   ]
  },
  {
   "cell_type": "code",
   "execution_count": 1,
   "metadata": {},
   "outputs": [],
   "source": [
    "# Import libraries\n",
    "\n",
    "import pandas as pd\n",
    "import numpy as np\n",
    "from matplotlib import pyplot as plt\n",
    "import seaborn as sns\n",
    "import plotly.express as px\n",
    "import pygwalker as pyg\n",
    "\n",
    "from src.preprocessing_and_viz import handle_duplicates, plot_feature_distribution, scatter_plot, feature_scaling"
   ]
  },
  {
   "cell_type": "code",
   "execution_count": 2,
   "metadata": {},
   "outputs": [
    {
     "data": {
      "text/html": [
       "<div>\n",
       "<style scoped>\n",
       "    .dataframe tbody tr th:only-of-type {\n",
       "        vertical-align: middle;\n",
       "    }\n",
       "\n",
       "    .dataframe tbody tr th {\n",
       "        vertical-align: top;\n",
       "    }\n",
       "\n",
       "    .dataframe thead th {\n",
       "        text-align: right;\n",
       "    }\n",
       "</style>\n",
       "<table border=\"1\" class=\"dataframe\">\n",
       "  <thead>\n",
       "    <tr style=\"text-align: right;\">\n",
       "      <th></th>\n",
       "      <th>Frutto</th>\n",
       "      <th>Peso (g)</th>\n",
       "      <th>Diametro medio (mm)</th>\n",
       "      <th>Lunghezza media (mm)</th>\n",
       "      <th>Durezza buccia (1-10)</th>\n",
       "      <th>Dolcezza (1-10)</th>\n",
       "    </tr>\n",
       "  </thead>\n",
       "  <tbody>\n",
       "    <tr>\n",
       "      <th>0</th>\n",
       "      <td>Mela</td>\n",
       "      <td>86.40</td>\n",
       "      <td>89.68</td>\n",
       "      <td>8.69</td>\n",
       "      <td>9.61</td>\n",
       "      <td>2.41</td>\n",
       "    </tr>\n",
       "    <tr>\n",
       "      <th>1</th>\n",
       "      <td>Mela</td>\n",
       "      <td>77.58</td>\n",
       "      <td>73.45</td>\n",
       "      <td>6.49</td>\n",
       "      <td>7.20</td>\n",
       "      <td>3.87</td>\n",
       "    </tr>\n",
       "    <tr>\n",
       "      <th>2</th>\n",
       "      <td>Mela</td>\n",
       "      <td>81.95</td>\n",
       "      <td>81.66</td>\n",
       "      <td>6.40</td>\n",
       "      <td>9.09</td>\n",
       "      <td>2.88</td>\n",
       "    </tr>\n",
       "    <tr>\n",
       "      <th>3</th>\n",
       "      <td>Mela</td>\n",
       "      <td>66.33</td>\n",
       "      <td>36.71</td>\n",
       "      <td>6.78</td>\n",
       "      <td>8.21</td>\n",
       "      <td>2.55</td>\n",
       "    </tr>\n",
       "    <tr>\n",
       "      <th>4</th>\n",
       "      <td>Mela</td>\n",
       "      <td>56.73</td>\n",
       "      <td>75.69</td>\n",
       "      <td>5.78</td>\n",
       "      <td>9.15</td>\n",
       "      <td>3.88</td>\n",
       "    </tr>\n",
       "  </tbody>\n",
       "</table>\n",
       "</div>"
      ],
      "text/plain": [
       "  Frutto  Peso (g)  Diametro medio (mm)  Lunghezza media (mm)  \\\n",
       "0   Mela     86.40                89.68                  8.69   \n",
       "1   Mela     77.58                73.45                  6.49   \n",
       "2   Mela     81.95                81.66                  6.40   \n",
       "3   Mela     66.33                36.71                  6.78   \n",
       "4   Mela     56.73                75.69                  5.78   \n",
       "\n",
       "   Durezza buccia (1-10)  Dolcezza (1-10)  \n",
       "0                   9.61             2.41  \n",
       "1                   7.20             3.87  \n",
       "2                   9.09             2.88  \n",
       "3                   8.21             2.55  \n",
       "4                   9.15             3.88  "
      ]
     },
     "execution_count": 2,
     "metadata": {},
     "output_type": "execute_result"
    }
   ],
   "source": [
    "# Import Dataset\n",
    "\n",
    "df = pd.read_csv(\"Data/Fruits_Dataset.csv\")\n",
    "\n",
    "df.head()"
   ]
  },
  {
   "cell_type": "code",
   "execution_count": 3,
   "metadata": {},
   "outputs": [
    {
     "data": {
      "text/plain": [
       "Index(['Fruit', 'Weight', 'Average diameter', 'Average length',\n",
       "       'Peel hardness', 'Sweetness'],\n",
       "      dtype='object')"
      ]
     },
     "execution_count": 3,
     "metadata": {},
     "output_type": "execute_result"
    }
   ],
   "source": [
    "# Renaming columns\n",
    "\n",
    "new_columns = [\n",
    "    'Fruit',\n",
    "    'Weight',\n",
    "    'Average diameter',\n",
    "    'Average length',\n",
    "    'Peel hardness',\n",
    "    'Sweetness',\n",
    "]\n",
    "\n",
    "df.columns = new_columns\n",
    "\n",
    "df.columns"
   ]
  },
  {
   "cell_type": "markdown",
   "metadata": {},
   "source": [
    "## Statistics Information\n",
    "\n",
    "Useful information I got:\n",
    "* Shape: (500,6)\n",
    "* `Fruit` is the target column. There are 5 options: Apple, Banana, Orange, Grape, Kiwi\n",
    "* 5 numerical features with continous values (float64)\n",
    "* Statistics:\n",
    "    - mean values and ranges are one order of magnitude different, I will implement normalization/standardization\n",
    "    - Maximum value for Peel hardness should have been 10, but it's clearly higher (13.72). Strange!\n",
    "    - it seems there are no missing values "
   ]
  },
  {
   "cell_type": "code",
   "execution_count": 7,
   "metadata": {},
   "outputs": [
    {
     "name": "stdout",
     "output_type": "stream",
     "text": [
      "<class 'pandas.core.frame.DataFrame'>\n",
      "RangeIndex: 500 entries, 0 to 499\n",
      "Data columns (total 6 columns):\n",
      " #   Column            Non-Null Count  Dtype  \n",
      "---  ------            --------------  -----  \n",
      " 0   Fruit             500 non-null    object \n",
      " 1   Weight            500 non-null    float64\n",
      " 2   Average diameter  500 non-null    float64\n",
      " 3   Average length    500 non-null    float64\n",
      " 4   Peel hardness     500 non-null    float64\n",
      " 5   Sweetness         500 non-null    float64\n",
      "dtypes: float64(5), object(1)\n",
      "memory usage: 23.6+ KB\n"
     ]
    }
   ],
   "source": [
    "# Shape and Info\n",
    "\n",
    "df.info()"
   ]
  },
  {
   "cell_type": "code",
   "execution_count": 8,
   "metadata": {},
   "outputs": [
    {
     "data": {
      "text/html": [
       "<div>\n",
       "<style scoped>\n",
       "    .dataframe tbody tr th:only-of-type {\n",
       "        vertical-align: middle;\n",
       "    }\n",
       "\n",
       "    .dataframe tbody tr th {\n",
       "        vertical-align: top;\n",
       "    }\n",
       "\n",
       "    .dataframe thead th {\n",
       "        text-align: right;\n",
       "    }\n",
       "</style>\n",
       "<table border=\"1\" class=\"dataframe\">\n",
       "  <thead>\n",
       "    <tr style=\"text-align: right;\">\n",
       "      <th></th>\n",
       "      <th>Weight</th>\n",
       "      <th>Average diameter</th>\n",
       "      <th>Average length</th>\n",
       "      <th>Peel hardness</th>\n",
       "      <th>Sweetness</th>\n",
       "    </tr>\n",
       "  </thead>\n",
       "  <tbody>\n",
       "    <tr>\n",
       "      <th>count</th>\n",
       "      <td>500.000000</td>\n",
       "      <td>500.000000</td>\n",
       "      <td>500.000000</td>\n",
       "      <td>500.000000</td>\n",
       "      <td>500.000000</td>\n",
       "    </tr>\n",
       "    <tr>\n",
       "      <th>mean</th>\n",
       "      <td>47.313440</td>\n",
       "      <td>86.573100</td>\n",
       "      <td>5.298620</td>\n",
       "      <td>7.437640</td>\n",
       "      <td>3.593220</td>\n",
       "    </tr>\n",
       "    <tr>\n",
       "      <th>std</th>\n",
       "      <td>26.768797</td>\n",
       "      <td>64.293403</td>\n",
       "      <td>2.641993</td>\n",
       "      <td>1.812548</td>\n",
       "      <td>1.264899</td>\n",
       "    </tr>\n",
       "    <tr>\n",
       "      <th>min</th>\n",
       "      <td>8.570000</td>\n",
       "      <td>7.530000</td>\n",
       "      <td>1.150000</td>\n",
       "      <td>3.070000</td>\n",
       "      <td>1.250000</td>\n",
       "    </tr>\n",
       "    <tr>\n",
       "      <th>25%</th>\n",
       "      <td>24.797500</td>\n",
       "      <td>50.510000</td>\n",
       "      <td>2.672500</td>\n",
       "      <td>6.152500</td>\n",
       "      <td>2.570000</td>\n",
       "    </tr>\n",
       "    <tr>\n",
       "      <th>50%</th>\n",
       "      <td>42.380000</td>\n",
       "      <td>70.450000</td>\n",
       "      <td>5.670000</td>\n",
       "      <td>7.340000</td>\n",
       "      <td>3.535000</td>\n",
       "    </tr>\n",
       "    <tr>\n",
       "      <th>75%</th>\n",
       "      <td>68.080000</td>\n",
       "      <td>88.852500</td>\n",
       "      <td>7.455000</td>\n",
       "      <td>8.615000</td>\n",
       "      <td>4.465000</td>\n",
       "    </tr>\n",
       "    <tr>\n",
       "      <th>max</th>\n",
       "      <td>111.210000</td>\n",
       "      <td>299.890000</td>\n",
       "      <td>11.140000</td>\n",
       "      <td>13.720000</td>\n",
       "      <td>6.950000</td>\n",
       "    </tr>\n",
       "  </tbody>\n",
       "</table>\n",
       "</div>"
      ],
      "text/plain": [
       "           Weight  Average diameter  Average length  Peel hardness   Sweetness\n",
       "count  500.000000        500.000000      500.000000     500.000000  500.000000\n",
       "mean    47.313440         86.573100        5.298620       7.437640    3.593220\n",
       "std     26.768797         64.293403        2.641993       1.812548    1.264899\n",
       "min      8.570000          7.530000        1.150000       3.070000    1.250000\n",
       "25%     24.797500         50.510000        2.672500       6.152500    2.570000\n",
       "50%     42.380000         70.450000        5.670000       7.340000    3.535000\n",
       "75%     68.080000         88.852500        7.455000       8.615000    4.465000\n",
       "max    111.210000        299.890000       11.140000      13.720000    6.950000"
      ]
     },
     "execution_count": 8,
     "metadata": {},
     "output_type": "execute_result"
    }
   ],
   "source": [
    "# Statistics\n",
    "\n",
    "df.describe()"
   ]
  },
  {
   "cell_type": "code",
   "execution_count": 4,
   "metadata": {},
   "outputs": [
    {
     "data": {
      "text/plain": [
       "Fruit\n",
       "Apple     100\n",
       "Banana    100\n",
       "Orange    100\n",
       "Grape     100\n",
       "Kiwi      100\n",
       "Name: count, dtype: int64"
      ]
     },
     "execution_count": 4,
     "metadata": {},
     "output_type": "execute_result"
    }
   ],
   "source": [
    "# Rename Target values and see how they are distributed\n",
    "\n",
    "target_value_names = {\n",
    "    'Mela' : 'Apple',\n",
    "    'Banana' : 'Banana',\n",
    "    'Arancia' : 'Orange',\n",
    "    'Uva' : 'Grape',\n",
    "    'Kiwi' : 'Kiwi'\n",
    "}\n",
    "\n",
    "df['Fruit'] = df['Fruit'].map(lambda x: target_value_names[x])\n",
    "\n",
    "df['Fruit'].value_counts()"
   ]
  },
  {
   "cell_type": "markdown",
   "metadata": {},
   "source": [
    "## Preprocessing\n",
    "\n",
    "* No duplicates in the dataset. Shape is still (500,6)\n",
    "* No missing values in the dataset."
   ]
  },
  {
   "cell_type": "code",
   "execution_count": 5,
   "metadata": {},
   "outputs": [
    {
     "name": "stdout",
     "output_type": "stream",
     "text": [
      "No duplicates found!\n"
     ]
    }
   ],
   "source": [
    "# Check for duplicates\n",
    "\n",
    "df_cleaned = handle_duplicates(df)"
   ]
  },
  {
   "cell_type": "code",
   "execution_count": 8,
   "metadata": {},
   "outputs": [
    {
     "data": {
      "text/plain": [
       "Fruit               0\n",
       "Weight              0\n",
       "Average diameter    0\n",
       "Average length      0\n",
       "Peel hardness       0\n",
       "Sweetness           0\n",
       "dtype: int64"
      ]
     },
     "execution_count": 8,
     "metadata": {},
     "output_type": "execute_result"
    }
   ],
   "source": [
    "# Check for missing values\n",
    "\n",
    "df_cleaned.isna().sum()"
   ]
  },
  {
   "cell_type": "markdown",
   "metadata": {},
   "source": [
    "## Data Visualization\n",
    "\n",
    "Feature distribution without comparison with target column:\n",
    "* Weight: as expected, it is a negatively skewed distribution with high max value (111.21)\n",
    "* Average diameter: it is clear we have smaller fruits, so distribution is negatively skewed, with higher values come from Banana target\n",
    "* Average length: its distribution has two peaks, sign of fruits with well separated lengths\n",
    "* Peel hardness: has a almost normal distribution with a couple of possible outliers, median and mean are quite the same\n",
    "* Sweetness: has a almost normal distribution, median and mean are quite the same\n",
    "\n",
    "Feature distribution and scatter plot and comparison with target column:\n",
    "* Weight, Average diameter, Average length: each fruit follows distributions that were expected, interesting how Apple, Orange and Kiwi have almost the same distribution for Average diameter\n",
    "* Peel hardness: each fruit seems to follow a normal distribution\n",
    "* Sweetness: Orange, Grape and Kiwi reach higher values, as expected\n",
    "\n",
    "Scatter plot to see how features are distributed according to target column:\n",
    "* Weight vs Average diameter: it is possible to clearly see two clusters for Banana and Grape. Maybe, Apple, Orange and Kiwi will be more difficult to classify\n",
    "* Average length vs Average diameter: this plot emphasizes what said before \n",
    "* Peel hardness vs Weight: lighter fruits have higher Peel hardness values\n",
    "* Sweetness vs Average diameter: smaller fruits have higher Sweetness values\n",
    "* Peel hardness vs Sweetness: Banana has lowest Sweetness values and well distributed Peel hardness values. Orange, instead, had higher Sweetness values and lowest Peel hardness values"
   ]
  },
  {
   "cell_type": "code",
   "execution_count": 28,
   "metadata": {},
   "outputs": [
    {
     "data": {
      "application/vnd.plotly.v1+json": {
       "config": {
        "plotlyServerURL": "https://plot.ly"
       },
       "data": [
        {
         "alignmentgroup": "True",
         "bingroup": "x",
         "hovertemplate": "Weight=%{x}<br>count=%{y}<extra></extra>",
         "legendgroup": "",
         "marker": {
          "color": "#636efa",
          "pattern": {
           "shape": ""
          }
         },
         "name": "",
         "offsetgroup": "",
         "orientation": "v",
         "showlegend": false,
         "type": "histogram",
         "x": [
          86.4,
          77.58,
          81.95,
          66.33,
          56.73,
          86.05,
          99.24,
          111.21,
          76.6,
          86.85,
          74.25,
          87.4,
          60.24,
          80.9,
          110.33,
          99.56,
          108.57,
          95.51,
          103.69,
          92.84,
          62.41,
          109.59,
          80.51,
          62.51,
          95.11,
          107.41,
          62.72,
          81.4,
          85.07,
          90.91,
          58,
          80.83,
          61.31,
          101.38,
          54.13,
          85.08,
          86.07,
          87.7,
          76.19,
          92.5,
          73.64,
          97.27,
          74.89,
          89.77,
          83.02,
          35.64,
          78.14,
          104.58,
          100.83,
          98.19,
          106.53,
          58.45,
          68.31,
          78.28,
          75,
          60.98,
          87.21,
          60.57,
          85.59,
          71.66,
          80.06,
          73.68,
          76.01,
          94.08,
          53.49,
          76.44,
          98.26,
          85.7,
          67.08,
          90.95,
          89.32,
          36.17,
          84.43,
          81.25,
          78.16,
          93.12,
          44.78,
          82.9,
          84.02,
          95.91,
          96.47,
          88.85,
          100.77,
          78.75,
          70.7,
          102,
          96.77,
          65.78,
          93.82,
          70.63,
          60.66,
          39.05,
          75.72,
          67.81,
          83.14,
          50.72,
          62.11,
          92.56,
          31.26,
          86.07,
          32.5,
          20.04,
          35.37,
          20.96,
          22.64,
          29.3,
          31.51,
          24.02,
          39.31,
          32.7,
          22.42,
          36.48,
          24.52,
          32.38,
          12.99,
          35.7,
          25.23,
          36.57,
          31.27,
          29.39,
          26.94,
          37.46,
          23.69,
          24.07,
          33.33,
          20.03,
          25.75,
          30.15,
          28.72,
          19.25,
          33.13,
          32.54,
          37.87,
          25.02,
          32.43,
          33.87,
          40.09,
          26.45,
          26.94,
          35.2,
          27.78,
          26.77,
          21.88,
          30.15,
          23.9,
          26.21,
          24.85,
          28.72,
          25.19,
          41.99,
          25.9,
          22.89,
          17.72,
          29.08,
          44.04,
          28.45,
          40.09,
          46.56,
          29.3,
          31.48,
          35.63,
          39.42,
          38.33,
          27.71,
          32.6,
          31.07,
          30.57,
          30.63,
          31.43,
          24.56,
          34.21,
          23.49,
          25.93,
          19.34,
          32.51,
          24.64,
          37.59,
          29.47,
          32.49,
          35.63,
          28.1,
          24.86,
          25.6,
          33.98,
          28.15,
          37.56,
          32.27,
          26.39,
          18.01,
          28.37,
          22.36,
          29.2,
          33.19,
          20.7,
          31.96,
          23.06,
          31.48,
          27.87,
          27.5,
          36.23,
          42.52,
          57.71,
          82.33,
          62.99,
          80.77,
          76.71,
          73.16,
          74.45,
          45.63,
          52.32,
          50.32,
          101.41,
          58.46,
          77.57,
          53.18,
          57.93,
          74.31,
          68.07,
          65.43,
          78.75,
          60.04,
          69.64,
          71.87,
          88.85,
          65.34,
          107,
          64.35,
          82.35,
          83.47,
          80.85,
          72.31,
          69.89,
          84.58,
          64.1,
          62.67,
          49.29,
          50.17,
          68.07,
          62.33,
          83.11,
          56.32,
          82.33,
          79.12,
          55.05,
          60.82,
          66.19,
          72.43,
          75.84,
          67.19,
          88.46,
          68.29,
          72.76,
          51.67,
          68.71,
          101.25,
          81.82,
          62.85,
          44.42,
          86.09,
          91.66,
          60.99,
          71.11,
          50.78,
          65.58,
          76.68,
          69.51,
          89.77,
          58.5,
          49.39,
          62.1,
          54.33,
          81.54,
          73.06,
          56.61,
          97.11,
          67.39,
          57.25,
          45.13,
          68.85,
          84.14,
          77.55,
          64.53,
          76.56,
          78.77,
          98.59,
          65.82,
          55.28,
          56.84,
          64.39,
          95.67,
          57.42,
          44.26,
          50.52,
          57.6,
          88.16,
          55.91,
          75.61,
          68.11,
          44.17,
          62.22,
          14.16,
          14.62,
          12.81,
          12.59,
          10.65,
          11.85,
          14.57,
          17.97,
          20.11,
          13.72,
          13.18,
          12.99,
          10.07,
          16.63,
          15.52,
          20.39,
          10.06,
          11.32,
          14.16,
          15.17,
          10.08,
          21.1,
          16.72,
          12.57,
          16.78,
          13.23,
          11.28,
          20.97,
          14.89,
          14.94,
          15,
          14.88,
          14.03,
          11.07,
          12.89,
          12.03,
          16.27,
          18.58,
          14.66,
          16.84,
          15.42,
          18.82,
          17.63,
          16.75,
          13.93,
          15.13,
          16.51,
          11.92,
          10,
          10.18,
          16.12,
          15.22,
          10.26,
          16.51,
          16.25,
          13.99,
          18.07,
          13.87,
          11.7,
          10.18,
          12.95,
          12.36,
          12.26,
          18.4,
          18.75,
          19.03,
          20.2,
          14.62,
          16.27,
          8.57,
          12.1,
          13.46,
          19.23,
          16.1,
          12.05,
          18.49,
          13.53,
          16.67,
          14.99,
          18.04,
          15.62,
          14.9,
          14.33,
          12.62,
          14.86,
          11.92,
          12.47,
          16.52,
          16.23,
          12.25,
          15,
          19.27,
          11.45,
          10.11,
          10.62,
          16.7,
          17.7,
          19.5,
          17.57,
          16.72,
          41.63,
          52.68,
          39.52,
          35.83,
          40.07,
          38.92,
          35.17,
          47.88,
          54.31,
          40.07,
          48.44,
          53.75,
          37.42,
          37.02,
          38.61,
          49.26,
          55.23,
          38.02,
          48.38,
          35.13,
          49.54,
          44.65,
          34.65,
          34.71,
          43.02,
          31.06,
          39.69,
          33.37,
          49.63,
          49.34,
          27.42,
          54.05,
          32.43,
          34.64,
          36.98,
          49.05,
          37.99,
          57.03,
          49.3,
          37.98,
          50.36,
          37.26,
          44.5,
          48.91,
          49.1,
          58.09,
          34.07,
          43.05,
          48.91,
          43.21,
          24.43,
          38.37,
          49.54,
          49.92,
          43.43,
          47.34,
          37.15,
          46.57,
          26.84,
          41.43,
          40.26,
          33.49,
          51.83,
          50.19,
          54.11,
          36.01,
          47.89,
          48.88,
          58.67,
          41.36,
          49.89,
          49.42,
          48.36,
          43.78,
          56.22,
          44.71,
          45.73,
          41.97,
          51,
          37.46,
          25.15,
          45.82,
          59.64,
          24.64,
          30.64,
          41.43,
          34.38,
          41.39,
          51.25,
          34.46,
          32.35,
          42.24,
          51.41,
          49.46,
          43.26,
          40.82,
          54.65,
          35.7,
          30.8,
          63.71
         ],
         "xaxis": "x",
         "yaxis": "y"
        },
        {
         "alignmentgroup": "True",
         "hovertemplate": "Weight=%{x}<extra></extra>",
         "legendgroup": "",
         "marker": {
          "color": "#636efa"
         },
         "name": "",
         "notched": true,
         "offsetgroup": "",
         "showlegend": false,
         "type": "box",
         "x": [
          86.4,
          77.58,
          81.95,
          66.33,
          56.73,
          86.05,
          99.24,
          111.21,
          76.6,
          86.85,
          74.25,
          87.4,
          60.24,
          80.9,
          110.33,
          99.56,
          108.57,
          95.51,
          103.69,
          92.84,
          62.41,
          109.59,
          80.51,
          62.51,
          95.11,
          107.41,
          62.72,
          81.4,
          85.07,
          90.91,
          58,
          80.83,
          61.31,
          101.38,
          54.13,
          85.08,
          86.07,
          87.7,
          76.19,
          92.5,
          73.64,
          97.27,
          74.89,
          89.77,
          83.02,
          35.64,
          78.14,
          104.58,
          100.83,
          98.19,
          106.53,
          58.45,
          68.31,
          78.28,
          75,
          60.98,
          87.21,
          60.57,
          85.59,
          71.66,
          80.06,
          73.68,
          76.01,
          94.08,
          53.49,
          76.44,
          98.26,
          85.7,
          67.08,
          90.95,
          89.32,
          36.17,
          84.43,
          81.25,
          78.16,
          93.12,
          44.78,
          82.9,
          84.02,
          95.91,
          96.47,
          88.85,
          100.77,
          78.75,
          70.7,
          102,
          96.77,
          65.78,
          93.82,
          70.63,
          60.66,
          39.05,
          75.72,
          67.81,
          83.14,
          50.72,
          62.11,
          92.56,
          31.26,
          86.07,
          32.5,
          20.04,
          35.37,
          20.96,
          22.64,
          29.3,
          31.51,
          24.02,
          39.31,
          32.7,
          22.42,
          36.48,
          24.52,
          32.38,
          12.99,
          35.7,
          25.23,
          36.57,
          31.27,
          29.39,
          26.94,
          37.46,
          23.69,
          24.07,
          33.33,
          20.03,
          25.75,
          30.15,
          28.72,
          19.25,
          33.13,
          32.54,
          37.87,
          25.02,
          32.43,
          33.87,
          40.09,
          26.45,
          26.94,
          35.2,
          27.78,
          26.77,
          21.88,
          30.15,
          23.9,
          26.21,
          24.85,
          28.72,
          25.19,
          41.99,
          25.9,
          22.89,
          17.72,
          29.08,
          44.04,
          28.45,
          40.09,
          46.56,
          29.3,
          31.48,
          35.63,
          39.42,
          38.33,
          27.71,
          32.6,
          31.07,
          30.57,
          30.63,
          31.43,
          24.56,
          34.21,
          23.49,
          25.93,
          19.34,
          32.51,
          24.64,
          37.59,
          29.47,
          32.49,
          35.63,
          28.1,
          24.86,
          25.6,
          33.98,
          28.15,
          37.56,
          32.27,
          26.39,
          18.01,
          28.37,
          22.36,
          29.2,
          33.19,
          20.7,
          31.96,
          23.06,
          31.48,
          27.87,
          27.5,
          36.23,
          42.52,
          57.71,
          82.33,
          62.99,
          80.77,
          76.71,
          73.16,
          74.45,
          45.63,
          52.32,
          50.32,
          101.41,
          58.46,
          77.57,
          53.18,
          57.93,
          74.31,
          68.07,
          65.43,
          78.75,
          60.04,
          69.64,
          71.87,
          88.85,
          65.34,
          107,
          64.35,
          82.35,
          83.47,
          80.85,
          72.31,
          69.89,
          84.58,
          64.1,
          62.67,
          49.29,
          50.17,
          68.07,
          62.33,
          83.11,
          56.32,
          82.33,
          79.12,
          55.05,
          60.82,
          66.19,
          72.43,
          75.84,
          67.19,
          88.46,
          68.29,
          72.76,
          51.67,
          68.71,
          101.25,
          81.82,
          62.85,
          44.42,
          86.09,
          91.66,
          60.99,
          71.11,
          50.78,
          65.58,
          76.68,
          69.51,
          89.77,
          58.5,
          49.39,
          62.1,
          54.33,
          81.54,
          73.06,
          56.61,
          97.11,
          67.39,
          57.25,
          45.13,
          68.85,
          84.14,
          77.55,
          64.53,
          76.56,
          78.77,
          98.59,
          65.82,
          55.28,
          56.84,
          64.39,
          95.67,
          57.42,
          44.26,
          50.52,
          57.6,
          88.16,
          55.91,
          75.61,
          68.11,
          44.17,
          62.22,
          14.16,
          14.62,
          12.81,
          12.59,
          10.65,
          11.85,
          14.57,
          17.97,
          20.11,
          13.72,
          13.18,
          12.99,
          10.07,
          16.63,
          15.52,
          20.39,
          10.06,
          11.32,
          14.16,
          15.17,
          10.08,
          21.1,
          16.72,
          12.57,
          16.78,
          13.23,
          11.28,
          20.97,
          14.89,
          14.94,
          15,
          14.88,
          14.03,
          11.07,
          12.89,
          12.03,
          16.27,
          18.58,
          14.66,
          16.84,
          15.42,
          18.82,
          17.63,
          16.75,
          13.93,
          15.13,
          16.51,
          11.92,
          10,
          10.18,
          16.12,
          15.22,
          10.26,
          16.51,
          16.25,
          13.99,
          18.07,
          13.87,
          11.7,
          10.18,
          12.95,
          12.36,
          12.26,
          18.4,
          18.75,
          19.03,
          20.2,
          14.62,
          16.27,
          8.57,
          12.1,
          13.46,
          19.23,
          16.1,
          12.05,
          18.49,
          13.53,
          16.67,
          14.99,
          18.04,
          15.62,
          14.9,
          14.33,
          12.62,
          14.86,
          11.92,
          12.47,
          16.52,
          16.23,
          12.25,
          15,
          19.27,
          11.45,
          10.11,
          10.62,
          16.7,
          17.7,
          19.5,
          17.57,
          16.72,
          41.63,
          52.68,
          39.52,
          35.83,
          40.07,
          38.92,
          35.17,
          47.88,
          54.31,
          40.07,
          48.44,
          53.75,
          37.42,
          37.02,
          38.61,
          49.26,
          55.23,
          38.02,
          48.38,
          35.13,
          49.54,
          44.65,
          34.65,
          34.71,
          43.02,
          31.06,
          39.69,
          33.37,
          49.63,
          49.34,
          27.42,
          54.05,
          32.43,
          34.64,
          36.98,
          49.05,
          37.99,
          57.03,
          49.3,
          37.98,
          50.36,
          37.26,
          44.5,
          48.91,
          49.1,
          58.09,
          34.07,
          43.05,
          48.91,
          43.21,
          24.43,
          38.37,
          49.54,
          49.92,
          43.43,
          47.34,
          37.15,
          46.57,
          26.84,
          41.43,
          40.26,
          33.49,
          51.83,
          50.19,
          54.11,
          36.01,
          47.89,
          48.88,
          58.67,
          41.36,
          49.89,
          49.42,
          48.36,
          43.78,
          56.22,
          44.71,
          45.73,
          41.97,
          51,
          37.46,
          25.15,
          45.82,
          59.64,
          24.64,
          30.64,
          41.43,
          34.38,
          41.39,
          51.25,
          34.46,
          32.35,
          42.24,
          51.41,
          49.46,
          43.26,
          40.82,
          54.65,
          35.7,
          30.8,
          63.71
         ],
         "xaxis": "x2",
         "yaxis": "y2"
        }
       ],
       "layout": {
        "barmode": "relative",
        "legend": {
         "tracegroupgap": 0
        },
        "template": {
         "data": {
          "bar": [
           {
            "error_x": {
             "color": "#2a3f5f"
            },
            "error_y": {
             "color": "#2a3f5f"
            },
            "marker": {
             "line": {
              "color": "#E5ECF6",
              "width": 0.5
             },
             "pattern": {
              "fillmode": "overlay",
              "size": 10,
              "solidity": 0.2
             }
            },
            "type": "bar"
           }
          ],
          "barpolar": [
           {
            "marker": {
             "line": {
              "color": "#E5ECF6",
              "width": 0.5
             },
             "pattern": {
              "fillmode": "overlay",
              "size": 10,
              "solidity": 0.2
             }
            },
            "type": "barpolar"
           }
          ],
          "carpet": [
           {
            "aaxis": {
             "endlinecolor": "#2a3f5f",
             "gridcolor": "white",
             "linecolor": "white",
             "minorgridcolor": "white",
             "startlinecolor": "#2a3f5f"
            },
            "baxis": {
             "endlinecolor": "#2a3f5f",
             "gridcolor": "white",
             "linecolor": "white",
             "minorgridcolor": "white",
             "startlinecolor": "#2a3f5f"
            },
            "type": "carpet"
           }
          ],
          "choropleth": [
           {
            "colorbar": {
             "outlinewidth": 0,
             "ticks": ""
            },
            "type": "choropleth"
           }
          ],
          "contour": [
           {
            "colorbar": {
             "outlinewidth": 0,
             "ticks": ""
            },
            "colorscale": [
             [
              0,
              "#0d0887"
             ],
             [
              0.1111111111111111,
              "#46039f"
             ],
             [
              0.2222222222222222,
              "#7201a8"
             ],
             [
              0.3333333333333333,
              "#9c179e"
             ],
             [
              0.4444444444444444,
              "#bd3786"
             ],
             [
              0.5555555555555556,
              "#d8576b"
             ],
             [
              0.6666666666666666,
              "#ed7953"
             ],
             [
              0.7777777777777778,
              "#fb9f3a"
             ],
             [
              0.8888888888888888,
              "#fdca26"
             ],
             [
              1,
              "#f0f921"
             ]
            ],
            "type": "contour"
           }
          ],
          "contourcarpet": [
           {
            "colorbar": {
             "outlinewidth": 0,
             "ticks": ""
            },
            "type": "contourcarpet"
           }
          ],
          "heatmap": [
           {
            "colorbar": {
             "outlinewidth": 0,
             "ticks": ""
            },
            "colorscale": [
             [
              0,
              "#0d0887"
             ],
             [
              0.1111111111111111,
              "#46039f"
             ],
             [
              0.2222222222222222,
              "#7201a8"
             ],
             [
              0.3333333333333333,
              "#9c179e"
             ],
             [
              0.4444444444444444,
              "#bd3786"
             ],
             [
              0.5555555555555556,
              "#d8576b"
             ],
             [
              0.6666666666666666,
              "#ed7953"
             ],
             [
              0.7777777777777778,
              "#fb9f3a"
             ],
             [
              0.8888888888888888,
              "#fdca26"
             ],
             [
              1,
              "#f0f921"
             ]
            ],
            "type": "heatmap"
           }
          ],
          "heatmapgl": [
           {
            "colorbar": {
             "outlinewidth": 0,
             "ticks": ""
            },
            "colorscale": [
             [
              0,
              "#0d0887"
             ],
             [
              0.1111111111111111,
              "#46039f"
             ],
             [
              0.2222222222222222,
              "#7201a8"
             ],
             [
              0.3333333333333333,
              "#9c179e"
             ],
             [
              0.4444444444444444,
              "#bd3786"
             ],
             [
              0.5555555555555556,
              "#d8576b"
             ],
             [
              0.6666666666666666,
              "#ed7953"
             ],
             [
              0.7777777777777778,
              "#fb9f3a"
             ],
             [
              0.8888888888888888,
              "#fdca26"
             ],
             [
              1,
              "#f0f921"
             ]
            ],
            "type": "heatmapgl"
           }
          ],
          "histogram": [
           {
            "marker": {
             "pattern": {
              "fillmode": "overlay",
              "size": 10,
              "solidity": 0.2
             }
            },
            "type": "histogram"
           }
          ],
          "histogram2d": [
           {
            "colorbar": {
             "outlinewidth": 0,
             "ticks": ""
            },
            "colorscale": [
             [
              0,
              "#0d0887"
             ],
             [
              0.1111111111111111,
              "#46039f"
             ],
             [
              0.2222222222222222,
              "#7201a8"
             ],
             [
              0.3333333333333333,
              "#9c179e"
             ],
             [
              0.4444444444444444,
              "#bd3786"
             ],
             [
              0.5555555555555556,
              "#d8576b"
             ],
             [
              0.6666666666666666,
              "#ed7953"
             ],
             [
              0.7777777777777778,
              "#fb9f3a"
             ],
             [
              0.8888888888888888,
              "#fdca26"
             ],
             [
              1,
              "#f0f921"
             ]
            ],
            "type": "histogram2d"
           }
          ],
          "histogram2dcontour": [
           {
            "colorbar": {
             "outlinewidth": 0,
             "ticks": ""
            },
            "colorscale": [
             [
              0,
              "#0d0887"
             ],
             [
              0.1111111111111111,
              "#46039f"
             ],
             [
              0.2222222222222222,
              "#7201a8"
             ],
             [
              0.3333333333333333,
              "#9c179e"
             ],
             [
              0.4444444444444444,
              "#bd3786"
             ],
             [
              0.5555555555555556,
              "#d8576b"
             ],
             [
              0.6666666666666666,
              "#ed7953"
             ],
             [
              0.7777777777777778,
              "#fb9f3a"
             ],
             [
              0.8888888888888888,
              "#fdca26"
             ],
             [
              1,
              "#f0f921"
             ]
            ],
            "type": "histogram2dcontour"
           }
          ],
          "mesh3d": [
           {
            "colorbar": {
             "outlinewidth": 0,
             "ticks": ""
            },
            "type": "mesh3d"
           }
          ],
          "parcoords": [
           {
            "line": {
             "colorbar": {
              "outlinewidth": 0,
              "ticks": ""
             }
            },
            "type": "parcoords"
           }
          ],
          "pie": [
           {
            "automargin": true,
            "type": "pie"
           }
          ],
          "scatter": [
           {
            "fillpattern": {
             "fillmode": "overlay",
             "size": 10,
             "solidity": 0.2
            },
            "type": "scatter"
           }
          ],
          "scatter3d": [
           {
            "line": {
             "colorbar": {
              "outlinewidth": 0,
              "ticks": ""
             }
            },
            "marker": {
             "colorbar": {
              "outlinewidth": 0,
              "ticks": ""
             }
            },
            "type": "scatter3d"
           }
          ],
          "scattercarpet": [
           {
            "marker": {
             "colorbar": {
              "outlinewidth": 0,
              "ticks": ""
             }
            },
            "type": "scattercarpet"
           }
          ],
          "scattergeo": [
           {
            "marker": {
             "colorbar": {
              "outlinewidth": 0,
              "ticks": ""
             }
            },
            "type": "scattergeo"
           }
          ],
          "scattergl": [
           {
            "marker": {
             "colorbar": {
              "outlinewidth": 0,
              "ticks": ""
             }
            },
            "type": "scattergl"
           }
          ],
          "scattermapbox": [
           {
            "marker": {
             "colorbar": {
              "outlinewidth": 0,
              "ticks": ""
             }
            },
            "type": "scattermapbox"
           }
          ],
          "scatterpolar": [
           {
            "marker": {
             "colorbar": {
              "outlinewidth": 0,
              "ticks": ""
             }
            },
            "type": "scatterpolar"
           }
          ],
          "scatterpolargl": [
           {
            "marker": {
             "colorbar": {
              "outlinewidth": 0,
              "ticks": ""
             }
            },
            "type": "scatterpolargl"
           }
          ],
          "scatterternary": [
           {
            "marker": {
             "colorbar": {
              "outlinewidth": 0,
              "ticks": ""
             }
            },
            "type": "scatterternary"
           }
          ],
          "surface": [
           {
            "colorbar": {
             "outlinewidth": 0,
             "ticks": ""
            },
            "colorscale": [
             [
              0,
              "#0d0887"
             ],
             [
              0.1111111111111111,
              "#46039f"
             ],
             [
              0.2222222222222222,
              "#7201a8"
             ],
             [
              0.3333333333333333,
              "#9c179e"
             ],
             [
              0.4444444444444444,
              "#bd3786"
             ],
             [
              0.5555555555555556,
              "#d8576b"
             ],
             [
              0.6666666666666666,
              "#ed7953"
             ],
             [
              0.7777777777777778,
              "#fb9f3a"
             ],
             [
              0.8888888888888888,
              "#fdca26"
             ],
             [
              1,
              "#f0f921"
             ]
            ],
            "type": "surface"
           }
          ],
          "table": [
           {
            "cells": {
             "fill": {
              "color": "#EBF0F8"
             },
             "line": {
              "color": "white"
             }
            },
            "header": {
             "fill": {
              "color": "#C8D4E3"
             },
             "line": {
              "color": "white"
             }
            },
            "type": "table"
           }
          ]
         },
         "layout": {
          "annotationdefaults": {
           "arrowcolor": "#2a3f5f",
           "arrowhead": 0,
           "arrowwidth": 1
          },
          "autotypenumbers": "strict",
          "coloraxis": {
           "colorbar": {
            "outlinewidth": 0,
            "ticks": ""
           }
          },
          "colorscale": {
           "diverging": [
            [
             0,
             "#8e0152"
            ],
            [
             0.1,
             "#c51b7d"
            ],
            [
             0.2,
             "#de77ae"
            ],
            [
             0.3,
             "#f1b6da"
            ],
            [
             0.4,
             "#fde0ef"
            ],
            [
             0.5,
             "#f7f7f7"
            ],
            [
             0.6,
             "#e6f5d0"
            ],
            [
             0.7,
             "#b8e186"
            ],
            [
             0.8,
             "#7fbc41"
            ],
            [
             0.9,
             "#4d9221"
            ],
            [
             1,
             "#276419"
            ]
           ],
           "sequential": [
            [
             0,
             "#0d0887"
            ],
            [
             0.1111111111111111,
             "#46039f"
            ],
            [
             0.2222222222222222,
             "#7201a8"
            ],
            [
             0.3333333333333333,
             "#9c179e"
            ],
            [
             0.4444444444444444,
             "#bd3786"
            ],
            [
             0.5555555555555556,
             "#d8576b"
            ],
            [
             0.6666666666666666,
             "#ed7953"
            ],
            [
             0.7777777777777778,
             "#fb9f3a"
            ],
            [
             0.8888888888888888,
             "#fdca26"
            ],
            [
             1,
             "#f0f921"
            ]
           ],
           "sequentialminus": [
            [
             0,
             "#0d0887"
            ],
            [
             0.1111111111111111,
             "#46039f"
            ],
            [
             0.2222222222222222,
             "#7201a8"
            ],
            [
             0.3333333333333333,
             "#9c179e"
            ],
            [
             0.4444444444444444,
             "#bd3786"
            ],
            [
             0.5555555555555556,
             "#d8576b"
            ],
            [
             0.6666666666666666,
             "#ed7953"
            ],
            [
             0.7777777777777778,
             "#fb9f3a"
            ],
            [
             0.8888888888888888,
             "#fdca26"
            ],
            [
             1,
             "#f0f921"
            ]
           ]
          },
          "colorway": [
           "#636efa",
           "#EF553B",
           "#00cc96",
           "#ab63fa",
           "#FFA15A",
           "#19d3f3",
           "#FF6692",
           "#B6E880",
           "#FF97FF",
           "#FECB52"
          ],
          "font": {
           "color": "#2a3f5f"
          },
          "geo": {
           "bgcolor": "white",
           "lakecolor": "white",
           "landcolor": "#E5ECF6",
           "showlakes": true,
           "showland": true,
           "subunitcolor": "white"
          },
          "hoverlabel": {
           "align": "left"
          },
          "hovermode": "closest",
          "mapbox": {
           "style": "light"
          },
          "paper_bgcolor": "white",
          "plot_bgcolor": "#E5ECF6",
          "polar": {
           "angularaxis": {
            "gridcolor": "white",
            "linecolor": "white",
            "ticks": ""
           },
           "bgcolor": "#E5ECF6",
           "radialaxis": {
            "gridcolor": "white",
            "linecolor": "white",
            "ticks": ""
           }
          },
          "scene": {
           "xaxis": {
            "backgroundcolor": "#E5ECF6",
            "gridcolor": "white",
            "gridwidth": 2,
            "linecolor": "white",
            "showbackground": true,
            "ticks": "",
            "zerolinecolor": "white"
           },
           "yaxis": {
            "backgroundcolor": "#E5ECF6",
            "gridcolor": "white",
            "gridwidth": 2,
            "linecolor": "white",
            "showbackground": true,
            "ticks": "",
            "zerolinecolor": "white"
           },
           "zaxis": {
            "backgroundcolor": "#E5ECF6",
            "gridcolor": "white",
            "gridwidth": 2,
            "linecolor": "white",
            "showbackground": true,
            "ticks": "",
            "zerolinecolor": "white"
           }
          },
          "shapedefaults": {
           "line": {
            "color": "#2a3f5f"
           }
          },
          "ternary": {
           "aaxis": {
            "gridcolor": "white",
            "linecolor": "white",
            "ticks": ""
           },
           "baxis": {
            "gridcolor": "white",
            "linecolor": "white",
            "ticks": ""
           },
           "bgcolor": "#E5ECF6",
           "caxis": {
            "gridcolor": "white",
            "linecolor": "white",
            "ticks": ""
           }
          },
          "title": {
           "x": 0.05
          },
          "xaxis": {
           "automargin": true,
           "gridcolor": "white",
           "linecolor": "white",
           "ticks": "",
           "title": {
            "standoff": 15
           },
           "zerolinecolor": "white",
           "zerolinewidth": 2
          },
          "yaxis": {
           "automargin": true,
           "gridcolor": "white",
           "linecolor": "white",
           "ticks": "",
           "title": {
            "standoff": 15
           },
           "zerolinecolor": "white",
           "zerolinewidth": 2
          }
         }
        },
        "title": {
         "text": "Distribution of Weight, with mean 47.31 and std 26.77"
        },
        "xaxis": {
         "anchor": "y",
         "domain": [
          0,
          1
         ],
         "title": {
          "text": "Weight"
         }
        },
        "xaxis2": {
         "anchor": "y2",
         "domain": [
          0,
          1
         ],
         "matches": "x",
         "showgrid": true,
         "showticklabels": false
        },
        "yaxis": {
         "anchor": "x",
         "domain": [
          0,
          0.8316
         ],
         "title": {
          "text": "count"
         }
        },
        "yaxis2": {
         "anchor": "x2",
         "domain": [
          0.8416,
          1
         ],
         "matches": "y2",
         "showgrid": false,
         "showline": false,
         "showticklabels": false,
         "ticks": ""
        }
       }
      }
     },
     "metadata": {},
     "output_type": "display_data"
    }
   ],
   "source": [
    "# Feature distribution among ['Weight', 'Average diameter', 'Average length', 'Peel hardness', 'Sweetness']\n",
    "\n",
    "feature_to_viz = 'Weight'\n",
    "\n",
    "plot_feature_distribution(df_cleaned, feature_to_viz, comparison=False)"
   ]
  },
  {
   "cell_type": "code",
   "execution_count": 33,
   "metadata": {},
   "outputs": [
    {
     "data": {
      "application/vnd.plotly.v1+json": {
       "config": {
        "plotlyServerURL": "https://plot.ly"
       },
       "data": [
        {
         "alignmentgroup": "True",
         "bingroup": "x",
         "hovertemplate": "Fruit=Apple<br>Sweetness=%{x}<br>count=%{y}<extra></extra>",
         "legendgroup": "Apple",
         "marker": {
          "color": "#636efa",
          "pattern": {
           "shape": ""
          }
         },
         "name": "Apple",
         "offsetgroup": "Apple",
         "orientation": "v",
         "showlegend": true,
         "type": "histogram",
         "x": [
          2.41,
          3.87,
          2.88,
          2.55,
          3.88,
          3.09,
          2.15,
          3.47,
          2.29,
          2.78,
          2.76,
          3.08,
          2.65,
          2.08,
          3.63,
          3.42,
          2.19,
          2.55,
          4.15,
          3.55,
          2.91,
          3.32,
          2.88,
          3.38,
          2.72,
          2.6,
          4.16,
          2.07,
          2.61,
          3.01,
          2.04,
          3.16,
          3.49,
          3.39,
          2.94,
          2.75,
          2.79,
          3.14,
          3.25,
          3.41,
          1.99,
          2.65,
          2.17,
          2.97,
          3.06,
          2.77,
          3.61,
          3.73,
          2.36,
          3.22,
          2.72,
          3.65,
          2.83,
          2.47,
          3.57,
          3.36,
          2.73,
          3.09,
          2.59,
          3.37,
          3.1,
          2.4,
          2.06,
          2.39,
          3.1,
          2.54,
          2.33,
          3.04,
          2.86,
          4.03,
          3.06,
          2.15,
          3,
          3.12,
          2.93,
          4.21,
          2.41,
          2.52,
          2.57,
          3.3,
          1.41,
          2.79,
          2.69,
          2.86,
          3.78,
          3.11,
          2.45,
          3.85,
          3.04,
          2.93,
          2.73,
          3.06,
          3.01,
          1.93,
          3.32,
          2.78,
          2.6,
          3.27,
          2.35,
          2.89
         ],
         "xaxis": "x",
         "yaxis": "y"
        },
        {
         "alignmentgroup": "True",
         "bingroup": "x",
         "hovertemplate": "Fruit=Banana<br>Sweetness=%{x}<br>count=%{y}<extra></extra>",
         "legendgroup": "Banana",
         "marker": {
          "color": "#EF553B",
          "pattern": {
           "shape": ""
          }
         },
         "name": "Banana",
         "offsetgroup": "Banana",
         "orientation": "v",
         "showlegend": true,
         "type": "histogram",
         "x": [
          1.76,
          1.48,
          2.13,
          1.88,
          2,
          2.16,
          2.55,
          1.97,
          2.21,
          1.62,
          1.74,
          1.25,
          2.41,
          2.35,
          2.95,
          2.44,
          1.52,
          1.99,
          1.88,
          1.78,
          1.65,
          1.67,
          1.49,
          1.95,
          2.12,
          2.33,
          2.11,
          2.01,
          2.08,
          1.97,
          2.06,
          1.98,
          1.57,
          1.84,
          1.96,
          2.69,
          2,
          2.89,
          1.97,
          2.12,
          1.92,
          1.54,
          1.84,
          2.04,
          2.35,
          1.58,
          1.61,
          1.79,
          1.93,
          1.84,
          2.73,
          1.44,
          1.89,
          2.08,
          2.59,
          1.66,
          2.52,
          2.57,
          1.84,
          1.49,
          1.97,
          2.39,
          1.65,
          2.43,
          1.88,
          2.17,
          2.36,
          1.27,
          2.63,
          2.04,
          1.68,
          2.06,
          2.31,
          2.45,
          1.66,
          2.08,
          1.5,
          2.01,
          1.43,
          2.13,
          1.68,
          1.91,
          1.97,
          1.68,
          2.2,
          2.71,
          2.44,
          1.95,
          2.21,
          2.06,
          1.89,
          1.39,
          2.12,
          2.27,
          2.06,
          1.97,
          1.99,
          2.42,
          1.8,
          2.24
         ],
         "xaxis": "x",
         "yaxis": "y"
        },
        {
         "alignmentgroup": "True",
         "bingroup": "x",
         "hovertemplate": "Fruit=Orange<br>Sweetness=%{x}<br>count=%{y}<extra></extra>",
         "legendgroup": "Orange",
         "marker": {
          "color": "#00cc96",
          "pattern": {
           "shape": ""
          }
         },
         "name": "Orange",
         "offsetgroup": "Orange",
         "orientation": "v",
         "showlegend": true,
         "type": "histogram",
         "x": [
          3.79,
          5.4,
          5.56,
          4.61,
          5.3,
          3.42,
          5.12,
          4.62,
          5.6,
          4.55,
          5.36,
          6.41,
          3.55,
          5.51,
          6.58,
          4.44,
          4.55,
          4.53,
          4.65,
          3.7,
          4.78,
          4.23,
          6.5,
          4.37,
          5.49,
          4.81,
          6.53,
          5.37,
          6.59,
          5,
          6.17,
          4.49,
          3.02,
          6.95,
          4.79,
          3.26,
          3.85,
          5.98,
          5.5,
          6.2,
          5.72,
          5.7,
          4,
          4.61,
          5.34,
          4.68,
          4.26,
          5.91,
          5.48,
          4.89,
          5.55,
          6.26,
          4.91,
          6.79,
          5.15,
          3.84,
          4.94,
          4.91,
          5.59,
          5.15,
          5.1,
          5.08,
          6.24,
          2.46,
          5.56,
          6.03,
          4.85,
          4.9,
          3.94,
          5.53,
          4.55,
          4.78,
          5.66,
          4.39,
          6.16,
          4.05,
          5.31,
          4.18,
          5.59,
          5.66,
          4.91,
          6.46,
          5.17,
          4.32,
          5.73,
          4.06,
          3.63,
          4.74,
          6.7,
          4.91,
          3.37,
          6.42,
          5.02,
          4.2,
          6.8,
          5.89,
          6.86,
          6.11,
          5,
          5.27
         ],
         "xaxis": "x",
         "yaxis": "y"
        },
        {
         "alignmentgroup": "True",
         "bingroup": "x",
         "hovertemplate": "Fruit=Grape<br>Sweetness=%{x}<br>count=%{y}<extra></extra>",
         "legendgroup": "Grape",
         "marker": {
          "color": "#ab63fa",
          "pattern": {
           "shape": ""
          }
         },
         "name": "Grape",
         "offsetgroup": "Grape",
         "orientation": "v",
         "showlegend": true,
         "type": "histogram",
         "x": [
          3.49,
          3.78,
          3.4,
          3.76,
          4.07,
          3.23,
          4.39,
          2.95,
          4.08,
          3.91,
          3.77,
          3.8,
          3.61,
          5.37,
          4.63,
          3.8,
          3.91,
          3.78,
          3.74,
          4.22,
          4.97,
          3.15,
          3.31,
          3.71,
          3.2,
          4.06,
          5.26,
          4.84,
          4.26,
          3.12,
          2.78,
          3.41,
          4.13,
          3.23,
          4.74,
          3.52,
          4.53,
          4.85,
          5.09,
          4.58,
          4.08,
          4.31,
          3.48,
          2.75,
          5.11,
          4.39,
          4.1,
          5.03,
          3.91,
          5.23,
          5.37,
          5.13,
          5.12,
          2.95,
          4.53,
          3.53,
          4.42,
          4.72,
          4.85,
          2.81,
          3.21,
          5.83,
          3.12,
          3.25,
          4.11,
          4.86,
          3.59,
          3.29,
          3.76,
          3.84,
          4.45,
          3.54,
          4.23,
          4.71,
          3.61,
          3.25,
          3.5,
          3.06,
          4.74,
          3.57,
          3.51,
          4.68,
          3.55,
          3.9,
          3.39,
          5.19,
          3.91,
          3.04,
          3.03,
          3.84,
          4.39,
          3.14,
          4.62,
          3.02,
          5.12,
          3.5,
          5.1,
          3.76,
          3.82,
          3.82
         ],
         "xaxis": "x",
         "yaxis": "y"
        },
        {
         "alignmentgroup": "True",
         "bingroup": "x",
         "hovertemplate": "Fruit=Kiwi<br>Sweetness=%{x}<br>count=%{y}<extra></extra>",
         "legendgroup": "Kiwi",
         "marker": {
          "color": "#FFA15A",
          "pattern": {
           "shape": ""
          }
         },
         "name": "Kiwi",
         "offsetgroup": "Kiwi",
         "orientation": "v",
         "showlegend": true,
         "type": "histogram",
         "x": [
          4.38,
          3.86,
          4.99,
          3.59,
          4.19,
          2.39,
          3.47,
          3.62,
          2.8,
          4.08,
          2.33,
          3.93,
          3.46,
          3.31,
          4.62,
          4.79,
          4.46,
          2.16,
          4.43,
          2.89,
          4.38,
          4.2,
          4.83,
          4.48,
          3.86,
          4.27,
          3.83,
          4,
          2.5,
          3.95,
          3.97,
          2.4,
          4.32,
          2.25,
          3.13,
          3.29,
          5.61,
          4.7,
          4.82,
          2.67,
          3.98,
          4.3,
          4.11,
          4.33,
          5.46,
          3.42,
          3.73,
          4.06,
          4.08,
          4.08,
          4.22,
          3.97,
          3.59,
          3.6,
          5.8,
          5.28,
          3.55,
          3.21,
          3.73,
          5.57,
          3.24,
          3.44,
          4.81,
          4.25,
          5.26,
          3.75,
          2.61,
          3.2,
          4.22,
          4,
          3.75,
          4.38,
          3.09,
          3.21,
          3.55,
          3.33,
          5.87,
          2.74,
          3.83,
          3.84,
          3.73,
          5.15,
          4.17,
          3.88,
          3.41,
          3.22,
          3.08,
          3.67,
          3.83,
          4.49,
          2.98,
          4.13,
          4.64,
          4.29,
          3.95,
          5.56,
          4.68,
          4.36,
          4.13,
          3.94
         ],
         "xaxis": "x",
         "yaxis": "y"
        }
       ],
       "layout": {
        "barmode": "relative",
        "legend": {
         "title": {
          "text": "Fruit"
         },
         "tracegroupgap": 0
        },
        "template": {
         "data": {
          "bar": [
           {
            "error_x": {
             "color": "#2a3f5f"
            },
            "error_y": {
             "color": "#2a3f5f"
            },
            "marker": {
             "line": {
              "color": "#E5ECF6",
              "width": 0.5
             },
             "pattern": {
              "fillmode": "overlay",
              "size": 10,
              "solidity": 0.2
             }
            },
            "type": "bar"
           }
          ],
          "barpolar": [
           {
            "marker": {
             "line": {
              "color": "#E5ECF6",
              "width": 0.5
             },
             "pattern": {
              "fillmode": "overlay",
              "size": 10,
              "solidity": 0.2
             }
            },
            "type": "barpolar"
           }
          ],
          "carpet": [
           {
            "aaxis": {
             "endlinecolor": "#2a3f5f",
             "gridcolor": "white",
             "linecolor": "white",
             "minorgridcolor": "white",
             "startlinecolor": "#2a3f5f"
            },
            "baxis": {
             "endlinecolor": "#2a3f5f",
             "gridcolor": "white",
             "linecolor": "white",
             "minorgridcolor": "white",
             "startlinecolor": "#2a3f5f"
            },
            "type": "carpet"
           }
          ],
          "choropleth": [
           {
            "colorbar": {
             "outlinewidth": 0,
             "ticks": ""
            },
            "type": "choropleth"
           }
          ],
          "contour": [
           {
            "colorbar": {
             "outlinewidth": 0,
             "ticks": ""
            },
            "colorscale": [
             [
              0,
              "#0d0887"
             ],
             [
              0.1111111111111111,
              "#46039f"
             ],
             [
              0.2222222222222222,
              "#7201a8"
             ],
             [
              0.3333333333333333,
              "#9c179e"
             ],
             [
              0.4444444444444444,
              "#bd3786"
             ],
             [
              0.5555555555555556,
              "#d8576b"
             ],
             [
              0.6666666666666666,
              "#ed7953"
             ],
             [
              0.7777777777777778,
              "#fb9f3a"
             ],
             [
              0.8888888888888888,
              "#fdca26"
             ],
             [
              1,
              "#f0f921"
             ]
            ],
            "type": "contour"
           }
          ],
          "contourcarpet": [
           {
            "colorbar": {
             "outlinewidth": 0,
             "ticks": ""
            },
            "type": "contourcarpet"
           }
          ],
          "heatmap": [
           {
            "colorbar": {
             "outlinewidth": 0,
             "ticks": ""
            },
            "colorscale": [
             [
              0,
              "#0d0887"
             ],
             [
              0.1111111111111111,
              "#46039f"
             ],
             [
              0.2222222222222222,
              "#7201a8"
             ],
             [
              0.3333333333333333,
              "#9c179e"
             ],
             [
              0.4444444444444444,
              "#bd3786"
             ],
             [
              0.5555555555555556,
              "#d8576b"
             ],
             [
              0.6666666666666666,
              "#ed7953"
             ],
             [
              0.7777777777777778,
              "#fb9f3a"
             ],
             [
              0.8888888888888888,
              "#fdca26"
             ],
             [
              1,
              "#f0f921"
             ]
            ],
            "type": "heatmap"
           }
          ],
          "heatmapgl": [
           {
            "colorbar": {
             "outlinewidth": 0,
             "ticks": ""
            },
            "colorscale": [
             [
              0,
              "#0d0887"
             ],
             [
              0.1111111111111111,
              "#46039f"
             ],
             [
              0.2222222222222222,
              "#7201a8"
             ],
             [
              0.3333333333333333,
              "#9c179e"
             ],
             [
              0.4444444444444444,
              "#bd3786"
             ],
             [
              0.5555555555555556,
              "#d8576b"
             ],
             [
              0.6666666666666666,
              "#ed7953"
             ],
             [
              0.7777777777777778,
              "#fb9f3a"
             ],
             [
              0.8888888888888888,
              "#fdca26"
             ],
             [
              1,
              "#f0f921"
             ]
            ],
            "type": "heatmapgl"
           }
          ],
          "histogram": [
           {
            "marker": {
             "pattern": {
              "fillmode": "overlay",
              "size": 10,
              "solidity": 0.2
             }
            },
            "type": "histogram"
           }
          ],
          "histogram2d": [
           {
            "colorbar": {
             "outlinewidth": 0,
             "ticks": ""
            },
            "colorscale": [
             [
              0,
              "#0d0887"
             ],
             [
              0.1111111111111111,
              "#46039f"
             ],
             [
              0.2222222222222222,
              "#7201a8"
             ],
             [
              0.3333333333333333,
              "#9c179e"
             ],
             [
              0.4444444444444444,
              "#bd3786"
             ],
             [
              0.5555555555555556,
              "#d8576b"
             ],
             [
              0.6666666666666666,
              "#ed7953"
             ],
             [
              0.7777777777777778,
              "#fb9f3a"
             ],
             [
              0.8888888888888888,
              "#fdca26"
             ],
             [
              1,
              "#f0f921"
             ]
            ],
            "type": "histogram2d"
           }
          ],
          "histogram2dcontour": [
           {
            "colorbar": {
             "outlinewidth": 0,
             "ticks": ""
            },
            "colorscale": [
             [
              0,
              "#0d0887"
             ],
             [
              0.1111111111111111,
              "#46039f"
             ],
             [
              0.2222222222222222,
              "#7201a8"
             ],
             [
              0.3333333333333333,
              "#9c179e"
             ],
             [
              0.4444444444444444,
              "#bd3786"
             ],
             [
              0.5555555555555556,
              "#d8576b"
             ],
             [
              0.6666666666666666,
              "#ed7953"
             ],
             [
              0.7777777777777778,
              "#fb9f3a"
             ],
             [
              0.8888888888888888,
              "#fdca26"
             ],
             [
              1,
              "#f0f921"
             ]
            ],
            "type": "histogram2dcontour"
           }
          ],
          "mesh3d": [
           {
            "colorbar": {
             "outlinewidth": 0,
             "ticks": ""
            },
            "type": "mesh3d"
           }
          ],
          "parcoords": [
           {
            "line": {
             "colorbar": {
              "outlinewidth": 0,
              "ticks": ""
             }
            },
            "type": "parcoords"
           }
          ],
          "pie": [
           {
            "automargin": true,
            "type": "pie"
           }
          ],
          "scatter": [
           {
            "fillpattern": {
             "fillmode": "overlay",
             "size": 10,
             "solidity": 0.2
            },
            "type": "scatter"
           }
          ],
          "scatter3d": [
           {
            "line": {
             "colorbar": {
              "outlinewidth": 0,
              "ticks": ""
             }
            },
            "marker": {
             "colorbar": {
              "outlinewidth": 0,
              "ticks": ""
             }
            },
            "type": "scatter3d"
           }
          ],
          "scattercarpet": [
           {
            "marker": {
             "colorbar": {
              "outlinewidth": 0,
              "ticks": ""
             }
            },
            "type": "scattercarpet"
           }
          ],
          "scattergeo": [
           {
            "marker": {
             "colorbar": {
              "outlinewidth": 0,
              "ticks": ""
             }
            },
            "type": "scattergeo"
           }
          ],
          "scattergl": [
           {
            "marker": {
             "colorbar": {
              "outlinewidth": 0,
              "ticks": ""
             }
            },
            "type": "scattergl"
           }
          ],
          "scattermapbox": [
           {
            "marker": {
             "colorbar": {
              "outlinewidth": 0,
              "ticks": ""
             }
            },
            "type": "scattermapbox"
           }
          ],
          "scatterpolar": [
           {
            "marker": {
             "colorbar": {
              "outlinewidth": 0,
              "ticks": ""
             }
            },
            "type": "scatterpolar"
           }
          ],
          "scatterpolargl": [
           {
            "marker": {
             "colorbar": {
              "outlinewidth": 0,
              "ticks": ""
             }
            },
            "type": "scatterpolargl"
           }
          ],
          "scatterternary": [
           {
            "marker": {
             "colorbar": {
              "outlinewidth": 0,
              "ticks": ""
             }
            },
            "type": "scatterternary"
           }
          ],
          "surface": [
           {
            "colorbar": {
             "outlinewidth": 0,
             "ticks": ""
            },
            "colorscale": [
             [
              0,
              "#0d0887"
             ],
             [
              0.1111111111111111,
              "#46039f"
             ],
             [
              0.2222222222222222,
              "#7201a8"
             ],
             [
              0.3333333333333333,
              "#9c179e"
             ],
             [
              0.4444444444444444,
              "#bd3786"
             ],
             [
              0.5555555555555556,
              "#d8576b"
             ],
             [
              0.6666666666666666,
              "#ed7953"
             ],
             [
              0.7777777777777778,
              "#fb9f3a"
             ],
             [
              0.8888888888888888,
              "#fdca26"
             ],
             [
              1,
              "#f0f921"
             ]
            ],
            "type": "surface"
           }
          ],
          "table": [
           {
            "cells": {
             "fill": {
              "color": "#EBF0F8"
             },
             "line": {
              "color": "white"
             }
            },
            "header": {
             "fill": {
              "color": "#C8D4E3"
             },
             "line": {
              "color": "white"
             }
            },
            "type": "table"
           }
          ]
         },
         "layout": {
          "annotationdefaults": {
           "arrowcolor": "#2a3f5f",
           "arrowhead": 0,
           "arrowwidth": 1
          },
          "autotypenumbers": "strict",
          "coloraxis": {
           "colorbar": {
            "outlinewidth": 0,
            "ticks": ""
           }
          },
          "colorscale": {
           "diverging": [
            [
             0,
             "#8e0152"
            ],
            [
             0.1,
             "#c51b7d"
            ],
            [
             0.2,
             "#de77ae"
            ],
            [
             0.3,
             "#f1b6da"
            ],
            [
             0.4,
             "#fde0ef"
            ],
            [
             0.5,
             "#f7f7f7"
            ],
            [
             0.6,
             "#e6f5d0"
            ],
            [
             0.7,
             "#b8e186"
            ],
            [
             0.8,
             "#7fbc41"
            ],
            [
             0.9,
             "#4d9221"
            ],
            [
             1,
             "#276419"
            ]
           ],
           "sequential": [
            [
             0,
             "#0d0887"
            ],
            [
             0.1111111111111111,
             "#46039f"
            ],
            [
             0.2222222222222222,
             "#7201a8"
            ],
            [
             0.3333333333333333,
             "#9c179e"
            ],
            [
             0.4444444444444444,
             "#bd3786"
            ],
            [
             0.5555555555555556,
             "#d8576b"
            ],
            [
             0.6666666666666666,
             "#ed7953"
            ],
            [
             0.7777777777777778,
             "#fb9f3a"
            ],
            [
             0.8888888888888888,
             "#fdca26"
            ],
            [
             1,
             "#f0f921"
            ]
           ],
           "sequentialminus": [
            [
             0,
             "#0d0887"
            ],
            [
             0.1111111111111111,
             "#46039f"
            ],
            [
             0.2222222222222222,
             "#7201a8"
            ],
            [
             0.3333333333333333,
             "#9c179e"
            ],
            [
             0.4444444444444444,
             "#bd3786"
            ],
            [
             0.5555555555555556,
             "#d8576b"
            ],
            [
             0.6666666666666666,
             "#ed7953"
            ],
            [
             0.7777777777777778,
             "#fb9f3a"
            ],
            [
             0.8888888888888888,
             "#fdca26"
            ],
            [
             1,
             "#f0f921"
            ]
           ]
          },
          "colorway": [
           "#636efa",
           "#EF553B",
           "#00cc96",
           "#ab63fa",
           "#FFA15A",
           "#19d3f3",
           "#FF6692",
           "#B6E880",
           "#FF97FF",
           "#FECB52"
          ],
          "font": {
           "color": "#2a3f5f"
          },
          "geo": {
           "bgcolor": "white",
           "lakecolor": "white",
           "landcolor": "#E5ECF6",
           "showlakes": true,
           "showland": true,
           "subunitcolor": "white"
          },
          "hoverlabel": {
           "align": "left"
          },
          "hovermode": "closest",
          "mapbox": {
           "style": "light"
          },
          "paper_bgcolor": "white",
          "plot_bgcolor": "#E5ECF6",
          "polar": {
           "angularaxis": {
            "gridcolor": "white",
            "linecolor": "white",
            "ticks": ""
           },
           "bgcolor": "#E5ECF6",
           "radialaxis": {
            "gridcolor": "white",
            "linecolor": "white",
            "ticks": ""
           }
          },
          "scene": {
           "xaxis": {
            "backgroundcolor": "#E5ECF6",
            "gridcolor": "white",
            "gridwidth": 2,
            "linecolor": "white",
            "showbackground": true,
            "ticks": "",
            "zerolinecolor": "white"
           },
           "yaxis": {
            "backgroundcolor": "#E5ECF6",
            "gridcolor": "white",
            "gridwidth": 2,
            "linecolor": "white",
            "showbackground": true,
            "ticks": "",
            "zerolinecolor": "white"
           },
           "zaxis": {
            "backgroundcolor": "#E5ECF6",
            "gridcolor": "white",
            "gridwidth": 2,
            "linecolor": "white",
            "showbackground": true,
            "ticks": "",
            "zerolinecolor": "white"
           }
          },
          "shapedefaults": {
           "line": {
            "color": "#2a3f5f"
           }
          },
          "ternary": {
           "aaxis": {
            "gridcolor": "white",
            "linecolor": "white",
            "ticks": ""
           },
           "baxis": {
            "gridcolor": "white",
            "linecolor": "white",
            "ticks": ""
           },
           "bgcolor": "#E5ECF6",
           "caxis": {
            "gridcolor": "white",
            "linecolor": "white",
            "ticks": ""
           }
          },
          "title": {
           "x": 0.05
          },
          "xaxis": {
           "automargin": true,
           "gridcolor": "white",
           "linecolor": "white",
           "ticks": "",
           "title": {
            "standoff": 15
           },
           "zerolinecolor": "white",
           "zerolinewidth": 2
          },
          "yaxis": {
           "automargin": true,
           "gridcolor": "white",
           "linecolor": "white",
           "ticks": "",
           "title": {
            "standoff": 15
           },
           "zerolinecolor": "white",
           "zerolinewidth": 2
          }
         }
        },
        "title": {
         "text": "Distribution of Sweetness compared with Fruit"
        },
        "xaxis": {
         "anchor": "y",
         "domain": [
          0,
          1
         ],
         "title": {
          "text": "Sweetness"
         }
        },
        "yaxis": {
         "anchor": "x",
         "domain": [
          0,
          1
         ],
         "title": {
          "text": "count"
         }
        }
       }
      }
     },
     "metadata": {},
     "output_type": "display_data"
    }
   ],
   "source": [
    "# Feature distribution among ['Weight', 'Average diameter', 'Average length', 'Peel hardness', 'Sweetness']\n",
    "# and comparison with TARGET 'Fruit' \n",
    "\n",
    "feature_to_viz = 'Sweetness'\n",
    "\n",
    "plot_feature_distribution(df_cleaned, feature_to_viz, comparison='Fruit')"
   ]
  },
  {
   "cell_type": "code",
   "execution_count": 39,
   "metadata": {},
   "outputs": [
    {
     "data": {
      "application/vnd.plotly.v1+json": {
       "config": {
        "plotlyServerURL": "https://plot.ly"
       },
       "data": [
        {
         "hovertemplate": "Fruit=Apple<br>Sweetness=%{x}<br>Average diameter=%{y}<extra></extra>",
         "legendgroup": "Apple",
         "marker": {
          "color": "#636efa",
          "line": {
           "color": "DarkSlateGrey",
           "width": 2
          },
          "size": 12,
          "symbol": "circle"
         },
         "mode": "markers",
         "name": "Apple",
         "orientation": "v",
         "showlegend": true,
         "type": "scatter",
         "x": [
          2.41,
          3.87,
          2.88,
          2.55,
          3.88,
          3.09,
          2.15,
          3.47,
          2.29,
          2.78,
          2.76,
          3.08,
          2.65,
          2.08,
          3.63,
          3.42,
          2.19,
          2.55,
          4.15,
          3.55,
          2.91,
          3.32,
          2.88,
          3.38,
          2.72,
          2.6,
          4.16,
          2.07,
          2.61,
          3.01,
          2.04,
          3.16,
          3.49,
          3.39,
          2.94,
          2.75,
          2.79,
          3.14,
          3.25,
          3.41,
          1.99,
          2.65,
          2.17,
          2.97,
          3.06,
          2.77,
          3.61,
          3.73,
          2.36,
          3.22,
          2.72,
          3.65,
          2.83,
          2.47,
          3.57,
          3.36,
          2.73,
          3.09,
          2.59,
          3.37,
          3.1,
          2.4,
          2.06,
          2.39,
          3.1,
          2.54,
          2.33,
          3.04,
          2.86,
          4.03,
          3.06,
          2.15,
          3,
          3.12,
          2.93,
          4.21,
          2.41,
          2.52,
          2.57,
          3.3,
          1.41,
          2.79,
          2.69,
          2.86,
          3.78,
          3.11,
          2.45,
          3.85,
          3.04,
          2.93,
          2.73,
          3.06,
          3.01,
          1.93,
          3.32,
          2.78,
          2.6,
          3.27,
          2.35,
          2.89
         ],
         "xaxis": "x",
         "y": [
          89.68,
          73.45,
          81.66,
          36.71,
          75.69,
          61.68,
          69.19,
          67.36,
          61.57,
          76,
          62.8,
          61.39,
          81.04,
          57.52,
          92.68,
          78.12,
          76.9,
          57.4,
          103.01,
          89.21,
          79.47,
          85.08,
          65.46,
          52.63,
          61.31,
          63.83,
          57.79,
          56.62,
          88.81,
          62.95,
          65.35,
          63.91,
          82.85,
          69.46,
          74.64,
          86.79,
          108.89,
          51.89,
          53.64,
          97.42,
          73.01,
          62.8,
          85.37,
          57.17,
          82.86,
          104.34,
          44.54,
          79.3,
          65.58,
          76.47,
          73.23,
          85.41,
          69.23,
          64.21,
          72.63,
          86.6,
          64.74,
          68.39,
          63.54,
          47.35,
          88.98,
          70.98,
          75.74,
          49.53,
          60.22,
          69.7,
          97,
          48.47,
          53.3,
          80.56,
          43.58,
          66.46,
          60.43,
          69.07,
          81.86,
          81.95,
          77.99,
          67.46,
          44.75,
          94.79,
          61.37,
          74.31,
          115.44,
          80.74,
          50.51,
          55.02,
          79.26,
          78.63,
          41.41,
          71.08,
          71.37,
          92.72,
          64.83,
          105.17,
          80.32,
          75.56,
          73.03,
          66.69,
          83.15,
          67.95
         ],
         "yaxis": "y"
        },
        {
         "hovertemplate": "Fruit=Banana<br>Sweetness=%{x}<br>Average diameter=%{y}<extra></extra>",
         "legendgroup": "Banana",
         "marker": {
          "color": "#EF553B",
          "line": {
           "color": "DarkSlateGrey",
           "width": 2
          },
          "size": 12,
          "symbol": "circle"
         },
         "mode": "markers",
         "name": "Banana",
         "orientation": "v",
         "showlegend": true,
         "type": "scatter",
         "x": [
          1.76,
          1.48,
          2.13,
          1.88,
          2,
          2.16,
          2.55,
          1.97,
          2.21,
          1.62,
          1.74,
          1.25,
          2.41,
          2.35,
          2.95,
          2.44,
          1.52,
          1.99,
          1.88,
          1.78,
          1.65,
          1.67,
          1.49,
          1.95,
          2.12,
          2.33,
          2.11,
          2.01,
          2.08,
          1.97,
          2.06,
          1.98,
          1.57,
          1.84,
          1.96,
          2.69,
          2,
          2.89,
          1.97,
          2.12,
          1.92,
          1.54,
          1.84,
          2.04,
          2.35,
          1.58,
          1.61,
          1.79,
          1.93,
          1.84,
          2.73,
          1.44,
          1.89,
          2.08,
          2.59,
          1.66,
          2.52,
          2.57,
          1.84,
          1.49,
          1.97,
          2.39,
          1.65,
          2.43,
          1.88,
          2.17,
          2.36,
          1.27,
          2.63,
          2.04,
          1.68,
          2.06,
          2.31,
          2.45,
          1.66,
          2.08,
          1.5,
          2.01,
          1.43,
          2.13,
          1.68,
          1.91,
          1.97,
          1.68,
          2.2,
          2.71,
          2.44,
          1.95,
          2.21,
          2.06,
          1.89,
          1.39,
          2.12,
          2.27,
          2.06,
          1.97,
          1.99,
          2.42,
          1.8,
          2.24
         ],
         "xaxis": "x",
         "y": [
          162.23,
          204.61,
          194.72,
          227.06,
          207.33,
          218.65,
          232.81,
          151.28,
          211.48,
          197.31,
          218.1,
          119.83,
          208.78,
          176.34,
          284.67,
          139.9,
          207.92,
          209.39,
          171.8,
          167.87,
          207.36,
          232.51,
          299.89,
          152.89,
          200.41,
          217.93,
          201.59,
          228.8,
          180.04,
          197.66,
          224.48,
          145.61,
          165.64,
          256.45,
          219.92,
          240.47,
          165.9,
          173.29,
          212.99,
          166.07,
          238.9,
          170.01,
          158.69,
          246.17,
          195.41,
          190.35,
          202.04,
          169.52,
          174.11,
          165.74,
          214.7,
          238.43,
          150.94,
          148.05,
          188.94,
          212.33,
          168.31,
          197.01,
          162.1,
          234.54,
          211.87,
          227.62,
          280.56,
          214.38,
          183.76,
          168.02,
          154.1,
          209.12,
          159.99,
          208.97,
          183.3,
          244.69,
          230.16,
          266.77,
          217.42,
          193.76,
          187.97,
          203.94,
          158.74,
          224.28,
          223.88,
          227.1,
          285.98,
          155.82,
          210.76,
          228.16,
          252.97,
          236.86,
          154.16,
          208.69,
          260.75,
          248.86,
          209.57,
          181.77,
          265.26,
          230.83,
          174.98,
          124.31,
          188.93,
          200.75
         ],
         "yaxis": "y"
        },
        {
         "hovertemplate": "Fruit=Orange<br>Sweetness=%{x}<br>Average diameter=%{y}<extra></extra>",
         "legendgroup": "Orange",
         "marker": {
          "color": "#00cc96",
          "line": {
           "color": "DarkSlateGrey",
           "width": 2
          },
          "size": 12,
          "symbol": "circle"
         },
         "mode": "markers",
         "name": "Orange",
         "orientation": "v",
         "showlegend": true,
         "type": "scatter",
         "x": [
          3.79,
          5.4,
          5.56,
          4.61,
          5.3,
          3.42,
          5.12,
          4.62,
          5.6,
          4.55,
          5.36,
          6.41,
          3.55,
          5.51,
          6.58,
          4.44,
          4.55,
          4.53,
          4.65,
          3.7,
          4.78,
          4.23,
          6.5,
          4.37,
          5.49,
          4.81,
          6.53,
          5.37,
          6.59,
          5,
          6.17,
          4.49,
          3.02,
          6.95,
          4.79,
          3.26,
          3.85,
          5.98,
          5.5,
          6.2,
          5.72,
          5.7,
          4,
          4.61,
          5.34,
          4.68,
          4.26,
          5.91,
          5.48,
          4.89,
          5.55,
          6.26,
          4.91,
          6.79,
          5.15,
          3.84,
          4.94,
          4.91,
          5.59,
          5.15,
          5.1,
          5.08,
          6.24,
          2.46,
          5.56,
          6.03,
          4.85,
          4.9,
          3.94,
          5.53,
          4.55,
          4.78,
          5.66,
          4.39,
          6.16,
          4.05,
          5.31,
          4.18,
          5.59,
          5.66,
          4.91,
          6.46,
          5.17,
          4.32,
          5.73,
          4.06,
          3.63,
          4.74,
          6.7,
          4.91,
          3.37,
          6.42,
          5.02,
          4.2,
          6.8,
          5.89,
          6.86,
          6.11,
          5,
          5.27
         ],
         "xaxis": "x",
         "y": [
          92.19,
          88.15,
          63.64,
          73.54,
          74.63,
          59.11,
          62.31,
          76.09,
          59.08,
          31.12,
          65.1,
          50.08,
          75.92,
          68.81,
          77.33,
          72.25,
          72.23,
          56.6,
          78.44,
          58.61,
          64.57,
          86.03,
          61.42,
          63.46,
          76.73,
          77.56,
          44.38,
          52.46,
          80.79,
          44.69,
          82.39,
          62.68,
          69.45,
          63.43,
          84.3,
          65.35,
          30.77,
          70.36,
          79.32,
          81.33,
          82.31,
          95.31,
          70.02,
          94.66,
          70.95,
          73.99,
          77.93,
          79.63,
          56.02,
          66.65,
          74.75,
          84.83,
          81.45,
          88.98,
          68.53,
          53.02,
          94.37,
          64.36,
          74.17,
          69.16,
          54.13,
          81.91,
          96.13,
          78.73,
          65.02,
          73.38,
          50.67,
          48.32,
          82.78,
          73.18,
          58.85,
          51.62,
          65.18,
          72.32,
          49.67,
          46.42,
          89.64,
          73.02,
          56.6,
          55.93,
          71.21,
          86.94,
          71.58,
          48.19,
          70.53,
          54.57,
          73.45,
          60.76,
          56.4,
          74.98,
          81.23,
          97.53,
          82.17,
          75.61,
          84.02,
          67.44,
          57.99,
          61.82,
          64.94,
          70.37
         ],
         "yaxis": "y"
        },
        {
         "hovertemplate": "Fruit=Grape<br>Sweetness=%{x}<br>Average diameter=%{y}<extra></extra>",
         "legendgroup": "Grape",
         "marker": {
          "color": "#ab63fa",
          "line": {
           "color": "DarkSlateGrey",
           "width": 2
          },
          "size": 12,
          "symbol": "circle"
         },
         "mode": "markers",
         "name": "Grape",
         "orientation": "v",
         "showlegend": true,
         "type": "scatter",
         "x": [
          3.49,
          3.78,
          3.4,
          3.76,
          4.07,
          3.23,
          4.39,
          2.95,
          4.08,
          3.91,
          3.77,
          3.8,
          3.61,
          5.37,
          4.63,
          3.8,
          3.91,
          3.78,
          3.74,
          4.22,
          4.97,
          3.15,
          3.31,
          3.71,
          3.2,
          4.06,
          5.26,
          4.84,
          4.26,
          3.12,
          2.78,
          3.41,
          4.13,
          3.23,
          4.74,
          3.52,
          4.53,
          4.85,
          5.09,
          4.58,
          4.08,
          4.31,
          3.48,
          2.75,
          5.11,
          4.39,
          4.1,
          5.03,
          3.91,
          5.23,
          5.37,
          5.13,
          5.12,
          2.95,
          4.53,
          3.53,
          4.42,
          4.72,
          4.85,
          2.81,
          3.21,
          5.83,
          3.12,
          3.25,
          4.11,
          4.86,
          3.59,
          3.29,
          3.76,
          3.84,
          4.45,
          3.54,
          4.23,
          4.71,
          3.61,
          3.25,
          3.5,
          3.06,
          4.74,
          3.57,
          3.51,
          4.68,
          3.55,
          3.9,
          3.39,
          5.19,
          3.91,
          3.04,
          3.03,
          3.84,
          4.39,
          3.14,
          4.62,
          3.02,
          5.12,
          3.5,
          5.1,
          3.76,
          3.82,
          3.82
         ],
         "xaxis": "x",
         "y": [
          25.73,
          18.55,
          16.95,
          16.9,
          20.09,
          18.78,
          19.2,
          14.54,
          20.27,
          25.69,
          17.44,
          19.76,
          21.1,
          21.79,
          13.4,
          18.57,
          21.19,
          20.15,
          25.03,
          25.94,
          19.38,
          24.22,
          22.71,
          23.49,
          20.04,
          11.28,
          23.6,
          24.47,
          25.08,
          23.1,
          19.36,
          14.96,
          20.79,
          13.87,
          16.92,
          22.57,
          7.53,
          19.61,
          22.97,
          18.86,
          17.03,
          13.22,
          20.35,
          31.72,
          15.21,
          22.01,
          26.89,
          21.29,
          26.51,
          21.82,
          21.64,
          18.15,
          8.67,
          25.21,
          19.2,
          27.58,
          18.01,
          10.51,
          14.4,
          16.14,
          17.15,
          18.8,
          23.24,
          13.26,
          19.06,
          22,
          15.61,
          23.25,
          16.6,
          27.19,
          22.72,
          16.92,
          14.52,
          13.33,
          19.25,
          19.07,
          21.33,
          12.65,
          19.85,
          19.82,
          14.77,
          20.29,
          29.86,
          18.93,
          18.27,
          18.16,
          22.6,
          22.33,
          18.32,
          17.39,
          13.83,
          27.84,
          12.78,
          9.12,
          20.68,
          12.8,
          22.04,
          20.42,
          19.56,
          18.04
         ],
         "yaxis": "y"
        },
        {
         "hovertemplate": "Fruit=Kiwi<br>Sweetness=%{x}<br>Average diameter=%{y}<extra></extra>",
         "legendgroup": "Kiwi",
         "marker": {
          "color": "#FFA15A",
          "line": {
           "color": "DarkSlateGrey",
           "width": 2
          },
          "size": 12,
          "symbol": "circle"
         },
         "mode": "markers",
         "name": "Kiwi",
         "orientation": "v",
         "showlegend": true,
         "type": "scatter",
         "x": [
          4.38,
          3.86,
          4.99,
          3.59,
          4.19,
          2.39,
          3.47,
          3.62,
          2.8,
          4.08,
          2.33,
          3.93,
          3.46,
          3.31,
          4.62,
          4.79,
          4.46,
          2.16,
          4.43,
          2.89,
          4.38,
          4.2,
          4.83,
          4.48,
          3.86,
          4.27,
          3.83,
          4,
          2.5,
          3.95,
          3.97,
          2.4,
          4.32,
          2.25,
          3.13,
          3.29,
          5.61,
          4.7,
          4.82,
          2.67,
          3.98,
          4.3,
          4.11,
          4.33,
          5.46,
          3.42,
          3.73,
          4.06,
          4.08,
          4.08,
          4.22,
          3.97,
          3.59,
          3.6,
          5.8,
          5.28,
          3.55,
          3.21,
          3.73,
          5.57,
          3.24,
          3.44,
          4.81,
          4.25,
          5.26,
          3.75,
          2.61,
          3.2,
          4.22,
          4,
          3.75,
          4.38,
          3.09,
          3.21,
          3.55,
          3.33,
          5.87,
          2.74,
          3.83,
          3.84,
          3.73,
          5.15,
          4.17,
          3.88,
          3.41,
          3.22,
          3.08,
          3.67,
          3.83,
          4.49,
          2.98,
          4.13,
          4.64,
          4.29,
          3.95,
          5.56,
          4.68,
          4.36,
          4.13,
          3.94
         ],
         "xaxis": "x",
         "y": [
          69.81,
          79.37,
          66.83,
          77.18,
          62.29,
          50.81,
          79.78,
          64.26,
          96.73,
          93.14,
          75.58,
          53.29,
          48.4,
          78.88,
          79.86,
          95.97,
          79.4,
          67.37,
          68.85,
          57.02,
          88.61,
          69.38,
          58.29,
          86.02,
          82.61,
          71.77,
          66.18,
          62.74,
          85.23,
          69.23,
          74.14,
          69.38,
          59.37,
          78.41,
          57.11,
          57.62,
          46.4,
          88.79,
          69.16,
          71.25,
          76.23,
          42.15,
          49,
          67.13,
          73.12,
          66.4,
          57.75,
          59.02,
          67.43,
          79.37,
          47.57,
          77.77,
          53.98,
          54.63,
          79.52,
          59.68,
          86.48,
          83.75,
          57.22,
          80.51,
          62.49,
          55.37,
          71.41,
          54.49,
          48.61,
          81.11,
          50.51,
          78.08,
          80.97,
          59.71,
          71.96,
          82.12,
          85.16,
          84.31,
          79.81,
          67.57,
          55.48,
          91.33,
          81.57,
          77.86,
          76.27,
          84.75,
          88.1,
          51.48,
          68.18,
          58.01,
          84.17,
          77.87,
          65.4,
          78.28,
          86.51,
          46.01,
          56.87,
          51.51,
          87.38,
          67.52,
          62.95,
          71.43,
          65.23,
          57.3
         ],
         "yaxis": "y"
        }
       ],
       "layout": {
        "legend": {
         "title": {
          "text": "Fruit"
         },
         "tracegroupgap": 0
        },
        "template": {
         "data": {
          "bar": [
           {
            "error_x": {
             "color": "#2a3f5f"
            },
            "error_y": {
             "color": "#2a3f5f"
            },
            "marker": {
             "line": {
              "color": "#E5ECF6",
              "width": 0.5
             },
             "pattern": {
              "fillmode": "overlay",
              "size": 10,
              "solidity": 0.2
             }
            },
            "type": "bar"
           }
          ],
          "barpolar": [
           {
            "marker": {
             "line": {
              "color": "#E5ECF6",
              "width": 0.5
             },
             "pattern": {
              "fillmode": "overlay",
              "size": 10,
              "solidity": 0.2
             }
            },
            "type": "barpolar"
           }
          ],
          "carpet": [
           {
            "aaxis": {
             "endlinecolor": "#2a3f5f",
             "gridcolor": "white",
             "linecolor": "white",
             "minorgridcolor": "white",
             "startlinecolor": "#2a3f5f"
            },
            "baxis": {
             "endlinecolor": "#2a3f5f",
             "gridcolor": "white",
             "linecolor": "white",
             "minorgridcolor": "white",
             "startlinecolor": "#2a3f5f"
            },
            "type": "carpet"
           }
          ],
          "choropleth": [
           {
            "colorbar": {
             "outlinewidth": 0,
             "ticks": ""
            },
            "type": "choropleth"
           }
          ],
          "contour": [
           {
            "colorbar": {
             "outlinewidth": 0,
             "ticks": ""
            },
            "colorscale": [
             [
              0,
              "#0d0887"
             ],
             [
              0.1111111111111111,
              "#46039f"
             ],
             [
              0.2222222222222222,
              "#7201a8"
             ],
             [
              0.3333333333333333,
              "#9c179e"
             ],
             [
              0.4444444444444444,
              "#bd3786"
             ],
             [
              0.5555555555555556,
              "#d8576b"
             ],
             [
              0.6666666666666666,
              "#ed7953"
             ],
             [
              0.7777777777777778,
              "#fb9f3a"
             ],
             [
              0.8888888888888888,
              "#fdca26"
             ],
             [
              1,
              "#f0f921"
             ]
            ],
            "type": "contour"
           }
          ],
          "contourcarpet": [
           {
            "colorbar": {
             "outlinewidth": 0,
             "ticks": ""
            },
            "type": "contourcarpet"
           }
          ],
          "heatmap": [
           {
            "colorbar": {
             "outlinewidth": 0,
             "ticks": ""
            },
            "colorscale": [
             [
              0,
              "#0d0887"
             ],
             [
              0.1111111111111111,
              "#46039f"
             ],
             [
              0.2222222222222222,
              "#7201a8"
             ],
             [
              0.3333333333333333,
              "#9c179e"
             ],
             [
              0.4444444444444444,
              "#bd3786"
             ],
             [
              0.5555555555555556,
              "#d8576b"
             ],
             [
              0.6666666666666666,
              "#ed7953"
             ],
             [
              0.7777777777777778,
              "#fb9f3a"
             ],
             [
              0.8888888888888888,
              "#fdca26"
             ],
             [
              1,
              "#f0f921"
             ]
            ],
            "type": "heatmap"
           }
          ],
          "heatmapgl": [
           {
            "colorbar": {
             "outlinewidth": 0,
             "ticks": ""
            },
            "colorscale": [
             [
              0,
              "#0d0887"
             ],
             [
              0.1111111111111111,
              "#46039f"
             ],
             [
              0.2222222222222222,
              "#7201a8"
             ],
             [
              0.3333333333333333,
              "#9c179e"
             ],
             [
              0.4444444444444444,
              "#bd3786"
             ],
             [
              0.5555555555555556,
              "#d8576b"
             ],
             [
              0.6666666666666666,
              "#ed7953"
             ],
             [
              0.7777777777777778,
              "#fb9f3a"
             ],
             [
              0.8888888888888888,
              "#fdca26"
             ],
             [
              1,
              "#f0f921"
             ]
            ],
            "type": "heatmapgl"
           }
          ],
          "histogram": [
           {
            "marker": {
             "pattern": {
              "fillmode": "overlay",
              "size": 10,
              "solidity": 0.2
             }
            },
            "type": "histogram"
           }
          ],
          "histogram2d": [
           {
            "colorbar": {
             "outlinewidth": 0,
             "ticks": ""
            },
            "colorscale": [
             [
              0,
              "#0d0887"
             ],
             [
              0.1111111111111111,
              "#46039f"
             ],
             [
              0.2222222222222222,
              "#7201a8"
             ],
             [
              0.3333333333333333,
              "#9c179e"
             ],
             [
              0.4444444444444444,
              "#bd3786"
             ],
             [
              0.5555555555555556,
              "#d8576b"
             ],
             [
              0.6666666666666666,
              "#ed7953"
             ],
             [
              0.7777777777777778,
              "#fb9f3a"
             ],
             [
              0.8888888888888888,
              "#fdca26"
             ],
             [
              1,
              "#f0f921"
             ]
            ],
            "type": "histogram2d"
           }
          ],
          "histogram2dcontour": [
           {
            "colorbar": {
             "outlinewidth": 0,
             "ticks": ""
            },
            "colorscale": [
             [
              0,
              "#0d0887"
             ],
             [
              0.1111111111111111,
              "#46039f"
             ],
             [
              0.2222222222222222,
              "#7201a8"
             ],
             [
              0.3333333333333333,
              "#9c179e"
             ],
             [
              0.4444444444444444,
              "#bd3786"
             ],
             [
              0.5555555555555556,
              "#d8576b"
             ],
             [
              0.6666666666666666,
              "#ed7953"
             ],
             [
              0.7777777777777778,
              "#fb9f3a"
             ],
             [
              0.8888888888888888,
              "#fdca26"
             ],
             [
              1,
              "#f0f921"
             ]
            ],
            "type": "histogram2dcontour"
           }
          ],
          "mesh3d": [
           {
            "colorbar": {
             "outlinewidth": 0,
             "ticks": ""
            },
            "type": "mesh3d"
           }
          ],
          "parcoords": [
           {
            "line": {
             "colorbar": {
              "outlinewidth": 0,
              "ticks": ""
             }
            },
            "type": "parcoords"
           }
          ],
          "pie": [
           {
            "automargin": true,
            "type": "pie"
           }
          ],
          "scatter": [
           {
            "fillpattern": {
             "fillmode": "overlay",
             "size": 10,
             "solidity": 0.2
            },
            "type": "scatter"
           }
          ],
          "scatter3d": [
           {
            "line": {
             "colorbar": {
              "outlinewidth": 0,
              "ticks": ""
             }
            },
            "marker": {
             "colorbar": {
              "outlinewidth": 0,
              "ticks": ""
             }
            },
            "type": "scatter3d"
           }
          ],
          "scattercarpet": [
           {
            "marker": {
             "colorbar": {
              "outlinewidth": 0,
              "ticks": ""
             }
            },
            "type": "scattercarpet"
           }
          ],
          "scattergeo": [
           {
            "marker": {
             "colorbar": {
              "outlinewidth": 0,
              "ticks": ""
             }
            },
            "type": "scattergeo"
           }
          ],
          "scattergl": [
           {
            "marker": {
             "colorbar": {
              "outlinewidth": 0,
              "ticks": ""
             }
            },
            "type": "scattergl"
           }
          ],
          "scattermapbox": [
           {
            "marker": {
             "colorbar": {
              "outlinewidth": 0,
              "ticks": ""
             }
            },
            "type": "scattermapbox"
           }
          ],
          "scatterpolar": [
           {
            "marker": {
             "colorbar": {
              "outlinewidth": 0,
              "ticks": ""
             }
            },
            "type": "scatterpolar"
           }
          ],
          "scatterpolargl": [
           {
            "marker": {
             "colorbar": {
              "outlinewidth": 0,
              "ticks": ""
             }
            },
            "type": "scatterpolargl"
           }
          ],
          "scatterternary": [
           {
            "marker": {
             "colorbar": {
              "outlinewidth": 0,
              "ticks": ""
             }
            },
            "type": "scatterternary"
           }
          ],
          "surface": [
           {
            "colorbar": {
             "outlinewidth": 0,
             "ticks": ""
            },
            "colorscale": [
             [
              0,
              "#0d0887"
             ],
             [
              0.1111111111111111,
              "#46039f"
             ],
             [
              0.2222222222222222,
              "#7201a8"
             ],
             [
              0.3333333333333333,
              "#9c179e"
             ],
             [
              0.4444444444444444,
              "#bd3786"
             ],
             [
              0.5555555555555556,
              "#d8576b"
             ],
             [
              0.6666666666666666,
              "#ed7953"
             ],
             [
              0.7777777777777778,
              "#fb9f3a"
             ],
             [
              0.8888888888888888,
              "#fdca26"
             ],
             [
              1,
              "#f0f921"
             ]
            ],
            "type": "surface"
           }
          ],
          "table": [
           {
            "cells": {
             "fill": {
              "color": "#EBF0F8"
             },
             "line": {
              "color": "white"
             }
            },
            "header": {
             "fill": {
              "color": "#C8D4E3"
             },
             "line": {
              "color": "white"
             }
            },
            "type": "table"
           }
          ]
         },
         "layout": {
          "annotationdefaults": {
           "arrowcolor": "#2a3f5f",
           "arrowhead": 0,
           "arrowwidth": 1
          },
          "autotypenumbers": "strict",
          "coloraxis": {
           "colorbar": {
            "outlinewidth": 0,
            "ticks": ""
           }
          },
          "colorscale": {
           "diverging": [
            [
             0,
             "#8e0152"
            ],
            [
             0.1,
             "#c51b7d"
            ],
            [
             0.2,
             "#de77ae"
            ],
            [
             0.3,
             "#f1b6da"
            ],
            [
             0.4,
             "#fde0ef"
            ],
            [
             0.5,
             "#f7f7f7"
            ],
            [
             0.6,
             "#e6f5d0"
            ],
            [
             0.7,
             "#b8e186"
            ],
            [
             0.8,
             "#7fbc41"
            ],
            [
             0.9,
             "#4d9221"
            ],
            [
             1,
             "#276419"
            ]
           ],
           "sequential": [
            [
             0,
             "#0d0887"
            ],
            [
             0.1111111111111111,
             "#46039f"
            ],
            [
             0.2222222222222222,
             "#7201a8"
            ],
            [
             0.3333333333333333,
             "#9c179e"
            ],
            [
             0.4444444444444444,
             "#bd3786"
            ],
            [
             0.5555555555555556,
             "#d8576b"
            ],
            [
             0.6666666666666666,
             "#ed7953"
            ],
            [
             0.7777777777777778,
             "#fb9f3a"
            ],
            [
             0.8888888888888888,
             "#fdca26"
            ],
            [
             1,
             "#f0f921"
            ]
           ],
           "sequentialminus": [
            [
             0,
             "#0d0887"
            ],
            [
             0.1111111111111111,
             "#46039f"
            ],
            [
             0.2222222222222222,
             "#7201a8"
            ],
            [
             0.3333333333333333,
             "#9c179e"
            ],
            [
             0.4444444444444444,
             "#bd3786"
            ],
            [
             0.5555555555555556,
             "#d8576b"
            ],
            [
             0.6666666666666666,
             "#ed7953"
            ],
            [
             0.7777777777777778,
             "#fb9f3a"
            ],
            [
             0.8888888888888888,
             "#fdca26"
            ],
            [
             1,
             "#f0f921"
            ]
           ]
          },
          "colorway": [
           "#636efa",
           "#EF553B",
           "#00cc96",
           "#ab63fa",
           "#FFA15A",
           "#19d3f3",
           "#FF6692",
           "#B6E880",
           "#FF97FF",
           "#FECB52"
          ],
          "font": {
           "color": "#2a3f5f"
          },
          "geo": {
           "bgcolor": "white",
           "lakecolor": "white",
           "landcolor": "#E5ECF6",
           "showlakes": true,
           "showland": true,
           "subunitcolor": "white"
          },
          "hoverlabel": {
           "align": "left"
          },
          "hovermode": "closest",
          "mapbox": {
           "style": "light"
          },
          "paper_bgcolor": "white",
          "plot_bgcolor": "#E5ECF6",
          "polar": {
           "angularaxis": {
            "gridcolor": "white",
            "linecolor": "white",
            "ticks": ""
           },
           "bgcolor": "#E5ECF6",
           "radialaxis": {
            "gridcolor": "white",
            "linecolor": "white",
            "ticks": ""
           }
          },
          "scene": {
           "xaxis": {
            "backgroundcolor": "#E5ECF6",
            "gridcolor": "white",
            "gridwidth": 2,
            "linecolor": "white",
            "showbackground": true,
            "ticks": "",
            "zerolinecolor": "white"
           },
           "yaxis": {
            "backgroundcolor": "#E5ECF6",
            "gridcolor": "white",
            "gridwidth": 2,
            "linecolor": "white",
            "showbackground": true,
            "ticks": "",
            "zerolinecolor": "white"
           },
           "zaxis": {
            "backgroundcolor": "#E5ECF6",
            "gridcolor": "white",
            "gridwidth": 2,
            "linecolor": "white",
            "showbackground": true,
            "ticks": "",
            "zerolinecolor": "white"
           }
          },
          "shapedefaults": {
           "line": {
            "color": "#2a3f5f"
           }
          },
          "ternary": {
           "aaxis": {
            "gridcolor": "white",
            "linecolor": "white",
            "ticks": ""
           },
           "baxis": {
            "gridcolor": "white",
            "linecolor": "white",
            "ticks": ""
           },
           "bgcolor": "#E5ECF6",
           "caxis": {
            "gridcolor": "white",
            "linecolor": "white",
            "ticks": ""
           }
          },
          "title": {
           "x": 0.05
          },
          "xaxis": {
           "automargin": true,
           "gridcolor": "white",
           "linecolor": "white",
           "ticks": "",
           "title": {
            "standoff": 15
           },
           "zerolinecolor": "white",
           "zerolinewidth": 2
          },
          "yaxis": {
           "automargin": true,
           "gridcolor": "white",
           "linecolor": "white",
           "ticks": "",
           "title": {
            "standoff": 15
           },
           "zerolinecolor": "white",
           "zerolinewidth": 2
          }
         }
        },
        "title": {
         "text": "Scatter Plot Sweetness vs Average diameter with target column comparison"
        },
        "xaxis": {
         "anchor": "y",
         "domain": [
          0,
          1
         ],
         "title": {
          "text": "Sweetness"
         }
        },
        "yaxis": {
         "anchor": "x",
         "domain": [
          0,
          1
         ],
         "title": {
          "text": "Average diameter"
         }
        }
       }
      }
     },
     "metadata": {},
     "output_type": "display_data"
    }
   ],
   "source": [
    "# Scatter plot among ['Weight', 'Average diameter', 'Average length', 'Peel hardness', 'Sweetness']\n",
    "# and comparison with TARGET 'Fruit' \n",
    "\n",
    "feature_x = 'Sweetness'\n",
    "feature_y = 'Average diameter'\n",
    "\n",
    "scatter_plot(df_cleaned, feature_x, feature_y, target='Fruit')"
   ]
  },
  {
   "cell_type": "code",
   "execution_count": null,
   "metadata": {},
   "outputs": [],
   "source": [
    "# Visualization Dashboard using PYGWALKER, you can see interactively the last plots\n",
    "# You can save the json file for the configuration you want to visualize and make other people see it using this code:\n",
    "# pyg.walk(df_cleaned, spec=\"Images/pygwalker_config_1.json\")\n",
    "\n",
    "\n",
    "pyg.walk(df_cleaned)"
   ]
  },
  {
   "cell_type": "markdown",
   "metadata": {},
   "source": [
    "## Feature Engineering \n",
    "\n",
    "Two options:\n",
    "* Feature scaling only with MinMaxScaler method: \n",
    "    - it allows me to have all features in the same range of values [0,1]\n",
    "    -  intuitive and fast to implement\n",
    "* Feature scaling only with StandardScaler method:\n",
    "    - it's useful to get stable and robust distributions from a statistically point of view, bringing all features to mean 0 and std 1\n",
    "    - in this dataset, features are close, or at least quite close, to normal distribution\n",
    "\n",
    "**My decision** is to use *StandardScaler* because:\n",
    "1. in this dataset, there are feature that should be normally distributed. All of them are properties of some fruits, so increasing the numebr of instances I think they will follow a Gaussian distribution\n",
    "2. MinMax scaler compresses data to a fixed range, it could cause a loss of significant information"
   ]
  },
  {
   "cell_type": "code",
   "execution_count": 13,
   "metadata": {},
   "outputs": [
    {
     "data": {
      "text/html": [
       "<div>\n",
       "<style scoped>\n",
       "    .dataframe tbody tr th:only-of-type {\n",
       "        vertical-align: middle;\n",
       "    }\n",
       "\n",
       "    .dataframe tbody tr th {\n",
       "        vertical-align: top;\n",
       "    }\n",
       "\n",
       "    .dataframe thead th {\n",
       "        text-align: right;\n",
       "    }\n",
       "</style>\n",
       "<table border=\"1\" class=\"dataframe\">\n",
       "  <thead>\n",
       "    <tr style=\"text-align: right;\">\n",
       "      <th></th>\n",
       "      <th>Weight</th>\n",
       "      <th>Average diameter</th>\n",
       "      <th>Average length</th>\n",
       "      <th>Peel hardness</th>\n",
       "      <th>Sweetness</th>\n",
       "    </tr>\n",
       "  </thead>\n",
       "  <tbody>\n",
       "    <tr>\n",
       "      <th>count</th>\n",
       "      <td>500.00</td>\n",
       "      <td>500.00</td>\n",
       "      <td>500.00</td>\n",
       "      <td>500.00</td>\n",
       "      <td>500.00</td>\n",
       "    </tr>\n",
       "    <tr>\n",
       "      <th>mean</th>\n",
       "      <td>0.38</td>\n",
       "      <td>0.27</td>\n",
       "      <td>0.42</td>\n",
       "      <td>0.41</td>\n",
       "      <td>0.41</td>\n",
       "    </tr>\n",
       "    <tr>\n",
       "      <th>std</th>\n",
       "      <td>0.26</td>\n",
       "      <td>0.22</td>\n",
       "      <td>0.26</td>\n",
       "      <td>0.17</td>\n",
       "      <td>0.22</td>\n",
       "    </tr>\n",
       "    <tr>\n",
       "      <th>min</th>\n",
       "      <td>0.00</td>\n",
       "      <td>0.00</td>\n",
       "      <td>0.00</td>\n",
       "      <td>0.00</td>\n",
       "      <td>0.00</td>\n",
       "    </tr>\n",
       "    <tr>\n",
       "      <th>25%</th>\n",
       "      <td>0.16</td>\n",
       "      <td>0.15</td>\n",
       "      <td>0.15</td>\n",
       "      <td>0.29</td>\n",
       "      <td>0.23</td>\n",
       "    </tr>\n",
       "    <tr>\n",
       "      <th>50%</th>\n",
       "      <td>0.33</td>\n",
       "      <td>0.22</td>\n",
       "      <td>0.45</td>\n",
       "      <td>0.40</td>\n",
       "      <td>0.40</td>\n",
       "    </tr>\n",
       "    <tr>\n",
       "      <th>75%</th>\n",
       "      <td>0.58</td>\n",
       "      <td>0.28</td>\n",
       "      <td>0.63</td>\n",
       "      <td>0.52</td>\n",
       "      <td>0.56</td>\n",
       "    </tr>\n",
       "    <tr>\n",
       "      <th>max</th>\n",
       "      <td>1.00</td>\n",
       "      <td>1.00</td>\n",
       "      <td>1.00</td>\n",
       "      <td>1.00</td>\n",
       "      <td>1.00</td>\n",
       "    </tr>\n",
       "  </tbody>\n",
       "</table>\n",
       "</div>"
      ],
      "text/plain": [
       "       Weight Average diameter Average length Peel hardness Sweetness\n",
       "count  500.00           500.00         500.00        500.00    500.00\n",
       "mean     0.38             0.27           0.42          0.41      0.41\n",
       "std      0.26             0.22           0.26          0.17      0.22\n",
       "min      0.00             0.00           0.00          0.00      0.00\n",
       "25%      0.16             0.15           0.15          0.29      0.23\n",
       "50%      0.33             0.22           0.45          0.40      0.40\n",
       "75%      0.58             0.28           0.63          0.52      0.56\n",
       "max      1.00             1.00           1.00          1.00      1.00"
      ]
     },
     "execution_count": 13,
     "metadata": {},
     "output_type": "execute_result"
    }
   ],
   "source": [
    "# Feature scaling with MinMaxScaler method\n",
    "\n",
    "df_minmax_transformed = feature_scaling(df_cleaned, method = 'MinMax')\n",
    "df_minmax_transformed.describe().map(lambda x: f\"{x:.2f}\")"
   ]
  },
  {
   "cell_type": "code",
   "execution_count": 12,
   "metadata": {},
   "outputs": [
    {
     "data": {
      "text/html": [
       "<div>\n",
       "<style scoped>\n",
       "    .dataframe tbody tr th:only-of-type {\n",
       "        vertical-align: middle;\n",
       "    }\n",
       "\n",
       "    .dataframe tbody tr th {\n",
       "        vertical-align: top;\n",
       "    }\n",
       "\n",
       "    .dataframe thead th {\n",
       "        text-align: right;\n",
       "    }\n",
       "</style>\n",
       "<table border=\"1\" class=\"dataframe\">\n",
       "  <thead>\n",
       "    <tr style=\"text-align: right;\">\n",
       "      <th></th>\n",
       "      <th>Weight</th>\n",
       "      <th>Average diameter</th>\n",
       "      <th>Average length</th>\n",
       "      <th>Peel hardness</th>\n",
       "      <th>Sweetness</th>\n",
       "    </tr>\n",
       "  </thead>\n",
       "  <tbody>\n",
       "    <tr>\n",
       "      <th>count</th>\n",
       "      <td>500.00</td>\n",
       "      <td>500.00</td>\n",
       "      <td>500.00</td>\n",
       "      <td>500.00</td>\n",
       "      <td>500.00</td>\n",
       "    </tr>\n",
       "    <tr>\n",
       "      <th>mean</th>\n",
       "      <td>-0.00</td>\n",
       "      <td>-0.00</td>\n",
       "      <td>0.00</td>\n",
       "      <td>0.00</td>\n",
       "      <td>-0.00</td>\n",
       "    </tr>\n",
       "    <tr>\n",
       "      <th>std</th>\n",
       "      <td>1.00</td>\n",
       "      <td>1.00</td>\n",
       "      <td>1.00</td>\n",
       "      <td>1.00</td>\n",
       "      <td>1.00</td>\n",
       "    </tr>\n",
       "    <tr>\n",
       "      <th>min</th>\n",
       "      <td>-1.45</td>\n",
       "      <td>-1.23</td>\n",
       "      <td>-1.57</td>\n",
       "      <td>-2.41</td>\n",
       "      <td>-1.85</td>\n",
       "    </tr>\n",
       "    <tr>\n",
       "      <th>25%</th>\n",
       "      <td>-0.84</td>\n",
       "      <td>-0.56</td>\n",
       "      <td>-0.99</td>\n",
       "      <td>-0.71</td>\n",
       "      <td>-0.81</td>\n",
       "    </tr>\n",
       "    <tr>\n",
       "      <th>50%</th>\n",
       "      <td>-0.18</td>\n",
       "      <td>-0.25</td>\n",
       "      <td>0.14</td>\n",
       "      <td>-0.05</td>\n",
       "      <td>-0.05</td>\n",
       "    </tr>\n",
       "    <tr>\n",
       "      <th>75%</th>\n",
       "      <td>0.78</td>\n",
       "      <td>0.04</td>\n",
       "      <td>0.82</td>\n",
       "      <td>0.65</td>\n",
       "      <td>0.69</td>\n",
       "    </tr>\n",
       "    <tr>\n",
       "      <th>max</th>\n",
       "      <td>2.39</td>\n",
       "      <td>3.32</td>\n",
       "      <td>2.21</td>\n",
       "      <td>3.47</td>\n",
       "      <td>2.66</td>\n",
       "    </tr>\n",
       "  </tbody>\n",
       "</table>\n",
       "</div>"
      ],
      "text/plain": [
       "       Weight Average diameter Average length Peel hardness Sweetness\n",
       "count  500.00           500.00         500.00        500.00    500.00\n",
       "mean    -0.00            -0.00           0.00          0.00     -0.00\n",
       "std      1.00             1.00           1.00          1.00      1.00\n",
       "min     -1.45            -1.23          -1.57         -2.41     -1.85\n",
       "25%     -0.84            -0.56          -0.99         -0.71     -0.81\n",
       "50%     -0.18            -0.25           0.14         -0.05     -0.05\n",
       "75%      0.78             0.04           0.82          0.65      0.69\n",
       "max      2.39             3.32           2.21          3.47      2.66"
      ]
     },
     "execution_count": 12,
     "metadata": {},
     "output_type": "execute_result"
    }
   ],
   "source": [
    "# Feature scaling with StandardScaler method\n",
    "\n",
    "df_standard_transformed = feature_scaling(df_cleaned, method = 'Standard')\n",
    "df_standard_transformed.describe().map(lambda x: f'{x:.2f}')"
   ]
  },
  {
   "cell_type": "markdown",
   "metadata": {},
   "source": [
    "## Visualization after feature engineering"
   ]
  },
  {
   "cell_type": "code",
   "execution_count": 14,
   "metadata": {},
   "outputs": [
    {
     "data": {
      "application/vnd.plotly.v1+json": {
       "config": {
        "plotlyServerURL": "https://plot.ly"
       },
       "data": [
        {
         "hovertemplate": "Fruit=Apple<br>Sweetness=%{x}<br>Average diameter=%{y}<extra></extra>",
         "legendgroup": "Apple",
         "marker": {
          "color": "#636efa",
          "line": {
           "color": "DarkSlateGrey",
           "width": 2
          },
          "size": 12,
          "symbol": "circle"
         },
         "mode": "markers",
         "name": "Apple",
         "orientation": "v",
         "showlegend": true,
         "type": "scatter",
         "x": [
          -0.9363635635388089,
          0.21903509669906826,
          -0.5644201592156568,
          -0.8255719111872318,
          0.22694878615275219,
          -0.398232680688291,
          -1.1421194893345954,
          -0.09751248144829527,
          -1.031327836983018,
          -0.6435570537524978,
          -0.659384432659866,
          -0.4061463701419749,
          -0.7464350166503909,
          -1.197515315510384,
          0.029106549810649935,
          -0.13708092871671593,
          -1.110464731519859,
          -0.8255719111872318,
          0.44061840140222297,
          -0.034202965818822845,
          -0.5406790908546044,
          -0.2162178232535569,
          -0.5644201592156568,
          -0.16873568653145232,
          -0.691039190474602,
          -0.7860034639188112,
          0.4485320908559069,
          -1.2054290049640681,
          -0.7780897744651273,
          -0.4615421963177637,
          -1.2291700733251203,
          -0.3428368545125021,
          -0.08168510254092708,
          -0.16082199707776804,
          -0.5169380224935523,
          -0.6672981221135499,
          -0.6356433642988135,
          -0.3586642334198703,
          -0.2716136494293454,
          -0.14499461817039985,
          -1.2687385205935409,
          -0.7464350166503909,
          -1.1262921104272272,
          -0.49319695413249975,
          -0.4219737490493431,
          -0.6514707432061817,
          0.013279170903281741,
          0.1082434443474909,
          -0.9759320108072296,
          -0.2953547177903975,
          -0.691039190474602,
          0.04493392871801813,
          -0.6039886064840772,
          -0.8888814268167042,
          -0.018375586911454647,
          -0.1845630654388205,
          -0.6831255010209181,
          -0.398232680688291,
          -0.7939171533724955,
          -0.17664937598513625,
          -0.39031899123460667,
          -0.9442772529924931,
          -1.213342694417752,
          -0.9521909424461771,
          -0.39031899123460667,
          -0.8334856006409158,
          -0.9996730791682816,
          -0.4378011279567113,
          -0.580247538123025,
          0.3456541279580138,
          -0.4219737490493431,
          -1.1421194893345954,
          -0.46945588577144765,
          -0.3744916123272385,
          -0.5248517119472361,
          0.48810053812432724,
          -0.9363635635388089,
          -0.849312979548284,
          -0.8097445322798636,
          -0.23204520216092508,
          -1.7277325089072182,
          -0.6356433642988135,
          -0.7147802588356545,
          -0.580247538123025,
          0.1478118916159112,
          -0.38240530178092275,
          -0.9047088057240725,
          0.20320771779170008,
          -0.4378011279567113,
          -0.5248517119472361,
          -0.6831255010209181,
          -0.4219737490493431,
          -0.4615421963177637,
          -1.3162206573156454,
          -0.2162178232535569,
          -0.6435570537524978,
          -0.7860034639188112,
          -0.2557862705219772,
          -0.9838457002609134,
          -0.5565064697619726
         ],
         "xaxis": "x",
         "y": [
          0.04837217247480516,
          -0.20431711886578802,
          -0.07649339231580232,
          -0.7763321874950789,
          -0.16944194864995762,
          -0.3875674552230759,
          -0.2706422193655371,
          -0.29913398789007717,
          -0.38928007518903185,
          -0.16461547420044534,
          -0.3701298701151607,
          -0.3920825442242325,
          -0.08614634121482667,
          -0.4523356284810467,
          0.09507998972814954,
          -0.13160861667474857,
          -0.15060312902444195,
          -0.45420394117118057,
          0.25591057380383203,
          0.04105461443844767,
          -0.11059009891074369,
          -0.023246480646989694,
          -0.32871560548386203,
          -0.528469370603998,
          -0.393328086017655,
          -0.35409351952484575,
          -0.4481319249282458,
          -0.4663479736570501,
          0.03482690547133522,
          -0.36779447925249337,
          -0.330428225449818,
          -0.3528479777314233,
          -0.057965958138642415,
          -0.2664385158127362,
          -0.1857896846886281,
          0.003376975187416728,
          0.3474578956203869,
          -0.5399906321931564,
          -0.5127444054620388,
          0.1688783409884336,
          -0.21116759872961183,
          -0.3701298701151607,
          -0.018731391645832974,
          -0.45778487382727023,
          -0.057810265414464525,
          0.27661770611948133,
          -0.6544247844638501,
          -0.11323687522176656,
          -0.3268472927937282,
          -0.1572979161640881,
          -0.20774235879769992,
          -0.01810862074912184,
          -0.27001944846882575,
          -0.3481771960060889,
          -0.21708392224836895,
          0.00041881342803806433,
          -0.3399254816246647,
          -0.2830976372997623,
          -0.35860860852600235,
          -0.6106751289698842,
          0.0374736817823581,
          -0.2427732217377082,
          -0.1686634850290686,
          -0.5767341150991206,
          -0.41029859295303683,
          -0.2627018904324685,
          0.16233924657296536,
          -0.593237543861969,
          -0.5180379580840846,
          -0.09361959197536183,
          -0.6693712859849204,
          -0.3131463330660806,
          -0.4070290457453027,
          -0.272510532055671,
          -0.07337953783224599,
          -0.0719783033146456,
          -0.13363262208906032,
          -0.29757706064829914,
          -0.651155237256116,
          0.1279311545296684,
          -0.3923939296725882,
          -0.19092754458649597,
          0.44943662995685546,
          -0.0908171229401613,
          -0.5614762281296949,
          -0.4912588095255004,
          -0.1138596461184777,
          -0.12366828774168016,
          -0.7031566071315062,
          -0.24121629449593016,
          -0.23670120549477344,
          0.09570276062486067,
          -0.3385242471070643,
          0.28954020222623994,
          -0.09735621735562953,
          -0.17146595406426915,
          -0.21085621328125626,
          -0.3095654004099908,
          -0.053295176413307804,
          -0.28994811716358604
         ],
         "yaxis": "y"
        },
        {
         "hovertemplate": "Fruit=Banana<br>Sweetness=%{x}<br>Average diameter=%{y}<extra></extra>",
         "legendgroup": "Banana",
         "marker": {
          "color": "#EF553B",
          "line": {
           "color": "DarkSlateGrey",
           "width": 2
          },
          "size": 12,
          "symbol": "circle"
         },
         "mode": "markers",
         "name": "Banana",
         "orientation": "v",
         "showlegend": true,
         "type": "scatter",
         "x": [
          -1.4507533780282749,
          -1.6723366827314294,
          -1.1579468682419636,
          -1.3557891045840658,
          -1.2608248311398567,
          -1.1342057998809112,
          -0.8255719111872318,
          -1.284565899500909,
          -1.0946373526124908,
          -1.561545030379852,
          -1.466580756935643,
          -1.8543515401661634,
          -0.9363635635388089,
          -0.9838457002609134,
          -0.5090243330398679,
          -0.9126224951777567,
          -1.640681924916693,
          -1.2687385205935409,
          -1.3557891045840658,
          -1.4349259991209067,
          -1.5378039620188,
          -1.5219765831114318,
          -1.6644229932777455,
          -1.3003932784082772,
          -1.1658605576956476,
          -0.9996730791682816,
          -1.1737742471493318,
          -1.2529111416861727,
          -1.197515315510384,
          -1.284565899500909,
          -1.213342694417752,
          -1.2766522100472248,
          -1.6011134776482727,
          -1.3874438623988021,
          -1.292479588954593,
          -0.7147802588356545,
          -1.2608248311398567,
          -0.5565064697619726,
          -1.284565899500909,
          -1.1658605576956476,
          -1.3241343467693294,
          -1.6248545460093249,
          -1.3874438623988021,
          -1.2291700733251203,
          -0.9838457002609134,
          -1.5931997881945885,
          -1.5694587198335361,
          -1.4270123096672225,
          -1.3162206573156454,
          -1.3874438623988021,
          -0.6831255010209181,
          -1.7039914405461658,
          -1.3478754151303818,
          -1.197515315510384,
          -0.7939171533724955,
          -1.5298902725651158,
          -0.849312979548284,
          -0.8097445322798636,
          -1.3874438623988021,
          -1.6644229932777455,
          -1.284565899500909,
          -0.9521909424461771,
          -1.5378039620188,
          -0.9205361846314407,
          -1.3557891045840658,
          -1.1262921104272272,
          -0.9759320108072296,
          -1.8385241612587953,
          -0.7622623955577591,
          -1.2291700733251203,
          -1.5140628936577476,
          -1.213342694417752,
          -1.01550045807565,
          -0.9047088057240725,
          -1.5298902725651158,
          -1.197515315510384,
          -1.6565093038240613,
          -1.2529111416861727,
          -1.7119051299998498,
          -1.1579468682419636,
          -1.5140628936577476,
          -1.3320480362230136,
          -1.284565899500909,
          -1.5140628936577476,
          -1.1025510420661748,
          -0.6989528799282863,
          -0.9126224951777567,
          -1.3003932784082772,
          -1.0946373526124908,
          -1.213342694417752,
          -1.3478754151303818,
          -1.7435598878145862,
          -1.1658605576956476,
          -1.0471552158903863,
          -1.213342694417752,
          -1.284565899500909,
          -1.2687385205935409,
          -0.9284498740851249,
          -1.4190986202135385,
          -1.0708962842514385
         ],
         "xaxis": "x",
         "y": [
          1.1779228863848499,
          1.8377486514504286,
          1.6837685472385697,
          2.1872788172296223,
          1.8800970724267942,
          2.0563412361960802,
          2.2768021336318656,
          1.0074393534101431,
          1.944709552960587,
          1.7240929628006239,
          2.0477781363663,
          0.5177857358709161,
          1.9026725174325771,
          1.3976053201997467,
          3.0842246012180126,
          0.8302610332957902,
          1.889282943153285,
          1.9121697736074237,
          1.326920823423019,
          1.2657335828211376,
          1.8805641505993278,
          2.272131351906531,
          3.321188927416646,
          1.032505882002771,
          1.7723577072957464,
          2.0451313600552776,
          1.7907294487487284,
          2.214369351236562,
          1.4552116281455378,
          1.7295422081468472,
          2.147110094391746,
          0.9191615788013224,
          1.2310141053294847,
          2.6448597335882194,
          2.0761142121666625,
          2.3960627603520717,
          1.2350621161581081,
          1.350119039325513,
          1.9682191543114373,
          1.2377088924691309,
          2.3716190026561548,
          1.2990518257951897,
          1.1228076620259038,
          2.484807613133426,
          1.694511345206839,
          1.6157308267728647,
          1.79773562133673,
          1.2914228823104772,
          1.362885842708094,
          1.232571032571263,
          1.9948426101458432,
          2.3643014446197976,
          1.0021458007880975,
          0.9571506035007091,
          1.5937781526637929,
          1.9579434345157016,
          1.2725840626849614,
          1.7194221810752892,
          1.1758988809705384,
          2.3037369749146275,
          1.950781569203522,
          2.19599760978358,
          3.0202348915809307,
          1.9898604429721534,
          1.5131293215396848,
          1.268068973683805,
          1.0513447016282866,
          1.9079660700546228,
          1.1430477161690198,
          1.9056306791919557,
          1.5059674562275056,
          2.4617650899551093,
          2.2355435617247448,
          2.8055346249397237,
          2.037191031122209,
          1.6688220457174994,
          1.578675958418545,
          1.8273172389305148,
          1.123586125646793,
          2.1439962399081898,
          2.137768530941077,
          2.1879015881263335,
          3.1046203480853065,
          1.0781238501868708,
          1.9334996768197843,
          2.204405016889182,
          2.59067866557434,
          2.3398576869238807,
          1.0522788579733537,
          1.9012712829149767,
          2.7118076049846795,
          2.5266889559372583,
          1.9149722426426243,
          1.4821464694283,
          2.782025023588874,
          2.2459749742446586,
          1.3764311097115636,
          0.5875360763025771,
          1.5936224599396152,
          1.777651259917792
         ],
         "yaxis": "y"
        },
        {
         "hovertemplate": "Fruit=Orange<br>Sweetness=%{x}<br>Average diameter=%{y}<extra></extra>",
         "legendgroup": "Orange",
         "marker": {
          "color": "#00cc96",
          "line": {
           "color": "DarkSlateGrey",
           "width": 2
          },
          "size": 12,
          "symbol": "circle"
         },
         "mode": "markers",
         "name": "Orange",
         "orientation": "v",
         "showlegend": true,
         "type": "scatter",
         "x": [
          0.1557255810695955,
          1.4298295831127343,
          1.5564486143716791,
          0.8046481162716911,
          1.350692688575893,
          -0.13708092871671593,
          1.2082462784095795,
          0.8125618057253751,
          1.5881033721864155,
          0.7571659795495862,
          1.398174825297998,
          2.2291122179348273,
          -0.034202965818822845,
          1.5168801671032588,
          2.3636449386474565,
          0.6701153955590616,
          0.7571659795495862,
          0.7413386006422183,
          0.8363028740864275,
          0.0845023759864388,
          0.9391808369843206,
          0.5039279170316958,
          2.3003354230179838,
          0.6147195693832728,
          1.501052788195891,
          0.9629219053453724,
          2.3240764913790364,
          1.4060885147516817,
          2.3715586281011407,
          1.1132820049653704,
          2.039183671046409,
          0.709683842827482,
          -0.45362850686407946,
          2.656451448433768,
          0.9470945264380045,
          -0.2636999599756615,
          0.20320771779170008,
          1.8888235714264117,
          1.5089664776495748,
          2.0629247394074612,
          1.6830676456306246,
          1.6672402667232569,
          0.32191305959696137,
          0.8046481162716911,
          1.3823474463906293,
          0.8600439424474793,
          0.5276689853927475,
          1.8334277452506227,
          1.493139098742207,
          1.026231420974845,
          1.5485349249179952,
          2.1104068761295656,
          1.0420587998822137,
          2.5298324171748225,
          1.231987346770632,
          0.1952940283380158,
          1.0657998682432661,
          1.0420587998822137,
          1.5801896827327315,
          1.231987346770632,
          1.192418899502211,
          1.1765915205948432,
          2.0945794972221976,
          -0.8967951162703885,
          1.5564486143716791,
          1.9283920186948318,
          0.9945766631601087,
          1.0341451104285297,
          0.27443092287485676,
          1.5327075460106274,
          0.7571659795495862,
          0.9391808369843206,
          1.6355855089085205,
          0.6305469482906406,
          2.031269981592725,
          0.36148150686538166,
          1.358606378029577,
          0.46435946976327475,
          1.5801896827327315,
          1.6355855089085205,
          1.0420587998822137,
          2.2686806652032474,
          1.247814725678,
          0.5751511221148524,
          1.6909813350843093,
          0.3693951963190656,
          0.029106549810649935,
          0.9075260791695842,
          2.458609212091666,
          1.0420587998822137,
          -0.17664937598513625,
          2.237025907388511,
          1.1291093838727382,
          0.4801868486706433,
          2.5377461066285063,
          1.817600366343254,
          2.5852282433506115,
          1.9917015343243047,
          1.1132820049653704,
          1.3269516202148404
         ],
         "xaxis": "x",
         "y": [
          0.08745104624343648,
          0.024551185675599507,
          -0.3570516812842242,
          -0.20291588434818764,
          -0.185945377412806,
          -0.42758048533677423,
          -0.3777588135998735,
          -0.16321423968284496,
          -0.4280475635093077,
          -0.8633644203104773,
          -0.3343205435542634,
          -0.5681710152693409,
          -0.16586101599386782,
          -0.27655854288429405,
          -0.14390834188479604,
          -0.22300024576712582,
          -0.2233116312154814,
          -0.4666593591054057,
          -0.1266264495010586,
          -0.435365121545665,
          -0.3425722579356876,
          -0.008455671850097263,
          -0.39161546605169906,
          -0.35985415031942486,
          -0.15324990533546481,
          -0.14032740922870623,
          -0.6569158680506951,
          -0.531116146915021,
          -0.09003865931927205,
          -0.6520893936011829,
          -0.0651278234508218,
          -0.3719981828052944,
          -0.2665942085369139,
          -0.3603212284919583,
          -0.03539051313285926,
          -0.330428225449818,
          -0.8688136656567009,
          -0.2524261706367328,
          -0.11292548977341099,
          -0.08163125221367018,
          -0.06637336524424428,
          0.13602717618691473,
          -0.25771972325877857,
          0.1259071491153567,
          -0.24324029991024168,
          -0.19590971176018615,
          -0.134566778434127,
          -0.1080990153238987,
          -0.4756895371077189,
          -0.3101881713067019,
          -0.18407706472267216,
          -0.027138798751435062,
          -0.07976293952353633,
          0.0374736817823581,
          -0.28091793916127283,
          -0.5223973543610633,
          0.12139206011420019,
          -0.34584180514342155,
          -0.1931072427249854,
          -0.2711092975380706,
          -0.5051154619773258,
          -0.07260107421135696,
          0.14879397956949542,
          -0.12211136049990189,
          -0.33556608534768584,
          -0.20540696793503285,
          -0.5589851445428498,
          -0.5955729347246362,
          -0.059055807207887015,
          -0.20852082241858896,
          -0.4316284961653974,
          -0.5441943357459574,
          -0.33307500176084065,
          -0.22191039669788123,
          -0.5745544169606313,
          -0.625154552318421,
          0.047749401578093806,
          -0.21101190600543415,
          -0.4666593591054057,
          -0.47709077162531927,
          -0.23919228908161863,
          0.005712366050083815,
          -0.23343165828703943,
          -0.5975969401389478,
          -0.24977939432570992,
          -0.49826498211350206,
          -0.20431711886578802,
          -0.40189118584743483,
          -0.469773213588962,
          -0.18049613206658238,
          -0.08318817945544824,
          0.17059096095438955,
          -0.0685530633827337,
          -0.17068749044338014,
          -0.03974990940983808,
          -0.2978884460966547,
          -0.44501807044468944,
          -0.38538775708458645,
          -0.33681162714110835,
          -0.2522704779125549
         ],
         "yaxis": "y"
        },
        {
         "hovertemplate": "Fruit=Grape<br>Sweetness=%{x}<br>Average diameter=%{y}<extra></extra>",
         "legendgroup": "Grape",
         "marker": {
          "color": "#ab63fa",
          "line": {
           "color": "DarkSlateGrey",
           "width": 2
          },
          "size": 12,
          "symbol": "circle"
         },
         "mode": "markers",
         "name": "Grape",
         "orientation": "v",
         "showlegend": true,
         "type": "scatter",
         "x": [
          -0.08168510254092708,
          0.1478118916159112,
          -0.1529083076240841,
          0.13198451270854303,
          0.37730888577275024,
          -0.2874410283367136,
          0.6305469482906406,
          -0.5090243330398679,
          0.38522257522643416,
          0.25068985451380466,
          0.1398982021622273,
          0.16363927052327942,
          0.013279170903281741,
          1.4060885147516817,
          0.8204754951790589,
          0.16363927052327942,
          0.25068985451380466,
          0.1478118916159112,
          0.11615713380117518,
          0.49601422757801117,
          1.0895409366043178,
          -0.3507505439661864,
          -0.22413151270724083,
          0.09241606544012271,
          -0.3111820966977657,
          0.3693951963190656,
          1.3190379307611566,
          0.9866629737064249,
          0.5276689853927475,
          -0.3744916123272385,
          -0.6435570537524978,
          -0.14499461817039985,
          0.42479102249485445,
          -0.2874410283367136,
          0.9075260791695842,
          -0.05794403417987496,
          0.7413386006422183,
          0.9945766631601087,
          1.1845052100485272,
          0.7809070479106387,
          0.38522257522643416,
          0.5672374326611679,
          -0.08959879199461135,
          -0.6672981221135499,
          1.2003325889558956,
          0.6305469482906406,
          0.40104995413380196,
          1.1370230733264228,
          0.25068985451380466,
          1.2952968624001049,
          1.4060885147516817,
          1.2161599678632635,
          1.2082462784095795,
          -0.5090243330398679,
          0.7413386006422183,
          -0.050030344726191035,
          0.6542880166516931,
          0.8916987002622156,
          0.9945766631601087,
          -0.6198159853914453,
          -0.3032684072440818,
          1.77011822962115,
          -0.3744916123272385,
          -0.2716136494293454,
          0.4089636435874866,
          1.0024903526137934,
          -0.002548208004086453,
          -0.239958891614609,
          0.13198451270854303,
          0.1952940283380158,
          0.6780290850127455,
          -0.04211665527250676,
          0.5039279170316958,
          0.8837850108085318,
          0.013279170903281741,
          -0.2716136494293454,
          -0.07377141308724315,
          -0.4219737490493431,
          0.9075260791695842,
          -0.018375586911454647,
          -0.06585772363355923,
          0.8600439424474793,
          -0.034202965818822845,
          0.2427761650601204,
          -0.16082199707776804,
          1.2636421045853683,
          0.25068985451380466,
          -0.4378011279567113,
          -0.44571481741039554,
          0.1952940283380158,
          0.6305469482906406,
          -0.3586642334198703,
          0.8125618057253751,
          -0.45362850686407946,
          1.2082462784095795,
          -0.07377141308724315,
          1.192418899502211,
          0.13198451270854303,
          0.1794666494306476,
          0.1794666494306476
         ],
         "xaxis": "x",
         "y": [
          -0.9472827986423193,
          -1.0590701746019904,
          -1.0839810104704406,
          -1.0847594740913296,
          -1.0350934950786068,
          -1.0554892419459005,
          -1.0489501475304324,
          -1.121502956997294,
          -1.0322910260434062,
          -0.9479055695390307,
          -1.0763520669857278,
          -1.0402313549764748,
          -1.0193685299366477,
          -1.0086257319683785,
          -1.1392519275535649,
          -1.0587587891536347,
          -1.0179672954190473,
          -1.03415933873354,
          -0.9581812893347664,
          -0.9440132514345854,
          -1.0461476784952317,
          -0.9707923999931695,
          -0.9943020013440195,
          -0.98215796885815,
          -1.035871958699496,
          -1.1722587850792616,
          -0.9804453488921939,
          -0.9669000818887241,
          -0.9574028257138774,
          -0.9882299851010846,
          -1.0464590639435873,
          -1.1149638625818257,
          -1.02419500438616,
          -1.1319343695172075,
          -1.0844480886429742,
          -0.996481699482509,
          -1.230643556645942,
          -1.0425667458391419,
          -0.9902539905153963,
          -1.054243700152478,
          -1.082735468677018,
          -1.1420543965887655,
          -1.0310454842499839,
          -0.8540228568598085,
          -1.1110715444773802,
          -1.0052004920364663,
          -0.9292224426376929,
          -1.0164103681772692,
          -0.9351387661564499,
          -1.0081586537958451,
          -1.0109611228310456,
          -1.065297883569103,
          -1.2128945860896712,
          -0.9553788202995658,
          -1.0489501475304324,
          -0.9184796446694238,
          -1.0674775817075923,
          -1.1842471248409532,
          -1.1236826551357832,
          -1.0965921211288436,
          -1.0808671559868843,
          -1.055177856497545,
          -0.9860502869625953,
          -1.1414316256920543,
          -1.0511298456689218,
          -1.0053561847606443,
          -1.1048438355102679,
          -0.9858945942384174,
          -1.0894302558166642,
          -0.9245516609123585,
          -0.9941463086198417,
          -1.0844480886429742,
          -1.1218143424456497,
          -1.1403417766228097,
          -1.0481716839095434,
          -1.050974152944744,
          -1.015787597280558,
          -1.1509288818669008,
          -1.0388301204588746,
          -1.039297198631408,
          -1.1179220243412042,
          -1.0319796405950508,
          -0.882981703556882,
          -1.0531538510832332,
          -1.0634295708789692,
          -1.0651421908449252,
          -0.9960146213099754,
          -1.0002183248627765,
          -1.0626511072580802,
          -1.0771305306066168,
          -1.1325571404139188,
          -0.9144316338408005,
          -1.1489048764525893,
          -1.2058884135016694,
          -1.0259076243521157,
          -1.1485934910042337,
          -1.0047334138639332,
          -1.029955635180739,
          -1.043345209460031,
          -1.067010503535059
         ],
         "yaxis": "y"
        },
        {
         "hovertemplate": "Fruit=Kiwi<br>Sweetness=%{x}<br>Average diameter=%{y}<extra></extra>",
         "legendgroup": "Kiwi",
         "marker": {
          "color": "#FFA15A",
          "line": {
           "color": "DarkSlateGrey",
           "width": 2
          },
          "size": 12,
          "symbol": "circle"
         },
         "mode": "markers",
         "name": "Kiwi",
         "orientation": "v",
         "showlegend": true,
         "type": "scatter",
         "x": [
          0.6226332588369567,
          0.211121407245384,
          1.1053683155116865,
          -0.002548208004086453,
          0.4722731592169594,
          -0.9521909424461771,
          -0.09751248144829527,
          0.021192860356966013,
          -0.6277296748451296,
          0.38522257522643416,
          -0.9996730791682816,
          0.26651723342117284,
          -0.10542617090197955,
          -0.22413151270724083,
          0.8125618057253751,
          0.9470945264380045,
          0.6859427744664295,
          -1.1342057998809112,
          0.662201706105377,
          -0.5565064697619726,
          0.6226332588369567,
          0.4801868486706433,
          0.9787492842527409,
          0.701770153373798,
          0.211121407245384,
          0.5355826748464314,
          0.1873803388843319,
          0.32191305959696137,
          -0.8651403584556522,
          0.282344612328541,
          0.29817199123590926,
          -0.9442772529924931,
          0.5751511221148524,
          -1.0629825947977545,
          -0.36657792287355456,
          -0.239958891614609,
          1.5960170616401002,
          0.8758713213548478,
          0.970835594799057,
          -0.7306076377430227,
          0.3060856806895932,
          0.5593237432074839,
          0.4089636435874866,
          0.5830648115685364,
          1.4773117198348384,
          -0.13708092871671593,
          0.1082434443474909,
          0.3693951963190656,
          0.38522257522643416,
          0.38522257522643416,
          0.49601422757801117,
          0.29817199123590926,
          -0.002548208004086453,
          0.00536548144959782,
          1.7463771612600973,
          1.334865309668525,
          -0.034202965818822845,
          -0.3032684072440818,
          0.1082434443474909,
          1.5643623038253638,
          -0.27952733888302933,
          -0.12125354980934773,
          0.9629219053453724,
          0.5197552959390637,
          1.3190379307611566,
          0.1240708232548591,
          -0.7780897744651273,
          -0.3111820966977657,
          0.49601422757801117,
          0.32191305959696137,
          0.1240708232548591,
          0.6226332588369567,
          -0.398232680688291,
          -0.3032684072440818,
          -0.034202965818822845,
          -0.20830413379987264,
          1.8017729874358863,
          -0.6752118115672339,
          0.1873803388843319,
          0.1952940283380158,
          0.1082434443474909,
          1.231987346770632,
          0.4564457803095908,
          0.22694878615275219,
          -0.14499461817039985,
          -0.2953547177903975,
          -0.4061463701419749,
          0.06076130762538633,
          0.1873803388843319,
          0.709683842827482,
          -0.48528326467881583,
          0.42479102249485445,
          0.8283891846327429,
          0.5514100537538,
          0.282344612328541,
          1.5564486143716791,
          0.8600439424474793,
          0.6068058799295889,
          0.42479102249485445,
          0.27443092287485676
         ],
         "xaxis": "x",
         "y": [
          -0.26098927046651255,
          -0.11214702615252174,
          -0.30738570227150136,
          -0.1462437327474631,
          -0.3780701990482292,
          -0.5568054464043604,
          -0.1057636244612314,
          -0.34739873238519964,
          0.15813554302016442,
          0.10224185504032893,
          -0.17115456861591358,
          -0.5181936508082624,
          -0.5943273929312137,
          -0.1197759696372348,
          -0.1045180826678089,
          0.14630289598265042,
          -0.11167994797998829,
          -0.2989782951658993,
          -0.2759357719875829,
          -0.46012026468993744,
          0.03171305098777888,
          -0.2676840576061587,
          -0.440347288719355,
          -0.008611364574275157,
          -0.061702583518909886,
          -0.230473496527661,
          -0.3175057293430592,
          -0.3710640264602275,
          -0.02091108978432239,
          -0.27001944846882575,
          -0.19357432089751886,
          -0.2676840576061587,
          -0.42353247450815107,
          -0.12709352767359208,
          -0.45871903017233717,
          -0.45077870123926866,
          -0.6254659377667766,
          0.034515520022979654,
          -0.2711092975380706,
          -0.2385695181849073,
          -0.16103454154435554,
          -0.6916353455423478,
          -0.5849858294805448,
          -0.302714920546167,
          -0.20945497876365587,
          -0.3140804894111473,
          -0.44875469582495703,
          -0.4289817198543745,
          -0.29804413882083236,
          -0.11214702615252174,
          -0.6072498890379723,
          -0.13705786202097223,
          -0.5074508528399931,
          -0.4973308257684351,
          -0.10981163528985466,
          -0.4187060000586388,
          -0.0014494992620955607,
          -0.04395361296263901,
          -0.4570064102063812,
          -0.09439805559625088,
          -0.37495634456467286,
          -0.48580956417927695,
          -0.2360784345980623,
          -0.4995105239069246,
          -0.5910578457234796,
          -0.08505649214558209,
          -0.5614762281296949,
          -0.13223138757145994,
          -0.0872361902840715,
          -0.41823892188610534,
          -0.22751533476828253,
          -0.06933152700362273,
          -0.022000938853567204,
          -0.03523482040868136,
          -0.10529654628869793,
          -0.2958644406823432,
          -0.484096944213321,
          0.07406147196414443,
          -0.0778946268334027,
          -0.13565662750337185,
          -0.16041177064764442,
          -0.028384340544857552,
          0.023772722054710257,
          -0.5463740338844468,
          -0.28636718450749626,
          -0.44470668499633387,
          -0.037414518547170775,
          -0.13550093477919395,
          -0.32964976182892874,
          -0.12911753308790358,
          -0.000982421089562099,
          -0.6315379540097115,
          -0.46245565555260476,
          -0.5459069557119134,
          0.012562845913907623,
          -0.2966429043032322,
          -0.36779447925249337,
          -0.2357670491497065,
          -0.33229653813995164,
          -0.4557608684129587
         ],
         "yaxis": "y"
        }
       ],
       "layout": {
        "legend": {
         "title": {
          "text": "Fruit"
         },
         "tracegroupgap": 0
        },
        "template": {
         "data": {
          "bar": [
           {
            "error_x": {
             "color": "#2a3f5f"
            },
            "error_y": {
             "color": "#2a3f5f"
            },
            "marker": {
             "line": {
              "color": "#E5ECF6",
              "width": 0.5
             },
             "pattern": {
              "fillmode": "overlay",
              "size": 10,
              "solidity": 0.2
             }
            },
            "type": "bar"
           }
          ],
          "barpolar": [
           {
            "marker": {
             "line": {
              "color": "#E5ECF6",
              "width": 0.5
             },
             "pattern": {
              "fillmode": "overlay",
              "size": 10,
              "solidity": 0.2
             }
            },
            "type": "barpolar"
           }
          ],
          "carpet": [
           {
            "aaxis": {
             "endlinecolor": "#2a3f5f",
             "gridcolor": "white",
             "linecolor": "white",
             "minorgridcolor": "white",
             "startlinecolor": "#2a3f5f"
            },
            "baxis": {
             "endlinecolor": "#2a3f5f",
             "gridcolor": "white",
             "linecolor": "white",
             "minorgridcolor": "white",
             "startlinecolor": "#2a3f5f"
            },
            "type": "carpet"
           }
          ],
          "choropleth": [
           {
            "colorbar": {
             "outlinewidth": 0,
             "ticks": ""
            },
            "type": "choropleth"
           }
          ],
          "contour": [
           {
            "colorbar": {
             "outlinewidth": 0,
             "ticks": ""
            },
            "colorscale": [
             [
              0,
              "#0d0887"
             ],
             [
              0.1111111111111111,
              "#46039f"
             ],
             [
              0.2222222222222222,
              "#7201a8"
             ],
             [
              0.3333333333333333,
              "#9c179e"
             ],
             [
              0.4444444444444444,
              "#bd3786"
             ],
             [
              0.5555555555555556,
              "#d8576b"
             ],
             [
              0.6666666666666666,
              "#ed7953"
             ],
             [
              0.7777777777777778,
              "#fb9f3a"
             ],
             [
              0.8888888888888888,
              "#fdca26"
             ],
             [
              1,
              "#f0f921"
             ]
            ],
            "type": "contour"
           }
          ],
          "contourcarpet": [
           {
            "colorbar": {
             "outlinewidth": 0,
             "ticks": ""
            },
            "type": "contourcarpet"
           }
          ],
          "heatmap": [
           {
            "colorbar": {
             "outlinewidth": 0,
             "ticks": ""
            },
            "colorscale": [
             [
              0,
              "#0d0887"
             ],
             [
              0.1111111111111111,
              "#46039f"
             ],
             [
              0.2222222222222222,
              "#7201a8"
             ],
             [
              0.3333333333333333,
              "#9c179e"
             ],
             [
              0.4444444444444444,
              "#bd3786"
             ],
             [
              0.5555555555555556,
              "#d8576b"
             ],
             [
              0.6666666666666666,
              "#ed7953"
             ],
             [
              0.7777777777777778,
              "#fb9f3a"
             ],
             [
              0.8888888888888888,
              "#fdca26"
             ],
             [
              1,
              "#f0f921"
             ]
            ],
            "type": "heatmap"
           }
          ],
          "heatmapgl": [
           {
            "colorbar": {
             "outlinewidth": 0,
             "ticks": ""
            },
            "colorscale": [
             [
              0,
              "#0d0887"
             ],
             [
              0.1111111111111111,
              "#46039f"
             ],
             [
              0.2222222222222222,
              "#7201a8"
             ],
             [
              0.3333333333333333,
              "#9c179e"
             ],
             [
              0.4444444444444444,
              "#bd3786"
             ],
             [
              0.5555555555555556,
              "#d8576b"
             ],
             [
              0.6666666666666666,
              "#ed7953"
             ],
             [
              0.7777777777777778,
              "#fb9f3a"
             ],
             [
              0.8888888888888888,
              "#fdca26"
             ],
             [
              1,
              "#f0f921"
             ]
            ],
            "type": "heatmapgl"
           }
          ],
          "histogram": [
           {
            "marker": {
             "pattern": {
              "fillmode": "overlay",
              "size": 10,
              "solidity": 0.2
             }
            },
            "type": "histogram"
           }
          ],
          "histogram2d": [
           {
            "colorbar": {
             "outlinewidth": 0,
             "ticks": ""
            },
            "colorscale": [
             [
              0,
              "#0d0887"
             ],
             [
              0.1111111111111111,
              "#46039f"
             ],
             [
              0.2222222222222222,
              "#7201a8"
             ],
             [
              0.3333333333333333,
              "#9c179e"
             ],
             [
              0.4444444444444444,
              "#bd3786"
             ],
             [
              0.5555555555555556,
              "#d8576b"
             ],
             [
              0.6666666666666666,
              "#ed7953"
             ],
             [
              0.7777777777777778,
              "#fb9f3a"
             ],
             [
              0.8888888888888888,
              "#fdca26"
             ],
             [
              1,
              "#f0f921"
             ]
            ],
            "type": "histogram2d"
           }
          ],
          "histogram2dcontour": [
           {
            "colorbar": {
             "outlinewidth": 0,
             "ticks": ""
            },
            "colorscale": [
             [
              0,
              "#0d0887"
             ],
             [
              0.1111111111111111,
              "#46039f"
             ],
             [
              0.2222222222222222,
              "#7201a8"
             ],
             [
              0.3333333333333333,
              "#9c179e"
             ],
             [
              0.4444444444444444,
              "#bd3786"
             ],
             [
              0.5555555555555556,
              "#d8576b"
             ],
             [
              0.6666666666666666,
              "#ed7953"
             ],
             [
              0.7777777777777778,
              "#fb9f3a"
             ],
             [
              0.8888888888888888,
              "#fdca26"
             ],
             [
              1,
              "#f0f921"
             ]
            ],
            "type": "histogram2dcontour"
           }
          ],
          "mesh3d": [
           {
            "colorbar": {
             "outlinewidth": 0,
             "ticks": ""
            },
            "type": "mesh3d"
           }
          ],
          "parcoords": [
           {
            "line": {
             "colorbar": {
              "outlinewidth": 0,
              "ticks": ""
             }
            },
            "type": "parcoords"
           }
          ],
          "pie": [
           {
            "automargin": true,
            "type": "pie"
           }
          ],
          "scatter": [
           {
            "fillpattern": {
             "fillmode": "overlay",
             "size": 10,
             "solidity": 0.2
            },
            "type": "scatter"
           }
          ],
          "scatter3d": [
           {
            "line": {
             "colorbar": {
              "outlinewidth": 0,
              "ticks": ""
             }
            },
            "marker": {
             "colorbar": {
              "outlinewidth": 0,
              "ticks": ""
             }
            },
            "type": "scatter3d"
           }
          ],
          "scattercarpet": [
           {
            "marker": {
             "colorbar": {
              "outlinewidth": 0,
              "ticks": ""
             }
            },
            "type": "scattercarpet"
           }
          ],
          "scattergeo": [
           {
            "marker": {
             "colorbar": {
              "outlinewidth": 0,
              "ticks": ""
             }
            },
            "type": "scattergeo"
           }
          ],
          "scattergl": [
           {
            "marker": {
             "colorbar": {
              "outlinewidth": 0,
              "ticks": ""
             }
            },
            "type": "scattergl"
           }
          ],
          "scattermapbox": [
           {
            "marker": {
             "colorbar": {
              "outlinewidth": 0,
              "ticks": ""
             }
            },
            "type": "scattermapbox"
           }
          ],
          "scatterpolar": [
           {
            "marker": {
             "colorbar": {
              "outlinewidth": 0,
              "ticks": ""
             }
            },
            "type": "scatterpolar"
           }
          ],
          "scatterpolargl": [
           {
            "marker": {
             "colorbar": {
              "outlinewidth": 0,
              "ticks": ""
             }
            },
            "type": "scatterpolargl"
           }
          ],
          "scatterternary": [
           {
            "marker": {
             "colorbar": {
              "outlinewidth": 0,
              "ticks": ""
             }
            },
            "type": "scatterternary"
           }
          ],
          "surface": [
           {
            "colorbar": {
             "outlinewidth": 0,
             "ticks": ""
            },
            "colorscale": [
             [
              0,
              "#0d0887"
             ],
             [
              0.1111111111111111,
              "#46039f"
             ],
             [
              0.2222222222222222,
              "#7201a8"
             ],
             [
              0.3333333333333333,
              "#9c179e"
             ],
             [
              0.4444444444444444,
              "#bd3786"
             ],
             [
              0.5555555555555556,
              "#d8576b"
             ],
             [
              0.6666666666666666,
              "#ed7953"
             ],
             [
              0.7777777777777778,
              "#fb9f3a"
             ],
             [
              0.8888888888888888,
              "#fdca26"
             ],
             [
              1,
              "#f0f921"
             ]
            ],
            "type": "surface"
           }
          ],
          "table": [
           {
            "cells": {
             "fill": {
              "color": "#EBF0F8"
             },
             "line": {
              "color": "white"
             }
            },
            "header": {
             "fill": {
              "color": "#C8D4E3"
             },
             "line": {
              "color": "white"
             }
            },
            "type": "table"
           }
          ]
         },
         "layout": {
          "annotationdefaults": {
           "arrowcolor": "#2a3f5f",
           "arrowhead": 0,
           "arrowwidth": 1
          },
          "autotypenumbers": "strict",
          "coloraxis": {
           "colorbar": {
            "outlinewidth": 0,
            "ticks": ""
           }
          },
          "colorscale": {
           "diverging": [
            [
             0,
             "#8e0152"
            ],
            [
             0.1,
             "#c51b7d"
            ],
            [
             0.2,
             "#de77ae"
            ],
            [
             0.3,
             "#f1b6da"
            ],
            [
             0.4,
             "#fde0ef"
            ],
            [
             0.5,
             "#f7f7f7"
            ],
            [
             0.6,
             "#e6f5d0"
            ],
            [
             0.7,
             "#b8e186"
            ],
            [
             0.8,
             "#7fbc41"
            ],
            [
             0.9,
             "#4d9221"
            ],
            [
             1,
             "#276419"
            ]
           ],
           "sequential": [
            [
             0,
             "#0d0887"
            ],
            [
             0.1111111111111111,
             "#46039f"
            ],
            [
             0.2222222222222222,
             "#7201a8"
            ],
            [
             0.3333333333333333,
             "#9c179e"
            ],
            [
             0.4444444444444444,
             "#bd3786"
            ],
            [
             0.5555555555555556,
             "#d8576b"
            ],
            [
             0.6666666666666666,
             "#ed7953"
            ],
            [
             0.7777777777777778,
             "#fb9f3a"
            ],
            [
             0.8888888888888888,
             "#fdca26"
            ],
            [
             1,
             "#f0f921"
            ]
           ],
           "sequentialminus": [
            [
             0,
             "#0d0887"
            ],
            [
             0.1111111111111111,
             "#46039f"
            ],
            [
             0.2222222222222222,
             "#7201a8"
            ],
            [
             0.3333333333333333,
             "#9c179e"
            ],
            [
             0.4444444444444444,
             "#bd3786"
            ],
            [
             0.5555555555555556,
             "#d8576b"
            ],
            [
             0.6666666666666666,
             "#ed7953"
            ],
            [
             0.7777777777777778,
             "#fb9f3a"
            ],
            [
             0.8888888888888888,
             "#fdca26"
            ],
            [
             1,
             "#f0f921"
            ]
           ]
          },
          "colorway": [
           "#636efa",
           "#EF553B",
           "#00cc96",
           "#ab63fa",
           "#FFA15A",
           "#19d3f3",
           "#FF6692",
           "#B6E880",
           "#FF97FF",
           "#FECB52"
          ],
          "font": {
           "color": "#2a3f5f"
          },
          "geo": {
           "bgcolor": "white",
           "lakecolor": "white",
           "landcolor": "#E5ECF6",
           "showlakes": true,
           "showland": true,
           "subunitcolor": "white"
          },
          "hoverlabel": {
           "align": "left"
          },
          "hovermode": "closest",
          "mapbox": {
           "style": "light"
          },
          "paper_bgcolor": "white",
          "plot_bgcolor": "#E5ECF6",
          "polar": {
           "angularaxis": {
            "gridcolor": "white",
            "linecolor": "white",
            "ticks": ""
           },
           "bgcolor": "#E5ECF6",
           "radialaxis": {
            "gridcolor": "white",
            "linecolor": "white",
            "ticks": ""
           }
          },
          "scene": {
           "xaxis": {
            "backgroundcolor": "#E5ECF6",
            "gridcolor": "white",
            "gridwidth": 2,
            "linecolor": "white",
            "showbackground": true,
            "ticks": "",
            "zerolinecolor": "white"
           },
           "yaxis": {
            "backgroundcolor": "#E5ECF6",
            "gridcolor": "white",
            "gridwidth": 2,
            "linecolor": "white",
            "showbackground": true,
            "ticks": "",
            "zerolinecolor": "white"
           },
           "zaxis": {
            "backgroundcolor": "#E5ECF6",
            "gridcolor": "white",
            "gridwidth": 2,
            "linecolor": "white",
            "showbackground": true,
            "ticks": "",
            "zerolinecolor": "white"
           }
          },
          "shapedefaults": {
           "line": {
            "color": "#2a3f5f"
           }
          },
          "ternary": {
           "aaxis": {
            "gridcolor": "white",
            "linecolor": "white",
            "ticks": ""
           },
           "baxis": {
            "gridcolor": "white",
            "linecolor": "white",
            "ticks": ""
           },
           "bgcolor": "#E5ECF6",
           "caxis": {
            "gridcolor": "white",
            "linecolor": "white",
            "ticks": ""
           }
          },
          "title": {
           "x": 0.05
          },
          "xaxis": {
           "automargin": true,
           "gridcolor": "white",
           "linecolor": "white",
           "ticks": "",
           "title": {
            "standoff": 15
           },
           "zerolinecolor": "white",
           "zerolinewidth": 2
          },
          "yaxis": {
           "automargin": true,
           "gridcolor": "white",
           "linecolor": "white",
           "ticks": "",
           "title": {
            "standoff": 15
           },
           "zerolinecolor": "white",
           "zerolinewidth": 2
          }
         }
        },
        "title": {
         "text": "Scatter Plot Sweetness vs Average diameter with target column comparison"
        },
        "xaxis": {
         "anchor": "y",
         "domain": [
          0,
          1
         ],
         "title": {
          "text": "Sweetness"
         }
        },
        "yaxis": {
         "anchor": "x",
         "domain": [
          0,
          1
         ],
         "title": {
          "text": "Average diameter"
         }
        }
       }
      }
     },
     "metadata": {},
     "output_type": "display_data"
    }
   ],
   "source": [
    "# Scatter plot among ['Weight', 'Average diameter', 'Average length', 'Peel hardness', 'Sweetness']\n",
    "# and comparison with TARGET 'Fruit' \n",
    "\n",
    "feature_x = 'Sweetness'\n",
    "feature_y = 'Average diameter'\n",
    "\n",
    "scatter_plot(df_standard_transformed, feature_x, feature_y, target='Fruit')"
   ]
  },
  {
   "cell_type": "markdown",
   "metadata": {},
   "source": [
    "##  K-Nearest Neighbors (KNN) implementation"
   ]
  },
  {
   "cell_type": "markdown",
   "metadata": {},
   "source": [
    "## Results"
   ]
  },
  {
   "cell_type": "markdown",
   "metadata": {},
   "source": [
    "## [EXTRA] Machine Learning Models implementation"
   ]
  }
 ],
 "metadata": {
  "kernelspec": {
   "display_name": "Python 3",
   "language": "python",
   "name": "python3"
  },
  "language_info": {
   "codemirror_mode": {
    "name": "ipython",
    "version": 3
   },
   "file_extension": ".py",
   "mimetype": "text/x-python",
   "name": "python",
   "nbconvert_exporter": "python",
   "pygments_lexer": "ipython3",
   "version": "3.11.9"
  }
 },
 "nbformat": 4,
 "nbformat_minor": 2
}

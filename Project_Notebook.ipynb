{
 "cells": [
  {
   "cell_type": "markdown",
   "metadata": {},
   "source": [
    "# EXOTIC FRUIT CLASSIFICATION \n",
    "*Fourth Master AI Engineering project*"
   ]
  },
  {
   "cell_type": "markdown",
   "metadata": {},
   "source": [
    "## Import Libraries and Dataset\n",
    "\n",
    "* The Python packages I used in this projects are in requirements.txt file\n",
    "* Dataset is stored in the 'Data' folder\n",
    "* I renamed the columns for two reasons:\n",
    "    - I need to translate Italian column names into English ones\n",
    "    - I didn't want measurement units and ranges in the column names"
   ]
  },
  {
   "cell_type": "code",
   "execution_count": 2,
   "metadata": {},
   "outputs": [],
   "source": [
    "# Import libraries\n",
    "\n",
    "import pandas as pd\n",
    "import numpy as np\n",
    "from matplotlib import pyplot as plt\n",
    "import seaborn as sns\n",
    "import plotly.express as px\n",
    "\n",
    "from src.preprocessing_and_viz import handle_duplicates"
   ]
  },
  {
   "cell_type": "code",
   "execution_count": 3,
   "metadata": {},
   "outputs": [
    {
     "data": {
      "text/html": [
       "<div>\n",
       "<style scoped>\n",
       "    .dataframe tbody tr th:only-of-type {\n",
       "        vertical-align: middle;\n",
       "    }\n",
       "\n",
       "    .dataframe tbody tr th {\n",
       "        vertical-align: top;\n",
       "    }\n",
       "\n",
       "    .dataframe thead th {\n",
       "        text-align: right;\n",
       "    }\n",
       "</style>\n",
       "<table border=\"1\" class=\"dataframe\">\n",
       "  <thead>\n",
       "    <tr style=\"text-align: right;\">\n",
       "      <th></th>\n",
       "      <th>Frutto</th>\n",
       "      <th>Peso (g)</th>\n",
       "      <th>Diametro medio (mm)</th>\n",
       "      <th>Lunghezza media (mm)</th>\n",
       "      <th>Durezza buccia (1-10)</th>\n",
       "      <th>Dolcezza (1-10)</th>\n",
       "    </tr>\n",
       "  </thead>\n",
       "  <tbody>\n",
       "    <tr>\n",
       "      <th>0</th>\n",
       "      <td>Mela</td>\n",
       "      <td>86.40</td>\n",
       "      <td>89.68</td>\n",
       "      <td>8.69</td>\n",
       "      <td>9.61</td>\n",
       "      <td>2.41</td>\n",
       "    </tr>\n",
       "    <tr>\n",
       "      <th>1</th>\n",
       "      <td>Mela</td>\n",
       "      <td>77.58</td>\n",
       "      <td>73.45</td>\n",
       "      <td>6.49</td>\n",
       "      <td>7.20</td>\n",
       "      <td>3.87</td>\n",
       "    </tr>\n",
       "    <tr>\n",
       "      <th>2</th>\n",
       "      <td>Mela</td>\n",
       "      <td>81.95</td>\n",
       "      <td>81.66</td>\n",
       "      <td>6.40</td>\n",
       "      <td>9.09</td>\n",
       "      <td>2.88</td>\n",
       "    </tr>\n",
       "    <tr>\n",
       "      <th>3</th>\n",
       "      <td>Mela</td>\n",
       "      <td>66.33</td>\n",
       "      <td>36.71</td>\n",
       "      <td>6.78</td>\n",
       "      <td>8.21</td>\n",
       "      <td>2.55</td>\n",
       "    </tr>\n",
       "    <tr>\n",
       "      <th>4</th>\n",
       "      <td>Mela</td>\n",
       "      <td>56.73</td>\n",
       "      <td>75.69</td>\n",
       "      <td>5.78</td>\n",
       "      <td>9.15</td>\n",
       "      <td>3.88</td>\n",
       "    </tr>\n",
       "  </tbody>\n",
       "</table>\n",
       "</div>"
      ],
      "text/plain": [
       "  Frutto  Peso (g)  Diametro medio (mm)  Lunghezza media (mm)  \\\n",
       "0   Mela     86.40                89.68                  8.69   \n",
       "1   Mela     77.58                73.45                  6.49   \n",
       "2   Mela     81.95                81.66                  6.40   \n",
       "3   Mela     66.33                36.71                  6.78   \n",
       "4   Mela     56.73                75.69                  5.78   \n",
       "\n",
       "   Durezza buccia (1-10)  Dolcezza (1-10)  \n",
       "0                   9.61             2.41  \n",
       "1                   7.20             3.87  \n",
       "2                   9.09             2.88  \n",
       "3                   8.21             2.55  \n",
       "4                   9.15             3.88  "
      ]
     },
     "execution_count": 3,
     "metadata": {},
     "output_type": "execute_result"
    }
   ],
   "source": [
    "# Import Dataset\n",
    "\n",
    "df = pd.read_csv(\"Data/Fruits_Dataset.csv\")\n",
    "\n",
    "df.head()"
   ]
  },
  {
   "cell_type": "code",
   "execution_count": 4,
   "metadata": {},
   "outputs": [
    {
     "data": {
      "text/plain": [
       "Index(['Fruit', 'Weight', 'Average diameter', 'Average length',\n",
       "       'Peel hardness', 'Sweetness'],\n",
       "      dtype='object')"
      ]
     },
     "execution_count": 4,
     "metadata": {},
     "output_type": "execute_result"
    }
   ],
   "source": [
    "# Renaming columns\n",
    "\n",
    "new_columns = [\n",
    "    'Fruit',\n",
    "    'Weight',\n",
    "    'Average diameter',\n",
    "    'Average length',\n",
    "    'Peel hardness',\n",
    "    'Sweetness',\n",
    "]\n",
    "\n",
    "df.columns = new_columns\n",
    "\n",
    "df.columns"
   ]
  },
  {
   "cell_type": "markdown",
   "metadata": {},
   "source": [
    "## Statistics Information\n",
    "\n",
    "Useful information I got:\n",
    "* Shape: (500,6)\n",
    "* `Fruit` is the target column. There are 5 options: Apple, Banana, Orange, Grape, Kiwi\n",
    "* 5 numerical features with continous values (float64)\n",
    "* Statistics:\n",
    "    - mean values and ranges are one order of magnitude different, I will implement normalization/standardization\n",
    "    - it seems there are no missing values "
   ]
  },
  {
   "cell_type": "code",
   "execution_count": 7,
   "metadata": {},
   "outputs": [
    {
     "name": "stdout",
     "output_type": "stream",
     "text": [
      "<class 'pandas.core.frame.DataFrame'>\n",
      "RangeIndex: 500 entries, 0 to 499\n",
      "Data columns (total 6 columns):\n",
      " #   Column            Non-Null Count  Dtype  \n",
      "---  ------            --------------  -----  \n",
      " 0   Fruit             500 non-null    object \n",
      " 1   Weight            500 non-null    float64\n",
      " 2   Average diameter  500 non-null    float64\n",
      " 3   Average length    500 non-null    float64\n",
      " 4   Peel hardness     500 non-null    float64\n",
      " 5   Sweetness         500 non-null    float64\n",
      "dtypes: float64(5), object(1)\n",
      "memory usage: 23.6+ KB\n"
     ]
    }
   ],
   "source": [
    "# Shape and Info\n",
    "\n",
    "df.info()"
   ]
  },
  {
   "cell_type": "code",
   "execution_count": 8,
   "metadata": {},
   "outputs": [
    {
     "data": {
      "text/html": [
       "<div>\n",
       "<style scoped>\n",
       "    .dataframe tbody tr th:only-of-type {\n",
       "        vertical-align: middle;\n",
       "    }\n",
       "\n",
       "    .dataframe tbody tr th {\n",
       "        vertical-align: top;\n",
       "    }\n",
       "\n",
       "    .dataframe thead th {\n",
       "        text-align: right;\n",
       "    }\n",
       "</style>\n",
       "<table border=\"1\" class=\"dataframe\">\n",
       "  <thead>\n",
       "    <tr style=\"text-align: right;\">\n",
       "      <th></th>\n",
       "      <th>Weight</th>\n",
       "      <th>Average diameter</th>\n",
       "      <th>Average length</th>\n",
       "      <th>Peel hardness</th>\n",
       "      <th>Sweetness</th>\n",
       "    </tr>\n",
       "  </thead>\n",
       "  <tbody>\n",
       "    <tr>\n",
       "      <th>count</th>\n",
       "      <td>500.000000</td>\n",
       "      <td>500.000000</td>\n",
       "      <td>500.000000</td>\n",
       "      <td>500.000000</td>\n",
       "      <td>500.000000</td>\n",
       "    </tr>\n",
       "    <tr>\n",
       "      <th>mean</th>\n",
       "      <td>47.313440</td>\n",
       "      <td>86.573100</td>\n",
       "      <td>5.298620</td>\n",
       "      <td>7.437640</td>\n",
       "      <td>3.593220</td>\n",
       "    </tr>\n",
       "    <tr>\n",
       "      <th>std</th>\n",
       "      <td>26.768797</td>\n",
       "      <td>64.293403</td>\n",
       "      <td>2.641993</td>\n",
       "      <td>1.812548</td>\n",
       "      <td>1.264899</td>\n",
       "    </tr>\n",
       "    <tr>\n",
       "      <th>min</th>\n",
       "      <td>8.570000</td>\n",
       "      <td>7.530000</td>\n",
       "      <td>1.150000</td>\n",
       "      <td>3.070000</td>\n",
       "      <td>1.250000</td>\n",
       "    </tr>\n",
       "    <tr>\n",
       "      <th>25%</th>\n",
       "      <td>24.797500</td>\n",
       "      <td>50.510000</td>\n",
       "      <td>2.672500</td>\n",
       "      <td>6.152500</td>\n",
       "      <td>2.570000</td>\n",
       "    </tr>\n",
       "    <tr>\n",
       "      <th>50%</th>\n",
       "      <td>42.380000</td>\n",
       "      <td>70.450000</td>\n",
       "      <td>5.670000</td>\n",
       "      <td>7.340000</td>\n",
       "      <td>3.535000</td>\n",
       "    </tr>\n",
       "    <tr>\n",
       "      <th>75%</th>\n",
       "      <td>68.080000</td>\n",
       "      <td>88.852500</td>\n",
       "      <td>7.455000</td>\n",
       "      <td>8.615000</td>\n",
       "      <td>4.465000</td>\n",
       "    </tr>\n",
       "    <tr>\n",
       "      <th>max</th>\n",
       "      <td>111.210000</td>\n",
       "      <td>299.890000</td>\n",
       "      <td>11.140000</td>\n",
       "      <td>13.720000</td>\n",
       "      <td>6.950000</td>\n",
       "    </tr>\n",
       "  </tbody>\n",
       "</table>\n",
       "</div>"
      ],
      "text/plain": [
       "           Weight  Average diameter  Average length  Peel hardness   Sweetness\n",
       "count  500.000000        500.000000      500.000000     500.000000  500.000000\n",
       "mean    47.313440         86.573100        5.298620       7.437640    3.593220\n",
       "std     26.768797         64.293403        2.641993       1.812548    1.264899\n",
       "min      8.570000          7.530000        1.150000       3.070000    1.250000\n",
       "25%     24.797500         50.510000        2.672500       6.152500    2.570000\n",
       "50%     42.380000         70.450000        5.670000       7.340000    3.535000\n",
       "75%     68.080000         88.852500        7.455000       8.615000    4.465000\n",
       "max    111.210000        299.890000       11.140000      13.720000    6.950000"
      ]
     },
     "execution_count": 8,
     "metadata": {},
     "output_type": "execute_result"
    }
   ],
   "source": [
    "# Statistics\n",
    "\n",
    "df.describe()"
   ]
  },
  {
   "cell_type": "code",
   "execution_count": 5,
   "metadata": {},
   "outputs": [
    {
     "data": {
      "text/plain": [
       "Fruit\n",
       "Apple     100\n",
       "Banana    100\n",
       "Orange    100\n",
       "Grape     100\n",
       "Kiwi      100\n",
       "Name: count, dtype: int64"
      ]
     },
     "execution_count": 5,
     "metadata": {},
     "output_type": "execute_result"
    }
   ],
   "source": [
    "# Rename Target values and see how they are distributed\n",
    "\n",
    "target_value_names = {\n",
    "    'Mela' : 'Apple',\n",
    "    'Banana' : 'Banana',\n",
    "    'Arancia' : 'Orange',\n",
    "    'Uva' : 'Grape',\n",
    "    'Kiwi' : 'Kiwi'\n",
    "}\n",
    "\n",
    "df['Fruit'] = df['Fruit'].map(lambda x: target_value_names[x])\n",
    "\n",
    "df['Fruit'].value_counts()"
   ]
  },
  {
   "cell_type": "markdown",
   "metadata": {},
   "source": [
    "## Preprocessing\n",
    "\n",
    "* No duplicates in the dataset. Shape is still (500,6)\n",
    "* No missing values in the dataset."
   ]
  },
  {
   "cell_type": "code",
   "execution_count": 7,
   "metadata": {},
   "outputs": [
    {
     "name": "stdout",
     "output_type": "stream",
     "text": [
      "No duplicates found!\n"
     ]
    }
   ],
   "source": [
    "# Check for duplicates\n",
    "\n",
    "df_cleaned = handle_duplicates(df)"
   ]
  },
  {
   "cell_type": "code",
   "execution_count": 8,
   "metadata": {},
   "outputs": [
    {
     "data": {
      "text/plain": [
       "Fruit               0\n",
       "Weight              0\n",
       "Average diameter    0\n",
       "Average length      0\n",
       "Peel hardness       0\n",
       "Sweetness           0\n",
       "dtype: int64"
      ]
     },
     "execution_count": 8,
     "metadata": {},
     "output_type": "execute_result"
    }
   ],
   "source": [
    "# Check for missing values\n",
    "\n",
    "df_cleaned.isna().sum()"
   ]
  },
  {
   "cell_type": "markdown",
   "metadata": {},
   "source": [
    "## Data Visualization"
   ]
  },
  {
   "cell_type": "code",
   "execution_count": null,
   "metadata": {},
   "outputs": [],
   "source": []
  },
  {
   "cell_type": "markdown",
   "metadata": {},
   "source": [
    "## Feature Engineering "
   ]
  },
  {
   "cell_type": "markdown",
   "metadata": {},
   "source": [
    "##  K-Nearest Neighbors (KNN) implementation"
   ]
  },
  {
   "cell_type": "markdown",
   "metadata": {},
   "source": [
    "## Results"
   ]
  },
  {
   "cell_type": "markdown",
   "metadata": {},
   "source": [
    "## [EXTRA] Machine Learning Models implementation"
   ]
  }
 ],
 "metadata": {
  "kernelspec": {
   "display_name": "Python 3",
   "language": "python",
   "name": "python3"
  },
  "language_info": {
   "codemirror_mode": {
    "name": "ipython",
    "version": 3
   },
   "file_extension": ".py",
   "mimetype": "text/x-python",
   "name": "python",
   "nbconvert_exporter": "python",
   "pygments_lexer": "ipython3",
   "version": "3.11.9"
  }
 },
 "nbformat": 4,
 "nbformat_minor": 2
}

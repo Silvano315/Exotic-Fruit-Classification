{
 "cells": [
  {
   "cell_type": "markdown",
   "metadata": {},
   "source": [
    "# EXOTIC FRUIT CLASSIFICATION \n",
    "*Fourth Master AI Engineering project*"
   ]
  },
  {
   "cell_type": "markdown",
   "metadata": {},
   "source": [
    "## Import Libraries and Dataset\n",
    "\n",
    "* The Python packages I used in this projects are in requirements.txt file\n",
    "* Dataset is stored in the 'Data' folder\n",
    "* I renamed the columns for two reasons:\n",
    "    - I need to translate Italian column names into English ones\n",
    "    - I didn't want measurement units and ranges in the column names"
   ]
  },
  {
   "cell_type": "code",
   "execution_count": 1,
   "metadata": {},
   "outputs": [],
   "source": [
    "# Import libraries\n",
    "\n",
    "from pandas import read_csv\n",
    "from numpy import arange\n",
    "from pygwalker import walk\n",
    "\n",
    "from src.preprocessing_and_viz import handle_duplicates, histogram_for_single_feature, scatter_plot, kde_for_single_feature, feature_scaling\n",
    "from src.ml_functions import data_split, knn_optimization, viz_grid_search_res, evaluate_model, evaluate_knn_neighbors, plot_cv_results \n",
    "from src.ml_functions import cross_validation_model, plot_line_accuracy_log_loss, plot_bar_metrics, plot_violin_metric"
   ]
  },
  {
   "cell_type": "code",
   "execution_count": 2,
   "metadata": {},
   "outputs": [
    {
     "data": {
      "text/html": [
       "<div>\n",
       "<style scoped>\n",
       "    .dataframe tbody tr th:only-of-type {\n",
       "        vertical-align: middle;\n",
       "    }\n",
       "\n",
       "    .dataframe tbody tr th {\n",
       "        vertical-align: top;\n",
       "    }\n",
       "\n",
       "    .dataframe thead th {\n",
       "        text-align: right;\n",
       "    }\n",
       "</style>\n",
       "<table border=\"1\" class=\"dataframe\">\n",
       "  <thead>\n",
       "    <tr style=\"text-align: right;\">\n",
       "      <th></th>\n",
       "      <th>Frutto</th>\n",
       "      <th>Peso (g)</th>\n",
       "      <th>Diametro medio (mm)</th>\n",
       "      <th>Lunghezza media (mm)</th>\n",
       "      <th>Durezza buccia (1-10)</th>\n",
       "      <th>Dolcezza (1-10)</th>\n",
       "    </tr>\n",
       "  </thead>\n",
       "  <tbody>\n",
       "    <tr>\n",
       "      <th>0</th>\n",
       "      <td>Mela</td>\n",
       "      <td>86.40</td>\n",
       "      <td>89.68</td>\n",
       "      <td>8.69</td>\n",
       "      <td>9.61</td>\n",
       "      <td>2.41</td>\n",
       "    </tr>\n",
       "    <tr>\n",
       "      <th>1</th>\n",
       "      <td>Mela</td>\n",
       "      <td>77.58</td>\n",
       "      <td>73.45</td>\n",
       "      <td>6.49</td>\n",
       "      <td>7.20</td>\n",
       "      <td>3.87</td>\n",
       "    </tr>\n",
       "    <tr>\n",
       "      <th>2</th>\n",
       "      <td>Mela</td>\n",
       "      <td>81.95</td>\n",
       "      <td>81.66</td>\n",
       "      <td>6.40</td>\n",
       "      <td>9.09</td>\n",
       "      <td>2.88</td>\n",
       "    </tr>\n",
       "    <tr>\n",
       "      <th>3</th>\n",
       "      <td>Mela</td>\n",
       "      <td>66.33</td>\n",
       "      <td>36.71</td>\n",
       "      <td>6.78</td>\n",
       "      <td>8.21</td>\n",
       "      <td>2.55</td>\n",
       "    </tr>\n",
       "    <tr>\n",
       "      <th>4</th>\n",
       "      <td>Mela</td>\n",
       "      <td>56.73</td>\n",
       "      <td>75.69</td>\n",
       "      <td>5.78</td>\n",
       "      <td>9.15</td>\n",
       "      <td>3.88</td>\n",
       "    </tr>\n",
       "  </tbody>\n",
       "</table>\n",
       "</div>"
      ],
      "text/plain": [
       "  Frutto  Peso (g)  Diametro medio (mm)  Lunghezza media (mm)  \\\n",
       "0   Mela     86.40                89.68                  8.69   \n",
       "1   Mela     77.58                73.45                  6.49   \n",
       "2   Mela     81.95                81.66                  6.40   \n",
       "3   Mela     66.33                36.71                  6.78   \n",
       "4   Mela     56.73                75.69                  5.78   \n",
       "\n",
       "   Durezza buccia (1-10)  Dolcezza (1-10)  \n",
       "0                   9.61             2.41  \n",
       "1                   7.20             3.87  \n",
       "2                   9.09             2.88  \n",
       "3                   8.21             2.55  \n",
       "4                   9.15             3.88  "
      ]
     },
     "execution_count": 2,
     "metadata": {},
     "output_type": "execute_result"
    }
   ],
   "source": [
    "# Import Dataset\n",
    "\n",
    "df = read_csv(\"Data/Fruits_Dataset.csv\")\n",
    "\n",
    "df.head()"
   ]
  },
  {
   "cell_type": "code",
   "execution_count": 3,
   "metadata": {},
   "outputs": [
    {
     "data": {
      "text/plain": [
       "Index(['Fruit', 'Weight', 'Average diameter', 'Average length',\n",
       "       'Peel hardness', 'Sweetness'],\n",
       "      dtype='object')"
      ]
     },
     "execution_count": 3,
     "metadata": {},
     "output_type": "execute_result"
    }
   ],
   "source": [
    "# Renaming columns\n",
    "\n",
    "new_columns = [\n",
    "    'Fruit',\n",
    "    'Weight',\n",
    "    'Average diameter',\n",
    "    'Average length',\n",
    "    'Peel hardness',\n",
    "    'Sweetness',\n",
    "]\n",
    "\n",
    "df.columns = new_columns\n",
    "\n",
    "df.columns"
   ]
  },
  {
   "cell_type": "markdown",
   "metadata": {},
   "source": [
    "## Statistics Information\n",
    "\n",
    "Useful information I got:\n",
    "* Shape: (500,6)\n",
    "* `Fruit` is the target column. There are 5 options: Apple, Banana, Orange, Grape, Kiwi\n",
    "* 5 numerical features with continous values (float64)\n",
    "* Statistics:\n",
    "    - mean values and ranges are one order of magnitude different, I will implement normalization/standardization\n",
    "    - Maximum value for Peel hardness should have been 10, but it's clearly higher (13.72). Strange!\n",
    "    - it seems there are no missing values "
   ]
  },
  {
   "cell_type": "code",
   "execution_count": 4,
   "metadata": {},
   "outputs": [
    {
     "name": "stdout",
     "output_type": "stream",
     "text": [
      "<class 'pandas.core.frame.DataFrame'>\n",
      "RangeIndex: 500 entries, 0 to 499\n",
      "Data columns (total 6 columns):\n",
      " #   Column            Non-Null Count  Dtype  \n",
      "---  ------            --------------  -----  \n",
      " 0   Fruit             500 non-null    object \n",
      " 1   Weight            500 non-null    float64\n",
      " 2   Average diameter  500 non-null    float64\n",
      " 3   Average length    500 non-null    float64\n",
      " 4   Peel hardness     500 non-null    float64\n",
      " 5   Sweetness         500 non-null    float64\n",
      "dtypes: float64(5), object(1)\n",
      "memory usage: 23.6+ KB\n"
     ]
    }
   ],
   "source": [
    "# Shape and Info\n",
    "\n",
    "df.info()"
   ]
  },
  {
   "cell_type": "code",
   "execution_count": 5,
   "metadata": {},
   "outputs": [
    {
     "data": {
      "text/html": [
       "<div>\n",
       "<style scoped>\n",
       "    .dataframe tbody tr th:only-of-type {\n",
       "        vertical-align: middle;\n",
       "    }\n",
       "\n",
       "    .dataframe tbody tr th {\n",
       "        vertical-align: top;\n",
       "    }\n",
       "\n",
       "    .dataframe thead th {\n",
       "        text-align: right;\n",
       "    }\n",
       "</style>\n",
       "<table border=\"1\" class=\"dataframe\">\n",
       "  <thead>\n",
       "    <tr style=\"text-align: right;\">\n",
       "      <th></th>\n",
       "      <th>Weight</th>\n",
       "      <th>Average diameter</th>\n",
       "      <th>Average length</th>\n",
       "      <th>Peel hardness</th>\n",
       "      <th>Sweetness</th>\n",
       "    </tr>\n",
       "  </thead>\n",
       "  <tbody>\n",
       "    <tr>\n",
       "      <th>count</th>\n",
       "      <td>500.000000</td>\n",
       "      <td>500.000000</td>\n",
       "      <td>500.000000</td>\n",
       "      <td>500.000000</td>\n",
       "      <td>500.000000</td>\n",
       "    </tr>\n",
       "    <tr>\n",
       "      <th>mean</th>\n",
       "      <td>47.313440</td>\n",
       "      <td>86.573100</td>\n",
       "      <td>5.298620</td>\n",
       "      <td>7.437640</td>\n",
       "      <td>3.593220</td>\n",
       "    </tr>\n",
       "    <tr>\n",
       "      <th>std</th>\n",
       "      <td>26.768797</td>\n",
       "      <td>64.293403</td>\n",
       "      <td>2.641993</td>\n",
       "      <td>1.812548</td>\n",
       "      <td>1.264899</td>\n",
       "    </tr>\n",
       "    <tr>\n",
       "      <th>min</th>\n",
       "      <td>8.570000</td>\n",
       "      <td>7.530000</td>\n",
       "      <td>1.150000</td>\n",
       "      <td>3.070000</td>\n",
       "      <td>1.250000</td>\n",
       "    </tr>\n",
       "    <tr>\n",
       "      <th>25%</th>\n",
       "      <td>24.797500</td>\n",
       "      <td>50.510000</td>\n",
       "      <td>2.672500</td>\n",
       "      <td>6.152500</td>\n",
       "      <td>2.570000</td>\n",
       "    </tr>\n",
       "    <tr>\n",
       "      <th>50%</th>\n",
       "      <td>42.380000</td>\n",
       "      <td>70.450000</td>\n",
       "      <td>5.670000</td>\n",
       "      <td>7.340000</td>\n",
       "      <td>3.535000</td>\n",
       "    </tr>\n",
       "    <tr>\n",
       "      <th>75%</th>\n",
       "      <td>68.080000</td>\n",
       "      <td>88.852500</td>\n",
       "      <td>7.455000</td>\n",
       "      <td>8.615000</td>\n",
       "      <td>4.465000</td>\n",
       "    </tr>\n",
       "    <tr>\n",
       "      <th>max</th>\n",
       "      <td>111.210000</td>\n",
       "      <td>299.890000</td>\n",
       "      <td>11.140000</td>\n",
       "      <td>13.720000</td>\n",
       "      <td>6.950000</td>\n",
       "    </tr>\n",
       "  </tbody>\n",
       "</table>\n",
       "</div>"
      ],
      "text/plain": [
       "           Weight  Average diameter  Average length  Peel hardness   Sweetness\n",
       "count  500.000000        500.000000      500.000000     500.000000  500.000000\n",
       "mean    47.313440         86.573100        5.298620       7.437640    3.593220\n",
       "std     26.768797         64.293403        2.641993       1.812548    1.264899\n",
       "min      8.570000          7.530000        1.150000       3.070000    1.250000\n",
       "25%     24.797500         50.510000        2.672500       6.152500    2.570000\n",
       "50%     42.380000         70.450000        5.670000       7.340000    3.535000\n",
       "75%     68.080000         88.852500        7.455000       8.615000    4.465000\n",
       "max    111.210000        299.890000       11.140000      13.720000    6.950000"
      ]
     },
     "execution_count": 5,
     "metadata": {},
     "output_type": "execute_result"
    }
   ],
   "source": [
    "# Statistics\n",
    "\n",
    "df.describe()"
   ]
  },
  {
   "cell_type": "code",
   "execution_count": 6,
   "metadata": {},
   "outputs": [
    {
     "data": {
      "text/plain": [
       "Fruit\n",
       "Apple     100\n",
       "Banana    100\n",
       "Grape     100\n",
       "Kiwi      100\n",
       "Orange    100\n",
       "Name: count, dtype: int64"
      ]
     },
     "execution_count": 6,
     "metadata": {},
     "output_type": "execute_result"
    }
   ],
   "source": [
    "# Rename Target values and see how they are distributed\n",
    "\n",
    "target_value_names = {\n",
    "    'Mela' : 'Apple',\n",
    "    'Banana' : 'Banana',\n",
    "    'Arancia' : 'Orange',\n",
    "    'Uva' : 'Grape',\n",
    "    'Kiwi' : 'Kiwi'\n",
    "}\n",
    "\n",
    "df['Fruit'] = df['Fruit'].map(lambda x: target_value_names[x])\n",
    "\n",
    "df['Fruit'] = df['Fruit'].astype('category')\n",
    "\n",
    "df['Fruit'].value_counts()"
   ]
  },
  {
   "cell_type": "markdown",
   "metadata": {},
   "source": [
    "## Preprocessing\n",
    "\n",
    "* No duplicates in the dataset. Shape is still (500,6)\n",
    "* No missing values in the dataset."
   ]
  },
  {
   "cell_type": "code",
   "execution_count": 9,
   "metadata": {},
   "outputs": [
    {
     "name": "stdout",
     "output_type": "stream",
     "text": [
      "No duplicates found!\n"
     ]
    }
   ],
   "source": [
    "# Check for duplicates\n",
    "\n",
    "df_cleaned = handle_duplicates(df)"
   ]
  },
  {
   "cell_type": "code",
   "execution_count": 10,
   "metadata": {},
   "outputs": [
    {
     "data": {
      "text/plain": [
       "Fruit               0\n",
       "Weight              0\n",
       "Average diameter    0\n",
       "Average length      0\n",
       "Peel hardness       0\n",
       "Sweetness           0\n",
       "dtype: int64"
      ]
     },
     "execution_count": 10,
     "metadata": {},
     "output_type": "execute_result"
    }
   ],
   "source": [
    "# Check for missing values\n",
    "\n",
    "df_cleaned.isna().sum()"
   ]
  },
  {
   "cell_type": "markdown",
   "metadata": {},
   "source": [
    "## Data Visualization\n",
    "\n",
    "Feature distribution without comparison with target column:\n",
    "* Weight: as expected, it is a negatively skewed distribution with high max value (111.21)\n",
    "* Average diameter: it is clear we have smaller fruits, so distribution is negatively skewed, with higher values come from Banana target\n",
    "* Average length: its distribution has two peaks, sign of fruits with well separated lengths\n",
    "* Peel hardness: has a almost normal distribution with a couple of possible outliers, median and mean are quite the same\n",
    "* Sweetness: has a almost normal distribution, median and mean are quite the same\n",
    "\n",
    "Feature distribution and scatter plot and comparison with target column:\n",
    "* Weight, Average diameter, Average length: each fruit follows distributions that were expected, interesting how Apple, Orange and Kiwi have almost the same distribution for Average diameter\n",
    "* Peel hardness: each fruit seems to follow a normal distribution\n",
    "* Sweetness: Orange, Grape and Kiwi reach higher values, as expected\n",
    "\n",
    "Scatter plot to see how features are distributed according to target column:\n",
    "* Weight vs Average diameter: it is possible to clearly see two clusters for Banana and Grape. Maybe, Apple, Orange and Kiwi will be more difficult to classify\n",
    "* Average length vs Average diameter: this plot emphasizes what said before \n",
    "* Peel hardness vs Weight: lighter fruits have higher Peel hardness values\n",
    "* Sweetness vs Average diameter: smaller fruits have higher Sweetness values\n",
    "* Peel hardness vs Sweetness: Banana has lowest Sweetness values and well distributed Peel hardness values. Orange, instead, had higher Sweetness values and lowest Peel hardness values"
   ]
  },
  {
   "cell_type": "code",
   "execution_count": 11,
   "metadata": {},
   "outputs": [
    {
     "data": {
      "application/vnd.plotly.v1+json": {
       "config": {
        "plotlyServerURL": "https://plot.ly"
       },
       "data": [
        {
         "alignmentgroup": "True",
         "bingroup": "x",
         "hovertemplate": "Weight=%{x}<br>count=%{y}<extra></extra>",
         "legendgroup": "",
         "marker": {
          "color": "#636efa",
          "pattern": {
           "shape": ""
          }
         },
         "name": "",
         "offsetgroup": "",
         "orientation": "v",
         "showlegend": false,
         "type": "histogram",
         "x": [
          86.4,
          77.58,
          81.95,
          66.33,
          56.73,
          86.05,
          99.24,
          111.21,
          76.6,
          86.85,
          74.25,
          87.4,
          60.24,
          80.9,
          110.33,
          99.56,
          108.57,
          95.51,
          103.69,
          92.84,
          62.41,
          109.59,
          80.51,
          62.51,
          95.11,
          107.41,
          62.72,
          81.4,
          85.07,
          90.91,
          58,
          80.83,
          61.31,
          101.38,
          54.13,
          85.08,
          86.07,
          87.7,
          76.19,
          92.5,
          73.64,
          97.27,
          74.89,
          89.77,
          83.02,
          35.64,
          78.14,
          104.58,
          100.83,
          98.19,
          106.53,
          58.45,
          68.31,
          78.28,
          75,
          60.98,
          87.21,
          60.57,
          85.59,
          71.66,
          80.06,
          73.68,
          76.01,
          94.08,
          53.49,
          76.44,
          98.26,
          85.7,
          67.08,
          90.95,
          89.32,
          36.17,
          84.43,
          81.25,
          78.16,
          93.12,
          44.78,
          82.9,
          84.02,
          95.91,
          96.47,
          88.85,
          100.77,
          78.75,
          70.7,
          102,
          96.77,
          65.78,
          93.82,
          70.63,
          60.66,
          39.05,
          75.72,
          67.81,
          83.14,
          50.72,
          62.11,
          92.56,
          31.26,
          86.07,
          32.5,
          20.04,
          35.37,
          20.96,
          22.64,
          29.3,
          31.51,
          24.02,
          39.31,
          32.7,
          22.42,
          36.48,
          24.52,
          32.38,
          12.99,
          35.7,
          25.23,
          36.57,
          31.27,
          29.39,
          26.94,
          37.46,
          23.69,
          24.07,
          33.33,
          20.03,
          25.75,
          30.15,
          28.72,
          19.25,
          33.13,
          32.54,
          37.87,
          25.02,
          32.43,
          33.87,
          40.09,
          26.45,
          26.94,
          35.2,
          27.78,
          26.77,
          21.88,
          30.15,
          23.9,
          26.21,
          24.85,
          28.72,
          25.19,
          41.99,
          25.9,
          22.89,
          17.72,
          29.08,
          44.04,
          28.45,
          40.09,
          46.56,
          29.3,
          31.48,
          35.63,
          39.42,
          38.33,
          27.71,
          32.6,
          31.07,
          30.57,
          30.63,
          31.43,
          24.56,
          34.21,
          23.49,
          25.93,
          19.34,
          32.51,
          24.64,
          37.59,
          29.47,
          32.49,
          35.63,
          28.1,
          24.86,
          25.6,
          33.98,
          28.15,
          37.56,
          32.27,
          26.39,
          18.01,
          28.37,
          22.36,
          29.2,
          33.19,
          20.7,
          31.96,
          23.06,
          31.48,
          27.87,
          27.5,
          36.23,
          42.52,
          57.71,
          82.33,
          62.99,
          80.77,
          76.71,
          73.16,
          74.45,
          45.63,
          52.32,
          50.32,
          101.41,
          58.46,
          77.57,
          53.18,
          57.93,
          74.31,
          68.07,
          65.43,
          78.75,
          60.04,
          69.64,
          71.87,
          88.85,
          65.34,
          107,
          64.35,
          82.35,
          83.47,
          80.85,
          72.31,
          69.89,
          84.58,
          64.1,
          62.67,
          49.29,
          50.17,
          68.07,
          62.33,
          83.11,
          56.32,
          82.33,
          79.12,
          55.05,
          60.82,
          66.19,
          72.43,
          75.84,
          67.19,
          88.46,
          68.29,
          72.76,
          51.67,
          68.71,
          101.25,
          81.82,
          62.85,
          44.42,
          86.09,
          91.66,
          60.99,
          71.11,
          50.78,
          65.58,
          76.68,
          69.51,
          89.77,
          58.5,
          49.39,
          62.1,
          54.33,
          81.54,
          73.06,
          56.61,
          97.11,
          67.39,
          57.25,
          45.13,
          68.85,
          84.14,
          77.55,
          64.53,
          76.56,
          78.77,
          98.59,
          65.82,
          55.28,
          56.84,
          64.39,
          95.67,
          57.42,
          44.26,
          50.52,
          57.6,
          88.16,
          55.91,
          75.61,
          68.11,
          44.17,
          62.22,
          14.16,
          14.62,
          12.81,
          12.59,
          10.65,
          11.85,
          14.57,
          17.97,
          20.11,
          13.72,
          13.18,
          12.99,
          10.07,
          16.63,
          15.52,
          20.39,
          10.06,
          11.32,
          14.16,
          15.17,
          10.08,
          21.1,
          16.72,
          12.57,
          16.78,
          13.23,
          11.28,
          20.97,
          14.89,
          14.94,
          15,
          14.88,
          14.03,
          11.07,
          12.89,
          12.03,
          16.27,
          18.58,
          14.66,
          16.84,
          15.42,
          18.82,
          17.63,
          16.75,
          13.93,
          15.13,
          16.51,
          11.92,
          10,
          10.18,
          16.12,
          15.22,
          10.26,
          16.51,
          16.25,
          13.99,
          18.07,
          13.87,
          11.7,
          10.18,
          12.95,
          12.36,
          12.26,
          18.4,
          18.75,
          19.03,
          20.2,
          14.62,
          16.27,
          8.57,
          12.1,
          13.46,
          19.23,
          16.1,
          12.05,
          18.49,
          13.53,
          16.67,
          14.99,
          18.04,
          15.62,
          14.9,
          14.33,
          12.62,
          14.86,
          11.92,
          12.47,
          16.52,
          16.23,
          12.25,
          15,
          19.27,
          11.45,
          10.11,
          10.62,
          16.7,
          17.7,
          19.5,
          17.57,
          16.72,
          41.63,
          52.68,
          39.52,
          35.83,
          40.07,
          38.92,
          35.17,
          47.88,
          54.31,
          40.07,
          48.44,
          53.75,
          37.42,
          37.02,
          38.61,
          49.26,
          55.23,
          38.02,
          48.38,
          35.13,
          49.54,
          44.65,
          34.65,
          34.71,
          43.02,
          31.06,
          39.69,
          33.37,
          49.63,
          49.34,
          27.42,
          54.05,
          32.43,
          34.64,
          36.98,
          49.05,
          37.99,
          57.03,
          49.3,
          37.98,
          50.36,
          37.26,
          44.5,
          48.91,
          49.1,
          58.09,
          34.07,
          43.05,
          48.91,
          43.21,
          24.43,
          38.37,
          49.54,
          49.92,
          43.43,
          47.34,
          37.15,
          46.57,
          26.84,
          41.43,
          40.26,
          33.49,
          51.83,
          50.19,
          54.11,
          36.01,
          47.89,
          48.88,
          58.67,
          41.36,
          49.89,
          49.42,
          48.36,
          43.78,
          56.22,
          44.71,
          45.73,
          41.97,
          51,
          37.46,
          25.15,
          45.82,
          59.64,
          24.64,
          30.64,
          41.43,
          34.38,
          41.39,
          51.25,
          34.46,
          32.35,
          42.24,
          51.41,
          49.46,
          43.26,
          40.82,
          54.65,
          35.7,
          30.8,
          63.71
         ],
         "xaxis": "x",
         "yaxis": "y"
        },
        {
         "alignmentgroup": "True",
         "hovertemplate": "Weight=%{x}<extra></extra>",
         "legendgroup": "",
         "marker": {
          "color": "#636efa"
         },
         "name": "",
         "notched": true,
         "offsetgroup": "",
         "showlegend": false,
         "type": "box",
         "x": [
          86.4,
          77.58,
          81.95,
          66.33,
          56.73,
          86.05,
          99.24,
          111.21,
          76.6,
          86.85,
          74.25,
          87.4,
          60.24,
          80.9,
          110.33,
          99.56,
          108.57,
          95.51,
          103.69,
          92.84,
          62.41,
          109.59,
          80.51,
          62.51,
          95.11,
          107.41,
          62.72,
          81.4,
          85.07,
          90.91,
          58,
          80.83,
          61.31,
          101.38,
          54.13,
          85.08,
          86.07,
          87.7,
          76.19,
          92.5,
          73.64,
          97.27,
          74.89,
          89.77,
          83.02,
          35.64,
          78.14,
          104.58,
          100.83,
          98.19,
          106.53,
          58.45,
          68.31,
          78.28,
          75,
          60.98,
          87.21,
          60.57,
          85.59,
          71.66,
          80.06,
          73.68,
          76.01,
          94.08,
          53.49,
          76.44,
          98.26,
          85.7,
          67.08,
          90.95,
          89.32,
          36.17,
          84.43,
          81.25,
          78.16,
          93.12,
          44.78,
          82.9,
          84.02,
          95.91,
          96.47,
          88.85,
          100.77,
          78.75,
          70.7,
          102,
          96.77,
          65.78,
          93.82,
          70.63,
          60.66,
          39.05,
          75.72,
          67.81,
          83.14,
          50.72,
          62.11,
          92.56,
          31.26,
          86.07,
          32.5,
          20.04,
          35.37,
          20.96,
          22.64,
          29.3,
          31.51,
          24.02,
          39.31,
          32.7,
          22.42,
          36.48,
          24.52,
          32.38,
          12.99,
          35.7,
          25.23,
          36.57,
          31.27,
          29.39,
          26.94,
          37.46,
          23.69,
          24.07,
          33.33,
          20.03,
          25.75,
          30.15,
          28.72,
          19.25,
          33.13,
          32.54,
          37.87,
          25.02,
          32.43,
          33.87,
          40.09,
          26.45,
          26.94,
          35.2,
          27.78,
          26.77,
          21.88,
          30.15,
          23.9,
          26.21,
          24.85,
          28.72,
          25.19,
          41.99,
          25.9,
          22.89,
          17.72,
          29.08,
          44.04,
          28.45,
          40.09,
          46.56,
          29.3,
          31.48,
          35.63,
          39.42,
          38.33,
          27.71,
          32.6,
          31.07,
          30.57,
          30.63,
          31.43,
          24.56,
          34.21,
          23.49,
          25.93,
          19.34,
          32.51,
          24.64,
          37.59,
          29.47,
          32.49,
          35.63,
          28.1,
          24.86,
          25.6,
          33.98,
          28.15,
          37.56,
          32.27,
          26.39,
          18.01,
          28.37,
          22.36,
          29.2,
          33.19,
          20.7,
          31.96,
          23.06,
          31.48,
          27.87,
          27.5,
          36.23,
          42.52,
          57.71,
          82.33,
          62.99,
          80.77,
          76.71,
          73.16,
          74.45,
          45.63,
          52.32,
          50.32,
          101.41,
          58.46,
          77.57,
          53.18,
          57.93,
          74.31,
          68.07,
          65.43,
          78.75,
          60.04,
          69.64,
          71.87,
          88.85,
          65.34,
          107,
          64.35,
          82.35,
          83.47,
          80.85,
          72.31,
          69.89,
          84.58,
          64.1,
          62.67,
          49.29,
          50.17,
          68.07,
          62.33,
          83.11,
          56.32,
          82.33,
          79.12,
          55.05,
          60.82,
          66.19,
          72.43,
          75.84,
          67.19,
          88.46,
          68.29,
          72.76,
          51.67,
          68.71,
          101.25,
          81.82,
          62.85,
          44.42,
          86.09,
          91.66,
          60.99,
          71.11,
          50.78,
          65.58,
          76.68,
          69.51,
          89.77,
          58.5,
          49.39,
          62.1,
          54.33,
          81.54,
          73.06,
          56.61,
          97.11,
          67.39,
          57.25,
          45.13,
          68.85,
          84.14,
          77.55,
          64.53,
          76.56,
          78.77,
          98.59,
          65.82,
          55.28,
          56.84,
          64.39,
          95.67,
          57.42,
          44.26,
          50.52,
          57.6,
          88.16,
          55.91,
          75.61,
          68.11,
          44.17,
          62.22,
          14.16,
          14.62,
          12.81,
          12.59,
          10.65,
          11.85,
          14.57,
          17.97,
          20.11,
          13.72,
          13.18,
          12.99,
          10.07,
          16.63,
          15.52,
          20.39,
          10.06,
          11.32,
          14.16,
          15.17,
          10.08,
          21.1,
          16.72,
          12.57,
          16.78,
          13.23,
          11.28,
          20.97,
          14.89,
          14.94,
          15,
          14.88,
          14.03,
          11.07,
          12.89,
          12.03,
          16.27,
          18.58,
          14.66,
          16.84,
          15.42,
          18.82,
          17.63,
          16.75,
          13.93,
          15.13,
          16.51,
          11.92,
          10,
          10.18,
          16.12,
          15.22,
          10.26,
          16.51,
          16.25,
          13.99,
          18.07,
          13.87,
          11.7,
          10.18,
          12.95,
          12.36,
          12.26,
          18.4,
          18.75,
          19.03,
          20.2,
          14.62,
          16.27,
          8.57,
          12.1,
          13.46,
          19.23,
          16.1,
          12.05,
          18.49,
          13.53,
          16.67,
          14.99,
          18.04,
          15.62,
          14.9,
          14.33,
          12.62,
          14.86,
          11.92,
          12.47,
          16.52,
          16.23,
          12.25,
          15,
          19.27,
          11.45,
          10.11,
          10.62,
          16.7,
          17.7,
          19.5,
          17.57,
          16.72,
          41.63,
          52.68,
          39.52,
          35.83,
          40.07,
          38.92,
          35.17,
          47.88,
          54.31,
          40.07,
          48.44,
          53.75,
          37.42,
          37.02,
          38.61,
          49.26,
          55.23,
          38.02,
          48.38,
          35.13,
          49.54,
          44.65,
          34.65,
          34.71,
          43.02,
          31.06,
          39.69,
          33.37,
          49.63,
          49.34,
          27.42,
          54.05,
          32.43,
          34.64,
          36.98,
          49.05,
          37.99,
          57.03,
          49.3,
          37.98,
          50.36,
          37.26,
          44.5,
          48.91,
          49.1,
          58.09,
          34.07,
          43.05,
          48.91,
          43.21,
          24.43,
          38.37,
          49.54,
          49.92,
          43.43,
          47.34,
          37.15,
          46.57,
          26.84,
          41.43,
          40.26,
          33.49,
          51.83,
          50.19,
          54.11,
          36.01,
          47.89,
          48.88,
          58.67,
          41.36,
          49.89,
          49.42,
          48.36,
          43.78,
          56.22,
          44.71,
          45.73,
          41.97,
          51,
          37.46,
          25.15,
          45.82,
          59.64,
          24.64,
          30.64,
          41.43,
          34.38,
          41.39,
          51.25,
          34.46,
          32.35,
          42.24,
          51.41,
          49.46,
          43.26,
          40.82,
          54.65,
          35.7,
          30.8,
          63.71
         ],
         "xaxis": "x2",
         "yaxis": "y2"
        }
       ],
       "layout": {
        "barmode": "relative",
        "legend": {
         "tracegroupgap": 0
        },
        "template": {
         "data": {
          "bar": [
           {
            "error_x": {
             "color": "#2a3f5f"
            },
            "error_y": {
             "color": "#2a3f5f"
            },
            "marker": {
             "line": {
              "color": "#E5ECF6",
              "width": 0.5
             },
             "pattern": {
              "fillmode": "overlay",
              "size": 10,
              "solidity": 0.2
             }
            },
            "type": "bar"
           }
          ],
          "barpolar": [
           {
            "marker": {
             "line": {
              "color": "#E5ECF6",
              "width": 0.5
             },
             "pattern": {
              "fillmode": "overlay",
              "size": 10,
              "solidity": 0.2
             }
            },
            "type": "barpolar"
           }
          ],
          "carpet": [
           {
            "aaxis": {
             "endlinecolor": "#2a3f5f",
             "gridcolor": "white",
             "linecolor": "white",
             "minorgridcolor": "white",
             "startlinecolor": "#2a3f5f"
            },
            "baxis": {
             "endlinecolor": "#2a3f5f",
             "gridcolor": "white",
             "linecolor": "white",
             "minorgridcolor": "white",
             "startlinecolor": "#2a3f5f"
            },
            "type": "carpet"
           }
          ],
          "choropleth": [
           {
            "colorbar": {
             "outlinewidth": 0,
             "ticks": ""
            },
            "type": "choropleth"
           }
          ],
          "contour": [
           {
            "colorbar": {
             "outlinewidth": 0,
             "ticks": ""
            },
            "colorscale": [
             [
              0,
              "#0d0887"
             ],
             [
              0.1111111111111111,
              "#46039f"
             ],
             [
              0.2222222222222222,
              "#7201a8"
             ],
             [
              0.3333333333333333,
              "#9c179e"
             ],
             [
              0.4444444444444444,
              "#bd3786"
             ],
             [
              0.5555555555555556,
              "#d8576b"
             ],
             [
              0.6666666666666666,
              "#ed7953"
             ],
             [
              0.7777777777777778,
              "#fb9f3a"
             ],
             [
              0.8888888888888888,
              "#fdca26"
             ],
             [
              1,
              "#f0f921"
             ]
            ],
            "type": "contour"
           }
          ],
          "contourcarpet": [
           {
            "colorbar": {
             "outlinewidth": 0,
             "ticks": ""
            },
            "type": "contourcarpet"
           }
          ],
          "heatmap": [
           {
            "colorbar": {
             "outlinewidth": 0,
             "ticks": ""
            },
            "colorscale": [
             [
              0,
              "#0d0887"
             ],
             [
              0.1111111111111111,
              "#46039f"
             ],
             [
              0.2222222222222222,
              "#7201a8"
             ],
             [
              0.3333333333333333,
              "#9c179e"
             ],
             [
              0.4444444444444444,
              "#bd3786"
             ],
             [
              0.5555555555555556,
              "#d8576b"
             ],
             [
              0.6666666666666666,
              "#ed7953"
             ],
             [
              0.7777777777777778,
              "#fb9f3a"
             ],
             [
              0.8888888888888888,
              "#fdca26"
             ],
             [
              1,
              "#f0f921"
             ]
            ],
            "type": "heatmap"
           }
          ],
          "heatmapgl": [
           {
            "colorbar": {
             "outlinewidth": 0,
             "ticks": ""
            },
            "colorscale": [
             [
              0,
              "#0d0887"
             ],
             [
              0.1111111111111111,
              "#46039f"
             ],
             [
              0.2222222222222222,
              "#7201a8"
             ],
             [
              0.3333333333333333,
              "#9c179e"
             ],
             [
              0.4444444444444444,
              "#bd3786"
             ],
             [
              0.5555555555555556,
              "#d8576b"
             ],
             [
              0.6666666666666666,
              "#ed7953"
             ],
             [
              0.7777777777777778,
              "#fb9f3a"
             ],
             [
              0.8888888888888888,
              "#fdca26"
             ],
             [
              1,
              "#f0f921"
             ]
            ],
            "type": "heatmapgl"
           }
          ],
          "histogram": [
           {
            "marker": {
             "pattern": {
              "fillmode": "overlay",
              "size": 10,
              "solidity": 0.2
             }
            },
            "type": "histogram"
           }
          ],
          "histogram2d": [
           {
            "colorbar": {
             "outlinewidth": 0,
             "ticks": ""
            },
            "colorscale": [
             [
              0,
              "#0d0887"
             ],
             [
              0.1111111111111111,
              "#46039f"
             ],
             [
              0.2222222222222222,
              "#7201a8"
             ],
             [
              0.3333333333333333,
              "#9c179e"
             ],
             [
              0.4444444444444444,
              "#bd3786"
             ],
             [
              0.5555555555555556,
              "#d8576b"
             ],
             [
              0.6666666666666666,
              "#ed7953"
             ],
             [
              0.7777777777777778,
              "#fb9f3a"
             ],
             [
              0.8888888888888888,
              "#fdca26"
             ],
             [
              1,
              "#f0f921"
             ]
            ],
            "type": "histogram2d"
           }
          ],
          "histogram2dcontour": [
           {
            "colorbar": {
             "outlinewidth": 0,
             "ticks": ""
            },
            "colorscale": [
             [
              0,
              "#0d0887"
             ],
             [
              0.1111111111111111,
              "#46039f"
             ],
             [
              0.2222222222222222,
              "#7201a8"
             ],
             [
              0.3333333333333333,
              "#9c179e"
             ],
             [
              0.4444444444444444,
              "#bd3786"
             ],
             [
              0.5555555555555556,
              "#d8576b"
             ],
             [
              0.6666666666666666,
              "#ed7953"
             ],
             [
              0.7777777777777778,
              "#fb9f3a"
             ],
             [
              0.8888888888888888,
              "#fdca26"
             ],
             [
              1,
              "#f0f921"
             ]
            ],
            "type": "histogram2dcontour"
           }
          ],
          "mesh3d": [
           {
            "colorbar": {
             "outlinewidth": 0,
             "ticks": ""
            },
            "type": "mesh3d"
           }
          ],
          "parcoords": [
           {
            "line": {
             "colorbar": {
              "outlinewidth": 0,
              "ticks": ""
             }
            },
            "type": "parcoords"
           }
          ],
          "pie": [
           {
            "automargin": true,
            "type": "pie"
           }
          ],
          "scatter": [
           {
            "fillpattern": {
             "fillmode": "overlay",
             "size": 10,
             "solidity": 0.2
            },
            "type": "scatter"
           }
          ],
          "scatter3d": [
           {
            "line": {
             "colorbar": {
              "outlinewidth": 0,
              "ticks": ""
             }
            },
            "marker": {
             "colorbar": {
              "outlinewidth": 0,
              "ticks": ""
             }
            },
            "type": "scatter3d"
           }
          ],
          "scattercarpet": [
           {
            "marker": {
             "colorbar": {
              "outlinewidth": 0,
              "ticks": ""
             }
            },
            "type": "scattercarpet"
           }
          ],
          "scattergeo": [
           {
            "marker": {
             "colorbar": {
              "outlinewidth": 0,
              "ticks": ""
             }
            },
            "type": "scattergeo"
           }
          ],
          "scattergl": [
           {
            "marker": {
             "colorbar": {
              "outlinewidth": 0,
              "ticks": ""
             }
            },
            "type": "scattergl"
           }
          ],
          "scattermapbox": [
           {
            "marker": {
             "colorbar": {
              "outlinewidth": 0,
              "ticks": ""
             }
            },
            "type": "scattermapbox"
           }
          ],
          "scatterpolar": [
           {
            "marker": {
             "colorbar": {
              "outlinewidth": 0,
              "ticks": ""
             }
            },
            "type": "scatterpolar"
           }
          ],
          "scatterpolargl": [
           {
            "marker": {
             "colorbar": {
              "outlinewidth": 0,
              "ticks": ""
             }
            },
            "type": "scatterpolargl"
           }
          ],
          "scatterternary": [
           {
            "marker": {
             "colorbar": {
              "outlinewidth": 0,
              "ticks": ""
             }
            },
            "type": "scatterternary"
           }
          ],
          "surface": [
           {
            "colorbar": {
             "outlinewidth": 0,
             "ticks": ""
            },
            "colorscale": [
             [
              0,
              "#0d0887"
             ],
             [
              0.1111111111111111,
              "#46039f"
             ],
             [
              0.2222222222222222,
              "#7201a8"
             ],
             [
              0.3333333333333333,
              "#9c179e"
             ],
             [
              0.4444444444444444,
              "#bd3786"
             ],
             [
              0.5555555555555556,
              "#d8576b"
             ],
             [
              0.6666666666666666,
              "#ed7953"
             ],
             [
              0.7777777777777778,
              "#fb9f3a"
             ],
             [
              0.8888888888888888,
              "#fdca26"
             ],
             [
              1,
              "#f0f921"
             ]
            ],
            "type": "surface"
           }
          ],
          "table": [
           {
            "cells": {
             "fill": {
              "color": "#EBF0F8"
             },
             "line": {
              "color": "white"
             }
            },
            "header": {
             "fill": {
              "color": "#C8D4E3"
             },
             "line": {
              "color": "white"
             }
            },
            "type": "table"
           }
          ]
         },
         "layout": {
          "annotationdefaults": {
           "arrowcolor": "#2a3f5f",
           "arrowhead": 0,
           "arrowwidth": 1
          },
          "autotypenumbers": "strict",
          "coloraxis": {
           "colorbar": {
            "outlinewidth": 0,
            "ticks": ""
           }
          },
          "colorscale": {
           "diverging": [
            [
             0,
             "#8e0152"
            ],
            [
             0.1,
             "#c51b7d"
            ],
            [
             0.2,
             "#de77ae"
            ],
            [
             0.3,
             "#f1b6da"
            ],
            [
             0.4,
             "#fde0ef"
            ],
            [
             0.5,
             "#f7f7f7"
            ],
            [
             0.6,
             "#e6f5d0"
            ],
            [
             0.7,
             "#b8e186"
            ],
            [
             0.8,
             "#7fbc41"
            ],
            [
             0.9,
             "#4d9221"
            ],
            [
             1,
             "#276419"
            ]
           ],
           "sequential": [
            [
             0,
             "#0d0887"
            ],
            [
             0.1111111111111111,
             "#46039f"
            ],
            [
             0.2222222222222222,
             "#7201a8"
            ],
            [
             0.3333333333333333,
             "#9c179e"
            ],
            [
             0.4444444444444444,
             "#bd3786"
            ],
            [
             0.5555555555555556,
             "#d8576b"
            ],
            [
             0.6666666666666666,
             "#ed7953"
            ],
            [
             0.7777777777777778,
             "#fb9f3a"
            ],
            [
             0.8888888888888888,
             "#fdca26"
            ],
            [
             1,
             "#f0f921"
            ]
           ],
           "sequentialminus": [
            [
             0,
             "#0d0887"
            ],
            [
             0.1111111111111111,
             "#46039f"
            ],
            [
             0.2222222222222222,
             "#7201a8"
            ],
            [
             0.3333333333333333,
             "#9c179e"
            ],
            [
             0.4444444444444444,
             "#bd3786"
            ],
            [
             0.5555555555555556,
             "#d8576b"
            ],
            [
             0.6666666666666666,
             "#ed7953"
            ],
            [
             0.7777777777777778,
             "#fb9f3a"
            ],
            [
             0.8888888888888888,
             "#fdca26"
            ],
            [
             1,
             "#f0f921"
            ]
           ]
          },
          "colorway": [
           "#636efa",
           "#EF553B",
           "#00cc96",
           "#ab63fa",
           "#FFA15A",
           "#19d3f3",
           "#FF6692",
           "#B6E880",
           "#FF97FF",
           "#FECB52"
          ],
          "font": {
           "color": "#2a3f5f"
          },
          "geo": {
           "bgcolor": "white",
           "lakecolor": "white",
           "landcolor": "#E5ECF6",
           "showlakes": true,
           "showland": true,
           "subunitcolor": "white"
          },
          "hoverlabel": {
           "align": "left"
          },
          "hovermode": "closest",
          "mapbox": {
           "style": "light"
          },
          "paper_bgcolor": "white",
          "plot_bgcolor": "#E5ECF6",
          "polar": {
           "angularaxis": {
            "gridcolor": "white",
            "linecolor": "white",
            "ticks": ""
           },
           "bgcolor": "#E5ECF6",
           "radialaxis": {
            "gridcolor": "white",
            "linecolor": "white",
            "ticks": ""
           }
          },
          "scene": {
           "xaxis": {
            "backgroundcolor": "#E5ECF6",
            "gridcolor": "white",
            "gridwidth": 2,
            "linecolor": "white",
            "showbackground": true,
            "ticks": "",
            "zerolinecolor": "white"
           },
           "yaxis": {
            "backgroundcolor": "#E5ECF6",
            "gridcolor": "white",
            "gridwidth": 2,
            "linecolor": "white",
            "showbackground": true,
            "ticks": "",
            "zerolinecolor": "white"
           },
           "zaxis": {
            "backgroundcolor": "#E5ECF6",
            "gridcolor": "white",
            "gridwidth": 2,
            "linecolor": "white",
            "showbackground": true,
            "ticks": "",
            "zerolinecolor": "white"
           }
          },
          "shapedefaults": {
           "line": {
            "color": "#2a3f5f"
           }
          },
          "ternary": {
           "aaxis": {
            "gridcolor": "white",
            "linecolor": "white",
            "ticks": ""
           },
           "baxis": {
            "gridcolor": "white",
            "linecolor": "white",
            "ticks": ""
           },
           "bgcolor": "#E5ECF6",
           "caxis": {
            "gridcolor": "white",
            "linecolor": "white",
            "ticks": ""
           }
          },
          "title": {
           "x": 0.05
          },
          "xaxis": {
           "automargin": true,
           "gridcolor": "white",
           "linecolor": "white",
           "ticks": "",
           "title": {
            "standoff": 15
           },
           "zerolinecolor": "white",
           "zerolinewidth": 2
          },
          "yaxis": {
           "automargin": true,
           "gridcolor": "white",
           "linecolor": "white",
           "ticks": "",
           "title": {
            "standoff": 15
           },
           "zerolinecolor": "white",
           "zerolinewidth": 2
          }
         }
        },
        "title": {
         "text": "Distribution of Weight, mean: 47.31, std: 26.77"
        },
        "xaxis": {
         "anchor": "y",
         "domain": [
          0,
          1
         ],
         "title": {
          "text": "Weight"
         }
        },
        "xaxis2": {
         "anchor": "y2",
         "domain": [
          0,
          1
         ],
         "matches": "x",
         "showgrid": true,
         "showticklabels": false
        },
        "yaxis": {
         "anchor": "x",
         "domain": [
          0,
          0.8316
         ],
         "title": {
          "text": "count"
         }
        },
        "yaxis2": {
         "anchor": "x2",
         "domain": [
          0.8416,
          1
         ],
         "matches": "y2",
         "showgrid": false,
         "showline": false,
         "showticklabels": false,
         "ticks": ""
        }
       }
      }
     },
     "metadata": {},
     "output_type": "display_data"
    }
   ],
   "source": [
    "# Feature distribution among ['Weight', 'Average diameter', 'Average length', 'Peel hardness', 'Sweetness']\n",
    "\n",
    "feature_to_viz = 'Weight'\n",
    "\n",
    "fig = histogram_for_single_feature(df_cleaned, feature_to_viz, comparison=False)\n",
    "fig.show()"
   ]
  },
  {
   "cell_type": "code",
   "execution_count": 12,
   "metadata": {},
   "outputs": [
    {
     "data": {
      "application/vnd.plotly.v1+json": {
       "config": {
        "plotlyServerURL": "https://plot.ly"
       },
       "data": [
        {
         "alignmentgroup": "True",
         "bingroup": "x",
         "hovertemplate": "Fruit=Apple<br>Sweetness=%{x}<br>count=%{y}<extra></extra>",
         "legendgroup": "Apple",
         "marker": {
          "color": "#636efa",
          "pattern": {
           "shape": ""
          }
         },
         "name": "Apple",
         "offsetgroup": "Apple",
         "orientation": "v",
         "showlegend": true,
         "type": "histogram",
         "x": [
          2.41,
          3.87,
          2.88,
          2.55,
          3.88,
          3.09,
          2.15,
          3.47,
          2.29,
          2.78,
          2.76,
          3.08,
          2.65,
          2.08,
          3.63,
          3.42,
          2.19,
          2.55,
          4.15,
          3.55,
          2.91,
          3.32,
          2.88,
          3.38,
          2.72,
          2.6,
          4.16,
          2.07,
          2.61,
          3.01,
          2.04,
          3.16,
          3.49,
          3.39,
          2.94,
          2.75,
          2.79,
          3.14,
          3.25,
          3.41,
          1.99,
          2.65,
          2.17,
          2.97,
          3.06,
          2.77,
          3.61,
          3.73,
          2.36,
          3.22,
          2.72,
          3.65,
          2.83,
          2.47,
          3.57,
          3.36,
          2.73,
          3.09,
          2.59,
          3.37,
          3.1,
          2.4,
          2.06,
          2.39,
          3.1,
          2.54,
          2.33,
          3.04,
          2.86,
          4.03,
          3.06,
          2.15,
          3,
          3.12,
          2.93,
          4.21,
          2.41,
          2.52,
          2.57,
          3.3,
          1.41,
          2.79,
          2.69,
          2.86,
          3.78,
          3.11,
          2.45,
          3.85,
          3.04,
          2.93,
          2.73,
          3.06,
          3.01,
          1.93,
          3.32,
          2.78,
          2.6,
          3.27,
          2.35,
          2.89
         ],
         "xaxis": "x",
         "yaxis": "y"
        },
        {
         "alignmentgroup": "True",
         "bingroup": "x",
         "hovertemplate": "Fruit=Banana<br>Sweetness=%{x}<br>count=%{y}<extra></extra>",
         "legendgroup": "Banana",
         "marker": {
          "color": "#EF553B",
          "pattern": {
           "shape": ""
          }
         },
         "name": "Banana",
         "offsetgroup": "Banana",
         "orientation": "v",
         "showlegend": true,
         "type": "histogram",
         "x": [
          1.76,
          1.48,
          2.13,
          1.88,
          2,
          2.16,
          2.55,
          1.97,
          2.21,
          1.62,
          1.74,
          1.25,
          2.41,
          2.35,
          2.95,
          2.44,
          1.52,
          1.99,
          1.88,
          1.78,
          1.65,
          1.67,
          1.49,
          1.95,
          2.12,
          2.33,
          2.11,
          2.01,
          2.08,
          1.97,
          2.06,
          1.98,
          1.57,
          1.84,
          1.96,
          2.69,
          2,
          2.89,
          1.97,
          2.12,
          1.92,
          1.54,
          1.84,
          2.04,
          2.35,
          1.58,
          1.61,
          1.79,
          1.93,
          1.84,
          2.73,
          1.44,
          1.89,
          2.08,
          2.59,
          1.66,
          2.52,
          2.57,
          1.84,
          1.49,
          1.97,
          2.39,
          1.65,
          2.43,
          1.88,
          2.17,
          2.36,
          1.27,
          2.63,
          2.04,
          1.68,
          2.06,
          2.31,
          2.45,
          1.66,
          2.08,
          1.5,
          2.01,
          1.43,
          2.13,
          1.68,
          1.91,
          1.97,
          1.68,
          2.2,
          2.71,
          2.44,
          1.95,
          2.21,
          2.06,
          1.89,
          1.39,
          2.12,
          2.27,
          2.06,
          1.97,
          1.99,
          2.42,
          1.8,
          2.24
         ],
         "xaxis": "x",
         "yaxis": "y"
        },
        {
         "alignmentgroup": "True",
         "bingroup": "x",
         "hovertemplate": "Fruit=Orange<br>Sweetness=%{x}<br>count=%{y}<extra></extra>",
         "legendgroup": "Orange",
         "marker": {
          "color": "#00cc96",
          "pattern": {
           "shape": ""
          }
         },
         "name": "Orange",
         "offsetgroup": "Orange",
         "orientation": "v",
         "showlegend": true,
         "type": "histogram",
         "x": [
          3.79,
          5.4,
          5.56,
          4.61,
          5.3,
          3.42,
          5.12,
          4.62,
          5.6,
          4.55,
          5.36,
          6.41,
          3.55,
          5.51,
          6.58,
          4.44,
          4.55,
          4.53,
          4.65,
          3.7,
          4.78,
          4.23,
          6.5,
          4.37,
          5.49,
          4.81,
          6.53,
          5.37,
          6.59,
          5,
          6.17,
          4.49,
          3.02,
          6.95,
          4.79,
          3.26,
          3.85,
          5.98,
          5.5,
          6.2,
          5.72,
          5.7,
          4,
          4.61,
          5.34,
          4.68,
          4.26,
          5.91,
          5.48,
          4.89,
          5.55,
          6.26,
          4.91,
          6.79,
          5.15,
          3.84,
          4.94,
          4.91,
          5.59,
          5.15,
          5.1,
          5.08,
          6.24,
          2.46,
          5.56,
          6.03,
          4.85,
          4.9,
          3.94,
          5.53,
          4.55,
          4.78,
          5.66,
          4.39,
          6.16,
          4.05,
          5.31,
          4.18,
          5.59,
          5.66,
          4.91,
          6.46,
          5.17,
          4.32,
          5.73,
          4.06,
          3.63,
          4.74,
          6.7,
          4.91,
          3.37,
          6.42,
          5.02,
          4.2,
          6.8,
          5.89,
          6.86,
          6.11,
          5,
          5.27
         ],
         "xaxis": "x",
         "yaxis": "y"
        },
        {
         "alignmentgroup": "True",
         "bingroup": "x",
         "hovertemplate": "Fruit=Grape<br>Sweetness=%{x}<br>count=%{y}<extra></extra>",
         "legendgroup": "Grape",
         "marker": {
          "color": "#ab63fa",
          "pattern": {
           "shape": ""
          }
         },
         "name": "Grape",
         "offsetgroup": "Grape",
         "orientation": "v",
         "showlegend": true,
         "type": "histogram",
         "x": [
          3.49,
          3.78,
          3.4,
          3.76,
          4.07,
          3.23,
          4.39,
          2.95,
          4.08,
          3.91,
          3.77,
          3.8,
          3.61,
          5.37,
          4.63,
          3.8,
          3.91,
          3.78,
          3.74,
          4.22,
          4.97,
          3.15,
          3.31,
          3.71,
          3.2,
          4.06,
          5.26,
          4.84,
          4.26,
          3.12,
          2.78,
          3.41,
          4.13,
          3.23,
          4.74,
          3.52,
          4.53,
          4.85,
          5.09,
          4.58,
          4.08,
          4.31,
          3.48,
          2.75,
          5.11,
          4.39,
          4.1,
          5.03,
          3.91,
          5.23,
          5.37,
          5.13,
          5.12,
          2.95,
          4.53,
          3.53,
          4.42,
          4.72,
          4.85,
          2.81,
          3.21,
          5.83,
          3.12,
          3.25,
          4.11,
          4.86,
          3.59,
          3.29,
          3.76,
          3.84,
          4.45,
          3.54,
          4.23,
          4.71,
          3.61,
          3.25,
          3.5,
          3.06,
          4.74,
          3.57,
          3.51,
          4.68,
          3.55,
          3.9,
          3.39,
          5.19,
          3.91,
          3.04,
          3.03,
          3.84,
          4.39,
          3.14,
          4.62,
          3.02,
          5.12,
          3.5,
          5.1,
          3.76,
          3.82,
          3.82
         ],
         "xaxis": "x",
         "yaxis": "y"
        },
        {
         "alignmentgroup": "True",
         "bingroup": "x",
         "hovertemplate": "Fruit=Kiwi<br>Sweetness=%{x}<br>count=%{y}<extra></extra>",
         "legendgroup": "Kiwi",
         "marker": {
          "color": "#FFA15A",
          "pattern": {
           "shape": ""
          }
         },
         "name": "Kiwi",
         "offsetgroup": "Kiwi",
         "orientation": "v",
         "showlegend": true,
         "type": "histogram",
         "x": [
          4.38,
          3.86,
          4.99,
          3.59,
          4.19,
          2.39,
          3.47,
          3.62,
          2.8,
          4.08,
          2.33,
          3.93,
          3.46,
          3.31,
          4.62,
          4.79,
          4.46,
          2.16,
          4.43,
          2.89,
          4.38,
          4.2,
          4.83,
          4.48,
          3.86,
          4.27,
          3.83,
          4,
          2.5,
          3.95,
          3.97,
          2.4,
          4.32,
          2.25,
          3.13,
          3.29,
          5.61,
          4.7,
          4.82,
          2.67,
          3.98,
          4.3,
          4.11,
          4.33,
          5.46,
          3.42,
          3.73,
          4.06,
          4.08,
          4.08,
          4.22,
          3.97,
          3.59,
          3.6,
          5.8,
          5.28,
          3.55,
          3.21,
          3.73,
          5.57,
          3.24,
          3.44,
          4.81,
          4.25,
          5.26,
          3.75,
          2.61,
          3.2,
          4.22,
          4,
          3.75,
          4.38,
          3.09,
          3.21,
          3.55,
          3.33,
          5.87,
          2.74,
          3.83,
          3.84,
          3.73,
          5.15,
          4.17,
          3.88,
          3.41,
          3.22,
          3.08,
          3.67,
          3.83,
          4.49,
          2.98,
          4.13,
          4.64,
          4.29,
          3.95,
          5.56,
          4.68,
          4.36,
          4.13,
          3.94
         ],
         "xaxis": "x",
         "yaxis": "y"
        }
       ],
       "layout": {
        "barmode": "relative",
        "legend": {
         "title": {
          "text": "Fruit"
         },
         "tracegroupgap": 0
        },
        "template": {
         "data": {
          "bar": [
           {
            "error_x": {
             "color": "#2a3f5f"
            },
            "error_y": {
             "color": "#2a3f5f"
            },
            "marker": {
             "line": {
              "color": "#E5ECF6",
              "width": 0.5
             },
             "pattern": {
              "fillmode": "overlay",
              "size": 10,
              "solidity": 0.2
             }
            },
            "type": "bar"
           }
          ],
          "barpolar": [
           {
            "marker": {
             "line": {
              "color": "#E5ECF6",
              "width": 0.5
             },
             "pattern": {
              "fillmode": "overlay",
              "size": 10,
              "solidity": 0.2
             }
            },
            "type": "barpolar"
           }
          ],
          "carpet": [
           {
            "aaxis": {
             "endlinecolor": "#2a3f5f",
             "gridcolor": "white",
             "linecolor": "white",
             "minorgridcolor": "white",
             "startlinecolor": "#2a3f5f"
            },
            "baxis": {
             "endlinecolor": "#2a3f5f",
             "gridcolor": "white",
             "linecolor": "white",
             "minorgridcolor": "white",
             "startlinecolor": "#2a3f5f"
            },
            "type": "carpet"
           }
          ],
          "choropleth": [
           {
            "colorbar": {
             "outlinewidth": 0,
             "ticks": ""
            },
            "type": "choropleth"
           }
          ],
          "contour": [
           {
            "colorbar": {
             "outlinewidth": 0,
             "ticks": ""
            },
            "colorscale": [
             [
              0,
              "#0d0887"
             ],
             [
              0.1111111111111111,
              "#46039f"
             ],
             [
              0.2222222222222222,
              "#7201a8"
             ],
             [
              0.3333333333333333,
              "#9c179e"
             ],
             [
              0.4444444444444444,
              "#bd3786"
             ],
             [
              0.5555555555555556,
              "#d8576b"
             ],
             [
              0.6666666666666666,
              "#ed7953"
             ],
             [
              0.7777777777777778,
              "#fb9f3a"
             ],
             [
              0.8888888888888888,
              "#fdca26"
             ],
             [
              1,
              "#f0f921"
             ]
            ],
            "type": "contour"
           }
          ],
          "contourcarpet": [
           {
            "colorbar": {
             "outlinewidth": 0,
             "ticks": ""
            },
            "type": "contourcarpet"
           }
          ],
          "heatmap": [
           {
            "colorbar": {
             "outlinewidth": 0,
             "ticks": ""
            },
            "colorscale": [
             [
              0,
              "#0d0887"
             ],
             [
              0.1111111111111111,
              "#46039f"
             ],
             [
              0.2222222222222222,
              "#7201a8"
             ],
             [
              0.3333333333333333,
              "#9c179e"
             ],
             [
              0.4444444444444444,
              "#bd3786"
             ],
             [
              0.5555555555555556,
              "#d8576b"
             ],
             [
              0.6666666666666666,
              "#ed7953"
             ],
             [
              0.7777777777777778,
              "#fb9f3a"
             ],
             [
              0.8888888888888888,
              "#fdca26"
             ],
             [
              1,
              "#f0f921"
             ]
            ],
            "type": "heatmap"
           }
          ],
          "heatmapgl": [
           {
            "colorbar": {
             "outlinewidth": 0,
             "ticks": ""
            },
            "colorscale": [
             [
              0,
              "#0d0887"
             ],
             [
              0.1111111111111111,
              "#46039f"
             ],
             [
              0.2222222222222222,
              "#7201a8"
             ],
             [
              0.3333333333333333,
              "#9c179e"
             ],
             [
              0.4444444444444444,
              "#bd3786"
             ],
             [
              0.5555555555555556,
              "#d8576b"
             ],
             [
              0.6666666666666666,
              "#ed7953"
             ],
             [
              0.7777777777777778,
              "#fb9f3a"
             ],
             [
              0.8888888888888888,
              "#fdca26"
             ],
             [
              1,
              "#f0f921"
             ]
            ],
            "type": "heatmapgl"
           }
          ],
          "histogram": [
           {
            "marker": {
             "pattern": {
              "fillmode": "overlay",
              "size": 10,
              "solidity": 0.2
             }
            },
            "type": "histogram"
           }
          ],
          "histogram2d": [
           {
            "colorbar": {
             "outlinewidth": 0,
             "ticks": ""
            },
            "colorscale": [
             [
              0,
              "#0d0887"
             ],
             [
              0.1111111111111111,
              "#46039f"
             ],
             [
              0.2222222222222222,
              "#7201a8"
             ],
             [
              0.3333333333333333,
              "#9c179e"
             ],
             [
              0.4444444444444444,
              "#bd3786"
             ],
             [
              0.5555555555555556,
              "#d8576b"
             ],
             [
              0.6666666666666666,
              "#ed7953"
             ],
             [
              0.7777777777777778,
              "#fb9f3a"
             ],
             [
              0.8888888888888888,
              "#fdca26"
             ],
             [
              1,
              "#f0f921"
             ]
            ],
            "type": "histogram2d"
           }
          ],
          "histogram2dcontour": [
           {
            "colorbar": {
             "outlinewidth": 0,
             "ticks": ""
            },
            "colorscale": [
             [
              0,
              "#0d0887"
             ],
             [
              0.1111111111111111,
              "#46039f"
             ],
             [
              0.2222222222222222,
              "#7201a8"
             ],
             [
              0.3333333333333333,
              "#9c179e"
             ],
             [
              0.4444444444444444,
              "#bd3786"
             ],
             [
              0.5555555555555556,
              "#d8576b"
             ],
             [
              0.6666666666666666,
              "#ed7953"
             ],
             [
              0.7777777777777778,
              "#fb9f3a"
             ],
             [
              0.8888888888888888,
              "#fdca26"
             ],
             [
              1,
              "#f0f921"
             ]
            ],
            "type": "histogram2dcontour"
           }
          ],
          "mesh3d": [
           {
            "colorbar": {
             "outlinewidth": 0,
             "ticks": ""
            },
            "type": "mesh3d"
           }
          ],
          "parcoords": [
           {
            "line": {
             "colorbar": {
              "outlinewidth": 0,
              "ticks": ""
             }
            },
            "type": "parcoords"
           }
          ],
          "pie": [
           {
            "automargin": true,
            "type": "pie"
           }
          ],
          "scatter": [
           {
            "fillpattern": {
             "fillmode": "overlay",
             "size": 10,
             "solidity": 0.2
            },
            "type": "scatter"
           }
          ],
          "scatter3d": [
           {
            "line": {
             "colorbar": {
              "outlinewidth": 0,
              "ticks": ""
             }
            },
            "marker": {
             "colorbar": {
              "outlinewidth": 0,
              "ticks": ""
             }
            },
            "type": "scatter3d"
           }
          ],
          "scattercarpet": [
           {
            "marker": {
             "colorbar": {
              "outlinewidth": 0,
              "ticks": ""
             }
            },
            "type": "scattercarpet"
           }
          ],
          "scattergeo": [
           {
            "marker": {
             "colorbar": {
              "outlinewidth": 0,
              "ticks": ""
             }
            },
            "type": "scattergeo"
           }
          ],
          "scattergl": [
           {
            "marker": {
             "colorbar": {
              "outlinewidth": 0,
              "ticks": ""
             }
            },
            "type": "scattergl"
           }
          ],
          "scattermapbox": [
           {
            "marker": {
             "colorbar": {
              "outlinewidth": 0,
              "ticks": ""
             }
            },
            "type": "scattermapbox"
           }
          ],
          "scatterpolar": [
           {
            "marker": {
             "colorbar": {
              "outlinewidth": 0,
              "ticks": ""
             }
            },
            "type": "scatterpolar"
           }
          ],
          "scatterpolargl": [
           {
            "marker": {
             "colorbar": {
              "outlinewidth": 0,
              "ticks": ""
             }
            },
            "type": "scatterpolargl"
           }
          ],
          "scatterternary": [
           {
            "marker": {
             "colorbar": {
              "outlinewidth": 0,
              "ticks": ""
             }
            },
            "type": "scatterternary"
           }
          ],
          "surface": [
           {
            "colorbar": {
             "outlinewidth": 0,
             "ticks": ""
            },
            "colorscale": [
             [
              0,
              "#0d0887"
             ],
             [
              0.1111111111111111,
              "#46039f"
             ],
             [
              0.2222222222222222,
              "#7201a8"
             ],
             [
              0.3333333333333333,
              "#9c179e"
             ],
             [
              0.4444444444444444,
              "#bd3786"
             ],
             [
              0.5555555555555556,
              "#d8576b"
             ],
             [
              0.6666666666666666,
              "#ed7953"
             ],
             [
              0.7777777777777778,
              "#fb9f3a"
             ],
             [
              0.8888888888888888,
              "#fdca26"
             ],
             [
              1,
              "#f0f921"
             ]
            ],
            "type": "surface"
           }
          ],
          "table": [
           {
            "cells": {
             "fill": {
              "color": "#EBF0F8"
             },
             "line": {
              "color": "white"
             }
            },
            "header": {
             "fill": {
              "color": "#C8D4E3"
             },
             "line": {
              "color": "white"
             }
            },
            "type": "table"
           }
          ]
         },
         "layout": {
          "annotationdefaults": {
           "arrowcolor": "#2a3f5f",
           "arrowhead": 0,
           "arrowwidth": 1
          },
          "autotypenumbers": "strict",
          "coloraxis": {
           "colorbar": {
            "outlinewidth": 0,
            "ticks": ""
           }
          },
          "colorscale": {
           "diverging": [
            [
             0,
             "#8e0152"
            ],
            [
             0.1,
             "#c51b7d"
            ],
            [
             0.2,
             "#de77ae"
            ],
            [
             0.3,
             "#f1b6da"
            ],
            [
             0.4,
             "#fde0ef"
            ],
            [
             0.5,
             "#f7f7f7"
            ],
            [
             0.6,
             "#e6f5d0"
            ],
            [
             0.7,
             "#b8e186"
            ],
            [
             0.8,
             "#7fbc41"
            ],
            [
             0.9,
             "#4d9221"
            ],
            [
             1,
             "#276419"
            ]
           ],
           "sequential": [
            [
             0,
             "#0d0887"
            ],
            [
             0.1111111111111111,
             "#46039f"
            ],
            [
             0.2222222222222222,
             "#7201a8"
            ],
            [
             0.3333333333333333,
             "#9c179e"
            ],
            [
             0.4444444444444444,
             "#bd3786"
            ],
            [
             0.5555555555555556,
             "#d8576b"
            ],
            [
             0.6666666666666666,
             "#ed7953"
            ],
            [
             0.7777777777777778,
             "#fb9f3a"
            ],
            [
             0.8888888888888888,
             "#fdca26"
            ],
            [
             1,
             "#f0f921"
            ]
           ],
           "sequentialminus": [
            [
             0,
             "#0d0887"
            ],
            [
             0.1111111111111111,
             "#46039f"
            ],
            [
             0.2222222222222222,
             "#7201a8"
            ],
            [
             0.3333333333333333,
             "#9c179e"
            ],
            [
             0.4444444444444444,
             "#bd3786"
            ],
            [
             0.5555555555555556,
             "#d8576b"
            ],
            [
             0.6666666666666666,
             "#ed7953"
            ],
            [
             0.7777777777777778,
             "#fb9f3a"
            ],
            [
             0.8888888888888888,
             "#fdca26"
            ],
            [
             1,
             "#f0f921"
            ]
           ]
          },
          "colorway": [
           "#636efa",
           "#EF553B",
           "#00cc96",
           "#ab63fa",
           "#FFA15A",
           "#19d3f3",
           "#FF6692",
           "#B6E880",
           "#FF97FF",
           "#FECB52"
          ],
          "font": {
           "color": "#2a3f5f"
          },
          "geo": {
           "bgcolor": "white",
           "lakecolor": "white",
           "landcolor": "#E5ECF6",
           "showlakes": true,
           "showland": true,
           "subunitcolor": "white"
          },
          "hoverlabel": {
           "align": "left"
          },
          "hovermode": "closest",
          "mapbox": {
           "style": "light"
          },
          "paper_bgcolor": "white",
          "plot_bgcolor": "#E5ECF6",
          "polar": {
           "angularaxis": {
            "gridcolor": "white",
            "linecolor": "white",
            "ticks": ""
           },
           "bgcolor": "#E5ECF6",
           "radialaxis": {
            "gridcolor": "white",
            "linecolor": "white",
            "ticks": ""
           }
          },
          "scene": {
           "xaxis": {
            "backgroundcolor": "#E5ECF6",
            "gridcolor": "white",
            "gridwidth": 2,
            "linecolor": "white",
            "showbackground": true,
            "ticks": "",
            "zerolinecolor": "white"
           },
           "yaxis": {
            "backgroundcolor": "#E5ECF6",
            "gridcolor": "white",
            "gridwidth": 2,
            "linecolor": "white",
            "showbackground": true,
            "ticks": "",
            "zerolinecolor": "white"
           },
           "zaxis": {
            "backgroundcolor": "#E5ECF6",
            "gridcolor": "white",
            "gridwidth": 2,
            "linecolor": "white",
            "showbackground": true,
            "ticks": "",
            "zerolinecolor": "white"
           }
          },
          "shapedefaults": {
           "line": {
            "color": "#2a3f5f"
           }
          },
          "ternary": {
           "aaxis": {
            "gridcolor": "white",
            "linecolor": "white",
            "ticks": ""
           },
           "baxis": {
            "gridcolor": "white",
            "linecolor": "white",
            "ticks": ""
           },
           "bgcolor": "#E5ECF6",
           "caxis": {
            "gridcolor": "white",
            "linecolor": "white",
            "ticks": ""
           }
          },
          "title": {
           "x": 0.05
          },
          "xaxis": {
           "automargin": true,
           "gridcolor": "white",
           "linecolor": "white",
           "ticks": "",
           "title": {
            "standoff": 15
           },
           "zerolinecolor": "white",
           "zerolinewidth": 2
          },
          "yaxis": {
           "automargin": true,
           "gridcolor": "white",
           "linecolor": "white",
           "ticks": "",
           "title": {
            "standoff": 15
           },
           "zerolinecolor": "white",
           "zerolinewidth": 2
          }
         }
        },
        "title": {
         "text": "Distribution of Sweetness compared with Fruit"
        },
        "xaxis": {
         "anchor": "y",
         "domain": [
          0,
          1
         ],
         "title": {
          "text": "Sweetness"
         }
        },
        "yaxis": {
         "anchor": "x",
         "domain": [
          0,
          1
         ],
         "title": {
          "text": "count"
         }
        }
       }
      }
     },
     "metadata": {},
     "output_type": "display_data"
    }
   ],
   "source": [
    "# Feature distribution among ['Weight', 'Average diameter', 'Average length', 'Peel hardness', 'Sweetness']\n",
    "# and comparison with TARGET 'Fruit' \n",
    "\n",
    "feature_to_viz = 'Sweetness'\n",
    "\n",
    "fig = histogram_for_single_feature(df_cleaned, feature_to_viz, comparison='Fruit')\n",
    "fig.show()"
   ]
  },
  {
   "cell_type": "code",
   "execution_count": 13,
   "metadata": {},
   "outputs": [
    {
     "data": {
      "application/vnd.plotly.v1+json": {
       "config": {
        "plotlyServerURL": "https://plot.ly"
       },
       "data": [
        {
         "hovertemplate": "Fruit=Apple<br>Sweetness=%{x}<br>Average diameter=%{y}<extra></extra>",
         "legendgroup": "Apple",
         "marker": {
          "color": "#636efa",
          "line": {
           "color": "DarkSlateGrey",
           "width": 2
          },
          "size": 12,
          "symbol": "circle"
         },
         "mode": "markers",
         "name": "Apple",
         "orientation": "v",
         "showlegend": true,
         "type": "scatter",
         "x": [
          2.41,
          3.87,
          2.88,
          2.55,
          3.88,
          3.09,
          2.15,
          3.47,
          2.29,
          2.78,
          2.76,
          3.08,
          2.65,
          2.08,
          3.63,
          3.42,
          2.19,
          2.55,
          4.15,
          3.55,
          2.91,
          3.32,
          2.88,
          3.38,
          2.72,
          2.6,
          4.16,
          2.07,
          2.61,
          3.01,
          2.04,
          3.16,
          3.49,
          3.39,
          2.94,
          2.75,
          2.79,
          3.14,
          3.25,
          3.41,
          1.99,
          2.65,
          2.17,
          2.97,
          3.06,
          2.77,
          3.61,
          3.73,
          2.36,
          3.22,
          2.72,
          3.65,
          2.83,
          2.47,
          3.57,
          3.36,
          2.73,
          3.09,
          2.59,
          3.37,
          3.1,
          2.4,
          2.06,
          2.39,
          3.1,
          2.54,
          2.33,
          3.04,
          2.86,
          4.03,
          3.06,
          2.15,
          3,
          3.12,
          2.93,
          4.21,
          2.41,
          2.52,
          2.57,
          3.3,
          1.41,
          2.79,
          2.69,
          2.86,
          3.78,
          3.11,
          2.45,
          3.85,
          3.04,
          2.93,
          2.73,
          3.06,
          3.01,
          1.93,
          3.32,
          2.78,
          2.6,
          3.27,
          2.35,
          2.89
         ],
         "xaxis": "x",
         "y": [
          89.68,
          73.45,
          81.66,
          36.71,
          75.69,
          61.68,
          69.19,
          67.36,
          61.57,
          76,
          62.8,
          61.39,
          81.04,
          57.52,
          92.68,
          78.12,
          76.9,
          57.4,
          103.01,
          89.21,
          79.47,
          85.08,
          65.46,
          52.63,
          61.31,
          63.83,
          57.79,
          56.62,
          88.81,
          62.95,
          65.35,
          63.91,
          82.85,
          69.46,
          74.64,
          86.79,
          108.89,
          51.89,
          53.64,
          97.42,
          73.01,
          62.8,
          85.37,
          57.17,
          82.86,
          104.34,
          44.54,
          79.3,
          65.58,
          76.47,
          73.23,
          85.41,
          69.23,
          64.21,
          72.63,
          86.6,
          64.74,
          68.39,
          63.54,
          47.35,
          88.98,
          70.98,
          75.74,
          49.53,
          60.22,
          69.7,
          97,
          48.47,
          53.3,
          80.56,
          43.58,
          66.46,
          60.43,
          69.07,
          81.86,
          81.95,
          77.99,
          67.46,
          44.75,
          94.79,
          61.37,
          74.31,
          115.44,
          80.74,
          50.51,
          55.02,
          79.26,
          78.63,
          41.41,
          71.08,
          71.37,
          92.72,
          64.83,
          105.17,
          80.32,
          75.56,
          73.03,
          66.69,
          83.15,
          67.95
         ],
         "yaxis": "y"
        },
        {
         "hovertemplate": "Fruit=Banana<br>Sweetness=%{x}<br>Average diameter=%{y}<extra></extra>",
         "legendgroup": "Banana",
         "marker": {
          "color": "#EF553B",
          "line": {
           "color": "DarkSlateGrey",
           "width": 2
          },
          "size": 12,
          "symbol": "circle"
         },
         "mode": "markers",
         "name": "Banana",
         "orientation": "v",
         "showlegend": true,
         "type": "scatter",
         "x": [
          1.76,
          1.48,
          2.13,
          1.88,
          2,
          2.16,
          2.55,
          1.97,
          2.21,
          1.62,
          1.74,
          1.25,
          2.41,
          2.35,
          2.95,
          2.44,
          1.52,
          1.99,
          1.88,
          1.78,
          1.65,
          1.67,
          1.49,
          1.95,
          2.12,
          2.33,
          2.11,
          2.01,
          2.08,
          1.97,
          2.06,
          1.98,
          1.57,
          1.84,
          1.96,
          2.69,
          2,
          2.89,
          1.97,
          2.12,
          1.92,
          1.54,
          1.84,
          2.04,
          2.35,
          1.58,
          1.61,
          1.79,
          1.93,
          1.84,
          2.73,
          1.44,
          1.89,
          2.08,
          2.59,
          1.66,
          2.52,
          2.57,
          1.84,
          1.49,
          1.97,
          2.39,
          1.65,
          2.43,
          1.88,
          2.17,
          2.36,
          1.27,
          2.63,
          2.04,
          1.68,
          2.06,
          2.31,
          2.45,
          1.66,
          2.08,
          1.5,
          2.01,
          1.43,
          2.13,
          1.68,
          1.91,
          1.97,
          1.68,
          2.2,
          2.71,
          2.44,
          1.95,
          2.21,
          2.06,
          1.89,
          1.39,
          2.12,
          2.27,
          2.06,
          1.97,
          1.99,
          2.42,
          1.8,
          2.24
         ],
         "xaxis": "x",
         "y": [
          162.23,
          204.61,
          194.72,
          227.06,
          207.33,
          218.65,
          232.81,
          151.28,
          211.48,
          197.31,
          218.1,
          119.83,
          208.78,
          176.34,
          284.67,
          139.9,
          207.92,
          209.39,
          171.8,
          167.87,
          207.36,
          232.51,
          299.89,
          152.89,
          200.41,
          217.93,
          201.59,
          228.8,
          180.04,
          197.66,
          224.48,
          145.61,
          165.64,
          256.45,
          219.92,
          240.47,
          165.9,
          173.29,
          212.99,
          166.07,
          238.9,
          170.01,
          158.69,
          246.17,
          195.41,
          190.35,
          202.04,
          169.52,
          174.11,
          165.74,
          214.7,
          238.43,
          150.94,
          148.05,
          188.94,
          212.33,
          168.31,
          197.01,
          162.1,
          234.54,
          211.87,
          227.62,
          280.56,
          214.38,
          183.76,
          168.02,
          154.1,
          209.12,
          159.99,
          208.97,
          183.3,
          244.69,
          230.16,
          266.77,
          217.42,
          193.76,
          187.97,
          203.94,
          158.74,
          224.28,
          223.88,
          227.1,
          285.98,
          155.82,
          210.76,
          228.16,
          252.97,
          236.86,
          154.16,
          208.69,
          260.75,
          248.86,
          209.57,
          181.77,
          265.26,
          230.83,
          174.98,
          124.31,
          188.93,
          200.75
         ],
         "yaxis": "y"
        },
        {
         "hovertemplate": "Fruit=Orange<br>Sweetness=%{x}<br>Average diameter=%{y}<extra></extra>",
         "legendgroup": "Orange",
         "marker": {
          "color": "#00cc96",
          "line": {
           "color": "DarkSlateGrey",
           "width": 2
          },
          "size": 12,
          "symbol": "circle"
         },
         "mode": "markers",
         "name": "Orange",
         "orientation": "v",
         "showlegend": true,
         "type": "scatter",
         "x": [
          3.79,
          5.4,
          5.56,
          4.61,
          5.3,
          3.42,
          5.12,
          4.62,
          5.6,
          4.55,
          5.36,
          6.41,
          3.55,
          5.51,
          6.58,
          4.44,
          4.55,
          4.53,
          4.65,
          3.7,
          4.78,
          4.23,
          6.5,
          4.37,
          5.49,
          4.81,
          6.53,
          5.37,
          6.59,
          5,
          6.17,
          4.49,
          3.02,
          6.95,
          4.79,
          3.26,
          3.85,
          5.98,
          5.5,
          6.2,
          5.72,
          5.7,
          4,
          4.61,
          5.34,
          4.68,
          4.26,
          5.91,
          5.48,
          4.89,
          5.55,
          6.26,
          4.91,
          6.79,
          5.15,
          3.84,
          4.94,
          4.91,
          5.59,
          5.15,
          5.1,
          5.08,
          6.24,
          2.46,
          5.56,
          6.03,
          4.85,
          4.9,
          3.94,
          5.53,
          4.55,
          4.78,
          5.66,
          4.39,
          6.16,
          4.05,
          5.31,
          4.18,
          5.59,
          5.66,
          4.91,
          6.46,
          5.17,
          4.32,
          5.73,
          4.06,
          3.63,
          4.74,
          6.7,
          4.91,
          3.37,
          6.42,
          5.02,
          4.2,
          6.8,
          5.89,
          6.86,
          6.11,
          5,
          5.27
         ],
         "xaxis": "x",
         "y": [
          92.19,
          88.15,
          63.64,
          73.54,
          74.63,
          59.11,
          62.31,
          76.09,
          59.08,
          31.12,
          65.1,
          50.08,
          75.92,
          68.81,
          77.33,
          72.25,
          72.23,
          56.6,
          78.44,
          58.61,
          64.57,
          86.03,
          61.42,
          63.46,
          76.73,
          77.56,
          44.38,
          52.46,
          80.79,
          44.69,
          82.39,
          62.68,
          69.45,
          63.43,
          84.3,
          65.35,
          30.77,
          70.36,
          79.32,
          81.33,
          82.31,
          95.31,
          70.02,
          94.66,
          70.95,
          73.99,
          77.93,
          79.63,
          56.02,
          66.65,
          74.75,
          84.83,
          81.45,
          88.98,
          68.53,
          53.02,
          94.37,
          64.36,
          74.17,
          69.16,
          54.13,
          81.91,
          96.13,
          78.73,
          65.02,
          73.38,
          50.67,
          48.32,
          82.78,
          73.18,
          58.85,
          51.62,
          65.18,
          72.32,
          49.67,
          46.42,
          89.64,
          73.02,
          56.6,
          55.93,
          71.21,
          86.94,
          71.58,
          48.19,
          70.53,
          54.57,
          73.45,
          60.76,
          56.4,
          74.98,
          81.23,
          97.53,
          82.17,
          75.61,
          84.02,
          67.44,
          57.99,
          61.82,
          64.94,
          70.37
         ],
         "yaxis": "y"
        },
        {
         "hovertemplate": "Fruit=Grape<br>Sweetness=%{x}<br>Average diameter=%{y}<extra></extra>",
         "legendgroup": "Grape",
         "marker": {
          "color": "#ab63fa",
          "line": {
           "color": "DarkSlateGrey",
           "width": 2
          },
          "size": 12,
          "symbol": "circle"
         },
         "mode": "markers",
         "name": "Grape",
         "orientation": "v",
         "showlegend": true,
         "type": "scatter",
         "x": [
          3.49,
          3.78,
          3.4,
          3.76,
          4.07,
          3.23,
          4.39,
          2.95,
          4.08,
          3.91,
          3.77,
          3.8,
          3.61,
          5.37,
          4.63,
          3.8,
          3.91,
          3.78,
          3.74,
          4.22,
          4.97,
          3.15,
          3.31,
          3.71,
          3.2,
          4.06,
          5.26,
          4.84,
          4.26,
          3.12,
          2.78,
          3.41,
          4.13,
          3.23,
          4.74,
          3.52,
          4.53,
          4.85,
          5.09,
          4.58,
          4.08,
          4.31,
          3.48,
          2.75,
          5.11,
          4.39,
          4.1,
          5.03,
          3.91,
          5.23,
          5.37,
          5.13,
          5.12,
          2.95,
          4.53,
          3.53,
          4.42,
          4.72,
          4.85,
          2.81,
          3.21,
          5.83,
          3.12,
          3.25,
          4.11,
          4.86,
          3.59,
          3.29,
          3.76,
          3.84,
          4.45,
          3.54,
          4.23,
          4.71,
          3.61,
          3.25,
          3.5,
          3.06,
          4.74,
          3.57,
          3.51,
          4.68,
          3.55,
          3.9,
          3.39,
          5.19,
          3.91,
          3.04,
          3.03,
          3.84,
          4.39,
          3.14,
          4.62,
          3.02,
          5.12,
          3.5,
          5.1,
          3.76,
          3.82,
          3.82
         ],
         "xaxis": "x",
         "y": [
          25.73,
          18.55,
          16.95,
          16.9,
          20.09,
          18.78,
          19.2,
          14.54,
          20.27,
          25.69,
          17.44,
          19.76,
          21.1,
          21.79,
          13.4,
          18.57,
          21.19,
          20.15,
          25.03,
          25.94,
          19.38,
          24.22,
          22.71,
          23.49,
          20.04,
          11.28,
          23.6,
          24.47,
          25.08,
          23.1,
          19.36,
          14.96,
          20.79,
          13.87,
          16.92,
          22.57,
          7.53,
          19.61,
          22.97,
          18.86,
          17.03,
          13.22,
          20.35,
          31.72,
          15.21,
          22.01,
          26.89,
          21.29,
          26.51,
          21.82,
          21.64,
          18.15,
          8.67,
          25.21,
          19.2,
          27.58,
          18.01,
          10.51,
          14.4,
          16.14,
          17.15,
          18.8,
          23.24,
          13.26,
          19.06,
          22,
          15.61,
          23.25,
          16.6,
          27.19,
          22.72,
          16.92,
          14.52,
          13.33,
          19.25,
          19.07,
          21.33,
          12.65,
          19.85,
          19.82,
          14.77,
          20.29,
          29.86,
          18.93,
          18.27,
          18.16,
          22.6,
          22.33,
          18.32,
          17.39,
          13.83,
          27.84,
          12.78,
          9.12,
          20.68,
          12.8,
          22.04,
          20.42,
          19.56,
          18.04
         ],
         "yaxis": "y"
        },
        {
         "hovertemplate": "Fruit=Kiwi<br>Sweetness=%{x}<br>Average diameter=%{y}<extra></extra>",
         "legendgroup": "Kiwi",
         "marker": {
          "color": "#FFA15A",
          "line": {
           "color": "DarkSlateGrey",
           "width": 2
          },
          "size": 12,
          "symbol": "circle"
         },
         "mode": "markers",
         "name": "Kiwi",
         "orientation": "v",
         "showlegend": true,
         "type": "scatter",
         "x": [
          4.38,
          3.86,
          4.99,
          3.59,
          4.19,
          2.39,
          3.47,
          3.62,
          2.8,
          4.08,
          2.33,
          3.93,
          3.46,
          3.31,
          4.62,
          4.79,
          4.46,
          2.16,
          4.43,
          2.89,
          4.38,
          4.2,
          4.83,
          4.48,
          3.86,
          4.27,
          3.83,
          4,
          2.5,
          3.95,
          3.97,
          2.4,
          4.32,
          2.25,
          3.13,
          3.29,
          5.61,
          4.7,
          4.82,
          2.67,
          3.98,
          4.3,
          4.11,
          4.33,
          5.46,
          3.42,
          3.73,
          4.06,
          4.08,
          4.08,
          4.22,
          3.97,
          3.59,
          3.6,
          5.8,
          5.28,
          3.55,
          3.21,
          3.73,
          5.57,
          3.24,
          3.44,
          4.81,
          4.25,
          5.26,
          3.75,
          2.61,
          3.2,
          4.22,
          4,
          3.75,
          4.38,
          3.09,
          3.21,
          3.55,
          3.33,
          5.87,
          2.74,
          3.83,
          3.84,
          3.73,
          5.15,
          4.17,
          3.88,
          3.41,
          3.22,
          3.08,
          3.67,
          3.83,
          4.49,
          2.98,
          4.13,
          4.64,
          4.29,
          3.95,
          5.56,
          4.68,
          4.36,
          4.13,
          3.94
         ],
         "xaxis": "x",
         "y": [
          69.81,
          79.37,
          66.83,
          77.18,
          62.29,
          50.81,
          79.78,
          64.26,
          96.73,
          93.14,
          75.58,
          53.29,
          48.4,
          78.88,
          79.86,
          95.97,
          79.4,
          67.37,
          68.85,
          57.02,
          88.61,
          69.38,
          58.29,
          86.02,
          82.61,
          71.77,
          66.18,
          62.74,
          85.23,
          69.23,
          74.14,
          69.38,
          59.37,
          78.41,
          57.11,
          57.62,
          46.4,
          88.79,
          69.16,
          71.25,
          76.23,
          42.15,
          49,
          67.13,
          73.12,
          66.4,
          57.75,
          59.02,
          67.43,
          79.37,
          47.57,
          77.77,
          53.98,
          54.63,
          79.52,
          59.68,
          86.48,
          83.75,
          57.22,
          80.51,
          62.49,
          55.37,
          71.41,
          54.49,
          48.61,
          81.11,
          50.51,
          78.08,
          80.97,
          59.71,
          71.96,
          82.12,
          85.16,
          84.31,
          79.81,
          67.57,
          55.48,
          91.33,
          81.57,
          77.86,
          76.27,
          84.75,
          88.1,
          51.48,
          68.18,
          58.01,
          84.17,
          77.87,
          65.4,
          78.28,
          86.51,
          46.01,
          56.87,
          51.51,
          87.38,
          67.52,
          62.95,
          71.43,
          65.23,
          57.3
         ],
         "yaxis": "y"
        }
       ],
       "layout": {
        "legend": {
         "title": {
          "text": "Fruit"
         },
         "tracegroupgap": 0
        },
        "template": {
         "data": {
          "bar": [
           {
            "error_x": {
             "color": "#2a3f5f"
            },
            "error_y": {
             "color": "#2a3f5f"
            },
            "marker": {
             "line": {
              "color": "#E5ECF6",
              "width": 0.5
             },
             "pattern": {
              "fillmode": "overlay",
              "size": 10,
              "solidity": 0.2
             }
            },
            "type": "bar"
           }
          ],
          "barpolar": [
           {
            "marker": {
             "line": {
              "color": "#E5ECF6",
              "width": 0.5
             },
             "pattern": {
              "fillmode": "overlay",
              "size": 10,
              "solidity": 0.2
             }
            },
            "type": "barpolar"
           }
          ],
          "carpet": [
           {
            "aaxis": {
             "endlinecolor": "#2a3f5f",
             "gridcolor": "white",
             "linecolor": "white",
             "minorgridcolor": "white",
             "startlinecolor": "#2a3f5f"
            },
            "baxis": {
             "endlinecolor": "#2a3f5f",
             "gridcolor": "white",
             "linecolor": "white",
             "minorgridcolor": "white",
             "startlinecolor": "#2a3f5f"
            },
            "type": "carpet"
           }
          ],
          "choropleth": [
           {
            "colorbar": {
             "outlinewidth": 0,
             "ticks": ""
            },
            "type": "choropleth"
           }
          ],
          "contour": [
           {
            "colorbar": {
             "outlinewidth": 0,
             "ticks": ""
            },
            "colorscale": [
             [
              0,
              "#0d0887"
             ],
             [
              0.1111111111111111,
              "#46039f"
             ],
             [
              0.2222222222222222,
              "#7201a8"
             ],
             [
              0.3333333333333333,
              "#9c179e"
             ],
             [
              0.4444444444444444,
              "#bd3786"
             ],
             [
              0.5555555555555556,
              "#d8576b"
             ],
             [
              0.6666666666666666,
              "#ed7953"
             ],
             [
              0.7777777777777778,
              "#fb9f3a"
             ],
             [
              0.8888888888888888,
              "#fdca26"
             ],
             [
              1,
              "#f0f921"
             ]
            ],
            "type": "contour"
           }
          ],
          "contourcarpet": [
           {
            "colorbar": {
             "outlinewidth": 0,
             "ticks": ""
            },
            "type": "contourcarpet"
           }
          ],
          "heatmap": [
           {
            "colorbar": {
             "outlinewidth": 0,
             "ticks": ""
            },
            "colorscale": [
             [
              0,
              "#0d0887"
             ],
             [
              0.1111111111111111,
              "#46039f"
             ],
             [
              0.2222222222222222,
              "#7201a8"
             ],
             [
              0.3333333333333333,
              "#9c179e"
             ],
             [
              0.4444444444444444,
              "#bd3786"
             ],
             [
              0.5555555555555556,
              "#d8576b"
             ],
             [
              0.6666666666666666,
              "#ed7953"
             ],
             [
              0.7777777777777778,
              "#fb9f3a"
             ],
             [
              0.8888888888888888,
              "#fdca26"
             ],
             [
              1,
              "#f0f921"
             ]
            ],
            "type": "heatmap"
           }
          ],
          "heatmapgl": [
           {
            "colorbar": {
             "outlinewidth": 0,
             "ticks": ""
            },
            "colorscale": [
             [
              0,
              "#0d0887"
             ],
             [
              0.1111111111111111,
              "#46039f"
             ],
             [
              0.2222222222222222,
              "#7201a8"
             ],
             [
              0.3333333333333333,
              "#9c179e"
             ],
             [
              0.4444444444444444,
              "#bd3786"
             ],
             [
              0.5555555555555556,
              "#d8576b"
             ],
             [
              0.6666666666666666,
              "#ed7953"
             ],
             [
              0.7777777777777778,
              "#fb9f3a"
             ],
             [
              0.8888888888888888,
              "#fdca26"
             ],
             [
              1,
              "#f0f921"
             ]
            ],
            "type": "heatmapgl"
           }
          ],
          "histogram": [
           {
            "marker": {
             "pattern": {
              "fillmode": "overlay",
              "size": 10,
              "solidity": 0.2
             }
            },
            "type": "histogram"
           }
          ],
          "histogram2d": [
           {
            "colorbar": {
             "outlinewidth": 0,
             "ticks": ""
            },
            "colorscale": [
             [
              0,
              "#0d0887"
             ],
             [
              0.1111111111111111,
              "#46039f"
             ],
             [
              0.2222222222222222,
              "#7201a8"
             ],
             [
              0.3333333333333333,
              "#9c179e"
             ],
             [
              0.4444444444444444,
              "#bd3786"
             ],
             [
              0.5555555555555556,
              "#d8576b"
             ],
             [
              0.6666666666666666,
              "#ed7953"
             ],
             [
              0.7777777777777778,
              "#fb9f3a"
             ],
             [
              0.8888888888888888,
              "#fdca26"
             ],
             [
              1,
              "#f0f921"
             ]
            ],
            "type": "histogram2d"
           }
          ],
          "histogram2dcontour": [
           {
            "colorbar": {
             "outlinewidth": 0,
             "ticks": ""
            },
            "colorscale": [
             [
              0,
              "#0d0887"
             ],
             [
              0.1111111111111111,
              "#46039f"
             ],
             [
              0.2222222222222222,
              "#7201a8"
             ],
             [
              0.3333333333333333,
              "#9c179e"
             ],
             [
              0.4444444444444444,
              "#bd3786"
             ],
             [
              0.5555555555555556,
              "#d8576b"
             ],
             [
              0.6666666666666666,
              "#ed7953"
             ],
             [
              0.7777777777777778,
              "#fb9f3a"
             ],
             [
              0.8888888888888888,
              "#fdca26"
             ],
             [
              1,
              "#f0f921"
             ]
            ],
            "type": "histogram2dcontour"
           }
          ],
          "mesh3d": [
           {
            "colorbar": {
             "outlinewidth": 0,
             "ticks": ""
            },
            "type": "mesh3d"
           }
          ],
          "parcoords": [
           {
            "line": {
             "colorbar": {
              "outlinewidth": 0,
              "ticks": ""
             }
            },
            "type": "parcoords"
           }
          ],
          "pie": [
           {
            "automargin": true,
            "type": "pie"
           }
          ],
          "scatter": [
           {
            "fillpattern": {
             "fillmode": "overlay",
             "size": 10,
             "solidity": 0.2
            },
            "type": "scatter"
           }
          ],
          "scatter3d": [
           {
            "line": {
             "colorbar": {
              "outlinewidth": 0,
              "ticks": ""
             }
            },
            "marker": {
             "colorbar": {
              "outlinewidth": 0,
              "ticks": ""
             }
            },
            "type": "scatter3d"
           }
          ],
          "scattercarpet": [
           {
            "marker": {
             "colorbar": {
              "outlinewidth": 0,
              "ticks": ""
             }
            },
            "type": "scattercarpet"
           }
          ],
          "scattergeo": [
           {
            "marker": {
             "colorbar": {
              "outlinewidth": 0,
              "ticks": ""
             }
            },
            "type": "scattergeo"
           }
          ],
          "scattergl": [
           {
            "marker": {
             "colorbar": {
              "outlinewidth": 0,
              "ticks": ""
             }
            },
            "type": "scattergl"
           }
          ],
          "scattermapbox": [
           {
            "marker": {
             "colorbar": {
              "outlinewidth": 0,
              "ticks": ""
             }
            },
            "type": "scattermapbox"
           }
          ],
          "scatterpolar": [
           {
            "marker": {
             "colorbar": {
              "outlinewidth": 0,
              "ticks": ""
             }
            },
            "type": "scatterpolar"
           }
          ],
          "scatterpolargl": [
           {
            "marker": {
             "colorbar": {
              "outlinewidth": 0,
              "ticks": ""
             }
            },
            "type": "scatterpolargl"
           }
          ],
          "scatterternary": [
           {
            "marker": {
             "colorbar": {
              "outlinewidth": 0,
              "ticks": ""
             }
            },
            "type": "scatterternary"
           }
          ],
          "surface": [
           {
            "colorbar": {
             "outlinewidth": 0,
             "ticks": ""
            },
            "colorscale": [
             [
              0,
              "#0d0887"
             ],
             [
              0.1111111111111111,
              "#46039f"
             ],
             [
              0.2222222222222222,
              "#7201a8"
             ],
             [
              0.3333333333333333,
              "#9c179e"
             ],
             [
              0.4444444444444444,
              "#bd3786"
             ],
             [
              0.5555555555555556,
              "#d8576b"
             ],
             [
              0.6666666666666666,
              "#ed7953"
             ],
             [
              0.7777777777777778,
              "#fb9f3a"
             ],
             [
              0.8888888888888888,
              "#fdca26"
             ],
             [
              1,
              "#f0f921"
             ]
            ],
            "type": "surface"
           }
          ],
          "table": [
           {
            "cells": {
             "fill": {
              "color": "#EBF0F8"
             },
             "line": {
              "color": "white"
             }
            },
            "header": {
             "fill": {
              "color": "#C8D4E3"
             },
             "line": {
              "color": "white"
             }
            },
            "type": "table"
           }
          ]
         },
         "layout": {
          "annotationdefaults": {
           "arrowcolor": "#2a3f5f",
           "arrowhead": 0,
           "arrowwidth": 1
          },
          "autotypenumbers": "strict",
          "coloraxis": {
           "colorbar": {
            "outlinewidth": 0,
            "ticks": ""
           }
          },
          "colorscale": {
           "diverging": [
            [
             0,
             "#8e0152"
            ],
            [
             0.1,
             "#c51b7d"
            ],
            [
             0.2,
             "#de77ae"
            ],
            [
             0.3,
             "#f1b6da"
            ],
            [
             0.4,
             "#fde0ef"
            ],
            [
             0.5,
             "#f7f7f7"
            ],
            [
             0.6,
             "#e6f5d0"
            ],
            [
             0.7,
             "#b8e186"
            ],
            [
             0.8,
             "#7fbc41"
            ],
            [
             0.9,
             "#4d9221"
            ],
            [
             1,
             "#276419"
            ]
           ],
           "sequential": [
            [
             0,
             "#0d0887"
            ],
            [
             0.1111111111111111,
             "#46039f"
            ],
            [
             0.2222222222222222,
             "#7201a8"
            ],
            [
             0.3333333333333333,
             "#9c179e"
            ],
            [
             0.4444444444444444,
             "#bd3786"
            ],
            [
             0.5555555555555556,
             "#d8576b"
            ],
            [
             0.6666666666666666,
             "#ed7953"
            ],
            [
             0.7777777777777778,
             "#fb9f3a"
            ],
            [
             0.8888888888888888,
             "#fdca26"
            ],
            [
             1,
             "#f0f921"
            ]
           ],
           "sequentialminus": [
            [
             0,
             "#0d0887"
            ],
            [
             0.1111111111111111,
             "#46039f"
            ],
            [
             0.2222222222222222,
             "#7201a8"
            ],
            [
             0.3333333333333333,
             "#9c179e"
            ],
            [
             0.4444444444444444,
             "#bd3786"
            ],
            [
             0.5555555555555556,
             "#d8576b"
            ],
            [
             0.6666666666666666,
             "#ed7953"
            ],
            [
             0.7777777777777778,
             "#fb9f3a"
            ],
            [
             0.8888888888888888,
             "#fdca26"
            ],
            [
             1,
             "#f0f921"
            ]
           ]
          },
          "colorway": [
           "#636efa",
           "#EF553B",
           "#00cc96",
           "#ab63fa",
           "#FFA15A",
           "#19d3f3",
           "#FF6692",
           "#B6E880",
           "#FF97FF",
           "#FECB52"
          ],
          "font": {
           "color": "#2a3f5f"
          },
          "geo": {
           "bgcolor": "white",
           "lakecolor": "white",
           "landcolor": "#E5ECF6",
           "showlakes": true,
           "showland": true,
           "subunitcolor": "white"
          },
          "hoverlabel": {
           "align": "left"
          },
          "hovermode": "closest",
          "mapbox": {
           "style": "light"
          },
          "paper_bgcolor": "white",
          "plot_bgcolor": "#E5ECF6",
          "polar": {
           "angularaxis": {
            "gridcolor": "white",
            "linecolor": "white",
            "ticks": ""
           },
           "bgcolor": "#E5ECF6",
           "radialaxis": {
            "gridcolor": "white",
            "linecolor": "white",
            "ticks": ""
           }
          },
          "scene": {
           "xaxis": {
            "backgroundcolor": "#E5ECF6",
            "gridcolor": "white",
            "gridwidth": 2,
            "linecolor": "white",
            "showbackground": true,
            "ticks": "",
            "zerolinecolor": "white"
           },
           "yaxis": {
            "backgroundcolor": "#E5ECF6",
            "gridcolor": "white",
            "gridwidth": 2,
            "linecolor": "white",
            "showbackground": true,
            "ticks": "",
            "zerolinecolor": "white"
           },
           "zaxis": {
            "backgroundcolor": "#E5ECF6",
            "gridcolor": "white",
            "gridwidth": 2,
            "linecolor": "white",
            "showbackground": true,
            "ticks": "",
            "zerolinecolor": "white"
           }
          },
          "shapedefaults": {
           "line": {
            "color": "#2a3f5f"
           }
          },
          "ternary": {
           "aaxis": {
            "gridcolor": "white",
            "linecolor": "white",
            "ticks": ""
           },
           "baxis": {
            "gridcolor": "white",
            "linecolor": "white",
            "ticks": ""
           },
           "bgcolor": "#E5ECF6",
           "caxis": {
            "gridcolor": "white",
            "linecolor": "white",
            "ticks": ""
           }
          },
          "title": {
           "x": 0.05
          },
          "xaxis": {
           "automargin": true,
           "gridcolor": "white",
           "linecolor": "white",
           "ticks": "",
           "title": {
            "standoff": 15
           },
           "zerolinecolor": "white",
           "zerolinewidth": 2
          },
          "yaxis": {
           "automargin": true,
           "gridcolor": "white",
           "linecolor": "white",
           "ticks": "",
           "title": {
            "standoff": 15
           },
           "zerolinecolor": "white",
           "zerolinewidth": 2
          }
         }
        },
        "title": {
         "text": "Scatter Plot Sweetness vs Average diameter with target column comparison"
        },
        "xaxis": {
         "anchor": "y",
         "domain": [
          0,
          1
         ],
         "title": {
          "text": "Sweetness"
         }
        },
        "yaxis": {
         "anchor": "x",
         "domain": [
          0,
          1
         ],
         "title": {
          "text": "Average diameter"
         }
        }
       }
      }
     },
     "metadata": {},
     "output_type": "display_data"
    }
   ],
   "source": [
    "# Scatter plot among ['Weight', 'Average diameter', 'Average length', 'Peel hardness', 'Sweetness']\n",
    "# and comparison with TARGET 'Fruit' \n",
    "\n",
    "feature_x = 'Sweetness'\n",
    "feature_y = 'Average diameter'\n",
    "\n",
    "fig = scatter_plot(df_cleaned, feature_x, feature_y, target='Fruit')\n",
    "fig.show()"
   ]
  },
  {
   "cell_type": "code",
   "execution_count": 14,
   "metadata": {},
   "outputs": [
    {
     "data": {
      "application/vnd.jupyter.widget-view+json": {
       "model_id": "7286d2f125384d17a3aecb21c58acc69",
       "version_major": 2,
       "version_minor": 0
      },
      "text/plain": [
       "Box(children=(HTML(value='\\n<div id=\"ifr-pyg-000622523127f5c7NDoPsWQgcOiUMh50\" style=\"height: auto\">\\n    <hea…"
      ]
     },
     "metadata": {},
     "output_type": "display_data"
    },
    {
     "data": {
      "text/html": [
       "<script>\n",
       "    window.addEventListener(\"message\", function(event) {\n",
       "        const backgroundMap = {\n",
       "            \"dark\": \"hsl(240 10% 3.9%)\",\n",
       "            \"light\": \"hsl(0 0 100%)\",\n",
       "        };\n",
       "        const colorMap = {\n",
       "            \"dark\": \"hsl(0 0% 98%)\",\n",
       "            \"light\": \"hsl(240 10% 3.9%)\",\n",
       "        };\n",
       "        if (event.data.action === \"changeAppearance\" && event.data.gid === \"000622523127f5c7NDoPsWQgcOiUMh50\") {\n",
       "            var iframe = document.getElementById(\"gwalker-000622523127f5c7NDoPsWQgcOiUMh50\");\n",
       "            iframe.style.background  = backgroundMap[event.data.appearance];\n",
       "            iframe.style.color = colorMap[event.data.appearance];\n",
       "        }\n",
       "    });\n",
       "</script>"
      ],
      "text/plain": [
       "<IPython.core.display.HTML object>"
      ]
     },
     "metadata": {},
     "output_type": "display_data"
    },
    {
     "data": {
      "text/html": [],
      "text/plain": [
       "<IPython.core.display.HTML object>"
      ]
     },
     "metadata": {},
     "output_type": "display_data"
    },
    {
     "data": {
      "text/plain": [
       "<pygwalker.api.pygwalker.PygWalker at 0x28b1cef90>"
      ]
     },
     "execution_count": 14,
     "metadata": {},
     "output_type": "execute_result"
    }
   ],
   "source": [
    "# Visualization Dashboard using PYGWALKER, you can see interactively the last plots\n",
    "# You can save the json file for the configuration you want to visualize and make other people see it using this code:\n",
    "# pyg.walk(df_cleaned, spec=\"Images/pygwalker_config_1.json\")\n",
    "\n",
    "\n",
    "walk(df_cleaned)"
   ]
  },
  {
   "cell_type": "markdown",
   "metadata": {},
   "source": [
    "## Feature Engineering \n",
    "\n",
    "Two options:\n",
    "* Feature scaling only with MinMaxScaler method: \n",
    "    - it allows me to have all features in the same range of values [0,1]\n",
    "    -  intuitive and fast to implement\n",
    "* Feature scaling only with StandardScaler method:\n",
    "    - it's useful to get stable and robust distributions from a statistically point of view, bringing all features to mean 0 and std 1\n",
    "    - in this dataset, features are close, or at least quite close, to normal distribution\n",
    "\n",
    "**My decision** is to use `StandardScaler` because:\n",
    "1. in this dataset, there are feature that should be normally distributed. All of them are properties of some fruits, so increasing the numebr of instances I think they will follow a Gaussian distribution\n",
    "2. MinMax scaler compresses data to a fixed range, it could cause a loss of significant information"
   ]
  },
  {
   "cell_type": "code",
   "execution_count": 15,
   "metadata": {},
   "outputs": [
    {
     "data": {
      "text/html": [
       "<div>\n",
       "<style scoped>\n",
       "    .dataframe tbody tr th:only-of-type {\n",
       "        vertical-align: middle;\n",
       "    }\n",
       "\n",
       "    .dataframe tbody tr th {\n",
       "        vertical-align: top;\n",
       "    }\n",
       "\n",
       "    .dataframe thead th {\n",
       "        text-align: right;\n",
       "    }\n",
       "</style>\n",
       "<table border=\"1\" class=\"dataframe\">\n",
       "  <thead>\n",
       "    <tr style=\"text-align: right;\">\n",
       "      <th></th>\n",
       "      <th>Weight</th>\n",
       "      <th>Average diameter</th>\n",
       "      <th>Average length</th>\n",
       "      <th>Peel hardness</th>\n",
       "      <th>Sweetness</th>\n",
       "    </tr>\n",
       "  </thead>\n",
       "  <tbody>\n",
       "    <tr>\n",
       "      <th>count</th>\n",
       "      <td>500.00</td>\n",
       "      <td>500.00</td>\n",
       "      <td>500.00</td>\n",
       "      <td>500.00</td>\n",
       "      <td>500.00</td>\n",
       "    </tr>\n",
       "    <tr>\n",
       "      <th>mean</th>\n",
       "      <td>0.38</td>\n",
       "      <td>0.27</td>\n",
       "      <td>0.42</td>\n",
       "      <td>0.41</td>\n",
       "      <td>0.41</td>\n",
       "    </tr>\n",
       "    <tr>\n",
       "      <th>std</th>\n",
       "      <td>0.26</td>\n",
       "      <td>0.22</td>\n",
       "      <td>0.26</td>\n",
       "      <td>0.17</td>\n",
       "      <td>0.22</td>\n",
       "    </tr>\n",
       "    <tr>\n",
       "      <th>min</th>\n",
       "      <td>0.00</td>\n",
       "      <td>0.00</td>\n",
       "      <td>0.00</td>\n",
       "      <td>0.00</td>\n",
       "      <td>0.00</td>\n",
       "    </tr>\n",
       "    <tr>\n",
       "      <th>25%</th>\n",
       "      <td>0.16</td>\n",
       "      <td>0.15</td>\n",
       "      <td>0.15</td>\n",
       "      <td>0.29</td>\n",
       "      <td>0.23</td>\n",
       "    </tr>\n",
       "    <tr>\n",
       "      <th>50%</th>\n",
       "      <td>0.33</td>\n",
       "      <td>0.22</td>\n",
       "      <td>0.45</td>\n",
       "      <td>0.40</td>\n",
       "      <td>0.40</td>\n",
       "    </tr>\n",
       "    <tr>\n",
       "      <th>75%</th>\n",
       "      <td>0.58</td>\n",
       "      <td>0.28</td>\n",
       "      <td>0.63</td>\n",
       "      <td>0.52</td>\n",
       "      <td>0.56</td>\n",
       "    </tr>\n",
       "    <tr>\n",
       "      <th>max</th>\n",
       "      <td>1.00</td>\n",
       "      <td>1.00</td>\n",
       "      <td>1.00</td>\n",
       "      <td>1.00</td>\n",
       "      <td>1.00</td>\n",
       "    </tr>\n",
       "  </tbody>\n",
       "</table>\n",
       "</div>"
      ],
      "text/plain": [
       "       Weight Average diameter Average length Peel hardness Sweetness\n",
       "count  500.00           500.00         500.00        500.00    500.00\n",
       "mean     0.38             0.27           0.42          0.41      0.41\n",
       "std      0.26             0.22           0.26          0.17      0.22\n",
       "min      0.00             0.00           0.00          0.00      0.00\n",
       "25%      0.16             0.15           0.15          0.29      0.23\n",
       "50%      0.33             0.22           0.45          0.40      0.40\n",
       "75%      0.58             0.28           0.63          0.52      0.56\n",
       "max      1.00             1.00           1.00          1.00      1.00"
      ]
     },
     "execution_count": 15,
     "metadata": {},
     "output_type": "execute_result"
    }
   ],
   "source": [
    "# Feature scaling with MinMaxScaler method\n",
    "\n",
    "df_minmax_transformed = feature_scaling(df_cleaned, method = 'MinMax')\n",
    "df_minmax_transformed.describe().map(lambda x: f\"{x:.2f}\")"
   ]
  },
  {
   "cell_type": "code",
   "execution_count": 16,
   "metadata": {},
   "outputs": [
    {
     "data": {
      "text/html": [
       "<div>\n",
       "<style scoped>\n",
       "    .dataframe tbody tr th:only-of-type {\n",
       "        vertical-align: middle;\n",
       "    }\n",
       "\n",
       "    .dataframe tbody tr th {\n",
       "        vertical-align: top;\n",
       "    }\n",
       "\n",
       "    .dataframe thead th {\n",
       "        text-align: right;\n",
       "    }\n",
       "</style>\n",
       "<table border=\"1\" class=\"dataframe\">\n",
       "  <thead>\n",
       "    <tr style=\"text-align: right;\">\n",
       "      <th></th>\n",
       "      <th>Weight</th>\n",
       "      <th>Average diameter</th>\n",
       "      <th>Average length</th>\n",
       "      <th>Peel hardness</th>\n",
       "      <th>Sweetness</th>\n",
       "    </tr>\n",
       "  </thead>\n",
       "  <tbody>\n",
       "    <tr>\n",
       "      <th>count</th>\n",
       "      <td>500.00</td>\n",
       "      <td>500.00</td>\n",
       "      <td>500.00</td>\n",
       "      <td>500.00</td>\n",
       "      <td>500.00</td>\n",
       "    </tr>\n",
       "    <tr>\n",
       "      <th>mean</th>\n",
       "      <td>-0.00</td>\n",
       "      <td>-0.00</td>\n",
       "      <td>0.00</td>\n",
       "      <td>0.00</td>\n",
       "      <td>-0.00</td>\n",
       "    </tr>\n",
       "    <tr>\n",
       "      <th>std</th>\n",
       "      <td>1.00</td>\n",
       "      <td>1.00</td>\n",
       "      <td>1.00</td>\n",
       "      <td>1.00</td>\n",
       "      <td>1.00</td>\n",
       "    </tr>\n",
       "    <tr>\n",
       "      <th>min</th>\n",
       "      <td>-1.45</td>\n",
       "      <td>-1.23</td>\n",
       "      <td>-1.57</td>\n",
       "      <td>-2.41</td>\n",
       "      <td>-1.85</td>\n",
       "    </tr>\n",
       "    <tr>\n",
       "      <th>25%</th>\n",
       "      <td>-0.84</td>\n",
       "      <td>-0.56</td>\n",
       "      <td>-0.99</td>\n",
       "      <td>-0.71</td>\n",
       "      <td>-0.81</td>\n",
       "    </tr>\n",
       "    <tr>\n",
       "      <th>50%</th>\n",
       "      <td>-0.18</td>\n",
       "      <td>-0.25</td>\n",
       "      <td>0.14</td>\n",
       "      <td>-0.05</td>\n",
       "      <td>-0.05</td>\n",
       "    </tr>\n",
       "    <tr>\n",
       "      <th>75%</th>\n",
       "      <td>0.78</td>\n",
       "      <td>0.04</td>\n",
       "      <td>0.82</td>\n",
       "      <td>0.65</td>\n",
       "      <td>0.69</td>\n",
       "    </tr>\n",
       "    <tr>\n",
       "      <th>max</th>\n",
       "      <td>2.39</td>\n",
       "      <td>3.32</td>\n",
       "      <td>2.21</td>\n",
       "      <td>3.47</td>\n",
       "      <td>2.66</td>\n",
       "    </tr>\n",
       "  </tbody>\n",
       "</table>\n",
       "</div>"
      ],
      "text/plain": [
       "       Weight Average diameter Average length Peel hardness Sweetness\n",
       "count  500.00           500.00         500.00        500.00    500.00\n",
       "mean    -0.00            -0.00           0.00          0.00     -0.00\n",
       "std      1.00             1.00           1.00          1.00      1.00\n",
       "min     -1.45            -1.23          -1.57         -2.41     -1.85\n",
       "25%     -0.84            -0.56          -0.99         -0.71     -0.81\n",
       "50%     -0.18            -0.25           0.14         -0.05     -0.05\n",
       "75%      0.78             0.04           0.82          0.65      0.69\n",
       "max      2.39             3.32           2.21          3.47      2.66"
      ]
     },
     "execution_count": 16,
     "metadata": {},
     "output_type": "execute_result"
    }
   ],
   "source": [
    "# Feature scaling with StandardScaler method\n",
    "\n",
    "df_standard_transformed = feature_scaling(df_cleaned, method = 'Standard')\n",
    "df_standard_transformed.describe().map(lambda x: f'{x:.2f}')"
   ]
  },
  {
   "cell_type": "markdown",
   "metadata": {},
   "source": [
    "## Visualization after feature engineering\n",
    "\n",
    "This is a section to visualize the transformed data using:\n",
    "* distplot with normal distribution, with also histogram and rug plot for each feature\n",
    "* distribution with histogram and box plot for each feature, including meand and std values\n",
    "* scatter plots with target column comparison"
   ]
  },
  {
   "cell_type": "code",
   "execution_count": 17,
   "metadata": {},
   "outputs": [
    {
     "data": {
      "application/vnd.plotly.v1+json": {
       "config": {
        "plotlyServerURL": "https://plot.ly"
       },
       "data": [
        {
         "autobinx": false,
         "histnorm": "probability density",
         "legendgroup": "Peel hardness",
         "marker": {
          "color": "coral"
         },
         "name": "Peel hardness",
         "opacity": 0.7,
         "type": "histogram",
         "x": [
          1.1997118674333318,
          -0.13123954048907902,
          0.9125356300392847,
          0.42654507444935924,
          0.9456713497385981,
          -0.5123003170311803,
          -1.0535170721199614,
          -1.208150430716756,
          -0.6393205758785471,
          -0.733205115026601,
          -0.10362644073965149,
          0.32161529540153355,
          -0.9154515733728232,
          0.11727835725576964,
          -1.0700849319696182,
          0.034439058007486596,
          1.2162797272829888,
          -0.5620038965801499,
          -0.9099289534229379,
          0.23325337620336561,
          -0.7773860746256852,
          -0.8381348940744261,
          0.20564027645393762,
          -0.11467168063942229,
          -1.2578540102657259,
          -0.3190086187851867,
          -0.6282753359787763,
          -1.014858732470763,
          0.42102245449947284,
          -0.5951396162794629,
          0.24429861610313644,
          -1.241286150416069,
          0.354751015100847,
          0.6087915327955805,
          -0.026309761441254336,
          -0.9706777728716788,
          -0.9817230127714496,
          -0.12019430058930819,
          -0.6614110556780892,
          0.08966525750634163,
          -0.4791645973318669,
          0.16145931685485387,
          -0.8049991743751127,
          -0.7000693953272881,
          -0.4846872172817528,
          -0.7442503549263723,
          -0.3245312387350726,
          -1.047994452170076,
          1.5421143043262346,
          -0.5509586566803787,
          0.27191171585256396,
          -0.3466217185346147,
          -0.27482765918610247,
          -0.03183238139113974,
          -0.7884313145254565,
          -2.296106560844204,
          0.5867010529960389,
          -0.5233455569309512,
          0.8131284709413454,
          -0.6117074761291196,
          -0.2527371793865604,
          -0.026309761441254336,
          0.2553438560029077,
          -1.986839843650615,
          1.0340332689367666,
          -0.4681193574320961,
          -0.7055920152771734,
          0.3878867348001604,
          -0.4791645973318669,
          0.9346261098388273,
          -0.3410990985847288,
          -0.6006622362293488,
          0.3934093547500458,
          -0.3079633788854159,
          -0.8491801339741969,
          0.01787119815782989,
          -0.6393205758785471,
          -0.9817230127714496,
          -0.4570741175323248,
          0.6308820125951231,
          0.42654507444935924,
          -1.0369492122703052,
          -0.7497729748762577,
          0.6032689128456952,
          -1.152924231217901,
          -0.7497729748762577,
          -0.4128931579332406,
          0.4817712739482143,
          0.7026760719436353,
          -0.39632529808358435,
          -0.5399134167806079,
          -0.11467168063942229,
          -2.069679142898898,
          -0.09258120083988068,
          -0.23616931953690418,
          0.21668551635370892,
          -1.7493671858055377,
          -0.40737053798335515,
          -0.4128931579332406,
          -0.9596325329719075,
          -0.93201943322248,
          -1.2302409105162984,
          0.5093843736976413,
          0.11175573730588374,
          0.2608664759527931,
          -0.09258120083988068,
          0.23325337620336561,
          1.2218023472328743,
          0.5922236729459244,
          -0.015264521541483033,
          -0.08705858088999478,
          -0.16989788013827783,
          -0.5178229369810657,
          0.9788070694379115,
          0.27743433580244986,
          -0.15885264023850654,
          -0.9651551529217929,
          1.1389630479845914,
          -0.3024407589355305,
          1.2107571073331036,
          -1.103220651668931,
          -0.13676216043896441,
          0.8076058509914601,
          1.8624262614195952,
          -1.30203496986481,
          0.29952481560199196,
          -0.08705858088999478,
          0.22220813630359432,
          -0.501255077131409,
          -1.130833751418359,
          0.7302891716930624,
          -0.35766695843438556,
          0.3768414949003886,
          0.2608664759527931,
          -1.1805373309673286,
          0.7247665517431771,
          0.29952481560199196,
          0.6032689128456952,
          0.3381831552511908,
          0.7247665517431771,
          0.669540352244322,
          -1.9702719838009584,
          -1.1418789913181298,
          0.327137915351419,
          -0.8988837135231671,
          0.929103489888941,
          1.4813654848774933,
          1.1389630479845914,
          1.133440428034706,
          2.602457334704255,
          -0.4405062576826686,
          -0.4128931579332406,
          0.2608664759527931,
          1.4813654848774933,
          0.6308820125951231,
          0.034439058007486596,
          0.6364046325450086,
          0.5535653332967255,
          1.54763692427612,
          2.381552536708834,
          -0.1257169205391936,
          -0.26930503923621707,
          -0.04840024124079645,
          -0.009741901591597628,
          1.5365916843763494,
          0.5646105731964973,
          0.8020832310415746,
          0.7910379911418028,
          0.45415817419878624,
          0.4983391337978705,
          1.8237679217703964,
          -0.35766695843438556,
          1.1831440075836754,
          0.8462641906406589,
          0.3381831552511908,
          3.1105383700937232,
          0.4983391337978705,
          0.3713188749505032,
          0.2553438560029077,
          -0.4515514975824394,
          -0.04287762129091055,
          -0.4681193574320961,
          0.9567165896383689,
          1.7077929028227998,
          1.4316619053285236,
          2.5417085152555137,
          0.9567165896383689,
          1.1279178080848205,
          1.039555888886652,
          1.5531595442260056,
          0.984329689387797,
          0.28295695575233526,
          0.3602736350507324,
          1.1389630479845914,
          0.5204296135974131,
          1.9231750808683357,
          1.9949691402168477,
          0.5314748534971839,
          0.15593669690496798,
          -1.4677135683613756,
          -1.5505528676096587,
          -0.4405062576826686,
          -0.2969181389856446,
          0.382364114850275,
          -1.2965123499149247,
          -1.7548898057554232,
          0.7413344115928332,
          -0.3079633788854159,
          -0.10362644073965149,
          -1.186059950917214,
          -0.4570741175323248,
          -2.196699401746265,
          -1.3351706895641233,
          -0.1533300202886211,
          -0.7276824950767156,
          0.27191171585256396,
          -1.7548898057554232,
          -1.0590396920698473,
          -0.9651551529217929,
          -0.8436575140243116,
          -1.3241254496643522,
          -0.28035027913598837,
          -1.7825029055048507,
          -0.37975743823392766,
          -0.24169193948678958,
          0.26638909590267856,
          -0.6282753359787763,
          -1.0976980317190457,
          -0.5343907968307224,
          -1.1142658915687023,
          -0.5343907968307224,
          -0.5178229369810657,
          -0.7055920152771734,
          -1.6996636062565675,
          0.8296963307910017,
          -1.0921754117691602,
          -1.1915825708670995,
          -0.6061848561792342,
          -1.7051862262064534,
          -0.5233455569309512,
          -0.4349836377327827,
          -0.6669336756279747,
          -1.46219094841149,
          -1.208150430716756,
          -0.8160444142748841,
          -0.8105217943249986,
          -0.4625967374822107,
          0.10071049740611293,
          -1.1694920910675572,
          -1.5118945279604599,
          -1.384874269113093,
          -1.362783789313551,
          -0.7221598751268301,
          -0.8988837135231671,
          -1.892955304502561,
          -0.9817230127714496,
          -0.18646573998793453,
          -0.9044063334730524,
          -0.36871219833415686,
          -1.219195670616527,
          -0.8933610935732812,
          -1.46219094841149,
          -0.7994765544252274,
          -0.4515514975824394,
          -0.18094312003804863,
          -0.20855621978747665,
          -0.5067776970812949,
          0.039961677957372,
          -1.986839843650615,
          -0.1257169205391936,
          -0.8326122741245408,
          -0.6890241554275167,
          -1.3683064092634363,
          -0.8270896541746549,
          -0.6558884357282039,
          -1.3462159294638942,
          -0.5840943763796921,
          -0.7387277349764869,
          -1.9426588840515309,
          0.6474498724447794,
          -0.1422847803888503,
          -1.8598195848032477,
          -1.224718290566413,
          -0.23616931953690418,
          -1.9150457843021031,
          -1.3462159294638942,
          -1.3517385494137797,
          -0.39632529808358435,
          0.8573094305404297,
          -0.4846872172817528,
          -0.39632529808358435,
          -0.7387277349764869,
          -1.0203813524206484,
          -1.986839843650615,
          -1.3351706895641233,
          -0.7884313145254565,
          -0.7663408347259144,
          -2.4120815797918005,
          -1.848774344903477,
          -1.103220651668931,
          0.43759031434913004,
          -0.6393205758785471,
          3.4695086668362825,
          1.6857024230232582,
          2.3870751566587196,
          0.4928165138479851,
          1.354345226030127,
          0.5922236729459244,
          1.3046416464811574,
          0.3381831552511908,
          1.6359988434742885,
          1.5807726439754335,
          0.8462641906406589,
          1.326732126280699,
          0.4652034140985571,
          1.011942789137224,
          0.8352189507408871,
          0.929103489888941,
          0.9014903901395139,
          1.3212095063308136,
          0.3713188749505032,
          1.4206166654287529,
          0.39893197469993125,
          1.3156868863809281,
          -0.12019430058930819,
          0.2111628964038235,
          0.6584951123445512,
          0.8793999103399713,
          0.8793999103399713,
          0.05652953780702871,
          0.26638909590267856,
          2.199306078362612,
          2.254532277861467,
          0.9070130100893994,
          1.5642047841257762,
          1.133440428034706,
          -1.0369492122703052,
          0.7137213118434063,
          0.8573094305404297,
          2.039150099815932,
          1.1003047083353925,
          -0.9817230127714496,
          -0.1478074003387357,
          1.834813161670167,
          0.45415817419878624,
          1.3985261856292113,
          1.188666627533561,
          0.10071049740611293,
          0.8462641906406589,
          1.4316619053285236,
          2.364984676859178,
          2.5637989950550564,
          0.7302891716930624,
          0.7192439317932916,
          0.8131284709413454,
          0.5811784330461536,
          0.5867010529960389,
          0.752379651492605,
          -0.7829086945755711,
          0.09518787745622753,
          0.9677618295381398,
          1.1113499482351632,
          1.9507881806177636,
          -0.5564812766302646,
          -0.1643752601883924,
          0.238775996153251,
          0.006825958258059079,
          1.613908363674746,
          0.08966525750634163,
          0.41549983454958744,
          0.27191171585256396,
          1.9618334205175343,
          1.0450785088365375,
          2.409165636458262,
          0.7579022714424904,
          -1.6996636062565675,
          1.3653904659298979,
          0.6750629721942074,
          1.2825511666816147,
          1.4316619053285236,
          1.1003047083353925,
          0.4872938938980997,
          1.9894465202669613,
          2.1937834584127263,
          2.5693216150049416,
          1.188666627533561,
          1.1003047083353925,
          2.652160914253225,
          1.3598678459800124,
          0.3934093547500458,
          0.7468570315427187,
          1.1720987676839048,
          0.3437057752010762,
          0.8793999103399713,
          0.382364114850275,
          1.2659833068319586,
          0.43759031434913004,
          -0.760818214776029,
          1.9342203207681063,
          0.27191171585256396,
          0.07309739765668542,
          -0.8049991743751127,
          1.2659833068319586,
          -1.0590396920698473,
          -0.13123954048907902,
          -0.6337979559286617,
          0.14489145700519718,
          0.44863555424890084,
          0.45415817419878624,
          0.05652953780702871,
          0.7026760719436353,
          -1.241286150416069,
          -0.5620038965801499,
          -0.13676216043896441,
          0.4817712739482143,
          -0.4736419773819815,
          -1.495326668110803,
          0.669540352244322,
          -0.4736419773819815,
          -0.644843195828433,
          -0.7497729748762577,
          -0.2969181389856446,
          -0.04287762129091055,
          0.752379651492605,
          -0.6724562955778606,
          0.24982123605302184,
          0.09518787745622753,
          0.3878867348001604,
          0.238775996153251,
          -1.219195670616527,
          -0.053922861190681855,
          0.4872938938980997,
          -0.3134859988353013,
          -0.10914906068953689,
          -1.0866527918192748,
          0.8793999103399713,
          0.327137915351419,
          0.22220813630359432,
          -0.0042192816417122225,
          -0.037355001341025144,
          -1.638914786807827,
          0.0013033383081736739,
          0.3934093547500458,
          1.1941892474834463,
          0.2608664759527931,
          0.5867010529960389,
          0.27191171585256396,
          -0.5067776970812949,
          -2.2464029812952346,
          0.7689475113422612,
          -0.36318957838427096,
          -0.4405062576826686,
          -1.1915825708670995,
          -0.17542050008816323,
          -0.5454360367304932,
          -0.3079633788854159,
          1.0726916085859655,
          -0.12019430058930819,
          0.05652953780702871,
          0.40445459464981665,
          -1.1142658915687023,
          0.6087915327955805,
          -1.3793516491632072,
          0.24429861610313644,
          0.5922236729459244,
          -0.20855621978747665,
          -0.987245632721335,
          -2.064156522949012,
          -0.644843195828433,
          -0.5454360367304932,
          -0.644843195828433,
          -0.8602253738739682,
          0.5867010529960389,
          -0.5896169963295775,
          -0.40184791803346975,
          -0.39632529808358435,
          -0.16989788013827783,
          -1.362783789313551,
          -0.8049991743751127,
          -0.501255077131409,
          0.7855153711919175,
          0.5425200933969547,
          1.0008975492374532,
          -0.5343907968307224,
          -0.8657479938238537,
          -0.053922861190681855,
          0.7247665517431771,
          -0.7663408347259144,
          0.3934093547500458,
          -1.5671207274593153,
          -0.13676216043896441,
          -1.3351706895641233,
          -1.3186028297144667,
          -0.0042192816417122225,
          -0.8105217943249986,
          -0.08705858088999478,
          -0.5343907968307224,
          1.2770285467317293,
          0.11727835725576964,
          -1.1805373309673286
         ],
         "xaxis": "x",
         "xbins": {
          "end": 3.4695086668362825,
          "size": 0.2,
          "start": -2.4120815797918005
         },
         "yaxis": "y"
        },
        {
         "legendgroup": "Peel hardness",
         "marker": {
          "color": "coral"
         },
         "mode": "lines",
         "name": "Peel hardness",
         "showlegend": false,
         "type": "scatter",
         "x": [
          -2.4120815797918005,
          -2.4003183992985444,
          -2.3885552188052883,
          -2.376792038312032,
          -2.3650288578187757,
          -2.3532656773255196,
          -2.3415024968322635,
          -2.3297393163390074,
          -2.3179761358457514,
          -2.306212955352495,
          -2.2944497748592387,
          -2.2826865943659826,
          -2.2709234138727266,
          -2.2591602333794705,
          -2.247397052886214,
          -2.235633872392958,
          -2.2238706918997018,
          -2.2121075114064457,
          -2.2003443309131896,
          -2.1885811504199335,
          -2.1768179699266774,
          -2.165054789433421,
          -2.153291608940165,
          -2.1415284284469087,
          -2.1297652479536526,
          -2.118002067460396,
          -2.10623888696714,
          -2.094475706473884,
          -2.082712525980628,
          -2.0709493454873718,
          -2.0591861649941157,
          -2.0474229845008596,
          -2.035659804007603,
          -2.023896623514347,
          -2.012133443021091,
          -2.000370262527835,
          -1.9886070820345787,
          -1.9768439015413224,
          -1.965080721048066,
          -1.95331754055481,
          -1.941554360061554,
          -1.9297911795682978,
          -1.9180279990750415,
          -1.9062648185817854,
          -1.8945016380885291,
          -1.882738457595273,
          -1.870975277102017,
          -1.8592120966087609,
          -1.8474489161155045,
          -1.8356857356222482,
          -1.8239225551289922,
          -1.812159374635736,
          -1.80039619414248,
          -1.788633013649224,
          -1.7768698331559676,
          -1.7651066526627113,
          -1.7533434721694552,
          -1.741580291676199,
          -1.729817111182943,
          -1.7180539306896867,
          -1.7062907501964306,
          -1.6945275697031743,
          -1.6827643892099182,
          -1.6710012087166621,
          -1.659238028223406,
          -1.6474748477301497,
          -1.6357116672368934,
          -1.6239484867436373,
          -1.6121853062503813,
          -1.6004221257571252,
          -1.588658945263869,
          -1.5768957647706128,
          -1.5651325842773567,
          -1.5533694037841004,
          -1.5416062232908443,
          -1.5298430427975882,
          -1.518079862304332,
          -1.5063166818110756,
          -1.4945535013178195,
          -1.4827903208245634,
          -1.4710271403313073,
          -1.4592639598380512,
          -1.447500779344795,
          -1.4357375988515388,
          -1.4239744183582825,
          -1.4122112378650264,
          -1.4004480573717704,
          -1.388684876878514,
          -1.376921696385258,
          -1.3651585158920017,
          -1.3533953353987456,
          -1.3416321549054895,
          -1.3298689744122334,
          -1.3181057939189773,
          -1.306342613425721,
          -1.294579432932465,
          -1.2828162524392086,
          -1.2710530719459525,
          -1.2592898914526962,
          -1.2475267109594401,
          -1.2357635304661838,
          -1.2240003499729277,
          -1.2122371694796719,
          -1.2004739889864156,
          -1.1887108084931595,
          -1.1769476279999032,
          -1.165184447506647,
          -1.1534212670133908,
          -1.1416580865201347,
          -1.1298949060268784,
          -1.1181317255336223,
          -1.1063685450403662,
          -1.0946053645471099,
          -1.082842184053854,
          -1.0710790035605977,
          -1.0593158230673416,
          -1.0475526425740853,
          -1.0357894620808292,
          -1.024026281587573,
          -1.0122631010943168,
          -1.0004999206010607,
          -0.9887367401078044,
          -0.9769735596145483,
          -0.9652103791212923,
          -0.9534471986280362,
          -0.9416840181347799,
          -0.9299208376415238,
          -0.9181576571482675,
          -0.9063944766550114,
          -0.8946312961617551,
          -0.882868115668499,
          -0.8711049351752429,
          -0.8593417546819866,
          -0.8475785741887305,
          -0.8358153936954744,
          -0.8240522132022183,
          -0.812289032708962,
          -0.8005258522157059,
          -0.7887626717224496,
          -0.7769994912291935,
          -0.7652363107359375,
          -0.7534731302426811,
          -0.7417099497494251,
          -0.7299467692561687,
          -0.7181835887629129,
          -0.7064204082696566,
          -0.6946572277764005,
          -0.6828940472831442,
          -0.6711308667898881,
          -0.659367686296632,
          -0.6476045058033757,
          -0.6358413253101196,
          -0.6240781448168633,
          -0.6123149643236072,
          -0.6005517838303509,
          -0.588788603337095,
          -0.5770254228438387,
          -0.5652622423505826,
          -0.5534990618573266,
          -0.5417358813640702,
          -0.5299727008708142,
          -0.5182095203775579,
          -0.5064463398843018,
          -0.49468315939104546,
          -0.48291997889778937,
          -0.47115679840453306,
          -0.4593936179112772,
          -0.4476304374180211,
          -0.4358672569247648,
          -0.4241040764315087,
          -0.4123408959382524,
          -0.4005777154449963,
          -0.38881453495174023,
          -0.3770513544584837,
          -0.3652881739652276,
          -0.3535249934719715,
          -0.34176181297871544,
          -0.32999863248545935,
          -0.3182354519922028,
          -0.30647227149894674,
          -0.29470909100569065,
          -0.28294591051243456,
          -0.2711827300191785,
          -0.2594195495259224,
          -0.2476563690326663,
          -0.23589318853941021,
          -0.22413000804615413,
          -0.2123668275528976,
          -0.2006036470596415,
          -0.18884046656638542,
          -0.17707728607312934,
          -0.1653141055798728,
          -0.15355092508661672,
          -0.14178774459336063,
          -0.13002456410010454,
          -0.11826138360684846,
          -0.10649820311359193,
          -0.09473502262033584,
          -0.08297184212707975,
          -0.07120866163382367,
          -0.059445481140567136,
          -0.04768230064731105,
          -0.03591912015405496,
          -0.02415593966079932,
          -0.012392759167543232,
          -0.0006295786742867016,
          0.011133601818969385,
          0.022896782312225472,
          0.03465996280548156,
          0.04642314329873809,
          0.05818632379199418,
          0.06994950428525026,
          0.08171268477850635,
          0.09347586527176244,
          0.10523904576501897,
          0.11700222625827505,
          0.12876540675153114,
          0.14052858724478723,
          0.15229176773804376,
          0.16405494823129985,
          0.17581812872455593,
          0.18758130921781202,
          0.1993444897110681,
          0.21110767020432464,
          0.22287085069758072,
          0.23463403119083637,
          0.24639721168409245,
          0.258160392177349,
          0.26992357267060507,
          0.28168675316386116,
          0.29344993365711725,
          0.30521311415037333,
          0.31697629464362986,
          0.32873947513688595,
          0.34050265563014204,
          0.3522658361233981,
          0.36402901661665465,
          0.37579219710991074,
          0.38755537760316683,
          0.3993185580964229,
          0.411081738589679,
          0.42284491908293553,
          0.4346080995761916,
          0.4463712800694477,
          0.4581344605627038,
          0.4698976410559603,
          0.48166082154921597,
          0.49342400204247205,
          0.5051871825357281,
          0.5169503630289842,
          0.5287135435222408,
          0.5404767240154968,
          0.5522399045087529,
          0.564003085002009,
          0.5757662654952656,
          0.5875294459885216,
          0.5992926264817777,
          0.6110558069750338,
          0.6228189874682903,
          0.6345821679615464,
          0.6463453484548025,
          0.6581085289480586,
          0.6698717094413147,
          0.6816348899345712,
          0.6933980704278273,
          0.7051612509210834,
          0.7169244314143395,
          0.7286876119075951,
          0.7404507924008517,
          0.7522139728941077,
          0.7639771533873638,
          0.7757403338806199,
          0.7875035143738764,
          0.7992666948671325,
          0.8110298753603886,
          0.8227930558536447,
          0.8345562363469012,
          0.8463194168401573,
          0.8580825973334134,
          0.8698457778266695,
          0.8816089583199256,
          0.8933721388131821,
          0.9051353193064382,
          0.9168984997996943,
          0.9286616802929504,
          0.9404248607862069,
          0.952188041279463,
          0.9639512217727191,
          0.9757144022659747,
          0.9874775827592308,
          0.9992407632524873,
          1.0110039437457434,
          1.0227671242389995,
          1.0345303047322556,
          1.0462934852255121,
          1.0580566657187682,
          1.0698198462120243,
          1.0815830267052804,
          1.0933462071985365,
          1.105109387691793,
          1.116872568185049,
          1.1286357486783052,
          1.1403989291715613,
          1.1521621096648178,
          1.1639252901580739,
          1.17568847065133,
          1.187451651144586,
          1.1992148316378421,
          1.2109780121310987,
          1.2227411926243548,
          1.2345043731176104,
          1.2462675536108665,
          1.258030734104123,
          1.2697939145973791,
          1.2815570950906352,
          1.2933202755838913,
          1.3050834560771474,
          1.316846636570404,
          1.32860981706366,
          1.340372997556916,
          1.3521361780501722,
          1.3638993585434287,
          1.3756625390366848,
          1.3874257195299409,
          1.399188900023197,
          1.410952080516453,
          1.4227152610097096,
          1.4344784415029657,
          1.4462416219962217,
          1.4580048024894778,
          1.4697679829827344,
          1.48153116347599,
          1.493294343969246,
          1.5050575244625022,
          1.5168207049557583,
          1.5285838854490148,
          1.5403470659422709,
          1.552110246435527,
          1.563873426928783,
          1.5756366074220396,
          1.5873997879152957,
          1.5991629684085518,
          1.6109261489018079,
          1.622689329395064,
          1.63445250988832,
          1.6462156903815761,
          1.657978870874833,
          1.6697420513680892,
          1.6815052318613453,
          1.6932684123546013,
          1.7050315928478574,
          1.7167947733411135,
          1.7285579538343696,
          1.7403211343276257,
          1.7520843148208818,
          1.7638474953141388,
          1.7756106758073948,
          1.787373856300651,
          1.799137036793907,
          1.810900217287163,
          1.8226633977804192,
          1.8344265782736753,
          1.8461897587669314,
          1.8579529392601866,
          1.8697161197534435,
          1.8814793002466996,
          1.8932424807399557,
          1.9050056612332118,
          1.9167688417264679,
          1.928532022219724,
          1.94029520271298,
          1.9520583832062361,
          1.9638215636994922,
          1.9755847441927492,
          1.9873479246860053,
          1.9991111051792614,
          2.0108742856725175,
          2.0226374661657736,
          2.0344006466590296,
          2.0461638271522857,
          2.057927007645542,
          2.069690188138798,
          2.081453368632055,
          2.093216549125311,
          2.104979729618567,
          2.116742910111823,
          2.1285060906050792,
          2.1402692710983353,
          2.1520324515915914,
          2.1637956320848475,
          2.1755588125781036,
          2.1873219930713605,
          2.1990851735646166,
          2.2108483540578727,
          2.222611534551129,
          2.234374715044385,
          2.246137895537641,
          2.257901076030897,
          2.269664256524153,
          2.2814274370174092,
          2.293190617510666,
          2.3049537980039223,
          2.3167169784971784,
          2.3284801589904345,
          2.3402433394836906,
          2.3520065199769467,
          2.363769700470202,
          2.375532880963458,
          2.387296061456714,
          2.399059241949971,
          2.410822422443227,
          2.422585602936483,
          2.4343487834297393,
          2.4461119639229953,
          2.4578751444162514,
          2.4696383249095075,
          2.4814015054027636,
          2.4931646858960197,
          2.5049278663892767,
          2.5166910468825328,
          2.528454227375789,
          2.540217407869045,
          2.551980588362301,
          2.563743768855557,
          2.575506949348813,
          2.5872701298420693,
          2.5990333103353254,
          2.6107964908285823,
          2.6225596713218384,
          2.6343228518150945,
          2.6460860323083506,
          2.6578492128016067,
          2.6696123932948628,
          2.681375573788119,
          2.693138754281375,
          2.704901934774631,
          2.716665115267888,
          2.728428295761144,
          2.7401914762544,
          2.7519546567476563,
          2.7637178372409124,
          2.7754810177341684,
          2.7872441982274245,
          2.7990073787206806,
          2.8107705592139367,
          2.8225337397071937,
          2.8342969202004498,
          2.846060100693706,
          2.857823281186962,
          2.869586461680217,
          2.8813496421734732,
          2.8931128226667293,
          2.9048760031599854,
          2.9166391836532415,
          2.9284023641464985,
          2.9401655446397545,
          2.9519287251330106,
          2.9636919056262667,
          2.975455086119523,
          2.987218266612779,
          2.998981447106035,
          3.010744627599291,
          3.022507808092547,
          3.034270988585804,
          3.04603416907906,
          3.0577973495723163,
          3.0695605300655724,
          3.0813237105588285,
          3.0930868910520846,
          3.1048500715453407,
          3.1166132520385967,
          3.128376432531853,
          3.14013961302511,
          3.151902793518366,
          3.163665974011622,
          3.175429154504878,
          3.187192334998134,
          3.1989555154913902,
          3.2107186959846463,
          3.2224818764779024,
          3.2342450569711585,
          3.2460082374644155,
          3.2577714179576716,
          3.2695345984509276,
          3.2812977789441837,
          3.29306095943744,
          3.304824139930696,
          3.316587320423952,
          3.328350500917208,
          3.340113681410465,
          3.351876861903721,
          3.3636400423969763,
          3.3754032228902324,
          3.3871664033834885,
          3.3989295838767446,
          3.4106927643700007,
          3.4224559448632568,
          3.434219125356513,
          3.445982305849769,
          3.457745486343026
         ],
         "xaxis": "x",
         "y": [
          0.021752919360352407,
          0.02237742273082601,
          0.023016669841799516,
          0.023670902449204455,
          0.024340362889232622,
          0.025025293958815174,
          0.0257259387923897,
          0.026442540734954327,
          0.027175343211411122,
          0.027924589592204955,
          0.028690523055267446,
          0.029473386444280436,
          0.030273422123275922,
          0.031090871827595023,
          0.03192597651123172,
          0.03277897619059154,
          0.033650109784700455,
          0.03453961495190217,
          0.03544772792308808,
          0.03637468333150767,
          0.037320714039212236,
          0.03828605096018927,
          0.0392709228802497,
          0.04027555627373543,
          0.04130017511711803,
          0.04234500069956668,
          0.04341025143056571,
          0.044496142644669646,
          0.04560288640348652,
          0.046730691294986776,
          0.04787976223023902,
          0.04905030023768009,
          0.05024250225503071,
          0.05145656091897392,
          0.052692664352718716,
          0.05395099595157522,
          0.05523173416667415,
          0.056535052286967105,
          0.05786111821965037,
          0.05921009426915876,
          0.06058213691488157,
          0.061977396587757236,
          0.06339601744590836,
          0.06483813714948292,
          0.06630388663487298,
          0.0677933898884855,
          0.06930676372024584,
          0.07084411753701697,
          0.07240555311612393,
          0.07399116437917472,
          0.07560103716637517,
          0.0772352490115373,
          0.07889386891798535,
          0.08057695713556726,
          0.08228456493898237,
          0.08401673440763958,
          0.08577349820726357,
          0.08755487937346895,
          0.08936089109752567,
          0.09119153651454075,
          0.0930468084942847,
          0.09492668943489223,
          0.09683115105966913,
          0.09876015421723916,
          0.10071364868526575,
          0.10269157297798483,
          0.10469385415778605,
          0.10672040765108051,
          0.10877113706869383,
          0.11084593403102207,
          0.11294467799819118,
          0.11506723610545659,
          0.117213463004082,
          0.11938320070793434,
          0.12157627844602974,
          0.123792512521267,
          0.1260317061755795,
          0.12829364946173738,
          0.13057811912202877,
          0.13288487847404576,
          0.13521367730379782,
          0.1375642517663737,
          0.13993632429436756,
          0.14232960351428212,
          0.144743784171118,
          0.14717854706135286,
          0.1496335589745106,
          0.15210847264351457,
          0.15460292670401438,
          0.1571165456628706,
          0.15964893987597378,
          0.16219970553557125,
          0.16476842466726502,
          0.16735466513684072,
          0.16995798066707782,
          0.17257791086468569,
          0.17521398125750204,
          0.17786570334208146,
          0.18053257464179545,
          0.18321407877555487,
          0.18590968553725903,
          0.18861885098606496,
          0.19134101754756266,
          0.1940756141259322,
          0.19682205622714782,
          0.19957974609328766,
          0.20234807284799258,
          0.20512641265311357,
          0.20791412887657018,
          0.21071057227143825,
          0.21351508116626855,
          0.21632698166663294,
          0.21914558786787774,
          0.22197020207905713,
          0.22480011505800762,
          0.2276346062575096,
          0.23047294408247612,
          0.23331438615809277,
          0.23615817960882365,
          0.239003561348185,
          0.24184975837917858,
          0.24469598810526225,
          0.2475414586517257,
          0.250385369197328,
          0.2532269103160383,
          0.256065264328714,
          0.25889960566453635,
          0.26172910123201176,
          0.26455291079933735,
          0.26737018738391644,
          0.27018007765079843,
          0.2729817223198078,
          0.27577425658111415,
          0.2785568105189856,
          0.28132850954345695,
          0.2840884748296325,
          0.2868358237643357,
          0.28956967039980425,
          0.2922891259141229,
          0.29499329907807414,
          0.2976812967280783,
          0.3003522242448871,
          0.3030051860376833,
          0.30563928603323287,
          0.30825362816972646,
          0.31084731689494094,
          0.3134194576683418,
          0.3159691574667426,
          0.3184955252931297,
          0.3209976726882538,
          0.3234747142445854,
          0.32592576812222307,
          0.3283499565663422,
          0.3307464064257628,
          0.3331142496722141,
          0.3354526239198678,
          0.3377606729447094,
          0.34003754720331353,
          0.34228240435058743,
          0.34449440975604356,
          0.34667273701816154,
          0.34881656847639964,
          0.3509250957204117,
          0.3529975200960308,
          0.3550330532075757,
          0.35703091741604154,
          0.35899034633273413,
          0.3609105853079125,
          0.3627908919140028,
          0.36463053642295284,
          0.3664288022772984,
          0.36818498655451615,
          0.3698984004242434,
          0.37156836959794765,
          0.37319423477063757,
          0.3747753520542088,
          0.3763110934020282,
          0.37780084702436295,
          0.37924401779427225,
          0.3806400276435831,
          0.38198831594858307,
          0.3832883399050684,
          0.3845395748923981,
          0.3857415148262108,
          0.3868936724994736,
          0.3879955799115409,
          0.3890467885849112,
          0.39004686986938414,
          0.3909954152333262,
          0.39189203654177024,
          0.392736366321083,
          0.3935280580099474,
          0.3942667861964211,
          0.39495224684084274,
          0.3955841574843736,
          0.396162257442973,
          0.39668630798662197,
          0.39715609250362277,
          0.3975714166498147,
          0.39793210848256416,
          0.3982380185793979,
          0.3984890201411659,
          0.3986850090796344,
          0.39882590408942287,
          0.3989116467042171,
          0.398942201337203,
          0.3989175553056822,
          0.3988377188398456,
          0.39870272507569626,
          0.3985126300321289,
          0.3982675125721874,
          0.39796747434853913,
          0.3976126397332171,
          0.39720315573169945,
          0.3967391918814091,
          0.3962209401347306,
          0.39564861472665824,
          0.39502245202720365,
          0.3943427103787031,
          0.3936096699181838,
          0.39282363238495854,
          0.39198492091363407,
          0.3910938798127326,
          0.3901508743291372,
          0.3891562903985891,
          0.38811053438247295,
          0.38701403279114266,
          0.3858672319940518,
          0.3846705979169637,
          0.38342461572652814,
          0.3821297895025254,
          0.3807866418980853,
          0.37939571378820375,
          0.37795756390688645,
          0.37647276847326017,
          0.37494192080700295,
          0.3733656309334514,
          0.3717445251787529,
          0.3700792457554383,
          0.36837045033880017,
          0.3666188116344648,
          0.36482501693755853,
          0.3629897676838698,
          0.3611137789934181,
          0.35919777920684465,
          0.35724250941504415,
          0.3552487229824637,
          0.3532171850644942,
          0.35114867211938955,
          0.3490439714151449,
          0.3469038805317733,
          0.34472920685941805,
          0.34252076709274265,
          0.3402793867220377,
          0.33800589952148824,
          0.33570114703504217,
          0.33336597806032087,
          0.33100124813101217,
          0.328607818998185,
          0.3261865581109608,
          0.32373833809697683,
          0.3212640362430725,
          0.31876453397662646,
          0.31624071634796835,
          0.3136934715142856,
          0.3111236902254388,
          0.30853226531209815,
          0.3059200911766035,
          0.3032880632869471,
          0.3006370776742718,
          0.29796803043426984,
          0.2952818172328608,
          0.29257933281651993,
          0.2898614705276213,
          0.2871291218251478,
          0.2843831758111199,
          0.28162451876307626,
          0.27885403367293987,
          0.27607259979258547,
          0.27328109218642205,
          0.2704803812912894,
          0.26767133248395863,
          0.26485480565652003,
          0.26203165479992263,
          0.25920272759593105,
          0.25636886501774336,
          0.2535309009395096,
          0.2506896617549765,
          0.2478459660054734,
          0.2450006240174438,
          0.24215443754971408,
          0.23930819945068052,
          0.2364626933255827,
          0.2336186932140223,
          0.23077696327787198,
          0.22793825749970859,
          0.22510331939189235,
          0.22227288171640386,
          0.21944766621553663,
          0.21662838335353263,
          0.21381573206923674,
          0.2110103995398329,
          0.20821306095571646,
          0.20542437930654167,
          0.20264500517847597,
          0.19987557656267804,
          0.1971167186750085,
          0.19436904378696954,
          0.19163315106785903,
          0.18890962643811532,
          0.18619904243381624,
          0.18350195808228828,
          0.18081891878877052,
          0.17815045623406753,
          0.17549708828311572,
          0.17285931890438128,
          0.17023763809999365,
          0.16763252184651406,
          0.16504443204622737,
          0.16247381648883719,
          0.15992110882343802,
          0.15738672854062746,
          0.1548710809646168,
          0.152374557255187,
          0.1498975344193355,
          0.1474403753324471,
          0.14500342876881833,
          0.14258702944135984,
          0.1401914980502904,
          0.13781714134063755,
          0.13546425216834795,
          0.13313310957481025,
          0.1308239788695846,
          0.12853711172113363,
          0.12627274625533935,
          0.12403110716159213,
          0.12181240580623122,
          0.11961684035311351,
          0.11744459589108619,
          0.11529584456813345,
          0.11317074573196795,
          0.11106944607683263,
          0.10899207979628081,
          0.10693876874169654,
          0.10490962258631983,
          0.10290473899453781,
          0.10092420379620431,
          0.098968091165749,
          0.09703646380583598,
          0.09512937313533551,
          0.09324685948136904,
          0.09138895227519092,
          0.0895556702516701,
          0.08774702165213694,
          0.08596300443036108,
          0.08420360646142826,
          0.08246880575328701,
          0.08075857066073452,
          0.0790728601016192,
          0.07741162377503427,
          0.07577480238128297,
          0.0741623278433972,
          0.07257412352999545,
          0.07101010447926842,
          0.06947017762388373,
          0.06795424201660794,
          0.06646218905644069,
          0.06499390271506866,
          0.06354925976344385,
          0.06212812999829805,
          0.060730376468409314,
          0.059355855700439664,
          0.058004417924168744,
          0.05667590729695168,
          0.05537016212723534,
          0.05408701509696936,
          0.0528262934827568,
          0.05158781937559072,
          0.05037140989902902,
          0.049176877425666066,
          0.0480040297917622,
          0.04685267050989951,
          0.0457225989795353,
          0.04461361069533205,
          0.043525497453144234,
          0.04245804755355216,
          0.041411046002833234,
          0.04038427471126967,
          0.03937751268869474,
          0.03839053623718558,
          0.03742311914081546,
          0.03647503285238275,
          0.03554604667704033,
          0.03463592795275139,
          0.03374444222750602,
          0.03287135343323447,
          0.03201642405635972,
          0.03117941530493599,
          0.03036008727232466,
          0.029558199097363326,
          0.02877350912098874,
          0.028005775039278504,
          0.027254754052880203,
          0.02652020301280231,
          0.025801878562544026,
          0.025099537276545843,
          0.02441293579494684,
          0.02374183095463797,
          0.023085979916605628,
          0.02244514028956178,
          0.02181907024986234,
          0.021207528657717294,
          0.020610275169701462,
          0.020027070347576007,
          0.019457675763435555,
          0.018901854101198202,
          0.018359369254458847,
          0.017829986420729166,
          0.017313472192090316,
          0.0168095946422873,
          0.016318123410295926,
          0.015838829780396788,
          0.015371486758791832,
          0.014915869146802404,
          0.0144717536106889,
          0.014038918748134892,
          0.013617145151440121,
          0.013206215467468594,
          0.012805914454400076,
          0.012416029035334116,
          0.012036348348798348,
          0.011666663796213192,
          0.011306769086366977,
          0.010956460276956525,
          0.010615535813249356,
          0.01028379656392471,
          0.009961045854151513,
          0.009647089495962293,
          0.009341735815982435,
          0.00904479568057557,
          0.008756082518465614,
          0.008475412340897034,
          0.00820260375939501,
          0.007937478001187695,
          0.0076798589223528325,
          0.007429573018751261,
          0.007186449434810009,
          0.006950319970217297,
          0.006721019084592431,
          0.006498383900192765,
          0.006282254202720003,
          0.006072472440288173,
          0.005868883720614574,
          0.00567133580649548,
          0.005479679109627304,
          0.0052937666828339145,
          0.005113454210759904,
          0.004938599999089433,
          0.004769064962349344,
          0.004604712610354762,
          0.004445409033354628,
          0.0042910228859339445,
          0.004141425369728682,
          0.003996490215008521,
          0.0038560936611818208,
          0.0037201144362761394,
          0.003588433735447101,
          0.0034609351985670786,
          0.0033375048869445333,
          0.0032180312592236817,
          0.003102405146513319,
          0.002990519726792537,
          0.002882270498640069,
          0.002777555254333046,
          0.0026762740523596897,
          0.0025783291893897286,
          0.002483625171744958,
          0.0023920686864114526,
          0.002303568571633853,
          0.0022180357871309773,
          0.0021353833839710397,
          0.002055526474143576,
          0.001978382199864146,
          0.0019038697026467193,
          0.0018319100921777136,
          0.0017624264150243967,
          0.0016953436232094092,
          0.0016305885426820628,
          0.0015680898417159837,
          0.0015077779992616366,
          0.0014495852732812624,
          0.0013934456690925902,
          0.0013392949077468477,
          0.0012870703944654594,
          0.0012367111871588096,
          0.001188157965049554,
          0.0011413529974219126,
          0.001096240112517455,
          0.001052764666596927,
          0.0010108735131867661
         ],
         "yaxis": "y"
        },
        {
         "legendgroup": "Peel hardness",
         "marker": {
          "color": "coral",
          "symbol": "line-ns-open"
         },
         "mode": "markers",
         "name": "Peel hardness",
         "showlegend": false,
         "type": "scatter",
         "x": [
          1.1997118674333318,
          -0.13123954048907902,
          0.9125356300392847,
          0.42654507444935924,
          0.9456713497385981,
          -0.5123003170311803,
          -1.0535170721199614,
          -1.208150430716756,
          -0.6393205758785471,
          -0.733205115026601,
          -0.10362644073965149,
          0.32161529540153355,
          -0.9154515733728232,
          0.11727835725576964,
          -1.0700849319696182,
          0.034439058007486596,
          1.2162797272829888,
          -0.5620038965801499,
          -0.9099289534229379,
          0.23325337620336561,
          -0.7773860746256852,
          -0.8381348940744261,
          0.20564027645393762,
          -0.11467168063942229,
          -1.2578540102657259,
          -0.3190086187851867,
          -0.6282753359787763,
          -1.014858732470763,
          0.42102245449947284,
          -0.5951396162794629,
          0.24429861610313644,
          -1.241286150416069,
          0.354751015100847,
          0.6087915327955805,
          -0.026309761441254336,
          -0.9706777728716788,
          -0.9817230127714496,
          -0.12019430058930819,
          -0.6614110556780892,
          0.08966525750634163,
          -0.4791645973318669,
          0.16145931685485387,
          -0.8049991743751127,
          -0.7000693953272881,
          -0.4846872172817528,
          -0.7442503549263723,
          -0.3245312387350726,
          -1.047994452170076,
          1.5421143043262346,
          -0.5509586566803787,
          0.27191171585256396,
          -0.3466217185346147,
          -0.27482765918610247,
          -0.03183238139113974,
          -0.7884313145254565,
          -2.296106560844204,
          0.5867010529960389,
          -0.5233455569309512,
          0.8131284709413454,
          -0.6117074761291196,
          -0.2527371793865604,
          -0.026309761441254336,
          0.2553438560029077,
          -1.986839843650615,
          1.0340332689367666,
          -0.4681193574320961,
          -0.7055920152771734,
          0.3878867348001604,
          -0.4791645973318669,
          0.9346261098388273,
          -0.3410990985847288,
          -0.6006622362293488,
          0.3934093547500458,
          -0.3079633788854159,
          -0.8491801339741969,
          0.01787119815782989,
          -0.6393205758785471,
          -0.9817230127714496,
          -0.4570741175323248,
          0.6308820125951231,
          0.42654507444935924,
          -1.0369492122703052,
          -0.7497729748762577,
          0.6032689128456952,
          -1.152924231217901,
          -0.7497729748762577,
          -0.4128931579332406,
          0.4817712739482143,
          0.7026760719436353,
          -0.39632529808358435,
          -0.5399134167806079,
          -0.11467168063942229,
          -2.069679142898898,
          -0.09258120083988068,
          -0.23616931953690418,
          0.21668551635370892,
          -1.7493671858055377,
          -0.40737053798335515,
          -0.4128931579332406,
          -0.9596325329719075,
          -0.93201943322248,
          -1.2302409105162984,
          0.5093843736976413,
          0.11175573730588374,
          0.2608664759527931,
          -0.09258120083988068,
          0.23325337620336561,
          1.2218023472328743,
          0.5922236729459244,
          -0.015264521541483033,
          -0.08705858088999478,
          -0.16989788013827783,
          -0.5178229369810657,
          0.9788070694379115,
          0.27743433580244986,
          -0.15885264023850654,
          -0.9651551529217929,
          1.1389630479845914,
          -0.3024407589355305,
          1.2107571073331036,
          -1.103220651668931,
          -0.13676216043896441,
          0.8076058509914601,
          1.8624262614195952,
          -1.30203496986481,
          0.29952481560199196,
          -0.08705858088999478,
          0.22220813630359432,
          -0.501255077131409,
          -1.130833751418359,
          0.7302891716930624,
          -0.35766695843438556,
          0.3768414949003886,
          0.2608664759527931,
          -1.1805373309673286,
          0.7247665517431771,
          0.29952481560199196,
          0.6032689128456952,
          0.3381831552511908,
          0.7247665517431771,
          0.669540352244322,
          -1.9702719838009584,
          -1.1418789913181298,
          0.327137915351419,
          -0.8988837135231671,
          0.929103489888941,
          1.4813654848774933,
          1.1389630479845914,
          1.133440428034706,
          2.602457334704255,
          -0.4405062576826686,
          -0.4128931579332406,
          0.2608664759527931,
          1.4813654848774933,
          0.6308820125951231,
          0.034439058007486596,
          0.6364046325450086,
          0.5535653332967255,
          1.54763692427612,
          2.381552536708834,
          -0.1257169205391936,
          -0.26930503923621707,
          -0.04840024124079645,
          -0.009741901591597628,
          1.5365916843763494,
          0.5646105731964973,
          0.8020832310415746,
          0.7910379911418028,
          0.45415817419878624,
          0.4983391337978705,
          1.8237679217703964,
          -0.35766695843438556,
          1.1831440075836754,
          0.8462641906406589,
          0.3381831552511908,
          3.1105383700937232,
          0.4983391337978705,
          0.3713188749505032,
          0.2553438560029077,
          -0.4515514975824394,
          -0.04287762129091055,
          -0.4681193574320961,
          0.9567165896383689,
          1.7077929028227998,
          1.4316619053285236,
          2.5417085152555137,
          0.9567165896383689,
          1.1279178080848205,
          1.039555888886652,
          1.5531595442260056,
          0.984329689387797,
          0.28295695575233526,
          0.3602736350507324,
          1.1389630479845914,
          0.5204296135974131,
          1.9231750808683357,
          1.9949691402168477,
          0.5314748534971839,
          0.15593669690496798,
          -1.4677135683613756,
          -1.5505528676096587,
          -0.4405062576826686,
          -0.2969181389856446,
          0.382364114850275,
          -1.2965123499149247,
          -1.7548898057554232,
          0.7413344115928332,
          -0.3079633788854159,
          -0.10362644073965149,
          -1.186059950917214,
          -0.4570741175323248,
          -2.196699401746265,
          -1.3351706895641233,
          -0.1533300202886211,
          -0.7276824950767156,
          0.27191171585256396,
          -1.7548898057554232,
          -1.0590396920698473,
          -0.9651551529217929,
          -0.8436575140243116,
          -1.3241254496643522,
          -0.28035027913598837,
          -1.7825029055048507,
          -0.37975743823392766,
          -0.24169193948678958,
          0.26638909590267856,
          -0.6282753359787763,
          -1.0976980317190457,
          -0.5343907968307224,
          -1.1142658915687023,
          -0.5343907968307224,
          -0.5178229369810657,
          -0.7055920152771734,
          -1.6996636062565675,
          0.8296963307910017,
          -1.0921754117691602,
          -1.1915825708670995,
          -0.6061848561792342,
          -1.7051862262064534,
          -0.5233455569309512,
          -0.4349836377327827,
          -0.6669336756279747,
          -1.46219094841149,
          -1.208150430716756,
          -0.8160444142748841,
          -0.8105217943249986,
          -0.4625967374822107,
          0.10071049740611293,
          -1.1694920910675572,
          -1.5118945279604599,
          -1.384874269113093,
          -1.362783789313551,
          -0.7221598751268301,
          -0.8988837135231671,
          -1.892955304502561,
          -0.9817230127714496,
          -0.18646573998793453,
          -0.9044063334730524,
          -0.36871219833415686,
          -1.219195670616527,
          -0.8933610935732812,
          -1.46219094841149,
          -0.7994765544252274,
          -0.4515514975824394,
          -0.18094312003804863,
          -0.20855621978747665,
          -0.5067776970812949,
          0.039961677957372,
          -1.986839843650615,
          -0.1257169205391936,
          -0.8326122741245408,
          -0.6890241554275167,
          -1.3683064092634363,
          -0.8270896541746549,
          -0.6558884357282039,
          -1.3462159294638942,
          -0.5840943763796921,
          -0.7387277349764869,
          -1.9426588840515309,
          0.6474498724447794,
          -0.1422847803888503,
          -1.8598195848032477,
          -1.224718290566413,
          -0.23616931953690418,
          -1.9150457843021031,
          -1.3462159294638942,
          -1.3517385494137797,
          -0.39632529808358435,
          0.8573094305404297,
          -0.4846872172817528,
          -0.39632529808358435,
          -0.7387277349764869,
          -1.0203813524206484,
          -1.986839843650615,
          -1.3351706895641233,
          -0.7884313145254565,
          -0.7663408347259144,
          -2.4120815797918005,
          -1.848774344903477,
          -1.103220651668931,
          0.43759031434913004,
          -0.6393205758785471,
          3.4695086668362825,
          1.6857024230232582,
          2.3870751566587196,
          0.4928165138479851,
          1.354345226030127,
          0.5922236729459244,
          1.3046416464811574,
          0.3381831552511908,
          1.6359988434742885,
          1.5807726439754335,
          0.8462641906406589,
          1.326732126280699,
          0.4652034140985571,
          1.011942789137224,
          0.8352189507408871,
          0.929103489888941,
          0.9014903901395139,
          1.3212095063308136,
          0.3713188749505032,
          1.4206166654287529,
          0.39893197469993125,
          1.3156868863809281,
          -0.12019430058930819,
          0.2111628964038235,
          0.6584951123445512,
          0.8793999103399713,
          0.8793999103399713,
          0.05652953780702871,
          0.26638909590267856,
          2.199306078362612,
          2.254532277861467,
          0.9070130100893994,
          1.5642047841257762,
          1.133440428034706,
          -1.0369492122703052,
          0.7137213118434063,
          0.8573094305404297,
          2.039150099815932,
          1.1003047083353925,
          -0.9817230127714496,
          -0.1478074003387357,
          1.834813161670167,
          0.45415817419878624,
          1.3985261856292113,
          1.188666627533561,
          0.10071049740611293,
          0.8462641906406589,
          1.4316619053285236,
          2.364984676859178,
          2.5637989950550564,
          0.7302891716930624,
          0.7192439317932916,
          0.8131284709413454,
          0.5811784330461536,
          0.5867010529960389,
          0.752379651492605,
          -0.7829086945755711,
          0.09518787745622753,
          0.9677618295381398,
          1.1113499482351632,
          1.9507881806177636,
          -0.5564812766302646,
          -0.1643752601883924,
          0.238775996153251,
          0.006825958258059079,
          1.613908363674746,
          0.08966525750634163,
          0.41549983454958744,
          0.27191171585256396,
          1.9618334205175343,
          1.0450785088365375,
          2.409165636458262,
          0.7579022714424904,
          -1.6996636062565675,
          1.3653904659298979,
          0.6750629721942074,
          1.2825511666816147,
          1.4316619053285236,
          1.1003047083353925,
          0.4872938938980997,
          1.9894465202669613,
          2.1937834584127263,
          2.5693216150049416,
          1.188666627533561,
          1.1003047083353925,
          2.652160914253225,
          1.3598678459800124,
          0.3934093547500458,
          0.7468570315427187,
          1.1720987676839048,
          0.3437057752010762,
          0.8793999103399713,
          0.382364114850275,
          1.2659833068319586,
          0.43759031434913004,
          -0.760818214776029,
          1.9342203207681063,
          0.27191171585256396,
          0.07309739765668542,
          -0.8049991743751127,
          1.2659833068319586,
          -1.0590396920698473,
          -0.13123954048907902,
          -0.6337979559286617,
          0.14489145700519718,
          0.44863555424890084,
          0.45415817419878624,
          0.05652953780702871,
          0.7026760719436353,
          -1.241286150416069,
          -0.5620038965801499,
          -0.13676216043896441,
          0.4817712739482143,
          -0.4736419773819815,
          -1.495326668110803,
          0.669540352244322,
          -0.4736419773819815,
          -0.644843195828433,
          -0.7497729748762577,
          -0.2969181389856446,
          -0.04287762129091055,
          0.752379651492605,
          -0.6724562955778606,
          0.24982123605302184,
          0.09518787745622753,
          0.3878867348001604,
          0.238775996153251,
          -1.219195670616527,
          -0.053922861190681855,
          0.4872938938980997,
          -0.3134859988353013,
          -0.10914906068953689,
          -1.0866527918192748,
          0.8793999103399713,
          0.327137915351419,
          0.22220813630359432,
          -0.0042192816417122225,
          -0.037355001341025144,
          -1.638914786807827,
          0.0013033383081736739,
          0.3934093547500458,
          1.1941892474834463,
          0.2608664759527931,
          0.5867010529960389,
          0.27191171585256396,
          -0.5067776970812949,
          -2.2464029812952346,
          0.7689475113422612,
          -0.36318957838427096,
          -0.4405062576826686,
          -1.1915825708670995,
          -0.17542050008816323,
          -0.5454360367304932,
          -0.3079633788854159,
          1.0726916085859655,
          -0.12019430058930819,
          0.05652953780702871,
          0.40445459464981665,
          -1.1142658915687023,
          0.6087915327955805,
          -1.3793516491632072,
          0.24429861610313644,
          0.5922236729459244,
          -0.20855621978747665,
          -0.987245632721335,
          -2.064156522949012,
          -0.644843195828433,
          -0.5454360367304932,
          -0.644843195828433,
          -0.8602253738739682,
          0.5867010529960389,
          -0.5896169963295775,
          -0.40184791803346975,
          -0.39632529808358435,
          -0.16989788013827783,
          -1.362783789313551,
          -0.8049991743751127,
          -0.501255077131409,
          0.7855153711919175,
          0.5425200933969547,
          1.0008975492374532,
          -0.5343907968307224,
          -0.8657479938238537,
          -0.053922861190681855,
          0.7247665517431771,
          -0.7663408347259144,
          0.3934093547500458,
          -1.5671207274593153,
          -0.13676216043896441,
          -1.3351706895641233,
          -1.3186028297144667,
          -0.0042192816417122225,
          -0.8105217943249986,
          -0.08705858088999478,
          -0.5343907968307224,
          1.2770285467317293,
          0.11727835725576964,
          -1.1805373309673286
         ],
         "xaxis": "x",
         "y": [
          "Peel hardness",
          "Peel hardness",
          "Peel hardness",
          "Peel hardness",
          "Peel hardness",
          "Peel hardness",
          "Peel hardness",
          "Peel hardness",
          "Peel hardness",
          "Peel hardness",
          "Peel hardness",
          "Peel hardness",
          "Peel hardness",
          "Peel hardness",
          "Peel hardness",
          "Peel hardness",
          "Peel hardness",
          "Peel hardness",
          "Peel hardness",
          "Peel hardness",
          "Peel hardness",
          "Peel hardness",
          "Peel hardness",
          "Peel hardness",
          "Peel hardness",
          "Peel hardness",
          "Peel hardness",
          "Peel hardness",
          "Peel hardness",
          "Peel hardness",
          "Peel hardness",
          "Peel hardness",
          "Peel hardness",
          "Peel hardness",
          "Peel hardness",
          "Peel hardness",
          "Peel hardness",
          "Peel hardness",
          "Peel hardness",
          "Peel hardness",
          "Peel hardness",
          "Peel hardness",
          "Peel hardness",
          "Peel hardness",
          "Peel hardness",
          "Peel hardness",
          "Peel hardness",
          "Peel hardness",
          "Peel hardness",
          "Peel hardness",
          "Peel hardness",
          "Peel hardness",
          "Peel hardness",
          "Peel hardness",
          "Peel hardness",
          "Peel hardness",
          "Peel hardness",
          "Peel hardness",
          "Peel hardness",
          "Peel hardness",
          "Peel hardness",
          "Peel hardness",
          "Peel hardness",
          "Peel hardness",
          "Peel hardness",
          "Peel hardness",
          "Peel hardness",
          "Peel hardness",
          "Peel hardness",
          "Peel hardness",
          "Peel hardness",
          "Peel hardness",
          "Peel hardness",
          "Peel hardness",
          "Peel hardness",
          "Peel hardness",
          "Peel hardness",
          "Peel hardness",
          "Peel hardness",
          "Peel hardness",
          "Peel hardness",
          "Peel hardness",
          "Peel hardness",
          "Peel hardness",
          "Peel hardness",
          "Peel hardness",
          "Peel hardness",
          "Peel hardness",
          "Peel hardness",
          "Peel hardness",
          "Peel hardness",
          "Peel hardness",
          "Peel hardness",
          "Peel hardness",
          "Peel hardness",
          "Peel hardness",
          "Peel hardness",
          "Peel hardness",
          "Peel hardness",
          "Peel hardness",
          "Peel hardness",
          "Peel hardness",
          "Peel hardness",
          "Peel hardness",
          "Peel hardness",
          "Peel hardness",
          "Peel hardness",
          "Peel hardness",
          "Peel hardness",
          "Peel hardness",
          "Peel hardness",
          "Peel hardness",
          "Peel hardness",
          "Peel hardness",
          "Peel hardness",
          "Peel hardness",
          "Peel hardness",
          "Peel hardness",
          "Peel hardness",
          "Peel hardness",
          "Peel hardness",
          "Peel hardness",
          "Peel hardness",
          "Peel hardness",
          "Peel hardness",
          "Peel hardness",
          "Peel hardness",
          "Peel hardness",
          "Peel hardness",
          "Peel hardness",
          "Peel hardness",
          "Peel hardness",
          "Peel hardness",
          "Peel hardness",
          "Peel hardness",
          "Peel hardness",
          "Peel hardness",
          "Peel hardness",
          "Peel hardness",
          "Peel hardness",
          "Peel hardness",
          "Peel hardness",
          "Peel hardness",
          "Peel hardness",
          "Peel hardness",
          "Peel hardness",
          "Peel hardness",
          "Peel hardness",
          "Peel hardness",
          "Peel hardness",
          "Peel hardness",
          "Peel hardness",
          "Peel hardness",
          "Peel hardness",
          "Peel hardness",
          "Peel hardness",
          "Peel hardness",
          "Peel hardness",
          "Peel hardness",
          "Peel hardness",
          "Peel hardness",
          "Peel hardness",
          "Peel hardness",
          "Peel hardness",
          "Peel hardness",
          "Peel hardness",
          "Peel hardness",
          "Peel hardness",
          "Peel hardness",
          "Peel hardness",
          "Peel hardness",
          "Peel hardness",
          "Peel hardness",
          "Peel hardness",
          "Peel hardness",
          "Peel hardness",
          "Peel hardness",
          "Peel hardness",
          "Peel hardness",
          "Peel hardness",
          "Peel hardness",
          "Peel hardness",
          "Peel hardness",
          "Peel hardness",
          "Peel hardness",
          "Peel hardness",
          "Peel hardness",
          "Peel hardness",
          "Peel hardness",
          "Peel hardness",
          "Peel hardness",
          "Peel hardness",
          "Peel hardness",
          "Peel hardness",
          "Peel hardness",
          "Peel hardness",
          "Peel hardness",
          "Peel hardness",
          "Peel hardness",
          "Peel hardness",
          "Peel hardness",
          "Peel hardness",
          "Peel hardness",
          "Peel hardness",
          "Peel hardness",
          "Peel hardness",
          "Peel hardness",
          "Peel hardness",
          "Peel hardness",
          "Peel hardness",
          "Peel hardness",
          "Peel hardness",
          "Peel hardness",
          "Peel hardness",
          "Peel hardness",
          "Peel hardness",
          "Peel hardness",
          "Peel hardness",
          "Peel hardness",
          "Peel hardness",
          "Peel hardness",
          "Peel hardness",
          "Peel hardness",
          "Peel hardness",
          "Peel hardness",
          "Peel hardness",
          "Peel hardness",
          "Peel hardness",
          "Peel hardness",
          "Peel hardness",
          "Peel hardness",
          "Peel hardness",
          "Peel hardness",
          "Peel hardness",
          "Peel hardness",
          "Peel hardness",
          "Peel hardness",
          "Peel hardness",
          "Peel hardness",
          "Peel hardness",
          "Peel hardness",
          "Peel hardness",
          "Peel hardness",
          "Peel hardness",
          "Peel hardness",
          "Peel hardness",
          "Peel hardness",
          "Peel hardness",
          "Peel hardness",
          "Peel hardness",
          "Peel hardness",
          "Peel hardness",
          "Peel hardness",
          "Peel hardness",
          "Peel hardness",
          "Peel hardness",
          "Peel hardness",
          "Peel hardness",
          "Peel hardness",
          "Peel hardness",
          "Peel hardness",
          "Peel hardness",
          "Peel hardness",
          "Peel hardness",
          "Peel hardness",
          "Peel hardness",
          "Peel hardness",
          "Peel hardness",
          "Peel hardness",
          "Peel hardness",
          "Peel hardness",
          "Peel hardness",
          "Peel hardness",
          "Peel hardness",
          "Peel hardness",
          "Peel hardness",
          "Peel hardness",
          "Peel hardness",
          "Peel hardness",
          "Peel hardness",
          "Peel hardness",
          "Peel hardness",
          "Peel hardness",
          "Peel hardness",
          "Peel hardness",
          "Peel hardness",
          "Peel hardness",
          "Peel hardness",
          "Peel hardness",
          "Peel hardness",
          "Peel hardness",
          "Peel hardness",
          "Peel hardness",
          "Peel hardness",
          "Peel hardness",
          "Peel hardness",
          "Peel hardness",
          "Peel hardness",
          "Peel hardness",
          "Peel hardness",
          "Peel hardness",
          "Peel hardness",
          "Peel hardness",
          "Peel hardness",
          "Peel hardness",
          "Peel hardness",
          "Peel hardness",
          "Peel hardness",
          "Peel hardness",
          "Peel hardness",
          "Peel hardness",
          "Peel hardness",
          "Peel hardness",
          "Peel hardness",
          "Peel hardness",
          "Peel hardness",
          "Peel hardness",
          "Peel hardness",
          "Peel hardness",
          "Peel hardness",
          "Peel hardness",
          "Peel hardness",
          "Peel hardness",
          "Peel hardness",
          "Peel hardness",
          "Peel hardness",
          "Peel hardness",
          "Peel hardness",
          "Peel hardness",
          "Peel hardness",
          "Peel hardness",
          "Peel hardness",
          "Peel hardness",
          "Peel hardness",
          "Peel hardness",
          "Peel hardness",
          "Peel hardness",
          "Peel hardness",
          "Peel hardness",
          "Peel hardness",
          "Peel hardness",
          "Peel hardness",
          "Peel hardness",
          "Peel hardness",
          "Peel hardness",
          "Peel hardness",
          "Peel hardness",
          "Peel hardness",
          "Peel hardness",
          "Peel hardness",
          "Peel hardness",
          "Peel hardness",
          "Peel hardness",
          "Peel hardness",
          "Peel hardness",
          "Peel hardness",
          "Peel hardness",
          "Peel hardness",
          "Peel hardness",
          "Peel hardness",
          "Peel hardness",
          "Peel hardness",
          "Peel hardness",
          "Peel hardness",
          "Peel hardness",
          "Peel hardness",
          "Peel hardness",
          "Peel hardness",
          "Peel hardness",
          "Peel hardness",
          "Peel hardness",
          "Peel hardness",
          "Peel hardness",
          "Peel hardness",
          "Peel hardness",
          "Peel hardness",
          "Peel hardness",
          "Peel hardness",
          "Peel hardness",
          "Peel hardness",
          "Peel hardness",
          "Peel hardness",
          "Peel hardness",
          "Peel hardness",
          "Peel hardness",
          "Peel hardness",
          "Peel hardness",
          "Peel hardness",
          "Peel hardness",
          "Peel hardness",
          "Peel hardness",
          "Peel hardness",
          "Peel hardness",
          "Peel hardness",
          "Peel hardness",
          "Peel hardness",
          "Peel hardness",
          "Peel hardness",
          "Peel hardness",
          "Peel hardness",
          "Peel hardness",
          "Peel hardness",
          "Peel hardness",
          "Peel hardness",
          "Peel hardness",
          "Peel hardness",
          "Peel hardness",
          "Peel hardness",
          "Peel hardness",
          "Peel hardness",
          "Peel hardness",
          "Peel hardness",
          "Peel hardness",
          "Peel hardness",
          "Peel hardness",
          "Peel hardness",
          "Peel hardness",
          "Peel hardness",
          "Peel hardness",
          "Peel hardness",
          "Peel hardness",
          "Peel hardness",
          "Peel hardness",
          "Peel hardness",
          "Peel hardness",
          "Peel hardness",
          "Peel hardness",
          "Peel hardness",
          "Peel hardness",
          "Peel hardness",
          "Peel hardness",
          "Peel hardness",
          "Peel hardness",
          "Peel hardness",
          "Peel hardness",
          "Peel hardness",
          "Peel hardness",
          "Peel hardness",
          "Peel hardness",
          "Peel hardness",
          "Peel hardness",
          "Peel hardness",
          "Peel hardness",
          "Peel hardness",
          "Peel hardness",
          "Peel hardness",
          "Peel hardness",
          "Peel hardness",
          "Peel hardness",
          "Peel hardness",
          "Peel hardness",
          "Peel hardness",
          "Peel hardness",
          "Peel hardness",
          "Peel hardness",
          "Peel hardness",
          "Peel hardness",
          "Peel hardness",
          "Peel hardness",
          "Peel hardness",
          "Peel hardness",
          "Peel hardness",
          "Peel hardness",
          "Peel hardness",
          "Peel hardness",
          "Peel hardness",
          "Peel hardness",
          "Peel hardness",
          "Peel hardness",
          "Peel hardness",
          "Peel hardness",
          "Peel hardness",
          "Peel hardness",
          "Peel hardness",
          "Peel hardness",
          "Peel hardness",
          "Peel hardness",
          "Peel hardness",
          "Peel hardness",
          "Peel hardness",
          "Peel hardness",
          "Peel hardness",
          "Peel hardness",
          "Peel hardness",
          "Peel hardness",
          "Peel hardness",
          "Peel hardness",
          "Peel hardness",
          "Peel hardness",
          "Peel hardness",
          "Peel hardness",
          "Peel hardness",
          "Peel hardness",
          "Peel hardness",
          "Peel hardness",
          "Peel hardness",
          "Peel hardness",
          "Peel hardness",
          "Peel hardness",
          "Peel hardness"
         ],
         "yaxis": "y2"
        }
       ],
       "layout": {
        "barmode": "overlay",
        "hovermode": "closest",
        "legend": {
         "traceorder": "reversed"
        },
        "template": {
         "data": {
          "bar": [
           {
            "error_x": {
             "color": "#2a3f5f"
            },
            "error_y": {
             "color": "#2a3f5f"
            },
            "marker": {
             "line": {
              "color": "#E5ECF6",
              "width": 0.5
             },
             "pattern": {
              "fillmode": "overlay",
              "size": 10,
              "solidity": 0.2
             }
            },
            "type": "bar"
           }
          ],
          "barpolar": [
           {
            "marker": {
             "line": {
              "color": "#E5ECF6",
              "width": 0.5
             },
             "pattern": {
              "fillmode": "overlay",
              "size": 10,
              "solidity": 0.2
             }
            },
            "type": "barpolar"
           }
          ],
          "carpet": [
           {
            "aaxis": {
             "endlinecolor": "#2a3f5f",
             "gridcolor": "white",
             "linecolor": "white",
             "minorgridcolor": "white",
             "startlinecolor": "#2a3f5f"
            },
            "baxis": {
             "endlinecolor": "#2a3f5f",
             "gridcolor": "white",
             "linecolor": "white",
             "minorgridcolor": "white",
             "startlinecolor": "#2a3f5f"
            },
            "type": "carpet"
           }
          ],
          "choropleth": [
           {
            "colorbar": {
             "outlinewidth": 0,
             "ticks": ""
            },
            "type": "choropleth"
           }
          ],
          "contour": [
           {
            "colorbar": {
             "outlinewidth": 0,
             "ticks": ""
            },
            "colorscale": [
             [
              0,
              "#0d0887"
             ],
             [
              0.1111111111111111,
              "#46039f"
             ],
             [
              0.2222222222222222,
              "#7201a8"
             ],
             [
              0.3333333333333333,
              "#9c179e"
             ],
             [
              0.4444444444444444,
              "#bd3786"
             ],
             [
              0.5555555555555556,
              "#d8576b"
             ],
             [
              0.6666666666666666,
              "#ed7953"
             ],
             [
              0.7777777777777778,
              "#fb9f3a"
             ],
             [
              0.8888888888888888,
              "#fdca26"
             ],
             [
              1,
              "#f0f921"
             ]
            ],
            "type": "contour"
           }
          ],
          "contourcarpet": [
           {
            "colorbar": {
             "outlinewidth": 0,
             "ticks": ""
            },
            "type": "contourcarpet"
           }
          ],
          "heatmap": [
           {
            "colorbar": {
             "outlinewidth": 0,
             "ticks": ""
            },
            "colorscale": [
             [
              0,
              "#0d0887"
             ],
             [
              0.1111111111111111,
              "#46039f"
             ],
             [
              0.2222222222222222,
              "#7201a8"
             ],
             [
              0.3333333333333333,
              "#9c179e"
             ],
             [
              0.4444444444444444,
              "#bd3786"
             ],
             [
              0.5555555555555556,
              "#d8576b"
             ],
             [
              0.6666666666666666,
              "#ed7953"
             ],
             [
              0.7777777777777778,
              "#fb9f3a"
             ],
             [
              0.8888888888888888,
              "#fdca26"
             ],
             [
              1,
              "#f0f921"
             ]
            ],
            "type": "heatmap"
           }
          ],
          "heatmapgl": [
           {
            "colorbar": {
             "outlinewidth": 0,
             "ticks": ""
            },
            "colorscale": [
             [
              0,
              "#0d0887"
             ],
             [
              0.1111111111111111,
              "#46039f"
             ],
             [
              0.2222222222222222,
              "#7201a8"
             ],
             [
              0.3333333333333333,
              "#9c179e"
             ],
             [
              0.4444444444444444,
              "#bd3786"
             ],
             [
              0.5555555555555556,
              "#d8576b"
             ],
             [
              0.6666666666666666,
              "#ed7953"
             ],
             [
              0.7777777777777778,
              "#fb9f3a"
             ],
             [
              0.8888888888888888,
              "#fdca26"
             ],
             [
              1,
              "#f0f921"
             ]
            ],
            "type": "heatmapgl"
           }
          ],
          "histogram": [
           {
            "marker": {
             "pattern": {
              "fillmode": "overlay",
              "size": 10,
              "solidity": 0.2
             }
            },
            "type": "histogram"
           }
          ],
          "histogram2d": [
           {
            "colorbar": {
             "outlinewidth": 0,
             "ticks": ""
            },
            "colorscale": [
             [
              0,
              "#0d0887"
             ],
             [
              0.1111111111111111,
              "#46039f"
             ],
             [
              0.2222222222222222,
              "#7201a8"
             ],
             [
              0.3333333333333333,
              "#9c179e"
             ],
             [
              0.4444444444444444,
              "#bd3786"
             ],
             [
              0.5555555555555556,
              "#d8576b"
             ],
             [
              0.6666666666666666,
              "#ed7953"
             ],
             [
              0.7777777777777778,
              "#fb9f3a"
             ],
             [
              0.8888888888888888,
              "#fdca26"
             ],
             [
              1,
              "#f0f921"
             ]
            ],
            "type": "histogram2d"
           }
          ],
          "histogram2dcontour": [
           {
            "colorbar": {
             "outlinewidth": 0,
             "ticks": ""
            },
            "colorscale": [
             [
              0,
              "#0d0887"
             ],
             [
              0.1111111111111111,
              "#46039f"
             ],
             [
              0.2222222222222222,
              "#7201a8"
             ],
             [
              0.3333333333333333,
              "#9c179e"
             ],
             [
              0.4444444444444444,
              "#bd3786"
             ],
             [
              0.5555555555555556,
              "#d8576b"
             ],
             [
              0.6666666666666666,
              "#ed7953"
             ],
             [
              0.7777777777777778,
              "#fb9f3a"
             ],
             [
              0.8888888888888888,
              "#fdca26"
             ],
             [
              1,
              "#f0f921"
             ]
            ],
            "type": "histogram2dcontour"
           }
          ],
          "mesh3d": [
           {
            "colorbar": {
             "outlinewidth": 0,
             "ticks": ""
            },
            "type": "mesh3d"
           }
          ],
          "parcoords": [
           {
            "line": {
             "colorbar": {
              "outlinewidth": 0,
              "ticks": ""
             }
            },
            "type": "parcoords"
           }
          ],
          "pie": [
           {
            "automargin": true,
            "type": "pie"
           }
          ],
          "scatter": [
           {
            "fillpattern": {
             "fillmode": "overlay",
             "size": 10,
             "solidity": 0.2
            },
            "type": "scatter"
           }
          ],
          "scatter3d": [
           {
            "line": {
             "colorbar": {
              "outlinewidth": 0,
              "ticks": ""
             }
            },
            "marker": {
             "colorbar": {
              "outlinewidth": 0,
              "ticks": ""
             }
            },
            "type": "scatter3d"
           }
          ],
          "scattercarpet": [
           {
            "marker": {
             "colorbar": {
              "outlinewidth": 0,
              "ticks": ""
             }
            },
            "type": "scattercarpet"
           }
          ],
          "scattergeo": [
           {
            "marker": {
             "colorbar": {
              "outlinewidth": 0,
              "ticks": ""
             }
            },
            "type": "scattergeo"
           }
          ],
          "scattergl": [
           {
            "marker": {
             "colorbar": {
              "outlinewidth": 0,
              "ticks": ""
             }
            },
            "type": "scattergl"
           }
          ],
          "scattermapbox": [
           {
            "marker": {
             "colorbar": {
              "outlinewidth": 0,
              "ticks": ""
             }
            },
            "type": "scattermapbox"
           }
          ],
          "scatterpolar": [
           {
            "marker": {
             "colorbar": {
              "outlinewidth": 0,
              "ticks": ""
             }
            },
            "type": "scatterpolar"
           }
          ],
          "scatterpolargl": [
           {
            "marker": {
             "colorbar": {
              "outlinewidth": 0,
              "ticks": ""
             }
            },
            "type": "scatterpolargl"
           }
          ],
          "scatterternary": [
           {
            "marker": {
             "colorbar": {
              "outlinewidth": 0,
              "ticks": ""
             }
            },
            "type": "scatterternary"
           }
          ],
          "surface": [
           {
            "colorbar": {
             "outlinewidth": 0,
             "ticks": ""
            },
            "colorscale": [
             [
              0,
              "#0d0887"
             ],
             [
              0.1111111111111111,
              "#46039f"
             ],
             [
              0.2222222222222222,
              "#7201a8"
             ],
             [
              0.3333333333333333,
              "#9c179e"
             ],
             [
              0.4444444444444444,
              "#bd3786"
             ],
             [
              0.5555555555555556,
              "#d8576b"
             ],
             [
              0.6666666666666666,
              "#ed7953"
             ],
             [
              0.7777777777777778,
              "#fb9f3a"
             ],
             [
              0.8888888888888888,
              "#fdca26"
             ],
             [
              1,
              "#f0f921"
             ]
            ],
            "type": "surface"
           }
          ],
          "table": [
           {
            "cells": {
             "fill": {
              "color": "#EBF0F8"
             },
             "line": {
              "color": "white"
             }
            },
            "header": {
             "fill": {
              "color": "#C8D4E3"
             },
             "line": {
              "color": "white"
             }
            },
            "type": "table"
           }
          ]
         },
         "layout": {
          "annotationdefaults": {
           "arrowcolor": "#2a3f5f",
           "arrowhead": 0,
           "arrowwidth": 1
          },
          "autotypenumbers": "strict",
          "coloraxis": {
           "colorbar": {
            "outlinewidth": 0,
            "ticks": ""
           }
          },
          "colorscale": {
           "diverging": [
            [
             0,
             "#8e0152"
            ],
            [
             0.1,
             "#c51b7d"
            ],
            [
             0.2,
             "#de77ae"
            ],
            [
             0.3,
             "#f1b6da"
            ],
            [
             0.4,
             "#fde0ef"
            ],
            [
             0.5,
             "#f7f7f7"
            ],
            [
             0.6,
             "#e6f5d0"
            ],
            [
             0.7,
             "#b8e186"
            ],
            [
             0.8,
             "#7fbc41"
            ],
            [
             0.9,
             "#4d9221"
            ],
            [
             1,
             "#276419"
            ]
           ],
           "sequential": [
            [
             0,
             "#0d0887"
            ],
            [
             0.1111111111111111,
             "#46039f"
            ],
            [
             0.2222222222222222,
             "#7201a8"
            ],
            [
             0.3333333333333333,
             "#9c179e"
            ],
            [
             0.4444444444444444,
             "#bd3786"
            ],
            [
             0.5555555555555556,
             "#d8576b"
            ],
            [
             0.6666666666666666,
             "#ed7953"
            ],
            [
             0.7777777777777778,
             "#fb9f3a"
            ],
            [
             0.8888888888888888,
             "#fdca26"
            ],
            [
             1,
             "#f0f921"
            ]
           ],
           "sequentialminus": [
            [
             0,
             "#0d0887"
            ],
            [
             0.1111111111111111,
             "#46039f"
            ],
            [
             0.2222222222222222,
             "#7201a8"
            ],
            [
             0.3333333333333333,
             "#9c179e"
            ],
            [
             0.4444444444444444,
             "#bd3786"
            ],
            [
             0.5555555555555556,
             "#d8576b"
            ],
            [
             0.6666666666666666,
             "#ed7953"
            ],
            [
             0.7777777777777778,
             "#fb9f3a"
            ],
            [
             0.8888888888888888,
             "#fdca26"
            ],
            [
             1,
             "#f0f921"
            ]
           ]
          },
          "colorway": [
           "#636efa",
           "#EF553B",
           "#00cc96",
           "#ab63fa",
           "#FFA15A",
           "#19d3f3",
           "#FF6692",
           "#B6E880",
           "#FF97FF",
           "#FECB52"
          ],
          "font": {
           "color": "#2a3f5f"
          },
          "geo": {
           "bgcolor": "white",
           "lakecolor": "white",
           "landcolor": "#E5ECF6",
           "showlakes": true,
           "showland": true,
           "subunitcolor": "white"
          },
          "hoverlabel": {
           "align": "left"
          },
          "hovermode": "closest",
          "mapbox": {
           "style": "light"
          },
          "paper_bgcolor": "white",
          "plot_bgcolor": "#E5ECF6",
          "polar": {
           "angularaxis": {
            "gridcolor": "white",
            "linecolor": "white",
            "ticks": ""
           },
           "bgcolor": "#E5ECF6",
           "radialaxis": {
            "gridcolor": "white",
            "linecolor": "white",
            "ticks": ""
           }
          },
          "scene": {
           "xaxis": {
            "backgroundcolor": "#E5ECF6",
            "gridcolor": "white",
            "gridwidth": 2,
            "linecolor": "white",
            "showbackground": true,
            "ticks": "",
            "zerolinecolor": "white"
           },
           "yaxis": {
            "backgroundcolor": "#E5ECF6",
            "gridcolor": "white",
            "gridwidth": 2,
            "linecolor": "white",
            "showbackground": true,
            "ticks": "",
            "zerolinecolor": "white"
           },
           "zaxis": {
            "backgroundcolor": "#E5ECF6",
            "gridcolor": "white",
            "gridwidth": 2,
            "linecolor": "white",
            "showbackground": true,
            "ticks": "",
            "zerolinecolor": "white"
           }
          },
          "shapedefaults": {
           "line": {
            "color": "#2a3f5f"
           }
          },
          "ternary": {
           "aaxis": {
            "gridcolor": "white",
            "linecolor": "white",
            "ticks": ""
           },
           "baxis": {
            "gridcolor": "white",
            "linecolor": "white",
            "ticks": ""
           },
           "bgcolor": "#E5ECF6",
           "caxis": {
            "gridcolor": "white",
            "linecolor": "white",
            "ticks": ""
           }
          },
          "title": {
           "x": 0.05
          },
          "xaxis": {
           "automargin": true,
           "gridcolor": "white",
           "linecolor": "white",
           "ticks": "",
           "title": {
            "standoff": 15
           },
           "zerolinecolor": "white",
           "zerolinewidth": 2
          },
          "yaxis": {
           "automargin": true,
           "gridcolor": "white",
           "linecolor": "white",
           "ticks": "",
           "title": {
            "standoff": 15
           },
           "zerolinecolor": "white",
           "zerolinewidth": 2
          }
         }
        },
        "title": {
         "text": "Distplot with Normal Distribution and Rug Plot for Peel hardness"
        },
        "xaxis": {
         "anchor": "y2",
         "domain": [
          0,
          1
         ],
         "zeroline": false
        },
        "yaxis": {
         "anchor": "free",
         "domain": [
          0.35,
          1
         ],
         "position": 0
        },
        "yaxis2": {
         "anchor": "x",
         "domain": [
          0,
          0.25
         ],
         "dtick": 1,
         "showticklabels": false
        }
       }
      }
     },
     "metadata": {},
     "output_type": "display_data"
    }
   ],
   "source": [
    "# Distplot with Normal Distribution among ['Weight', 'Average diameter', 'Average length', 'Peel hardness', 'Sweetness']]\n",
    "\n",
    "feature_to_viz = 'Peel hardness'\n",
    "\n",
    "fig = kde_for_single_feature(df_standard_transformed, feature_to_viz, bin=0.2)\n",
    "fig.show()"
   ]
  },
  {
   "cell_type": "code",
   "execution_count": 19,
   "metadata": {},
   "outputs": [
    {
     "data": {
      "application/vnd.plotly.v1+json": {
       "config": {
        "plotlyServerURL": "https://plot.ly"
       },
       "data": [
        {
         "alignmentgroup": "True",
         "bingroup": "x",
         "hovertemplate": "Sweetness=%{x}<br>count=%{y}<extra></extra>",
         "legendgroup": "",
         "marker": {
          "color": "#636efa",
          "pattern": {
           "shape": ""
          }
         },
         "name": "",
         "offsetgroup": "",
         "orientation": "v",
         "showlegend": false,
         "type": "histogram",
         "x": [
          -0.9363635635388089,
          0.21903509669906826,
          -0.5644201592156568,
          -0.8255719111872318,
          0.22694878615275219,
          -0.398232680688291,
          -1.1421194893345954,
          -0.09751248144829527,
          -1.031327836983018,
          -0.6435570537524978,
          -0.659384432659866,
          -0.4061463701419749,
          -0.7464350166503909,
          -1.197515315510384,
          0.029106549810649935,
          -0.13708092871671593,
          -1.110464731519859,
          -0.8255719111872318,
          0.44061840140222297,
          -0.034202965818822845,
          -0.5406790908546044,
          -0.2162178232535569,
          -0.5644201592156568,
          -0.16873568653145232,
          -0.691039190474602,
          -0.7860034639188112,
          0.4485320908559069,
          -1.2054290049640681,
          -0.7780897744651273,
          -0.4615421963177637,
          -1.2291700733251203,
          -0.3428368545125021,
          -0.08168510254092708,
          -0.16082199707776804,
          -0.5169380224935523,
          -0.6672981221135499,
          -0.6356433642988135,
          -0.3586642334198703,
          -0.2716136494293454,
          -0.14499461817039985,
          -1.2687385205935409,
          -0.7464350166503909,
          -1.1262921104272272,
          -0.49319695413249975,
          -0.4219737490493431,
          -0.6514707432061817,
          0.013279170903281741,
          0.1082434443474909,
          -0.9759320108072296,
          -0.2953547177903975,
          -0.691039190474602,
          0.04493392871801813,
          -0.6039886064840772,
          -0.8888814268167042,
          -0.018375586911454647,
          -0.1845630654388205,
          -0.6831255010209181,
          -0.398232680688291,
          -0.7939171533724955,
          -0.17664937598513625,
          -0.39031899123460667,
          -0.9442772529924931,
          -1.213342694417752,
          -0.9521909424461771,
          -0.39031899123460667,
          -0.8334856006409158,
          -0.9996730791682816,
          -0.4378011279567113,
          -0.580247538123025,
          0.3456541279580138,
          -0.4219737490493431,
          -1.1421194893345954,
          -0.46945588577144765,
          -0.3744916123272385,
          -0.5248517119472361,
          0.48810053812432724,
          -0.9363635635388089,
          -0.849312979548284,
          -0.8097445322798636,
          -0.23204520216092508,
          -1.7277325089072182,
          -0.6356433642988135,
          -0.7147802588356545,
          -0.580247538123025,
          0.1478118916159112,
          -0.38240530178092275,
          -0.9047088057240725,
          0.20320771779170008,
          -0.4378011279567113,
          -0.5248517119472361,
          -0.6831255010209181,
          -0.4219737490493431,
          -0.4615421963177637,
          -1.3162206573156454,
          -0.2162178232535569,
          -0.6435570537524978,
          -0.7860034639188112,
          -0.2557862705219772,
          -0.9838457002609134,
          -0.5565064697619726,
          -1.4507533780282749,
          -1.6723366827314294,
          -1.1579468682419636,
          -1.3557891045840658,
          -1.2608248311398567,
          -1.1342057998809112,
          -0.8255719111872318,
          -1.284565899500909,
          -1.0946373526124908,
          -1.561545030379852,
          -1.466580756935643,
          -1.8543515401661634,
          -0.9363635635388089,
          -0.9838457002609134,
          -0.5090243330398679,
          -0.9126224951777567,
          -1.640681924916693,
          -1.2687385205935409,
          -1.3557891045840658,
          -1.4349259991209067,
          -1.5378039620188,
          -1.5219765831114318,
          -1.6644229932777455,
          -1.3003932784082772,
          -1.1658605576956476,
          -0.9996730791682816,
          -1.1737742471493318,
          -1.2529111416861727,
          -1.197515315510384,
          -1.284565899500909,
          -1.213342694417752,
          -1.2766522100472248,
          -1.6011134776482727,
          -1.3874438623988021,
          -1.292479588954593,
          -0.7147802588356545,
          -1.2608248311398567,
          -0.5565064697619726,
          -1.284565899500909,
          -1.1658605576956476,
          -1.3241343467693294,
          -1.6248545460093249,
          -1.3874438623988021,
          -1.2291700733251203,
          -0.9838457002609134,
          -1.5931997881945885,
          -1.5694587198335361,
          -1.4270123096672225,
          -1.3162206573156454,
          -1.3874438623988021,
          -0.6831255010209181,
          -1.7039914405461658,
          -1.3478754151303818,
          -1.197515315510384,
          -0.7939171533724955,
          -1.5298902725651158,
          -0.849312979548284,
          -0.8097445322798636,
          -1.3874438623988021,
          -1.6644229932777455,
          -1.284565899500909,
          -0.9521909424461771,
          -1.5378039620188,
          -0.9205361846314407,
          -1.3557891045840658,
          -1.1262921104272272,
          -0.9759320108072296,
          -1.8385241612587953,
          -0.7622623955577591,
          -1.2291700733251203,
          -1.5140628936577476,
          -1.213342694417752,
          -1.01550045807565,
          -0.9047088057240725,
          -1.5298902725651158,
          -1.197515315510384,
          -1.6565093038240613,
          -1.2529111416861727,
          -1.7119051299998498,
          -1.1579468682419636,
          -1.5140628936577476,
          -1.3320480362230136,
          -1.284565899500909,
          -1.5140628936577476,
          -1.1025510420661748,
          -0.6989528799282863,
          -0.9126224951777567,
          -1.3003932784082772,
          -1.0946373526124908,
          -1.213342694417752,
          -1.3478754151303818,
          -1.7435598878145862,
          -1.1658605576956476,
          -1.0471552158903863,
          -1.213342694417752,
          -1.284565899500909,
          -1.2687385205935409,
          -0.9284498740851249,
          -1.4190986202135385,
          -1.0708962842514385,
          0.1557255810695955,
          1.4298295831127343,
          1.5564486143716791,
          0.8046481162716911,
          1.350692688575893,
          -0.13708092871671593,
          1.2082462784095795,
          0.8125618057253751,
          1.5881033721864155,
          0.7571659795495862,
          1.398174825297998,
          2.2291122179348273,
          -0.034202965818822845,
          1.5168801671032588,
          2.3636449386474565,
          0.6701153955590616,
          0.7571659795495862,
          0.7413386006422183,
          0.8363028740864275,
          0.0845023759864388,
          0.9391808369843206,
          0.5039279170316958,
          2.3003354230179838,
          0.6147195693832728,
          1.501052788195891,
          0.9629219053453724,
          2.3240764913790364,
          1.4060885147516817,
          2.3715586281011407,
          1.1132820049653704,
          2.039183671046409,
          0.709683842827482,
          -0.45362850686407946,
          2.656451448433768,
          0.9470945264380045,
          -0.2636999599756615,
          0.20320771779170008,
          1.8888235714264117,
          1.5089664776495748,
          2.0629247394074612,
          1.6830676456306246,
          1.6672402667232569,
          0.32191305959696137,
          0.8046481162716911,
          1.3823474463906293,
          0.8600439424474793,
          0.5276689853927475,
          1.8334277452506227,
          1.493139098742207,
          1.026231420974845,
          1.5485349249179952,
          2.1104068761295656,
          1.0420587998822137,
          2.5298324171748225,
          1.231987346770632,
          0.1952940283380158,
          1.0657998682432661,
          1.0420587998822137,
          1.5801896827327315,
          1.231987346770632,
          1.192418899502211,
          1.1765915205948432,
          2.0945794972221976,
          -0.8967951162703885,
          1.5564486143716791,
          1.9283920186948318,
          0.9945766631601087,
          1.0341451104285297,
          0.27443092287485676,
          1.5327075460106274,
          0.7571659795495862,
          0.9391808369843206,
          1.6355855089085205,
          0.6305469482906406,
          2.031269981592725,
          0.36148150686538166,
          1.358606378029577,
          0.46435946976327475,
          1.5801896827327315,
          1.6355855089085205,
          1.0420587998822137,
          2.2686806652032474,
          1.247814725678,
          0.5751511221148524,
          1.6909813350843093,
          0.3693951963190656,
          0.029106549810649935,
          0.9075260791695842,
          2.458609212091666,
          1.0420587998822137,
          -0.17664937598513625,
          2.237025907388511,
          1.1291093838727382,
          0.4801868486706433,
          2.5377461066285063,
          1.817600366343254,
          2.5852282433506115,
          1.9917015343243047,
          1.1132820049653704,
          1.3269516202148404,
          -0.08168510254092708,
          0.1478118916159112,
          -0.1529083076240841,
          0.13198451270854303,
          0.37730888577275024,
          -0.2874410283367136,
          0.6305469482906406,
          -0.5090243330398679,
          0.38522257522643416,
          0.25068985451380466,
          0.1398982021622273,
          0.16363927052327942,
          0.013279170903281741,
          1.4060885147516817,
          0.8204754951790589,
          0.16363927052327942,
          0.25068985451380466,
          0.1478118916159112,
          0.11615713380117518,
          0.49601422757801117,
          1.0895409366043178,
          -0.3507505439661864,
          -0.22413151270724083,
          0.09241606544012271,
          -0.3111820966977657,
          0.3693951963190656,
          1.3190379307611566,
          0.9866629737064249,
          0.5276689853927475,
          -0.3744916123272385,
          -0.6435570537524978,
          -0.14499461817039985,
          0.42479102249485445,
          -0.2874410283367136,
          0.9075260791695842,
          -0.05794403417987496,
          0.7413386006422183,
          0.9945766631601087,
          1.1845052100485272,
          0.7809070479106387,
          0.38522257522643416,
          0.5672374326611679,
          -0.08959879199461135,
          -0.6672981221135499,
          1.2003325889558956,
          0.6305469482906406,
          0.40104995413380196,
          1.1370230733264228,
          0.25068985451380466,
          1.2952968624001049,
          1.4060885147516817,
          1.2161599678632635,
          1.2082462784095795,
          -0.5090243330398679,
          0.7413386006422183,
          -0.050030344726191035,
          0.6542880166516931,
          0.8916987002622156,
          0.9945766631601087,
          -0.6198159853914453,
          -0.3032684072440818,
          1.77011822962115,
          -0.3744916123272385,
          -0.2716136494293454,
          0.4089636435874866,
          1.0024903526137934,
          -0.002548208004086453,
          -0.239958891614609,
          0.13198451270854303,
          0.1952940283380158,
          0.6780290850127455,
          -0.04211665527250676,
          0.5039279170316958,
          0.8837850108085318,
          0.013279170903281741,
          -0.2716136494293454,
          -0.07377141308724315,
          -0.4219737490493431,
          0.9075260791695842,
          -0.018375586911454647,
          -0.06585772363355923,
          0.8600439424474793,
          -0.034202965818822845,
          0.2427761650601204,
          -0.16082199707776804,
          1.2636421045853683,
          0.25068985451380466,
          -0.4378011279567113,
          -0.44571481741039554,
          0.1952940283380158,
          0.6305469482906406,
          -0.3586642334198703,
          0.8125618057253751,
          -0.45362850686407946,
          1.2082462784095795,
          -0.07377141308724315,
          1.192418899502211,
          0.13198451270854303,
          0.1794666494306476,
          0.1794666494306476,
          0.6226332588369567,
          0.211121407245384,
          1.1053683155116865,
          -0.002548208004086453,
          0.4722731592169594,
          -0.9521909424461771,
          -0.09751248144829527,
          0.021192860356966013,
          -0.6277296748451296,
          0.38522257522643416,
          -0.9996730791682816,
          0.26651723342117284,
          -0.10542617090197955,
          -0.22413151270724083,
          0.8125618057253751,
          0.9470945264380045,
          0.6859427744664295,
          -1.1342057998809112,
          0.662201706105377,
          -0.5565064697619726,
          0.6226332588369567,
          0.4801868486706433,
          0.9787492842527409,
          0.701770153373798,
          0.211121407245384,
          0.5355826748464314,
          0.1873803388843319,
          0.32191305959696137,
          -0.8651403584556522,
          0.282344612328541,
          0.29817199123590926,
          -0.9442772529924931,
          0.5751511221148524,
          -1.0629825947977545,
          -0.36657792287355456,
          -0.239958891614609,
          1.5960170616401002,
          0.8758713213548478,
          0.970835594799057,
          -0.7306076377430227,
          0.3060856806895932,
          0.5593237432074839,
          0.4089636435874866,
          0.5830648115685364,
          1.4773117198348384,
          -0.13708092871671593,
          0.1082434443474909,
          0.3693951963190656,
          0.38522257522643416,
          0.38522257522643416,
          0.49601422757801117,
          0.29817199123590926,
          -0.002548208004086453,
          0.00536548144959782,
          1.7463771612600973,
          1.334865309668525,
          -0.034202965818822845,
          -0.3032684072440818,
          0.1082434443474909,
          1.5643623038253638,
          -0.27952733888302933,
          -0.12125354980934773,
          0.9629219053453724,
          0.5197552959390637,
          1.3190379307611566,
          0.1240708232548591,
          -0.7780897744651273,
          -0.3111820966977657,
          0.49601422757801117,
          0.32191305959696137,
          0.1240708232548591,
          0.6226332588369567,
          -0.398232680688291,
          -0.3032684072440818,
          -0.034202965818822845,
          -0.20830413379987264,
          1.8017729874358863,
          -0.6752118115672339,
          0.1873803388843319,
          0.1952940283380158,
          0.1082434443474909,
          1.231987346770632,
          0.4564457803095908,
          0.22694878615275219,
          -0.14499461817039985,
          -0.2953547177903975,
          -0.4061463701419749,
          0.06076130762538633,
          0.1873803388843319,
          0.709683842827482,
          -0.48528326467881583,
          0.42479102249485445,
          0.8283891846327429,
          0.5514100537538,
          0.282344612328541,
          1.5564486143716791,
          0.8600439424474793,
          0.6068058799295889,
          0.42479102249485445,
          0.27443092287485676
         ],
         "xaxis": "x",
         "yaxis": "y"
        },
        {
         "alignmentgroup": "True",
         "hovertemplate": "Sweetness=%{x}<extra></extra>",
         "legendgroup": "",
         "marker": {
          "color": "#636efa"
         },
         "name": "",
         "notched": true,
         "offsetgroup": "",
         "showlegend": false,
         "type": "box",
         "x": [
          -0.9363635635388089,
          0.21903509669906826,
          -0.5644201592156568,
          -0.8255719111872318,
          0.22694878615275219,
          -0.398232680688291,
          -1.1421194893345954,
          -0.09751248144829527,
          -1.031327836983018,
          -0.6435570537524978,
          -0.659384432659866,
          -0.4061463701419749,
          -0.7464350166503909,
          -1.197515315510384,
          0.029106549810649935,
          -0.13708092871671593,
          -1.110464731519859,
          -0.8255719111872318,
          0.44061840140222297,
          -0.034202965818822845,
          -0.5406790908546044,
          -0.2162178232535569,
          -0.5644201592156568,
          -0.16873568653145232,
          -0.691039190474602,
          -0.7860034639188112,
          0.4485320908559069,
          -1.2054290049640681,
          -0.7780897744651273,
          -0.4615421963177637,
          -1.2291700733251203,
          -0.3428368545125021,
          -0.08168510254092708,
          -0.16082199707776804,
          -0.5169380224935523,
          -0.6672981221135499,
          -0.6356433642988135,
          -0.3586642334198703,
          -0.2716136494293454,
          -0.14499461817039985,
          -1.2687385205935409,
          -0.7464350166503909,
          -1.1262921104272272,
          -0.49319695413249975,
          -0.4219737490493431,
          -0.6514707432061817,
          0.013279170903281741,
          0.1082434443474909,
          -0.9759320108072296,
          -0.2953547177903975,
          -0.691039190474602,
          0.04493392871801813,
          -0.6039886064840772,
          -0.8888814268167042,
          -0.018375586911454647,
          -0.1845630654388205,
          -0.6831255010209181,
          -0.398232680688291,
          -0.7939171533724955,
          -0.17664937598513625,
          -0.39031899123460667,
          -0.9442772529924931,
          -1.213342694417752,
          -0.9521909424461771,
          -0.39031899123460667,
          -0.8334856006409158,
          -0.9996730791682816,
          -0.4378011279567113,
          -0.580247538123025,
          0.3456541279580138,
          -0.4219737490493431,
          -1.1421194893345954,
          -0.46945588577144765,
          -0.3744916123272385,
          -0.5248517119472361,
          0.48810053812432724,
          -0.9363635635388089,
          -0.849312979548284,
          -0.8097445322798636,
          -0.23204520216092508,
          -1.7277325089072182,
          -0.6356433642988135,
          -0.7147802588356545,
          -0.580247538123025,
          0.1478118916159112,
          -0.38240530178092275,
          -0.9047088057240725,
          0.20320771779170008,
          -0.4378011279567113,
          -0.5248517119472361,
          -0.6831255010209181,
          -0.4219737490493431,
          -0.4615421963177637,
          -1.3162206573156454,
          -0.2162178232535569,
          -0.6435570537524978,
          -0.7860034639188112,
          -0.2557862705219772,
          -0.9838457002609134,
          -0.5565064697619726,
          -1.4507533780282749,
          -1.6723366827314294,
          -1.1579468682419636,
          -1.3557891045840658,
          -1.2608248311398567,
          -1.1342057998809112,
          -0.8255719111872318,
          -1.284565899500909,
          -1.0946373526124908,
          -1.561545030379852,
          -1.466580756935643,
          -1.8543515401661634,
          -0.9363635635388089,
          -0.9838457002609134,
          -0.5090243330398679,
          -0.9126224951777567,
          -1.640681924916693,
          -1.2687385205935409,
          -1.3557891045840658,
          -1.4349259991209067,
          -1.5378039620188,
          -1.5219765831114318,
          -1.6644229932777455,
          -1.3003932784082772,
          -1.1658605576956476,
          -0.9996730791682816,
          -1.1737742471493318,
          -1.2529111416861727,
          -1.197515315510384,
          -1.284565899500909,
          -1.213342694417752,
          -1.2766522100472248,
          -1.6011134776482727,
          -1.3874438623988021,
          -1.292479588954593,
          -0.7147802588356545,
          -1.2608248311398567,
          -0.5565064697619726,
          -1.284565899500909,
          -1.1658605576956476,
          -1.3241343467693294,
          -1.6248545460093249,
          -1.3874438623988021,
          -1.2291700733251203,
          -0.9838457002609134,
          -1.5931997881945885,
          -1.5694587198335361,
          -1.4270123096672225,
          -1.3162206573156454,
          -1.3874438623988021,
          -0.6831255010209181,
          -1.7039914405461658,
          -1.3478754151303818,
          -1.197515315510384,
          -0.7939171533724955,
          -1.5298902725651158,
          -0.849312979548284,
          -0.8097445322798636,
          -1.3874438623988021,
          -1.6644229932777455,
          -1.284565899500909,
          -0.9521909424461771,
          -1.5378039620188,
          -0.9205361846314407,
          -1.3557891045840658,
          -1.1262921104272272,
          -0.9759320108072296,
          -1.8385241612587953,
          -0.7622623955577591,
          -1.2291700733251203,
          -1.5140628936577476,
          -1.213342694417752,
          -1.01550045807565,
          -0.9047088057240725,
          -1.5298902725651158,
          -1.197515315510384,
          -1.6565093038240613,
          -1.2529111416861727,
          -1.7119051299998498,
          -1.1579468682419636,
          -1.5140628936577476,
          -1.3320480362230136,
          -1.284565899500909,
          -1.5140628936577476,
          -1.1025510420661748,
          -0.6989528799282863,
          -0.9126224951777567,
          -1.3003932784082772,
          -1.0946373526124908,
          -1.213342694417752,
          -1.3478754151303818,
          -1.7435598878145862,
          -1.1658605576956476,
          -1.0471552158903863,
          -1.213342694417752,
          -1.284565899500909,
          -1.2687385205935409,
          -0.9284498740851249,
          -1.4190986202135385,
          -1.0708962842514385,
          0.1557255810695955,
          1.4298295831127343,
          1.5564486143716791,
          0.8046481162716911,
          1.350692688575893,
          -0.13708092871671593,
          1.2082462784095795,
          0.8125618057253751,
          1.5881033721864155,
          0.7571659795495862,
          1.398174825297998,
          2.2291122179348273,
          -0.034202965818822845,
          1.5168801671032588,
          2.3636449386474565,
          0.6701153955590616,
          0.7571659795495862,
          0.7413386006422183,
          0.8363028740864275,
          0.0845023759864388,
          0.9391808369843206,
          0.5039279170316958,
          2.3003354230179838,
          0.6147195693832728,
          1.501052788195891,
          0.9629219053453724,
          2.3240764913790364,
          1.4060885147516817,
          2.3715586281011407,
          1.1132820049653704,
          2.039183671046409,
          0.709683842827482,
          -0.45362850686407946,
          2.656451448433768,
          0.9470945264380045,
          -0.2636999599756615,
          0.20320771779170008,
          1.8888235714264117,
          1.5089664776495748,
          2.0629247394074612,
          1.6830676456306246,
          1.6672402667232569,
          0.32191305959696137,
          0.8046481162716911,
          1.3823474463906293,
          0.8600439424474793,
          0.5276689853927475,
          1.8334277452506227,
          1.493139098742207,
          1.026231420974845,
          1.5485349249179952,
          2.1104068761295656,
          1.0420587998822137,
          2.5298324171748225,
          1.231987346770632,
          0.1952940283380158,
          1.0657998682432661,
          1.0420587998822137,
          1.5801896827327315,
          1.231987346770632,
          1.192418899502211,
          1.1765915205948432,
          2.0945794972221976,
          -0.8967951162703885,
          1.5564486143716791,
          1.9283920186948318,
          0.9945766631601087,
          1.0341451104285297,
          0.27443092287485676,
          1.5327075460106274,
          0.7571659795495862,
          0.9391808369843206,
          1.6355855089085205,
          0.6305469482906406,
          2.031269981592725,
          0.36148150686538166,
          1.358606378029577,
          0.46435946976327475,
          1.5801896827327315,
          1.6355855089085205,
          1.0420587998822137,
          2.2686806652032474,
          1.247814725678,
          0.5751511221148524,
          1.6909813350843093,
          0.3693951963190656,
          0.029106549810649935,
          0.9075260791695842,
          2.458609212091666,
          1.0420587998822137,
          -0.17664937598513625,
          2.237025907388511,
          1.1291093838727382,
          0.4801868486706433,
          2.5377461066285063,
          1.817600366343254,
          2.5852282433506115,
          1.9917015343243047,
          1.1132820049653704,
          1.3269516202148404,
          -0.08168510254092708,
          0.1478118916159112,
          -0.1529083076240841,
          0.13198451270854303,
          0.37730888577275024,
          -0.2874410283367136,
          0.6305469482906406,
          -0.5090243330398679,
          0.38522257522643416,
          0.25068985451380466,
          0.1398982021622273,
          0.16363927052327942,
          0.013279170903281741,
          1.4060885147516817,
          0.8204754951790589,
          0.16363927052327942,
          0.25068985451380466,
          0.1478118916159112,
          0.11615713380117518,
          0.49601422757801117,
          1.0895409366043178,
          -0.3507505439661864,
          -0.22413151270724083,
          0.09241606544012271,
          -0.3111820966977657,
          0.3693951963190656,
          1.3190379307611566,
          0.9866629737064249,
          0.5276689853927475,
          -0.3744916123272385,
          -0.6435570537524978,
          -0.14499461817039985,
          0.42479102249485445,
          -0.2874410283367136,
          0.9075260791695842,
          -0.05794403417987496,
          0.7413386006422183,
          0.9945766631601087,
          1.1845052100485272,
          0.7809070479106387,
          0.38522257522643416,
          0.5672374326611679,
          -0.08959879199461135,
          -0.6672981221135499,
          1.2003325889558956,
          0.6305469482906406,
          0.40104995413380196,
          1.1370230733264228,
          0.25068985451380466,
          1.2952968624001049,
          1.4060885147516817,
          1.2161599678632635,
          1.2082462784095795,
          -0.5090243330398679,
          0.7413386006422183,
          -0.050030344726191035,
          0.6542880166516931,
          0.8916987002622156,
          0.9945766631601087,
          -0.6198159853914453,
          -0.3032684072440818,
          1.77011822962115,
          -0.3744916123272385,
          -0.2716136494293454,
          0.4089636435874866,
          1.0024903526137934,
          -0.002548208004086453,
          -0.239958891614609,
          0.13198451270854303,
          0.1952940283380158,
          0.6780290850127455,
          -0.04211665527250676,
          0.5039279170316958,
          0.8837850108085318,
          0.013279170903281741,
          -0.2716136494293454,
          -0.07377141308724315,
          -0.4219737490493431,
          0.9075260791695842,
          -0.018375586911454647,
          -0.06585772363355923,
          0.8600439424474793,
          -0.034202965818822845,
          0.2427761650601204,
          -0.16082199707776804,
          1.2636421045853683,
          0.25068985451380466,
          -0.4378011279567113,
          -0.44571481741039554,
          0.1952940283380158,
          0.6305469482906406,
          -0.3586642334198703,
          0.8125618057253751,
          -0.45362850686407946,
          1.2082462784095795,
          -0.07377141308724315,
          1.192418899502211,
          0.13198451270854303,
          0.1794666494306476,
          0.1794666494306476,
          0.6226332588369567,
          0.211121407245384,
          1.1053683155116865,
          -0.002548208004086453,
          0.4722731592169594,
          -0.9521909424461771,
          -0.09751248144829527,
          0.021192860356966013,
          -0.6277296748451296,
          0.38522257522643416,
          -0.9996730791682816,
          0.26651723342117284,
          -0.10542617090197955,
          -0.22413151270724083,
          0.8125618057253751,
          0.9470945264380045,
          0.6859427744664295,
          -1.1342057998809112,
          0.662201706105377,
          -0.5565064697619726,
          0.6226332588369567,
          0.4801868486706433,
          0.9787492842527409,
          0.701770153373798,
          0.211121407245384,
          0.5355826748464314,
          0.1873803388843319,
          0.32191305959696137,
          -0.8651403584556522,
          0.282344612328541,
          0.29817199123590926,
          -0.9442772529924931,
          0.5751511221148524,
          -1.0629825947977545,
          -0.36657792287355456,
          -0.239958891614609,
          1.5960170616401002,
          0.8758713213548478,
          0.970835594799057,
          -0.7306076377430227,
          0.3060856806895932,
          0.5593237432074839,
          0.4089636435874866,
          0.5830648115685364,
          1.4773117198348384,
          -0.13708092871671593,
          0.1082434443474909,
          0.3693951963190656,
          0.38522257522643416,
          0.38522257522643416,
          0.49601422757801117,
          0.29817199123590926,
          -0.002548208004086453,
          0.00536548144959782,
          1.7463771612600973,
          1.334865309668525,
          -0.034202965818822845,
          -0.3032684072440818,
          0.1082434443474909,
          1.5643623038253638,
          -0.27952733888302933,
          -0.12125354980934773,
          0.9629219053453724,
          0.5197552959390637,
          1.3190379307611566,
          0.1240708232548591,
          -0.7780897744651273,
          -0.3111820966977657,
          0.49601422757801117,
          0.32191305959696137,
          0.1240708232548591,
          0.6226332588369567,
          -0.398232680688291,
          -0.3032684072440818,
          -0.034202965818822845,
          -0.20830413379987264,
          1.8017729874358863,
          -0.6752118115672339,
          0.1873803388843319,
          0.1952940283380158,
          0.1082434443474909,
          1.231987346770632,
          0.4564457803095908,
          0.22694878615275219,
          -0.14499461817039985,
          -0.2953547177903975,
          -0.4061463701419749,
          0.06076130762538633,
          0.1873803388843319,
          0.709683842827482,
          -0.48528326467881583,
          0.42479102249485445,
          0.8283891846327429,
          0.5514100537538,
          0.282344612328541,
          1.5564486143716791,
          0.8600439424474793,
          0.6068058799295889,
          0.42479102249485445,
          0.27443092287485676
         ],
         "xaxis": "x2",
         "yaxis": "y2"
        }
       ],
       "layout": {
        "barmode": "relative",
        "legend": {
         "tracegroupgap": 0
        },
        "template": {
         "data": {
          "bar": [
           {
            "error_x": {
             "color": "#2a3f5f"
            },
            "error_y": {
             "color": "#2a3f5f"
            },
            "marker": {
             "line": {
              "color": "#E5ECF6",
              "width": 0.5
             },
             "pattern": {
              "fillmode": "overlay",
              "size": 10,
              "solidity": 0.2
             }
            },
            "type": "bar"
           }
          ],
          "barpolar": [
           {
            "marker": {
             "line": {
              "color": "#E5ECF6",
              "width": 0.5
             },
             "pattern": {
              "fillmode": "overlay",
              "size": 10,
              "solidity": 0.2
             }
            },
            "type": "barpolar"
           }
          ],
          "carpet": [
           {
            "aaxis": {
             "endlinecolor": "#2a3f5f",
             "gridcolor": "white",
             "linecolor": "white",
             "minorgridcolor": "white",
             "startlinecolor": "#2a3f5f"
            },
            "baxis": {
             "endlinecolor": "#2a3f5f",
             "gridcolor": "white",
             "linecolor": "white",
             "minorgridcolor": "white",
             "startlinecolor": "#2a3f5f"
            },
            "type": "carpet"
           }
          ],
          "choropleth": [
           {
            "colorbar": {
             "outlinewidth": 0,
             "ticks": ""
            },
            "type": "choropleth"
           }
          ],
          "contour": [
           {
            "colorbar": {
             "outlinewidth": 0,
             "ticks": ""
            },
            "colorscale": [
             [
              0,
              "#0d0887"
             ],
             [
              0.1111111111111111,
              "#46039f"
             ],
             [
              0.2222222222222222,
              "#7201a8"
             ],
             [
              0.3333333333333333,
              "#9c179e"
             ],
             [
              0.4444444444444444,
              "#bd3786"
             ],
             [
              0.5555555555555556,
              "#d8576b"
             ],
             [
              0.6666666666666666,
              "#ed7953"
             ],
             [
              0.7777777777777778,
              "#fb9f3a"
             ],
             [
              0.8888888888888888,
              "#fdca26"
             ],
             [
              1,
              "#f0f921"
             ]
            ],
            "type": "contour"
           }
          ],
          "contourcarpet": [
           {
            "colorbar": {
             "outlinewidth": 0,
             "ticks": ""
            },
            "type": "contourcarpet"
           }
          ],
          "heatmap": [
           {
            "colorbar": {
             "outlinewidth": 0,
             "ticks": ""
            },
            "colorscale": [
             [
              0,
              "#0d0887"
             ],
             [
              0.1111111111111111,
              "#46039f"
             ],
             [
              0.2222222222222222,
              "#7201a8"
             ],
             [
              0.3333333333333333,
              "#9c179e"
             ],
             [
              0.4444444444444444,
              "#bd3786"
             ],
             [
              0.5555555555555556,
              "#d8576b"
             ],
             [
              0.6666666666666666,
              "#ed7953"
             ],
             [
              0.7777777777777778,
              "#fb9f3a"
             ],
             [
              0.8888888888888888,
              "#fdca26"
             ],
             [
              1,
              "#f0f921"
             ]
            ],
            "type": "heatmap"
           }
          ],
          "heatmapgl": [
           {
            "colorbar": {
             "outlinewidth": 0,
             "ticks": ""
            },
            "colorscale": [
             [
              0,
              "#0d0887"
             ],
             [
              0.1111111111111111,
              "#46039f"
             ],
             [
              0.2222222222222222,
              "#7201a8"
             ],
             [
              0.3333333333333333,
              "#9c179e"
             ],
             [
              0.4444444444444444,
              "#bd3786"
             ],
             [
              0.5555555555555556,
              "#d8576b"
             ],
             [
              0.6666666666666666,
              "#ed7953"
             ],
             [
              0.7777777777777778,
              "#fb9f3a"
             ],
             [
              0.8888888888888888,
              "#fdca26"
             ],
             [
              1,
              "#f0f921"
             ]
            ],
            "type": "heatmapgl"
           }
          ],
          "histogram": [
           {
            "marker": {
             "pattern": {
              "fillmode": "overlay",
              "size": 10,
              "solidity": 0.2
             }
            },
            "type": "histogram"
           }
          ],
          "histogram2d": [
           {
            "colorbar": {
             "outlinewidth": 0,
             "ticks": ""
            },
            "colorscale": [
             [
              0,
              "#0d0887"
             ],
             [
              0.1111111111111111,
              "#46039f"
             ],
             [
              0.2222222222222222,
              "#7201a8"
             ],
             [
              0.3333333333333333,
              "#9c179e"
             ],
             [
              0.4444444444444444,
              "#bd3786"
             ],
             [
              0.5555555555555556,
              "#d8576b"
             ],
             [
              0.6666666666666666,
              "#ed7953"
             ],
             [
              0.7777777777777778,
              "#fb9f3a"
             ],
             [
              0.8888888888888888,
              "#fdca26"
             ],
             [
              1,
              "#f0f921"
             ]
            ],
            "type": "histogram2d"
           }
          ],
          "histogram2dcontour": [
           {
            "colorbar": {
             "outlinewidth": 0,
             "ticks": ""
            },
            "colorscale": [
             [
              0,
              "#0d0887"
             ],
             [
              0.1111111111111111,
              "#46039f"
             ],
             [
              0.2222222222222222,
              "#7201a8"
             ],
             [
              0.3333333333333333,
              "#9c179e"
             ],
             [
              0.4444444444444444,
              "#bd3786"
             ],
             [
              0.5555555555555556,
              "#d8576b"
             ],
             [
              0.6666666666666666,
              "#ed7953"
             ],
             [
              0.7777777777777778,
              "#fb9f3a"
             ],
             [
              0.8888888888888888,
              "#fdca26"
             ],
             [
              1,
              "#f0f921"
             ]
            ],
            "type": "histogram2dcontour"
           }
          ],
          "mesh3d": [
           {
            "colorbar": {
             "outlinewidth": 0,
             "ticks": ""
            },
            "type": "mesh3d"
           }
          ],
          "parcoords": [
           {
            "line": {
             "colorbar": {
              "outlinewidth": 0,
              "ticks": ""
             }
            },
            "type": "parcoords"
           }
          ],
          "pie": [
           {
            "automargin": true,
            "type": "pie"
           }
          ],
          "scatter": [
           {
            "fillpattern": {
             "fillmode": "overlay",
             "size": 10,
             "solidity": 0.2
            },
            "type": "scatter"
           }
          ],
          "scatter3d": [
           {
            "line": {
             "colorbar": {
              "outlinewidth": 0,
              "ticks": ""
             }
            },
            "marker": {
             "colorbar": {
              "outlinewidth": 0,
              "ticks": ""
             }
            },
            "type": "scatter3d"
           }
          ],
          "scattercarpet": [
           {
            "marker": {
             "colorbar": {
              "outlinewidth": 0,
              "ticks": ""
             }
            },
            "type": "scattercarpet"
           }
          ],
          "scattergeo": [
           {
            "marker": {
             "colorbar": {
              "outlinewidth": 0,
              "ticks": ""
             }
            },
            "type": "scattergeo"
           }
          ],
          "scattergl": [
           {
            "marker": {
             "colorbar": {
              "outlinewidth": 0,
              "ticks": ""
             }
            },
            "type": "scattergl"
           }
          ],
          "scattermapbox": [
           {
            "marker": {
             "colorbar": {
              "outlinewidth": 0,
              "ticks": ""
             }
            },
            "type": "scattermapbox"
           }
          ],
          "scatterpolar": [
           {
            "marker": {
             "colorbar": {
              "outlinewidth": 0,
              "ticks": ""
             }
            },
            "type": "scatterpolar"
           }
          ],
          "scatterpolargl": [
           {
            "marker": {
             "colorbar": {
              "outlinewidth": 0,
              "ticks": ""
             }
            },
            "type": "scatterpolargl"
           }
          ],
          "scatterternary": [
           {
            "marker": {
             "colorbar": {
              "outlinewidth": 0,
              "ticks": ""
             }
            },
            "type": "scatterternary"
           }
          ],
          "surface": [
           {
            "colorbar": {
             "outlinewidth": 0,
             "ticks": ""
            },
            "colorscale": [
             [
              0,
              "#0d0887"
             ],
             [
              0.1111111111111111,
              "#46039f"
             ],
             [
              0.2222222222222222,
              "#7201a8"
             ],
             [
              0.3333333333333333,
              "#9c179e"
             ],
             [
              0.4444444444444444,
              "#bd3786"
             ],
             [
              0.5555555555555556,
              "#d8576b"
             ],
             [
              0.6666666666666666,
              "#ed7953"
             ],
             [
              0.7777777777777778,
              "#fb9f3a"
             ],
             [
              0.8888888888888888,
              "#fdca26"
             ],
             [
              1,
              "#f0f921"
             ]
            ],
            "type": "surface"
           }
          ],
          "table": [
           {
            "cells": {
             "fill": {
              "color": "#EBF0F8"
             },
             "line": {
              "color": "white"
             }
            },
            "header": {
             "fill": {
              "color": "#C8D4E3"
             },
             "line": {
              "color": "white"
             }
            },
            "type": "table"
           }
          ]
         },
         "layout": {
          "annotationdefaults": {
           "arrowcolor": "#2a3f5f",
           "arrowhead": 0,
           "arrowwidth": 1
          },
          "autotypenumbers": "strict",
          "coloraxis": {
           "colorbar": {
            "outlinewidth": 0,
            "ticks": ""
           }
          },
          "colorscale": {
           "diverging": [
            [
             0,
             "#8e0152"
            ],
            [
             0.1,
             "#c51b7d"
            ],
            [
             0.2,
             "#de77ae"
            ],
            [
             0.3,
             "#f1b6da"
            ],
            [
             0.4,
             "#fde0ef"
            ],
            [
             0.5,
             "#f7f7f7"
            ],
            [
             0.6,
             "#e6f5d0"
            ],
            [
             0.7,
             "#b8e186"
            ],
            [
             0.8,
             "#7fbc41"
            ],
            [
             0.9,
             "#4d9221"
            ],
            [
             1,
             "#276419"
            ]
           ],
           "sequential": [
            [
             0,
             "#0d0887"
            ],
            [
             0.1111111111111111,
             "#46039f"
            ],
            [
             0.2222222222222222,
             "#7201a8"
            ],
            [
             0.3333333333333333,
             "#9c179e"
            ],
            [
             0.4444444444444444,
             "#bd3786"
            ],
            [
             0.5555555555555556,
             "#d8576b"
            ],
            [
             0.6666666666666666,
             "#ed7953"
            ],
            [
             0.7777777777777778,
             "#fb9f3a"
            ],
            [
             0.8888888888888888,
             "#fdca26"
            ],
            [
             1,
             "#f0f921"
            ]
           ],
           "sequentialminus": [
            [
             0,
             "#0d0887"
            ],
            [
             0.1111111111111111,
             "#46039f"
            ],
            [
             0.2222222222222222,
             "#7201a8"
            ],
            [
             0.3333333333333333,
             "#9c179e"
            ],
            [
             0.4444444444444444,
             "#bd3786"
            ],
            [
             0.5555555555555556,
             "#d8576b"
            ],
            [
             0.6666666666666666,
             "#ed7953"
            ],
            [
             0.7777777777777778,
             "#fb9f3a"
            ],
            [
             0.8888888888888888,
             "#fdca26"
            ],
            [
             1,
             "#f0f921"
            ]
           ]
          },
          "colorway": [
           "#636efa",
           "#EF553B",
           "#00cc96",
           "#ab63fa",
           "#FFA15A",
           "#19d3f3",
           "#FF6692",
           "#B6E880",
           "#FF97FF",
           "#FECB52"
          ],
          "font": {
           "color": "#2a3f5f"
          },
          "geo": {
           "bgcolor": "white",
           "lakecolor": "white",
           "landcolor": "#E5ECF6",
           "showlakes": true,
           "showland": true,
           "subunitcolor": "white"
          },
          "hoverlabel": {
           "align": "left"
          },
          "hovermode": "closest",
          "mapbox": {
           "style": "light"
          },
          "paper_bgcolor": "white",
          "plot_bgcolor": "#E5ECF6",
          "polar": {
           "angularaxis": {
            "gridcolor": "white",
            "linecolor": "white",
            "ticks": ""
           },
           "bgcolor": "#E5ECF6",
           "radialaxis": {
            "gridcolor": "white",
            "linecolor": "white",
            "ticks": ""
           }
          },
          "scene": {
           "xaxis": {
            "backgroundcolor": "#E5ECF6",
            "gridcolor": "white",
            "gridwidth": 2,
            "linecolor": "white",
            "showbackground": true,
            "ticks": "",
            "zerolinecolor": "white"
           },
           "yaxis": {
            "backgroundcolor": "#E5ECF6",
            "gridcolor": "white",
            "gridwidth": 2,
            "linecolor": "white",
            "showbackground": true,
            "ticks": "",
            "zerolinecolor": "white"
           },
           "zaxis": {
            "backgroundcolor": "#E5ECF6",
            "gridcolor": "white",
            "gridwidth": 2,
            "linecolor": "white",
            "showbackground": true,
            "ticks": "",
            "zerolinecolor": "white"
           }
          },
          "shapedefaults": {
           "line": {
            "color": "#2a3f5f"
           }
          },
          "ternary": {
           "aaxis": {
            "gridcolor": "white",
            "linecolor": "white",
            "ticks": ""
           },
           "baxis": {
            "gridcolor": "white",
            "linecolor": "white",
            "ticks": ""
           },
           "bgcolor": "#E5ECF6",
           "caxis": {
            "gridcolor": "white",
            "linecolor": "white",
            "ticks": ""
           }
          },
          "title": {
           "x": 0.05
          },
          "xaxis": {
           "automargin": true,
           "gridcolor": "white",
           "linecolor": "white",
           "ticks": "",
           "title": {
            "standoff": 15
           },
           "zerolinecolor": "white",
           "zerolinewidth": 2
          },
          "yaxis": {
           "automargin": true,
           "gridcolor": "white",
           "linecolor": "white",
           "ticks": "",
           "title": {
            "standoff": 15
           },
           "zerolinecolor": "white",
           "zerolinewidth": 2
          }
         }
        },
        "title": {
         "text": "Distribution of Sweetness, mean: -0.00, std: 1.00"
        },
        "xaxis": {
         "anchor": "y",
         "domain": [
          0,
          1
         ],
         "title": {
          "text": "Sweetness"
         }
        },
        "xaxis2": {
         "anchor": "y2",
         "domain": [
          0,
          1
         ],
         "matches": "x",
         "showgrid": true,
         "showticklabels": false
        },
        "yaxis": {
         "anchor": "x",
         "domain": [
          0,
          0.8316
         ],
         "title": {
          "text": "count"
         }
        },
        "yaxis2": {
         "anchor": "x2",
         "domain": [
          0.8416,
          1
         ],
         "matches": "y2",
         "showgrid": false,
         "showline": false,
         "showticklabels": false,
         "ticks": ""
        }
       }
      }
     },
     "metadata": {},
     "output_type": "display_data"
    }
   ],
   "source": [
    "# Feature distribution among ['Weight', 'Average diameter', 'Average length', 'Peel hardness', 'Sweetness']\n",
    "\n",
    "feature_to_viz = 'Sweetness'\n",
    "\n",
    "fig = histogram_for_single_feature(df_standard_transformed, feature_to_viz, comparison=False)\n",
    "fig.show()"
   ]
  },
  {
   "cell_type": "code",
   "execution_count": 20,
   "metadata": {},
   "outputs": [
    {
     "data": {
      "application/vnd.plotly.v1+json": {
       "config": {
        "plotlyServerURL": "https://plot.ly"
       },
       "data": [
        {
         "hovertemplate": "Fruit=Apple<br>Sweetness=%{x}<br>Average diameter=%{y}<extra></extra>",
         "legendgroup": "Apple",
         "marker": {
          "color": "#636efa",
          "line": {
           "color": "DarkSlateGrey",
           "width": 2
          },
          "size": 12,
          "symbol": "circle"
         },
         "mode": "markers",
         "name": "Apple",
         "orientation": "v",
         "showlegend": true,
         "type": "scatter",
         "x": [
          -0.9363635635388089,
          0.21903509669906826,
          -0.5644201592156568,
          -0.8255719111872318,
          0.22694878615275219,
          -0.398232680688291,
          -1.1421194893345954,
          -0.09751248144829527,
          -1.031327836983018,
          -0.6435570537524978,
          -0.659384432659866,
          -0.4061463701419749,
          -0.7464350166503909,
          -1.197515315510384,
          0.029106549810649935,
          -0.13708092871671593,
          -1.110464731519859,
          -0.8255719111872318,
          0.44061840140222297,
          -0.034202965818822845,
          -0.5406790908546044,
          -0.2162178232535569,
          -0.5644201592156568,
          -0.16873568653145232,
          -0.691039190474602,
          -0.7860034639188112,
          0.4485320908559069,
          -1.2054290049640681,
          -0.7780897744651273,
          -0.4615421963177637,
          -1.2291700733251203,
          -0.3428368545125021,
          -0.08168510254092708,
          -0.16082199707776804,
          -0.5169380224935523,
          -0.6672981221135499,
          -0.6356433642988135,
          -0.3586642334198703,
          -0.2716136494293454,
          -0.14499461817039985,
          -1.2687385205935409,
          -0.7464350166503909,
          -1.1262921104272272,
          -0.49319695413249975,
          -0.4219737490493431,
          -0.6514707432061817,
          0.013279170903281741,
          0.1082434443474909,
          -0.9759320108072296,
          -0.2953547177903975,
          -0.691039190474602,
          0.04493392871801813,
          -0.6039886064840772,
          -0.8888814268167042,
          -0.018375586911454647,
          -0.1845630654388205,
          -0.6831255010209181,
          -0.398232680688291,
          -0.7939171533724955,
          -0.17664937598513625,
          -0.39031899123460667,
          -0.9442772529924931,
          -1.213342694417752,
          -0.9521909424461771,
          -0.39031899123460667,
          -0.8334856006409158,
          -0.9996730791682816,
          -0.4378011279567113,
          -0.580247538123025,
          0.3456541279580138,
          -0.4219737490493431,
          -1.1421194893345954,
          -0.46945588577144765,
          -0.3744916123272385,
          -0.5248517119472361,
          0.48810053812432724,
          -0.9363635635388089,
          -0.849312979548284,
          -0.8097445322798636,
          -0.23204520216092508,
          -1.7277325089072182,
          -0.6356433642988135,
          -0.7147802588356545,
          -0.580247538123025,
          0.1478118916159112,
          -0.38240530178092275,
          -0.9047088057240725,
          0.20320771779170008,
          -0.4378011279567113,
          -0.5248517119472361,
          -0.6831255010209181,
          -0.4219737490493431,
          -0.4615421963177637,
          -1.3162206573156454,
          -0.2162178232535569,
          -0.6435570537524978,
          -0.7860034639188112,
          -0.2557862705219772,
          -0.9838457002609134,
          -0.5565064697619726
         ],
         "xaxis": "x",
         "y": [
          0.04837217247480516,
          -0.20431711886578802,
          -0.07649339231580232,
          -0.7763321874950789,
          -0.16944194864995762,
          -0.3875674552230759,
          -0.2706422193655371,
          -0.29913398789007717,
          -0.38928007518903185,
          -0.16461547420044534,
          -0.3701298701151607,
          -0.3920825442242325,
          -0.08614634121482667,
          -0.4523356284810467,
          0.09507998972814954,
          -0.13160861667474857,
          -0.15060312902444195,
          -0.45420394117118057,
          0.25591057380383203,
          0.04105461443844767,
          -0.11059009891074369,
          -0.023246480646989694,
          -0.32871560548386203,
          -0.528469370603998,
          -0.393328086017655,
          -0.35409351952484575,
          -0.4481319249282458,
          -0.4663479736570501,
          0.03482690547133522,
          -0.36779447925249337,
          -0.330428225449818,
          -0.3528479777314233,
          -0.057965958138642415,
          -0.2664385158127362,
          -0.1857896846886281,
          0.003376975187416728,
          0.3474578956203869,
          -0.5399906321931564,
          -0.5127444054620388,
          0.1688783409884336,
          -0.21116759872961183,
          -0.3701298701151607,
          -0.018731391645832974,
          -0.45778487382727023,
          -0.057810265414464525,
          0.27661770611948133,
          -0.6544247844638501,
          -0.11323687522176656,
          -0.3268472927937282,
          -0.1572979161640881,
          -0.20774235879769992,
          -0.01810862074912184,
          -0.27001944846882575,
          -0.3481771960060889,
          -0.21708392224836895,
          0.00041881342803806433,
          -0.3399254816246647,
          -0.2830976372997623,
          -0.35860860852600235,
          -0.6106751289698842,
          0.0374736817823581,
          -0.2427732217377082,
          -0.1686634850290686,
          -0.5767341150991206,
          -0.41029859295303683,
          -0.2627018904324685,
          0.16233924657296536,
          -0.593237543861969,
          -0.5180379580840846,
          -0.09361959197536183,
          -0.6693712859849204,
          -0.3131463330660806,
          -0.4070290457453027,
          -0.272510532055671,
          -0.07337953783224599,
          -0.0719783033146456,
          -0.13363262208906032,
          -0.29757706064829914,
          -0.651155237256116,
          0.1279311545296684,
          -0.3923939296725882,
          -0.19092754458649597,
          0.44943662995685546,
          -0.0908171229401613,
          -0.5614762281296949,
          -0.4912588095255004,
          -0.1138596461184777,
          -0.12366828774168016,
          -0.7031566071315062,
          -0.24121629449593016,
          -0.23670120549477344,
          0.09570276062486067,
          -0.3385242471070643,
          0.28954020222623994,
          -0.09735621735562953,
          -0.17146595406426915,
          -0.21085621328125626,
          -0.3095654004099908,
          -0.053295176413307804,
          -0.28994811716358604
         ],
         "yaxis": "y"
        },
        {
         "hovertemplate": "Fruit=Banana<br>Sweetness=%{x}<br>Average diameter=%{y}<extra></extra>",
         "legendgroup": "Banana",
         "marker": {
          "color": "#EF553B",
          "line": {
           "color": "DarkSlateGrey",
           "width": 2
          },
          "size": 12,
          "symbol": "circle"
         },
         "mode": "markers",
         "name": "Banana",
         "orientation": "v",
         "showlegend": true,
         "type": "scatter",
         "x": [
          -1.4507533780282749,
          -1.6723366827314294,
          -1.1579468682419636,
          -1.3557891045840658,
          -1.2608248311398567,
          -1.1342057998809112,
          -0.8255719111872318,
          -1.284565899500909,
          -1.0946373526124908,
          -1.561545030379852,
          -1.466580756935643,
          -1.8543515401661634,
          -0.9363635635388089,
          -0.9838457002609134,
          -0.5090243330398679,
          -0.9126224951777567,
          -1.640681924916693,
          -1.2687385205935409,
          -1.3557891045840658,
          -1.4349259991209067,
          -1.5378039620188,
          -1.5219765831114318,
          -1.6644229932777455,
          -1.3003932784082772,
          -1.1658605576956476,
          -0.9996730791682816,
          -1.1737742471493318,
          -1.2529111416861727,
          -1.197515315510384,
          -1.284565899500909,
          -1.213342694417752,
          -1.2766522100472248,
          -1.6011134776482727,
          -1.3874438623988021,
          -1.292479588954593,
          -0.7147802588356545,
          -1.2608248311398567,
          -0.5565064697619726,
          -1.284565899500909,
          -1.1658605576956476,
          -1.3241343467693294,
          -1.6248545460093249,
          -1.3874438623988021,
          -1.2291700733251203,
          -0.9838457002609134,
          -1.5931997881945885,
          -1.5694587198335361,
          -1.4270123096672225,
          -1.3162206573156454,
          -1.3874438623988021,
          -0.6831255010209181,
          -1.7039914405461658,
          -1.3478754151303818,
          -1.197515315510384,
          -0.7939171533724955,
          -1.5298902725651158,
          -0.849312979548284,
          -0.8097445322798636,
          -1.3874438623988021,
          -1.6644229932777455,
          -1.284565899500909,
          -0.9521909424461771,
          -1.5378039620188,
          -0.9205361846314407,
          -1.3557891045840658,
          -1.1262921104272272,
          -0.9759320108072296,
          -1.8385241612587953,
          -0.7622623955577591,
          -1.2291700733251203,
          -1.5140628936577476,
          -1.213342694417752,
          -1.01550045807565,
          -0.9047088057240725,
          -1.5298902725651158,
          -1.197515315510384,
          -1.6565093038240613,
          -1.2529111416861727,
          -1.7119051299998498,
          -1.1579468682419636,
          -1.5140628936577476,
          -1.3320480362230136,
          -1.284565899500909,
          -1.5140628936577476,
          -1.1025510420661748,
          -0.6989528799282863,
          -0.9126224951777567,
          -1.3003932784082772,
          -1.0946373526124908,
          -1.213342694417752,
          -1.3478754151303818,
          -1.7435598878145862,
          -1.1658605576956476,
          -1.0471552158903863,
          -1.213342694417752,
          -1.284565899500909,
          -1.2687385205935409,
          -0.9284498740851249,
          -1.4190986202135385,
          -1.0708962842514385
         ],
         "xaxis": "x",
         "y": [
          1.1779228863848499,
          1.8377486514504286,
          1.6837685472385697,
          2.1872788172296223,
          1.8800970724267942,
          2.0563412361960802,
          2.2768021336318656,
          1.0074393534101431,
          1.944709552960587,
          1.7240929628006239,
          2.0477781363663,
          0.5177857358709161,
          1.9026725174325771,
          1.3976053201997467,
          3.0842246012180126,
          0.8302610332957902,
          1.889282943153285,
          1.9121697736074237,
          1.326920823423019,
          1.2657335828211376,
          1.8805641505993278,
          2.272131351906531,
          3.321188927416646,
          1.032505882002771,
          1.7723577072957464,
          2.0451313600552776,
          1.7907294487487284,
          2.214369351236562,
          1.4552116281455378,
          1.7295422081468472,
          2.147110094391746,
          0.9191615788013224,
          1.2310141053294847,
          2.6448597335882194,
          2.0761142121666625,
          2.3960627603520717,
          1.2350621161581081,
          1.350119039325513,
          1.9682191543114373,
          1.2377088924691309,
          2.3716190026561548,
          1.2990518257951897,
          1.1228076620259038,
          2.484807613133426,
          1.694511345206839,
          1.6157308267728647,
          1.79773562133673,
          1.2914228823104772,
          1.362885842708094,
          1.232571032571263,
          1.9948426101458432,
          2.3643014446197976,
          1.0021458007880975,
          0.9571506035007091,
          1.5937781526637929,
          1.9579434345157016,
          1.2725840626849614,
          1.7194221810752892,
          1.1758988809705384,
          2.3037369749146275,
          1.950781569203522,
          2.19599760978358,
          3.0202348915809307,
          1.9898604429721534,
          1.5131293215396848,
          1.268068973683805,
          1.0513447016282866,
          1.9079660700546228,
          1.1430477161690198,
          1.9056306791919557,
          1.5059674562275056,
          2.4617650899551093,
          2.2355435617247448,
          2.8055346249397237,
          2.037191031122209,
          1.6688220457174994,
          1.578675958418545,
          1.8273172389305148,
          1.123586125646793,
          2.1439962399081898,
          2.137768530941077,
          2.1879015881263335,
          3.1046203480853065,
          1.0781238501868708,
          1.9334996768197843,
          2.204405016889182,
          2.59067866557434,
          2.3398576869238807,
          1.0522788579733537,
          1.9012712829149767,
          2.7118076049846795,
          2.5266889559372583,
          1.9149722426426243,
          1.4821464694283,
          2.782025023588874,
          2.2459749742446586,
          1.3764311097115636,
          0.5875360763025771,
          1.5936224599396152,
          1.777651259917792
         ],
         "yaxis": "y"
        },
        {
         "hovertemplate": "Fruit=Orange<br>Sweetness=%{x}<br>Average diameter=%{y}<extra></extra>",
         "legendgroup": "Orange",
         "marker": {
          "color": "#00cc96",
          "line": {
           "color": "DarkSlateGrey",
           "width": 2
          },
          "size": 12,
          "symbol": "circle"
         },
         "mode": "markers",
         "name": "Orange",
         "orientation": "v",
         "showlegend": true,
         "type": "scatter",
         "x": [
          0.1557255810695955,
          1.4298295831127343,
          1.5564486143716791,
          0.8046481162716911,
          1.350692688575893,
          -0.13708092871671593,
          1.2082462784095795,
          0.8125618057253751,
          1.5881033721864155,
          0.7571659795495862,
          1.398174825297998,
          2.2291122179348273,
          -0.034202965818822845,
          1.5168801671032588,
          2.3636449386474565,
          0.6701153955590616,
          0.7571659795495862,
          0.7413386006422183,
          0.8363028740864275,
          0.0845023759864388,
          0.9391808369843206,
          0.5039279170316958,
          2.3003354230179838,
          0.6147195693832728,
          1.501052788195891,
          0.9629219053453724,
          2.3240764913790364,
          1.4060885147516817,
          2.3715586281011407,
          1.1132820049653704,
          2.039183671046409,
          0.709683842827482,
          -0.45362850686407946,
          2.656451448433768,
          0.9470945264380045,
          -0.2636999599756615,
          0.20320771779170008,
          1.8888235714264117,
          1.5089664776495748,
          2.0629247394074612,
          1.6830676456306246,
          1.6672402667232569,
          0.32191305959696137,
          0.8046481162716911,
          1.3823474463906293,
          0.8600439424474793,
          0.5276689853927475,
          1.8334277452506227,
          1.493139098742207,
          1.026231420974845,
          1.5485349249179952,
          2.1104068761295656,
          1.0420587998822137,
          2.5298324171748225,
          1.231987346770632,
          0.1952940283380158,
          1.0657998682432661,
          1.0420587998822137,
          1.5801896827327315,
          1.231987346770632,
          1.192418899502211,
          1.1765915205948432,
          2.0945794972221976,
          -0.8967951162703885,
          1.5564486143716791,
          1.9283920186948318,
          0.9945766631601087,
          1.0341451104285297,
          0.27443092287485676,
          1.5327075460106274,
          0.7571659795495862,
          0.9391808369843206,
          1.6355855089085205,
          0.6305469482906406,
          2.031269981592725,
          0.36148150686538166,
          1.358606378029577,
          0.46435946976327475,
          1.5801896827327315,
          1.6355855089085205,
          1.0420587998822137,
          2.2686806652032474,
          1.247814725678,
          0.5751511221148524,
          1.6909813350843093,
          0.3693951963190656,
          0.029106549810649935,
          0.9075260791695842,
          2.458609212091666,
          1.0420587998822137,
          -0.17664937598513625,
          2.237025907388511,
          1.1291093838727382,
          0.4801868486706433,
          2.5377461066285063,
          1.817600366343254,
          2.5852282433506115,
          1.9917015343243047,
          1.1132820049653704,
          1.3269516202148404
         ],
         "xaxis": "x",
         "y": [
          0.08745104624343648,
          0.024551185675599507,
          -0.3570516812842242,
          -0.20291588434818764,
          -0.185945377412806,
          -0.42758048533677423,
          -0.3777588135998735,
          -0.16321423968284496,
          -0.4280475635093077,
          -0.8633644203104773,
          -0.3343205435542634,
          -0.5681710152693409,
          -0.16586101599386782,
          -0.27655854288429405,
          -0.14390834188479604,
          -0.22300024576712582,
          -0.2233116312154814,
          -0.4666593591054057,
          -0.1266264495010586,
          -0.435365121545665,
          -0.3425722579356876,
          -0.008455671850097263,
          -0.39161546605169906,
          -0.35985415031942486,
          -0.15324990533546481,
          -0.14032740922870623,
          -0.6569158680506951,
          -0.531116146915021,
          -0.09003865931927205,
          -0.6520893936011829,
          -0.0651278234508218,
          -0.3719981828052944,
          -0.2665942085369139,
          -0.3603212284919583,
          -0.03539051313285926,
          -0.330428225449818,
          -0.8688136656567009,
          -0.2524261706367328,
          -0.11292548977341099,
          -0.08163125221367018,
          -0.06637336524424428,
          0.13602717618691473,
          -0.25771972325877857,
          0.1259071491153567,
          -0.24324029991024168,
          -0.19590971176018615,
          -0.134566778434127,
          -0.1080990153238987,
          -0.4756895371077189,
          -0.3101881713067019,
          -0.18407706472267216,
          -0.027138798751435062,
          -0.07976293952353633,
          0.0374736817823581,
          -0.28091793916127283,
          -0.5223973543610633,
          0.12139206011420019,
          -0.34584180514342155,
          -0.1931072427249854,
          -0.2711092975380706,
          -0.5051154619773258,
          -0.07260107421135696,
          0.14879397956949542,
          -0.12211136049990189,
          -0.33556608534768584,
          -0.20540696793503285,
          -0.5589851445428498,
          -0.5955729347246362,
          -0.059055807207887015,
          -0.20852082241858896,
          -0.4316284961653974,
          -0.5441943357459574,
          -0.33307500176084065,
          -0.22191039669788123,
          -0.5745544169606313,
          -0.625154552318421,
          0.047749401578093806,
          -0.21101190600543415,
          -0.4666593591054057,
          -0.47709077162531927,
          -0.23919228908161863,
          0.005712366050083815,
          -0.23343165828703943,
          -0.5975969401389478,
          -0.24977939432570992,
          -0.49826498211350206,
          -0.20431711886578802,
          -0.40189118584743483,
          -0.469773213588962,
          -0.18049613206658238,
          -0.08318817945544824,
          0.17059096095438955,
          -0.0685530633827337,
          -0.17068749044338014,
          -0.03974990940983808,
          -0.2978884460966547,
          -0.44501807044468944,
          -0.38538775708458645,
          -0.33681162714110835,
          -0.2522704779125549
         ],
         "yaxis": "y"
        },
        {
         "hovertemplate": "Fruit=Grape<br>Sweetness=%{x}<br>Average diameter=%{y}<extra></extra>",
         "legendgroup": "Grape",
         "marker": {
          "color": "#ab63fa",
          "line": {
           "color": "DarkSlateGrey",
           "width": 2
          },
          "size": 12,
          "symbol": "circle"
         },
         "mode": "markers",
         "name": "Grape",
         "orientation": "v",
         "showlegend": true,
         "type": "scatter",
         "x": [
          -0.08168510254092708,
          0.1478118916159112,
          -0.1529083076240841,
          0.13198451270854303,
          0.37730888577275024,
          -0.2874410283367136,
          0.6305469482906406,
          -0.5090243330398679,
          0.38522257522643416,
          0.25068985451380466,
          0.1398982021622273,
          0.16363927052327942,
          0.013279170903281741,
          1.4060885147516817,
          0.8204754951790589,
          0.16363927052327942,
          0.25068985451380466,
          0.1478118916159112,
          0.11615713380117518,
          0.49601422757801117,
          1.0895409366043178,
          -0.3507505439661864,
          -0.22413151270724083,
          0.09241606544012271,
          -0.3111820966977657,
          0.3693951963190656,
          1.3190379307611566,
          0.9866629737064249,
          0.5276689853927475,
          -0.3744916123272385,
          -0.6435570537524978,
          -0.14499461817039985,
          0.42479102249485445,
          -0.2874410283367136,
          0.9075260791695842,
          -0.05794403417987496,
          0.7413386006422183,
          0.9945766631601087,
          1.1845052100485272,
          0.7809070479106387,
          0.38522257522643416,
          0.5672374326611679,
          -0.08959879199461135,
          -0.6672981221135499,
          1.2003325889558956,
          0.6305469482906406,
          0.40104995413380196,
          1.1370230733264228,
          0.25068985451380466,
          1.2952968624001049,
          1.4060885147516817,
          1.2161599678632635,
          1.2082462784095795,
          -0.5090243330398679,
          0.7413386006422183,
          -0.050030344726191035,
          0.6542880166516931,
          0.8916987002622156,
          0.9945766631601087,
          -0.6198159853914453,
          -0.3032684072440818,
          1.77011822962115,
          -0.3744916123272385,
          -0.2716136494293454,
          0.4089636435874866,
          1.0024903526137934,
          -0.002548208004086453,
          -0.239958891614609,
          0.13198451270854303,
          0.1952940283380158,
          0.6780290850127455,
          -0.04211665527250676,
          0.5039279170316958,
          0.8837850108085318,
          0.013279170903281741,
          -0.2716136494293454,
          -0.07377141308724315,
          -0.4219737490493431,
          0.9075260791695842,
          -0.018375586911454647,
          -0.06585772363355923,
          0.8600439424474793,
          -0.034202965818822845,
          0.2427761650601204,
          -0.16082199707776804,
          1.2636421045853683,
          0.25068985451380466,
          -0.4378011279567113,
          -0.44571481741039554,
          0.1952940283380158,
          0.6305469482906406,
          -0.3586642334198703,
          0.8125618057253751,
          -0.45362850686407946,
          1.2082462784095795,
          -0.07377141308724315,
          1.192418899502211,
          0.13198451270854303,
          0.1794666494306476,
          0.1794666494306476
         ],
         "xaxis": "x",
         "y": [
          -0.9472827986423193,
          -1.0590701746019904,
          -1.0839810104704406,
          -1.0847594740913296,
          -1.0350934950786068,
          -1.0554892419459005,
          -1.0489501475304324,
          -1.121502956997294,
          -1.0322910260434062,
          -0.9479055695390307,
          -1.0763520669857278,
          -1.0402313549764748,
          -1.0193685299366477,
          -1.0086257319683785,
          -1.1392519275535649,
          -1.0587587891536347,
          -1.0179672954190473,
          -1.03415933873354,
          -0.9581812893347664,
          -0.9440132514345854,
          -1.0461476784952317,
          -0.9707923999931695,
          -0.9943020013440195,
          -0.98215796885815,
          -1.035871958699496,
          -1.1722587850792616,
          -0.9804453488921939,
          -0.9669000818887241,
          -0.9574028257138774,
          -0.9882299851010846,
          -1.0464590639435873,
          -1.1149638625818257,
          -1.02419500438616,
          -1.1319343695172075,
          -1.0844480886429742,
          -0.996481699482509,
          -1.230643556645942,
          -1.0425667458391419,
          -0.9902539905153963,
          -1.054243700152478,
          -1.082735468677018,
          -1.1420543965887655,
          -1.0310454842499839,
          -0.8540228568598085,
          -1.1110715444773802,
          -1.0052004920364663,
          -0.9292224426376929,
          -1.0164103681772692,
          -0.9351387661564499,
          -1.0081586537958451,
          -1.0109611228310456,
          -1.065297883569103,
          -1.2128945860896712,
          -0.9553788202995658,
          -1.0489501475304324,
          -0.9184796446694238,
          -1.0674775817075923,
          -1.1842471248409532,
          -1.1236826551357832,
          -1.0965921211288436,
          -1.0808671559868843,
          -1.055177856497545,
          -0.9860502869625953,
          -1.1414316256920543,
          -1.0511298456689218,
          -1.0053561847606443,
          -1.1048438355102679,
          -0.9858945942384174,
          -1.0894302558166642,
          -0.9245516609123585,
          -0.9941463086198417,
          -1.0844480886429742,
          -1.1218143424456497,
          -1.1403417766228097,
          -1.0481716839095434,
          -1.050974152944744,
          -1.015787597280558,
          -1.1509288818669008,
          -1.0388301204588746,
          -1.039297198631408,
          -1.1179220243412042,
          -1.0319796405950508,
          -0.882981703556882,
          -1.0531538510832332,
          -1.0634295708789692,
          -1.0651421908449252,
          -0.9960146213099754,
          -1.0002183248627765,
          -1.0626511072580802,
          -1.0771305306066168,
          -1.1325571404139188,
          -0.9144316338408005,
          -1.1489048764525893,
          -1.2058884135016694,
          -1.0259076243521157,
          -1.1485934910042337,
          -1.0047334138639332,
          -1.029955635180739,
          -1.043345209460031,
          -1.067010503535059
         ],
         "yaxis": "y"
        },
        {
         "hovertemplate": "Fruit=Kiwi<br>Sweetness=%{x}<br>Average diameter=%{y}<extra></extra>",
         "legendgroup": "Kiwi",
         "marker": {
          "color": "#FFA15A",
          "line": {
           "color": "DarkSlateGrey",
           "width": 2
          },
          "size": 12,
          "symbol": "circle"
         },
         "mode": "markers",
         "name": "Kiwi",
         "orientation": "v",
         "showlegend": true,
         "type": "scatter",
         "x": [
          0.6226332588369567,
          0.211121407245384,
          1.1053683155116865,
          -0.002548208004086453,
          0.4722731592169594,
          -0.9521909424461771,
          -0.09751248144829527,
          0.021192860356966013,
          -0.6277296748451296,
          0.38522257522643416,
          -0.9996730791682816,
          0.26651723342117284,
          -0.10542617090197955,
          -0.22413151270724083,
          0.8125618057253751,
          0.9470945264380045,
          0.6859427744664295,
          -1.1342057998809112,
          0.662201706105377,
          -0.5565064697619726,
          0.6226332588369567,
          0.4801868486706433,
          0.9787492842527409,
          0.701770153373798,
          0.211121407245384,
          0.5355826748464314,
          0.1873803388843319,
          0.32191305959696137,
          -0.8651403584556522,
          0.282344612328541,
          0.29817199123590926,
          -0.9442772529924931,
          0.5751511221148524,
          -1.0629825947977545,
          -0.36657792287355456,
          -0.239958891614609,
          1.5960170616401002,
          0.8758713213548478,
          0.970835594799057,
          -0.7306076377430227,
          0.3060856806895932,
          0.5593237432074839,
          0.4089636435874866,
          0.5830648115685364,
          1.4773117198348384,
          -0.13708092871671593,
          0.1082434443474909,
          0.3693951963190656,
          0.38522257522643416,
          0.38522257522643416,
          0.49601422757801117,
          0.29817199123590926,
          -0.002548208004086453,
          0.00536548144959782,
          1.7463771612600973,
          1.334865309668525,
          -0.034202965818822845,
          -0.3032684072440818,
          0.1082434443474909,
          1.5643623038253638,
          -0.27952733888302933,
          -0.12125354980934773,
          0.9629219053453724,
          0.5197552959390637,
          1.3190379307611566,
          0.1240708232548591,
          -0.7780897744651273,
          -0.3111820966977657,
          0.49601422757801117,
          0.32191305959696137,
          0.1240708232548591,
          0.6226332588369567,
          -0.398232680688291,
          -0.3032684072440818,
          -0.034202965818822845,
          -0.20830413379987264,
          1.8017729874358863,
          -0.6752118115672339,
          0.1873803388843319,
          0.1952940283380158,
          0.1082434443474909,
          1.231987346770632,
          0.4564457803095908,
          0.22694878615275219,
          -0.14499461817039985,
          -0.2953547177903975,
          -0.4061463701419749,
          0.06076130762538633,
          0.1873803388843319,
          0.709683842827482,
          -0.48528326467881583,
          0.42479102249485445,
          0.8283891846327429,
          0.5514100537538,
          0.282344612328541,
          1.5564486143716791,
          0.8600439424474793,
          0.6068058799295889,
          0.42479102249485445,
          0.27443092287485676
         ],
         "xaxis": "x",
         "y": [
          -0.26098927046651255,
          -0.11214702615252174,
          -0.30738570227150136,
          -0.1462437327474631,
          -0.3780701990482292,
          -0.5568054464043604,
          -0.1057636244612314,
          -0.34739873238519964,
          0.15813554302016442,
          0.10224185504032893,
          -0.17115456861591358,
          -0.5181936508082624,
          -0.5943273929312137,
          -0.1197759696372348,
          -0.1045180826678089,
          0.14630289598265042,
          -0.11167994797998829,
          -0.2989782951658993,
          -0.2759357719875829,
          -0.46012026468993744,
          0.03171305098777888,
          -0.2676840576061587,
          -0.440347288719355,
          -0.008611364574275157,
          -0.061702583518909886,
          -0.230473496527661,
          -0.3175057293430592,
          -0.3710640264602275,
          -0.02091108978432239,
          -0.27001944846882575,
          -0.19357432089751886,
          -0.2676840576061587,
          -0.42353247450815107,
          -0.12709352767359208,
          -0.45871903017233717,
          -0.45077870123926866,
          -0.6254659377667766,
          0.034515520022979654,
          -0.2711092975380706,
          -0.2385695181849073,
          -0.16103454154435554,
          -0.6916353455423478,
          -0.5849858294805448,
          -0.302714920546167,
          -0.20945497876365587,
          -0.3140804894111473,
          -0.44875469582495703,
          -0.4289817198543745,
          -0.29804413882083236,
          -0.11214702615252174,
          -0.6072498890379723,
          -0.13705786202097223,
          -0.5074508528399931,
          -0.4973308257684351,
          -0.10981163528985466,
          -0.4187060000586388,
          -0.0014494992620955607,
          -0.04395361296263901,
          -0.4570064102063812,
          -0.09439805559625088,
          -0.37495634456467286,
          -0.48580956417927695,
          -0.2360784345980623,
          -0.4995105239069246,
          -0.5910578457234796,
          -0.08505649214558209,
          -0.5614762281296949,
          -0.13223138757145994,
          -0.0872361902840715,
          -0.41823892188610534,
          -0.22751533476828253,
          -0.06933152700362273,
          -0.022000938853567204,
          -0.03523482040868136,
          -0.10529654628869793,
          -0.2958644406823432,
          -0.484096944213321,
          0.07406147196414443,
          -0.0778946268334027,
          -0.13565662750337185,
          -0.16041177064764442,
          -0.028384340544857552,
          0.023772722054710257,
          -0.5463740338844468,
          -0.28636718450749626,
          -0.44470668499633387,
          -0.037414518547170775,
          -0.13550093477919395,
          -0.32964976182892874,
          -0.12911753308790358,
          -0.000982421089562099,
          -0.6315379540097115,
          -0.46245565555260476,
          -0.5459069557119134,
          0.012562845913907623,
          -0.2966429043032322,
          -0.36779447925249337,
          -0.2357670491497065,
          -0.33229653813995164,
          -0.4557608684129587
         ],
         "yaxis": "y"
        }
       ],
       "layout": {
        "legend": {
         "title": {
          "text": "Fruit"
         },
         "tracegroupgap": 0
        },
        "template": {
         "data": {
          "bar": [
           {
            "error_x": {
             "color": "#2a3f5f"
            },
            "error_y": {
             "color": "#2a3f5f"
            },
            "marker": {
             "line": {
              "color": "#E5ECF6",
              "width": 0.5
             },
             "pattern": {
              "fillmode": "overlay",
              "size": 10,
              "solidity": 0.2
             }
            },
            "type": "bar"
           }
          ],
          "barpolar": [
           {
            "marker": {
             "line": {
              "color": "#E5ECF6",
              "width": 0.5
             },
             "pattern": {
              "fillmode": "overlay",
              "size": 10,
              "solidity": 0.2
             }
            },
            "type": "barpolar"
           }
          ],
          "carpet": [
           {
            "aaxis": {
             "endlinecolor": "#2a3f5f",
             "gridcolor": "white",
             "linecolor": "white",
             "minorgridcolor": "white",
             "startlinecolor": "#2a3f5f"
            },
            "baxis": {
             "endlinecolor": "#2a3f5f",
             "gridcolor": "white",
             "linecolor": "white",
             "minorgridcolor": "white",
             "startlinecolor": "#2a3f5f"
            },
            "type": "carpet"
           }
          ],
          "choropleth": [
           {
            "colorbar": {
             "outlinewidth": 0,
             "ticks": ""
            },
            "type": "choropleth"
           }
          ],
          "contour": [
           {
            "colorbar": {
             "outlinewidth": 0,
             "ticks": ""
            },
            "colorscale": [
             [
              0,
              "#0d0887"
             ],
             [
              0.1111111111111111,
              "#46039f"
             ],
             [
              0.2222222222222222,
              "#7201a8"
             ],
             [
              0.3333333333333333,
              "#9c179e"
             ],
             [
              0.4444444444444444,
              "#bd3786"
             ],
             [
              0.5555555555555556,
              "#d8576b"
             ],
             [
              0.6666666666666666,
              "#ed7953"
             ],
             [
              0.7777777777777778,
              "#fb9f3a"
             ],
             [
              0.8888888888888888,
              "#fdca26"
             ],
             [
              1,
              "#f0f921"
             ]
            ],
            "type": "contour"
           }
          ],
          "contourcarpet": [
           {
            "colorbar": {
             "outlinewidth": 0,
             "ticks": ""
            },
            "type": "contourcarpet"
           }
          ],
          "heatmap": [
           {
            "colorbar": {
             "outlinewidth": 0,
             "ticks": ""
            },
            "colorscale": [
             [
              0,
              "#0d0887"
             ],
             [
              0.1111111111111111,
              "#46039f"
             ],
             [
              0.2222222222222222,
              "#7201a8"
             ],
             [
              0.3333333333333333,
              "#9c179e"
             ],
             [
              0.4444444444444444,
              "#bd3786"
             ],
             [
              0.5555555555555556,
              "#d8576b"
             ],
             [
              0.6666666666666666,
              "#ed7953"
             ],
             [
              0.7777777777777778,
              "#fb9f3a"
             ],
             [
              0.8888888888888888,
              "#fdca26"
             ],
             [
              1,
              "#f0f921"
             ]
            ],
            "type": "heatmap"
           }
          ],
          "heatmapgl": [
           {
            "colorbar": {
             "outlinewidth": 0,
             "ticks": ""
            },
            "colorscale": [
             [
              0,
              "#0d0887"
             ],
             [
              0.1111111111111111,
              "#46039f"
             ],
             [
              0.2222222222222222,
              "#7201a8"
             ],
             [
              0.3333333333333333,
              "#9c179e"
             ],
             [
              0.4444444444444444,
              "#bd3786"
             ],
             [
              0.5555555555555556,
              "#d8576b"
             ],
             [
              0.6666666666666666,
              "#ed7953"
             ],
             [
              0.7777777777777778,
              "#fb9f3a"
             ],
             [
              0.8888888888888888,
              "#fdca26"
             ],
             [
              1,
              "#f0f921"
             ]
            ],
            "type": "heatmapgl"
           }
          ],
          "histogram": [
           {
            "marker": {
             "pattern": {
              "fillmode": "overlay",
              "size": 10,
              "solidity": 0.2
             }
            },
            "type": "histogram"
           }
          ],
          "histogram2d": [
           {
            "colorbar": {
             "outlinewidth": 0,
             "ticks": ""
            },
            "colorscale": [
             [
              0,
              "#0d0887"
             ],
             [
              0.1111111111111111,
              "#46039f"
             ],
             [
              0.2222222222222222,
              "#7201a8"
             ],
             [
              0.3333333333333333,
              "#9c179e"
             ],
             [
              0.4444444444444444,
              "#bd3786"
             ],
             [
              0.5555555555555556,
              "#d8576b"
             ],
             [
              0.6666666666666666,
              "#ed7953"
             ],
             [
              0.7777777777777778,
              "#fb9f3a"
             ],
             [
              0.8888888888888888,
              "#fdca26"
             ],
             [
              1,
              "#f0f921"
             ]
            ],
            "type": "histogram2d"
           }
          ],
          "histogram2dcontour": [
           {
            "colorbar": {
             "outlinewidth": 0,
             "ticks": ""
            },
            "colorscale": [
             [
              0,
              "#0d0887"
             ],
             [
              0.1111111111111111,
              "#46039f"
             ],
             [
              0.2222222222222222,
              "#7201a8"
             ],
             [
              0.3333333333333333,
              "#9c179e"
             ],
             [
              0.4444444444444444,
              "#bd3786"
             ],
             [
              0.5555555555555556,
              "#d8576b"
             ],
             [
              0.6666666666666666,
              "#ed7953"
             ],
             [
              0.7777777777777778,
              "#fb9f3a"
             ],
             [
              0.8888888888888888,
              "#fdca26"
             ],
             [
              1,
              "#f0f921"
             ]
            ],
            "type": "histogram2dcontour"
           }
          ],
          "mesh3d": [
           {
            "colorbar": {
             "outlinewidth": 0,
             "ticks": ""
            },
            "type": "mesh3d"
           }
          ],
          "parcoords": [
           {
            "line": {
             "colorbar": {
              "outlinewidth": 0,
              "ticks": ""
             }
            },
            "type": "parcoords"
           }
          ],
          "pie": [
           {
            "automargin": true,
            "type": "pie"
           }
          ],
          "scatter": [
           {
            "fillpattern": {
             "fillmode": "overlay",
             "size": 10,
             "solidity": 0.2
            },
            "type": "scatter"
           }
          ],
          "scatter3d": [
           {
            "line": {
             "colorbar": {
              "outlinewidth": 0,
              "ticks": ""
             }
            },
            "marker": {
             "colorbar": {
              "outlinewidth": 0,
              "ticks": ""
             }
            },
            "type": "scatter3d"
           }
          ],
          "scattercarpet": [
           {
            "marker": {
             "colorbar": {
              "outlinewidth": 0,
              "ticks": ""
             }
            },
            "type": "scattercarpet"
           }
          ],
          "scattergeo": [
           {
            "marker": {
             "colorbar": {
              "outlinewidth": 0,
              "ticks": ""
             }
            },
            "type": "scattergeo"
           }
          ],
          "scattergl": [
           {
            "marker": {
             "colorbar": {
              "outlinewidth": 0,
              "ticks": ""
             }
            },
            "type": "scattergl"
           }
          ],
          "scattermapbox": [
           {
            "marker": {
             "colorbar": {
              "outlinewidth": 0,
              "ticks": ""
             }
            },
            "type": "scattermapbox"
           }
          ],
          "scatterpolar": [
           {
            "marker": {
             "colorbar": {
              "outlinewidth": 0,
              "ticks": ""
             }
            },
            "type": "scatterpolar"
           }
          ],
          "scatterpolargl": [
           {
            "marker": {
             "colorbar": {
              "outlinewidth": 0,
              "ticks": ""
             }
            },
            "type": "scatterpolargl"
           }
          ],
          "scatterternary": [
           {
            "marker": {
             "colorbar": {
              "outlinewidth": 0,
              "ticks": ""
             }
            },
            "type": "scatterternary"
           }
          ],
          "surface": [
           {
            "colorbar": {
             "outlinewidth": 0,
             "ticks": ""
            },
            "colorscale": [
             [
              0,
              "#0d0887"
             ],
             [
              0.1111111111111111,
              "#46039f"
             ],
             [
              0.2222222222222222,
              "#7201a8"
             ],
             [
              0.3333333333333333,
              "#9c179e"
             ],
             [
              0.4444444444444444,
              "#bd3786"
             ],
             [
              0.5555555555555556,
              "#d8576b"
             ],
             [
              0.6666666666666666,
              "#ed7953"
             ],
             [
              0.7777777777777778,
              "#fb9f3a"
             ],
             [
              0.8888888888888888,
              "#fdca26"
             ],
             [
              1,
              "#f0f921"
             ]
            ],
            "type": "surface"
           }
          ],
          "table": [
           {
            "cells": {
             "fill": {
              "color": "#EBF0F8"
             },
             "line": {
              "color": "white"
             }
            },
            "header": {
             "fill": {
              "color": "#C8D4E3"
             },
             "line": {
              "color": "white"
             }
            },
            "type": "table"
           }
          ]
         },
         "layout": {
          "annotationdefaults": {
           "arrowcolor": "#2a3f5f",
           "arrowhead": 0,
           "arrowwidth": 1
          },
          "autotypenumbers": "strict",
          "coloraxis": {
           "colorbar": {
            "outlinewidth": 0,
            "ticks": ""
           }
          },
          "colorscale": {
           "diverging": [
            [
             0,
             "#8e0152"
            ],
            [
             0.1,
             "#c51b7d"
            ],
            [
             0.2,
             "#de77ae"
            ],
            [
             0.3,
             "#f1b6da"
            ],
            [
             0.4,
             "#fde0ef"
            ],
            [
             0.5,
             "#f7f7f7"
            ],
            [
             0.6,
             "#e6f5d0"
            ],
            [
             0.7,
             "#b8e186"
            ],
            [
             0.8,
             "#7fbc41"
            ],
            [
             0.9,
             "#4d9221"
            ],
            [
             1,
             "#276419"
            ]
           ],
           "sequential": [
            [
             0,
             "#0d0887"
            ],
            [
             0.1111111111111111,
             "#46039f"
            ],
            [
             0.2222222222222222,
             "#7201a8"
            ],
            [
             0.3333333333333333,
             "#9c179e"
            ],
            [
             0.4444444444444444,
             "#bd3786"
            ],
            [
             0.5555555555555556,
             "#d8576b"
            ],
            [
             0.6666666666666666,
             "#ed7953"
            ],
            [
             0.7777777777777778,
             "#fb9f3a"
            ],
            [
             0.8888888888888888,
             "#fdca26"
            ],
            [
             1,
             "#f0f921"
            ]
           ],
           "sequentialminus": [
            [
             0,
             "#0d0887"
            ],
            [
             0.1111111111111111,
             "#46039f"
            ],
            [
             0.2222222222222222,
             "#7201a8"
            ],
            [
             0.3333333333333333,
             "#9c179e"
            ],
            [
             0.4444444444444444,
             "#bd3786"
            ],
            [
             0.5555555555555556,
             "#d8576b"
            ],
            [
             0.6666666666666666,
             "#ed7953"
            ],
            [
             0.7777777777777778,
             "#fb9f3a"
            ],
            [
             0.8888888888888888,
             "#fdca26"
            ],
            [
             1,
             "#f0f921"
            ]
           ]
          },
          "colorway": [
           "#636efa",
           "#EF553B",
           "#00cc96",
           "#ab63fa",
           "#FFA15A",
           "#19d3f3",
           "#FF6692",
           "#B6E880",
           "#FF97FF",
           "#FECB52"
          ],
          "font": {
           "color": "#2a3f5f"
          },
          "geo": {
           "bgcolor": "white",
           "lakecolor": "white",
           "landcolor": "#E5ECF6",
           "showlakes": true,
           "showland": true,
           "subunitcolor": "white"
          },
          "hoverlabel": {
           "align": "left"
          },
          "hovermode": "closest",
          "mapbox": {
           "style": "light"
          },
          "paper_bgcolor": "white",
          "plot_bgcolor": "#E5ECF6",
          "polar": {
           "angularaxis": {
            "gridcolor": "white",
            "linecolor": "white",
            "ticks": ""
           },
           "bgcolor": "#E5ECF6",
           "radialaxis": {
            "gridcolor": "white",
            "linecolor": "white",
            "ticks": ""
           }
          },
          "scene": {
           "xaxis": {
            "backgroundcolor": "#E5ECF6",
            "gridcolor": "white",
            "gridwidth": 2,
            "linecolor": "white",
            "showbackground": true,
            "ticks": "",
            "zerolinecolor": "white"
           },
           "yaxis": {
            "backgroundcolor": "#E5ECF6",
            "gridcolor": "white",
            "gridwidth": 2,
            "linecolor": "white",
            "showbackground": true,
            "ticks": "",
            "zerolinecolor": "white"
           },
           "zaxis": {
            "backgroundcolor": "#E5ECF6",
            "gridcolor": "white",
            "gridwidth": 2,
            "linecolor": "white",
            "showbackground": true,
            "ticks": "",
            "zerolinecolor": "white"
           }
          },
          "shapedefaults": {
           "line": {
            "color": "#2a3f5f"
           }
          },
          "ternary": {
           "aaxis": {
            "gridcolor": "white",
            "linecolor": "white",
            "ticks": ""
           },
           "baxis": {
            "gridcolor": "white",
            "linecolor": "white",
            "ticks": ""
           },
           "bgcolor": "#E5ECF6",
           "caxis": {
            "gridcolor": "white",
            "linecolor": "white",
            "ticks": ""
           }
          },
          "title": {
           "x": 0.05
          },
          "xaxis": {
           "automargin": true,
           "gridcolor": "white",
           "linecolor": "white",
           "ticks": "",
           "title": {
            "standoff": 15
           },
           "zerolinecolor": "white",
           "zerolinewidth": 2
          },
          "yaxis": {
           "automargin": true,
           "gridcolor": "white",
           "linecolor": "white",
           "ticks": "",
           "title": {
            "standoff": 15
           },
           "zerolinecolor": "white",
           "zerolinewidth": 2
          }
         }
        },
        "title": {
         "text": "Scatter Plot Sweetness vs Average diameter with target column comparison"
        },
        "xaxis": {
         "anchor": "y",
         "domain": [
          0,
          1
         ],
         "title": {
          "text": "Sweetness"
         }
        },
        "yaxis": {
         "anchor": "x",
         "domain": [
          0,
          1
         ],
         "title": {
          "text": "Average diameter"
         }
        }
       }
      }
     },
     "metadata": {},
     "output_type": "display_data"
    }
   ],
   "source": [
    "# Scatter plot among ['Weight', 'Average diameter', 'Average length', 'Peel hardness', 'Sweetness']\n",
    "# and comparison with TARGET 'Fruit' \n",
    "\n",
    "feature_x = 'Sweetness'\n",
    "feature_y = 'Average diameter'\n",
    "\n",
    "fig = scatter_plot(df_standard_transformed, feature_x, feature_y, target='Fruit')\n",
    "fig.show()"
   ]
  },
  {
   "cell_type": "markdown",
   "metadata": {},
   "source": [
    "## Saving transformed dataset"
   ]
  },
  {
   "cell_type": "code",
   "execution_count": null,
   "metadata": {},
   "outputs": [],
   "source": [
    "# Saving dataset transformed with StandardScaler\n",
    "\n",
    "df_standard_transformed.to_csv(\"Data/Fruits_Dataset_Preprocessed_Standard.csv\", index=False)"
   ]
  },
  {
   "cell_type": "code",
   "execution_count": null,
   "metadata": {},
   "outputs": [],
   "source": [
    "# Saving dataset transformed with MinMaxScaler\n",
    "\n",
    "df_minmax_transformed.to_csv(\"Data/Fruits_Dataset_Preprocessed_MinMax.csv\", index=False)"
   ]
  },
  {
   "cell_type": "markdown",
   "metadata": {},
   "source": [
    "##  K-Nearest Neighbors (KNN) implementation and Results\n",
    "\n",
    "Evaluate KNN algorithms using a train_test_split and a GridSearchCV optimization for the number of neighbours:\n",
    "1. splitting the dataset in a stratify way\n",
    "2. optimization procedure with GridSearchCV to find the best KNN model with the number of neighbours that reaches the highest accuracy score in validation test\n",
    "3. `Results`:\n",
    "    * I found that the best number of neighbours is 6 with an accuracy score 0.925 for test set. \n",
    "    * Error Bar Plot shows that effectively the best number of neighbours is 6 it has the best mean score value for the test set and one of the highest mean score value for training set, so to avoind overfitting\n",
    "    * Classification Report and Confusion Matrix: Appli, Grape and Banana are the labels with the highest scores (accuracy, precision and recall), I found that this KNN model has evident lower performance for Orange. A possible solution could be to find a more balanced model that minimize the performance on other classes to increase this one, or in addition, I need to understand which could be the most important class to predict from the domain specialist. The last possibility could be to use a more complex model such as SVM and Random Forest, in order to see if it is possible to find better performce increasing model complexity.\n",
    "\n",
    "Evaluate KNN algorithms using a stratified K-folds cross-validation for each number of neighbours in [1,20]:\n",
    "1. this solution is an alternative method of the previous one, it helps to find the best number of neighbors for the KNN model\n",
    "2. This implementation has the advantage to see directly the metrics scores for both training and test and using different metrics like accuracy and log loss. Moreover, using a manual cross-validation helps to set parameters and increase robustness of the results.\n",
    "3. `Results`:\n",
    "    * I practically found the same results I found before, the best number of neighbours is 6\n",
    "    * These results are fundamental, from my point of view, they increase the validity of what I found in the other method\n",
    "    * From accuraccy and log loss plots is possible to visualize these results, finding the best ratio beetween training and test for number of neighbours equals to 6 for accuracy, and maybe it is equal to 7 for log loss.\n",
    "\n",
    "Evaluate the best KNN model with number of neighbors 6 in a stratified k-folds cross-validation to increase statistics and robustness of the model:\n",
    "1. the cross-validation has 10 folds and it is stratified, the function saves results for these metrics: accuracy, precision, recall, f1 score, log loss\n",
    "2. for this subsection, I visualize data using `Plotly` to have an interactive view of these results in order to manage all these metrics. I used scatter plots for each metric over the folds, bar plots to compared mean and std for each metric, volin plot for a choosen metric\n",
    "3. `Results`:\n",
    "    * metrcis scores for training set is, as expected, more stable than test set\n",
    "    * this behaviour is evident from scatter plot and std values, but mean values for training and test sets are comparable for each metric (for example, accuracy is 95% for training and 94% for testing, similar results for other metrics)\n",
    "    * violin plots help me to see the results distributions, it is normal for each metric and test (very good performance when seeing results from a classifier model) and, as said before, these training results are more stable presenting a lower variance range than test set."
   ]
  },
  {
   "cell_type": "code",
   "execution_count": 2,
   "metadata": {},
   "outputs": [
    {
     "data": {
      "text/html": [
       "<div>\n",
       "<style scoped>\n",
       "    .dataframe tbody tr th:only-of-type {\n",
       "        vertical-align: middle;\n",
       "    }\n",
       "\n",
       "    .dataframe tbody tr th {\n",
       "        vertical-align: top;\n",
       "    }\n",
       "\n",
       "    .dataframe thead th {\n",
       "        text-align: right;\n",
       "    }\n",
       "</style>\n",
       "<table border=\"1\" class=\"dataframe\">\n",
       "  <thead>\n",
       "    <tr style=\"text-align: right;\">\n",
       "      <th></th>\n",
       "      <th>Weight</th>\n",
       "      <th>Average diameter</th>\n",
       "      <th>Average length</th>\n",
       "      <th>Peel hardness</th>\n",
       "      <th>Sweetness</th>\n",
       "      <th>Fruit</th>\n",
       "    </tr>\n",
       "  </thead>\n",
       "  <tbody>\n",
       "    <tr>\n",
       "      <th>0</th>\n",
       "      <td>1.461616</td>\n",
       "      <td>0.048372</td>\n",
       "      <td>1.284930</td>\n",
       "      <td>1.199712</td>\n",
       "      <td>-0.936364</td>\n",
       "      <td>Apple</td>\n",
       "    </tr>\n",
       "    <tr>\n",
       "      <th>1</th>\n",
       "      <td>1.131798</td>\n",
       "      <td>-0.204317</td>\n",
       "      <td>0.451391</td>\n",
       "      <td>-0.131240</td>\n",
       "      <td>0.219035</td>\n",
       "      <td>Apple</td>\n",
       "    </tr>\n",
       "    <tr>\n",
       "      <th>2</th>\n",
       "      <td>1.295211</td>\n",
       "      <td>-0.076493</td>\n",
       "      <td>0.417292</td>\n",
       "      <td>0.912536</td>\n",
       "      <td>-0.564420</td>\n",
       "      <td>Apple</td>\n",
       "    </tr>\n",
       "    <tr>\n",
       "      <th>3</th>\n",
       "      <td>0.711112</td>\n",
       "      <td>-0.776332</td>\n",
       "      <td>0.561267</td>\n",
       "      <td>0.426545</td>\n",
       "      <td>-0.825572</td>\n",
       "      <td>Apple</td>\n",
       "    </tr>\n",
       "    <tr>\n",
       "      <th>4</th>\n",
       "      <td>0.352126</td>\n",
       "      <td>-0.169442</td>\n",
       "      <td>0.182386</td>\n",
       "      <td>0.945671</td>\n",
       "      <td>0.226949</td>\n",
       "      <td>Apple</td>\n",
       "    </tr>\n",
       "  </tbody>\n",
       "</table>\n",
       "</div>"
      ],
      "text/plain": [
       "     Weight  Average diameter  Average length  Peel hardness  Sweetness  Fruit\n",
       "0  1.461616          0.048372        1.284930       1.199712  -0.936364  Apple\n",
       "1  1.131798         -0.204317        0.451391      -0.131240   0.219035  Apple\n",
       "2  1.295211         -0.076493        0.417292       0.912536  -0.564420  Apple\n",
       "3  0.711112         -0.776332        0.561267       0.426545  -0.825572  Apple\n",
       "4  0.352126         -0.169442        0.182386       0.945671   0.226949  Apple"
      ]
     },
     "execution_count": 2,
     "metadata": {},
     "output_type": "execute_result"
    }
   ],
   "source": [
    "# Import Transformed Dataset\n",
    "\n",
    "df_standard_transformed = read_csv(\"Data/Fruits_Dataset_Preprocessed_Standard.csv\")\n",
    "df_standard_transformed.head()"
   ]
  },
  {
   "cell_type": "code",
   "execution_count": 3,
   "metadata": {},
   "outputs": [
    {
     "name": "stdout",
     "output_type": "stream",
     "text": [
      "========================================\n",
      "Dataset Shape before splitting: (500, 6)\n",
      "X train Shape after splitting: (400, 5)\n",
      "X test Shape after splitting: (100, 5)\n",
      "y train Shape after splitting: (400,)\n",
      "y test Shape after splitting: (100,)\n",
      "========================================\n"
     ]
    }
   ],
   "source": [
    "# Splitting dataset\n",
    "\n",
    "label = 'Fruit'\n",
    "\n",
    "X_train, X_test, y_train, y_test = data_split(df_standard_transformed, label, test_size=0.2)\n",
    "\n",
    "print(\"=\"*40)\n",
    "print(f\"Dataset Shape before splitting: {df_standard_transformed.shape}\")\n",
    "print(f\"X train Shape after splitting: {X_train.shape}\")\n",
    "print(f\"X test Shape after splitting: {X_test.shape}\")\n",
    "print(f\"y train Shape after splitting: {y_train.shape}\")\n",
    "print(f\"y test Shape after splitting: {y_test.shape}\")\n",
    "print(\"=\"*40)"
   ]
  },
  {
   "cell_type": "code",
   "execution_count": 24,
   "metadata": {},
   "outputs": [
    {
     "data": {
      "text/plain": [
       "Fruit\n",
       "Grape     20\n",
       "Apple     20\n",
       "Kiwi      20\n",
       "Banana    20\n",
       "Orange    20\n",
       "Name: count, dtype: int64"
      ]
     },
     "execution_count": 24,
     "metadata": {},
     "output_type": "execute_result"
    }
   ],
   "source": [
    "# Check for target distribution in y_test\n",
    "\n",
    "y_test.value_counts()"
   ]
  },
  {
   "cell_type": "code",
   "execution_count": 4,
   "metadata": {},
   "outputs": [
    {
     "name": "stdout",
     "output_type": "stream",
     "text": [
      "==================================================\n",
      "Best parameters: {'n_neighbors': 6}\n",
      "Best model: KNeighborsClassifier(n_neighbors=6)\n",
      "Best accuracy score: 0.925\n",
      "==================================================\n",
      "\n",
      "Results saved...\n"
     ]
    }
   ],
   "source": [
    "# Optimizing KNN model with GridSearchCV\n",
    "\n",
    "grid = {\n",
    "    'n_neighbors' : arange(1,20)\n",
    "}\n",
    "\n",
    "best_knn_model, results_cv_search = knn_optimization(X_train, y_train, params=grid, k_cv=5, save_res = True)"
   ]
  },
  {
   "cell_type": "code",
   "execution_count": 26,
   "metadata": {},
   "outputs": [
    {
     "name": "stderr",
     "output_type": "stream",
     "text": [
      "/var/folders/8d/09j2zdrx7klfl7nffqz630000000gn/T/ipykernel_11298/1562936619.py:4: UserWarning:\n",
      "\n",
      "FigureCanvasAgg is non-interactive, and thus cannot be shown\n",
      "\n"
     ]
    },
    {
     "data": {
      "image/png": "[encoded data removed]",
      "text/plain": [
       "<Figure size 1000x600 with 1 Axes>"
      ]
     },
     "metadata": {},
     "output_type": "display_data"
    }
   ],
   "source": [
    "# Visualize results from GridSearchCV with KNN\n",
    "\n",
    "fig = viz_grid_search_res(results_cv_search)\n",
    "fig.show()"
   ]
  },
  {
   "cell_type": "code",
   "execution_count": 27,
   "metadata": {},
   "outputs": [
    {
     "name": "stdout",
     "output_type": "stream",
     "text": [
      "======================================================================\n",
      "Accuracy: 0.93\n",
      "Classification Report:\n",
      "              precision    recall  f1-score   support\n",
      "\n",
      "       Apple       0.87      1.00      0.93        20\n",
      "      Banana       1.00      1.00      1.00        20\n",
      "       Grape       1.00      1.00      1.00        20\n",
      "        Kiwi       0.86      0.90      0.88        20\n",
      "      Orange       0.94      0.75      0.83        20\n",
      "\n",
      "    accuracy                           0.93       100\n",
      "   macro avg       0.93      0.93      0.93       100\n",
      "weighted avg       0.93      0.93      0.93       100\n",
      "\n"
     ]
    },
    {
     "name": "stderr",
     "output_type": "stream",
     "text": [
      "/var/folders/8d/09j2zdrx7klfl7nffqz630000000gn/T/ipykernel_11298/940734075.py:4: UserWarning:\n",
      "\n",
      "FigureCanvasAgg is non-interactive, and thus cannot be shown\n",
      "\n"
     ]
    },
    {
     "data": {
      "image/png": "[encoded data removed]",
      "text/plain": [
       "<Figure size 800x600 with 1 Axes>"
      ]
     },
     "metadata": {},
     "output_type": "display_data"
    }
   ],
   "source": [
    "# Model evaluation on Test set\n",
    "\n",
    "fig, ax = evaluate_model(best_knn_model, X_test, y_test)\n",
    "fig.show()"
   ]
  },
  {
   "cell_type": "code",
   "execution_count": 5,
   "metadata": {},
   "outputs": [
    {
     "name": "stdout",
     "output_type": "stream",
     "text": [
      "----------------------------------------------------------------------------------------------------\n",
      "n_neighbors=1: Train Accuracy=1.0000 Test Accuracy=0.9160 Train Log Loss=0.0000 Test Log Loss=3.0277\n",
      "----------------------------------------------------------------------------------------------------\n",
      "n_neighbors=2: Train Accuracy=0.9576 Test Accuracy=0.9020 Train Log Loss=0.0604 Test Log Loss=1.5332\n",
      "----------------------------------------------------------------------------------------------------\n",
      "n_neighbors=3: Train Accuracy=0.9544 Test Accuracy=0.9160 Train Log Loss=0.1015 Test Log Loss=1.0493\n",
      "----------------------------------------------------------------------------------------------------\n",
      "n_neighbors=4: Train Accuracy=0.9449 Test Accuracy=0.9140 Train Log Loss=0.1152 Test Log Loss=0.5038\n",
      "----------------------------------------------------------------------------------------------------\n",
      "n_neighbors=5: Train Accuracy=0.9393 Test Accuracy=0.9140 Train Log Loss=0.1216 Test Log Loss=0.4311\n",
      "----------------------------------------------------------------------------------------------------\n",
      "n_neighbors=6: Train Accuracy=0.9522 Test Accuracy=0.9380 Train Log Loss=0.1260 Test Log Loss=0.4299\n",
      "----------------------------------------------------------------------------------------------------\n",
      "n_neighbors=7: Train Accuracy=0.9476 Test Accuracy=0.9280 Train Log Loss=0.1321 Test Log Loss=0.3637\n",
      "----------------------------------------------------------------------------------------------------\n",
      "n_neighbors=8: Train Accuracy=0.9498 Test Accuracy=0.9340 Train Log Loss=0.1381 Test Log Loss=0.3655\n",
      "----------------------------------------------------------------------------------------------------\n",
      "n_neighbors=9: Train Accuracy=0.9424 Test Accuracy=0.9260 Train Log Loss=0.1443 Test Log Loss=0.3692\n",
      "----------------------------------------------------------------------------------------------------\n",
      "n_neighbors=10: Train Accuracy=0.9429 Test Accuracy=0.9300 Train Log Loss=0.1481 Test Log Loss=0.3711\n",
      "----------------------------------------------------------------------------------------------------\n",
      "n_neighbors=11: Train Accuracy=0.9358 Test Accuracy=0.9200 Train Log Loss=0.1530 Test Log Loss=0.3728\n",
      "----------------------------------------------------------------------------------------------------\n",
      "n_neighbors=12: Train Accuracy=0.9367 Test Accuracy=0.9300 Train Log Loss=0.1573 Test Log Loss=0.3730\n",
      "----------------------------------------------------------------------------------------------------\n",
      "n_neighbors=13: Train Accuracy=0.9364 Test Accuracy=0.9300 Train Log Loss=0.1593 Test Log Loss=0.3058\n",
      "----------------------------------------------------------------------------------------------------\n",
      "n_neighbors=14: Train Accuracy=0.9358 Test Accuracy=0.9320 Train Log Loss=0.1613 Test Log Loss=0.2394\n",
      "----------------------------------------------------------------------------------------------------\n",
      "n_neighbors=15: Train Accuracy=0.9380 Test Accuracy=0.9300 Train Log Loss=0.1628 Test Log Loss=0.2403\n",
      "----------------------------------------------------------------------------------------------------\n",
      "n_neighbors=16: Train Accuracy=0.9367 Test Accuracy=0.9240 Train Log Loss=0.1638 Test Log Loss=0.2432\n",
      "----------------------------------------------------------------------------------------------------\n",
      "n_neighbors=17: Train Accuracy=0.9387 Test Accuracy=0.9300 Train Log Loss=0.1652 Test Log Loss=0.2464\n",
      "----------------------------------------------------------------------------------------------------\n",
      "n_neighbors=18: Train Accuracy=0.9364 Test Accuracy=0.9300 Train Log Loss=0.1675 Test Log Loss=0.2463\n",
      "----------------------------------------------------------------------------------------------------\n",
      "n_neighbors=19: Train Accuracy=0.9380 Test Accuracy=0.9300 Train Log Loss=0.1699 Test Log Loss=0.2484\n",
      "----------------------------------------------------------------------------------------------------\n",
      "n_neighbors=20: Train Accuracy=0.9353 Test Accuracy=0.9320 Train Log Loss=0.1712 Test Log Loss=0.2498\n"
     ]
    }
   ],
   "source": [
    "# k-folds Stratified Cross Validation to find the number of neighbors fot the best KNN model\n",
    "\n",
    "results_cv = evaluate_knn_neighbors(df_standard_transformed, target='Fruit', min_neighbors=1, max_neighbors=20, cv=10)"
   ]
  },
  {
   "cell_type": "code",
   "execution_count": 29,
   "metadata": {},
   "outputs": [
    {
     "name": "stderr",
     "output_type": "stream",
     "text": [
      "/var/folders/8d/09j2zdrx7klfl7nffqz630000000gn/T/ipykernel_11298/3897466515.py:4: UserWarning:\n",
      "\n",
      "FigureCanvasAgg is non-interactive, and thus cannot be shown\n",
      "\n"
     ]
    },
    {
     "data": {
      "image/png": "[encoded data removed]",
      "text/plain": [
       "<Figure size 1400x600 with 2 Axes>"
      ]
     },
     "metadata": {},
     "output_type": "display_data"
    }
   ],
   "source": [
    "# Visualize Cross-Validation Results\n",
    "\n",
    "fig, ax1, ax2 = plot_cv_results(results_cv)\n",
    "fig.show()"
   ]
  },
  {
   "cell_type": "code",
   "execution_count": 6,
   "metadata": {},
   "outputs": [
    {
     "name": "stdout",
     "output_type": "stream",
     "text": [
      "========================================\n",
      "Training KNN in Fold 1...\n",
      "Training KNN in Fold 2...\n",
      "Training KNN in Fold 3...\n",
      "Training KNN in Fold 4...\n",
      "Training KNN in Fold 5...\n",
      "Training KNN in Fold 6...\n",
      "Training KNN in Fold 7...\n",
      "Training KNN in Fold 8...\n",
      "Training KNN in Fold 9...\n",
      "Training KNN in Fold 10...\n",
      "========================================\n"
     ]
    }
   ],
   "source": [
    "# Cross Validation using the number of neighbors according to the best KNN model to evaluate statically robustness of the model\n",
    "\n",
    "results_cv_knn = cross_validation_model(df_standard_transformed, target='Fruit', n_neighbors=6, cv=10)"
   ]
  },
  {
   "cell_type": "code",
   "execution_count": 8,
   "metadata": {},
   "outputs": [
    {
     "data": {
      "application/vnd.plotly.v1+json": {
       "config": {
        "plotlyServerURL": "https://plot.ly"
       },
       "data": [
        {
         "line": {
          "color": "blue"
         },
         "marker": {
          "size": 10
         },
         "mode": "lines+markers",
         "name": "Train Loss",
         "type": "scatter",
         "x": [
          1,
          2,
          3,
          4,
          5,
          6,
          7,
          8,
          9,
          10
         ],
         "y": [
          0.11130110447843496,
          0.13180543343297793,
          0.128802580482125,
          0.13502950650466117,
          0.12426552232357085,
          0.1282012991386831,
          0.11723507076903884,
          0.13087679425940743,
          0.12889329602550337,
          0.12326587446323084
         ]
        },
        {
         "line": {
          "color": "green"
         },
         "marker": {
          "size": 10
         },
         "mode": "lines+markers",
         "name": "Test Loss",
         "type": "scatter",
         "x": [
          1,
          2,
          3,
          4,
          5,
          6,
          7,
          8,
          9,
          10
         ],
         "y": [
          1.5868745643256241,
          0.8078519520272991,
          0.08496533288988734,
          0.1097675699087235,
          0.2175215884623779,
          0.8628293959397486,
          0.1851780387718124,
          0.122339743097171,
          0.11715409113856934,
          0.204226634341613
         ]
        }
       ],
       "layout": {
        "legend": {
         "title": {
          "text": "Metric"
         }
        },
        "template": {
         "data": {
          "bar": [
           {
            "error_x": {
             "color": "#2a3f5f"
            },
            "error_y": {
             "color": "#2a3f5f"
            },
            "marker": {
             "line": {
              "color": "white",
              "width": 0.5
             },
             "pattern": {
              "fillmode": "overlay",
              "size": 10,
              "solidity": 0.2
             }
            },
            "type": "bar"
           }
          ],
          "barpolar": [
           {
            "marker": {
             "line": {
              "color": "white",
              "width": 0.5
             },
             "pattern": {
              "fillmode": "overlay",
              "size": 10,
              "solidity": 0.2
             }
            },
            "type": "barpolar"
           }
          ],
          "carpet": [
           {
            "aaxis": {
             "endlinecolor": "#2a3f5f",
             "gridcolor": "#C8D4E3",
             "linecolor": "#C8D4E3",
             "minorgridcolor": "#C8D4E3",
             "startlinecolor": "#2a3f5f"
            },
            "baxis": {
             "endlinecolor": "#2a3f5f",
             "gridcolor": "#C8D4E3",
             "linecolor": "#C8D4E3",
             "minorgridcolor": "#C8D4E3",
             "startlinecolor": "#2a3f5f"
            },
            "type": "carpet"
           }
          ],
          "choropleth": [
           {
            "colorbar": {
             "outlinewidth": 0,
             "ticks": ""
            },
            "type": "choropleth"
           }
          ],
          "contour": [
           {
            "colorbar": {
             "outlinewidth": 0,
             "ticks": ""
            },
            "colorscale": [
             [
              0,
              "#0d0887"
             ],
             [
              0.1111111111111111,
              "#46039f"
             ],
             [
              0.2222222222222222,
              "#7201a8"
             ],
             [
              0.3333333333333333,
              "#9c179e"
             ],
             [
              0.4444444444444444,
              "#bd3786"
             ],
             [
              0.5555555555555556,
              "#d8576b"
             ],
             [
              0.6666666666666666,
              "#ed7953"
             ],
             [
              0.7777777777777778,
              "#fb9f3a"
             ],
             [
              0.8888888888888888,
              "#fdca26"
             ],
             [
              1,
              "#f0f921"
             ]
            ],
            "type": "contour"
           }
          ],
          "contourcarpet": [
           {
            "colorbar": {
             "outlinewidth": 0,
             "ticks": ""
            },
            "type": "contourcarpet"
           }
          ],
          "heatmap": [
           {
            "colorbar": {
             "outlinewidth": 0,
             "ticks": ""
            },
            "colorscale": [
             [
              0,
              "#0d0887"
             ],
             [
              0.1111111111111111,
              "#46039f"
             ],
             [
              0.2222222222222222,
              "#7201a8"
             ],
             [
              0.3333333333333333,
              "#9c179e"
             ],
             [
              0.4444444444444444,
              "#bd3786"
             ],
             [
              0.5555555555555556,
              "#d8576b"
             ],
             [
              0.6666666666666666,
              "#ed7953"
             ],
             [
              0.7777777777777778,
              "#fb9f3a"
             ],
             [
              0.8888888888888888,
              "#fdca26"
             ],
             [
              1,
              "#f0f921"
             ]
            ],
            "type": "heatmap"
           }
          ],
          "heatmapgl": [
           {
            "colorbar": {
             "outlinewidth": 0,
             "ticks": ""
            },
            "colorscale": [
             [
              0,
              "#0d0887"
             ],
             [
              0.1111111111111111,
              "#46039f"
             ],
             [
              0.2222222222222222,
              "#7201a8"
             ],
             [
              0.3333333333333333,
              "#9c179e"
             ],
             [
              0.4444444444444444,
              "#bd3786"
             ],
             [
              0.5555555555555556,
              "#d8576b"
             ],
             [
              0.6666666666666666,
              "#ed7953"
             ],
             [
              0.7777777777777778,
              "#fb9f3a"
             ],
             [
              0.8888888888888888,
              "#fdca26"
             ],
             [
              1,
              "#f0f921"
             ]
            ],
            "type": "heatmapgl"
           }
          ],
          "histogram": [
           {
            "marker": {
             "pattern": {
              "fillmode": "overlay",
              "size": 10,
              "solidity": 0.2
             }
            },
            "type": "histogram"
           }
          ],
          "histogram2d": [
           {
            "colorbar": {
             "outlinewidth": 0,
             "ticks": ""
            },
            "colorscale": [
             [
              0,
              "#0d0887"
             ],
             [
              0.1111111111111111,
              "#46039f"
             ],
             [
              0.2222222222222222,
              "#7201a8"
             ],
             [
              0.3333333333333333,
              "#9c179e"
             ],
             [
              0.4444444444444444,
              "#bd3786"
             ],
             [
              0.5555555555555556,
              "#d8576b"
             ],
             [
              0.6666666666666666,
              "#ed7953"
             ],
             [
              0.7777777777777778,
              "#fb9f3a"
             ],
             [
              0.8888888888888888,
              "#fdca26"
             ],
             [
              1,
              "#f0f921"
             ]
            ],
            "type": "histogram2d"
           }
          ],
          "histogram2dcontour": [
           {
            "colorbar": {
             "outlinewidth": 0,
             "ticks": ""
            },
            "colorscale": [
             [
              0,
              "#0d0887"
             ],
             [
              0.1111111111111111,
              "#46039f"
             ],
             [
              0.2222222222222222,
              "#7201a8"
             ],
             [
              0.3333333333333333,
              "#9c179e"
             ],
             [
              0.4444444444444444,
              "#bd3786"
             ],
             [
              0.5555555555555556,
              "#d8576b"
             ],
             [
              0.6666666666666666,
              "#ed7953"
             ],
             [
              0.7777777777777778,
              "#fb9f3a"
             ],
             [
              0.8888888888888888,
              "#fdca26"
             ],
             [
              1,
              "#f0f921"
             ]
            ],
            "type": "histogram2dcontour"
           }
          ],
          "mesh3d": [
           {
            "colorbar": {
             "outlinewidth": 0,
             "ticks": ""
            },
            "type": "mesh3d"
           }
          ],
          "parcoords": [
           {
            "line": {
             "colorbar": {
              "outlinewidth": 0,
              "ticks": ""
             }
            },
            "type": "parcoords"
           }
          ],
          "pie": [
           {
            "automargin": true,
            "type": "pie"
           }
          ],
          "scatter": [
           {
            "fillpattern": {
             "fillmode": "overlay",
             "size": 10,
             "solidity": 0.2
            },
            "type": "scatter"
           }
          ],
          "scatter3d": [
           {
            "line": {
             "colorbar": {
              "outlinewidth": 0,
              "ticks": ""
             }
            },
            "marker": {
             "colorbar": {
              "outlinewidth": 0,
              "ticks": ""
             }
            },
            "type": "scatter3d"
           }
          ],
          "scattercarpet": [
           {
            "marker": {
             "colorbar": {
              "outlinewidth": 0,
              "ticks": ""
             }
            },
            "type": "scattercarpet"
           }
          ],
          "scattergeo": [
           {
            "marker": {
             "colorbar": {
              "outlinewidth": 0,
              "ticks": ""
             }
            },
            "type": "scattergeo"
           }
          ],
          "scattergl": [
           {
            "marker": {
             "colorbar": {
              "outlinewidth": 0,
              "ticks": ""
             }
            },
            "type": "scattergl"
           }
          ],
          "scattermapbox": [
           {
            "marker": {
             "colorbar": {
              "outlinewidth": 0,
              "ticks": ""
             }
            },
            "type": "scattermapbox"
           }
          ],
          "scatterpolar": [
           {
            "marker": {
             "colorbar": {
              "outlinewidth": 0,
              "ticks": ""
             }
            },
            "type": "scatterpolar"
           }
          ],
          "scatterpolargl": [
           {
            "marker": {
             "colorbar": {
              "outlinewidth": 0,
              "ticks": ""
             }
            },
            "type": "scatterpolargl"
           }
          ],
          "scatterternary": [
           {
            "marker": {
             "colorbar": {
              "outlinewidth": 0,
              "ticks": ""
             }
            },
            "type": "scatterternary"
           }
          ],
          "surface": [
           {
            "colorbar": {
             "outlinewidth": 0,
             "ticks": ""
            },
            "colorscale": [
             [
              0,
              "#0d0887"
             ],
             [
              0.1111111111111111,
              "#46039f"
             ],
             [
              0.2222222222222222,
              "#7201a8"
             ],
             [
              0.3333333333333333,
              "#9c179e"
             ],
             [
              0.4444444444444444,
              "#bd3786"
             ],
             [
              0.5555555555555556,
              "#d8576b"
             ],
             [
              0.6666666666666666,
              "#ed7953"
             ],
             [
              0.7777777777777778,
              "#fb9f3a"
             ],
             [
              0.8888888888888888,
              "#fdca26"
             ],
             [
              1,
              "#f0f921"
             ]
            ],
            "type": "surface"
           }
          ],
          "table": [
           {
            "cells": {
             "fill": {
              "color": "#EBF0F8"
             },
             "line": {
              "color": "white"
             }
            },
            "header": {
             "fill": {
              "color": "#C8D4E3"
             },
             "line": {
              "color": "white"
             }
            },
            "type": "table"
           }
          ]
         },
         "layout": {
          "annotationdefaults": {
           "arrowcolor": "#2a3f5f",
           "arrowhead": 0,
           "arrowwidth": 1
          },
          "autotypenumbers": "strict",
          "coloraxis": {
           "colorbar": {
            "outlinewidth": 0,
            "ticks": ""
           }
          },
          "colorscale": {
           "diverging": [
            [
             0,
             "#8e0152"
            ],
            [
             0.1,
             "#c51b7d"
            ],
            [
             0.2,
             "#de77ae"
            ],
            [
             0.3,
             "#f1b6da"
            ],
            [
             0.4,
             "#fde0ef"
            ],
            [
             0.5,
             "#f7f7f7"
            ],
            [
             0.6,
             "#e6f5d0"
            ],
            [
             0.7,
             "#b8e186"
            ],
            [
             0.8,
             "#7fbc41"
            ],
            [
             0.9,
             "#4d9221"
            ],
            [
             1,
             "#276419"
            ]
           ],
           "sequential": [
            [
             0,
             "#0d0887"
            ],
            [
             0.1111111111111111,
             "#46039f"
            ],
            [
             0.2222222222222222,
             "#7201a8"
            ],
            [
             0.3333333333333333,
             "#9c179e"
            ],
            [
             0.4444444444444444,
             "#bd3786"
            ],
            [
             0.5555555555555556,
             "#d8576b"
            ],
            [
             0.6666666666666666,
             "#ed7953"
            ],
            [
             0.7777777777777778,
             "#fb9f3a"
            ],
            [
             0.8888888888888888,
             "#fdca26"
            ],
            [
             1,
             "#f0f921"
            ]
           ],
           "sequentialminus": [
            [
             0,
             "#0d0887"
            ],
            [
             0.1111111111111111,
             "#46039f"
            ],
            [
             0.2222222222222222,
             "#7201a8"
            ],
            [
             0.3333333333333333,
             "#9c179e"
            ],
            [
             0.4444444444444444,
             "#bd3786"
            ],
            [
             0.5555555555555556,
             "#d8576b"
            ],
            [
             0.6666666666666666,
             "#ed7953"
            ],
            [
             0.7777777777777778,
             "#fb9f3a"
            ],
            [
             0.8888888888888888,
             "#fdca26"
            ],
            [
             1,
             "#f0f921"
            ]
           ]
          },
          "colorway": [
           "#636efa",
           "#EF553B",
           "#00cc96",
           "#ab63fa",
           "#FFA15A",
           "#19d3f3",
           "#FF6692",
           "#B6E880",
           "#FF97FF",
           "#FECB52"
          ],
          "font": {
           "color": "#2a3f5f"
          },
          "geo": {
           "bgcolor": "white",
           "lakecolor": "white",
           "landcolor": "white",
           "showlakes": true,
           "showland": true,
           "subunitcolor": "#C8D4E3"
          },
          "hoverlabel": {
           "align": "left"
          },
          "hovermode": "closest",
          "mapbox": {
           "style": "light"
          },
          "paper_bgcolor": "white",
          "plot_bgcolor": "white",
          "polar": {
           "angularaxis": {
            "gridcolor": "#EBF0F8",
            "linecolor": "#EBF0F8",
            "ticks": ""
           },
           "bgcolor": "white",
           "radialaxis": {
            "gridcolor": "#EBF0F8",
            "linecolor": "#EBF0F8",
            "ticks": ""
           }
          },
          "scene": {
           "xaxis": {
            "backgroundcolor": "white",
            "gridcolor": "#DFE8F3",
            "gridwidth": 2,
            "linecolor": "#EBF0F8",
            "showbackground": true,
            "ticks": "",
            "zerolinecolor": "#EBF0F8"
           },
           "yaxis": {
            "backgroundcolor": "white",
            "gridcolor": "#DFE8F3",
            "gridwidth": 2,
            "linecolor": "#EBF0F8",
            "showbackground": true,
            "ticks": "",
            "zerolinecolor": "#EBF0F8"
           },
           "zaxis": {
            "backgroundcolor": "white",
            "gridcolor": "#DFE8F3",
            "gridwidth": 2,
            "linecolor": "#EBF0F8",
            "showbackground": true,
            "ticks": "",
            "zerolinecolor": "#EBF0F8"
           }
          },
          "shapedefaults": {
           "line": {
            "color": "#2a3f5f"
           }
          },
          "ternary": {
           "aaxis": {
            "gridcolor": "#DFE8F3",
            "linecolor": "#A2B1C6",
            "ticks": ""
           },
           "baxis": {
            "gridcolor": "#DFE8F3",
            "linecolor": "#A2B1C6",
            "ticks": ""
           },
           "bgcolor": "white",
           "caxis": {
            "gridcolor": "#DFE8F3",
            "linecolor": "#A2B1C6",
            "ticks": ""
           }
          },
          "title": {
           "x": 0.05
          },
          "xaxis": {
           "automargin": true,
           "gridcolor": "#EBF0F8",
           "linecolor": "#EBF0F8",
           "ticks": "",
           "title": {
            "standoff": 15
           },
           "zerolinecolor": "#EBF0F8",
           "zerolinewidth": 2
          },
          "yaxis": {
           "automargin": true,
           "gridcolor": "#EBF0F8",
           "linecolor": "#EBF0F8",
           "ticks": "",
           "title": {
            "standoff": 15
           },
           "zerolinecolor": "#EBF0F8",
           "zerolinewidth": 2
          }
         }
        },
        "title": {
         "text": "Loss over folds"
        },
        "xaxis": {
         "title": {
          "text": "Fold"
         }
        },
        "yaxis": {
         "title": {
          "text": "Score"
         }
        }
       }
      }
     },
     "metadata": {},
     "output_type": "display_data"
    }
   ],
   "source": [
    "# Visualize Cross-Validation results: Scatter Plot for a choosen metric over the folds\n",
    "# metrics names = accuracy, precision, recall, f1, loss\n",
    "\n",
    "fig = plot_line_accuracy_log_loss(results_cv_knn, metric='loss')\n",
    "fig.show()"
   ]
  },
  {
   "cell_type": "code",
   "execution_count": 9,
   "metadata": {},
   "outputs": [
    {
     "data": {
      "application/vnd.plotly.v1+json": {
       "config": {
        "plotlyServerURL": "https://plot.ly"
       },
       "data": [
        {
         "line": {
          "color": "blue"
         },
         "marker": {
          "size": 10
         },
         "mode": "lines+markers",
         "name": "Train Accuracy",
         "type": "scatter",
         "x": [
          1,
          2,
          3,
          4,
          5,
          6,
          7,
          8,
          9,
          10
         ],
         "y": [
          0.9555555555555556,
          0.9488888888888889,
          0.9466666666666667,
          0.9444444444444444,
          0.9533333333333334,
          0.9533333333333334,
          0.9555555555555556,
          0.9533333333333334,
          0.9533333333333334,
          0.9577777777777777
         ]
        },
        {
         "line": {
          "color": "green"
         },
         "marker": {
          "size": 10
         },
         "mode": "lines+markers",
         "name": "Test Accuracy",
         "type": "scatter",
         "x": [
          1,
          2,
          3,
          4,
          5,
          6,
          7,
          8,
          9,
          10
         ],
         "y": [
          0.92,
          0.94,
          0.98,
          0.96,
          0.9,
          0.94,
          0.92,
          0.96,
          0.96,
          0.9
         ]
        }
       ],
       "layout": {
        "legend": {
         "title": {
          "text": "Metric"
         }
        },
        "template": {
         "data": {
          "bar": [
           {
            "error_x": {
             "color": "#2a3f5f"
            },
            "error_y": {
             "color": "#2a3f5f"
            },
            "marker": {
             "line": {
              "color": "white",
              "width": 0.5
             },
             "pattern": {
              "fillmode": "overlay",
              "size": 10,
              "solidity": 0.2
             }
            },
            "type": "bar"
           }
          ],
          "barpolar": [
           {
            "marker": {
             "line": {
              "color": "white",
              "width": 0.5
             },
             "pattern": {
              "fillmode": "overlay",
              "size": 10,
              "solidity": 0.2
             }
            },
            "type": "barpolar"
           }
          ],
          "carpet": [
           {
            "aaxis": {
             "endlinecolor": "#2a3f5f",
             "gridcolor": "#C8D4E3",
             "linecolor": "#C8D4E3",
             "minorgridcolor": "#C8D4E3",
             "startlinecolor": "#2a3f5f"
            },
            "baxis": {
             "endlinecolor": "#2a3f5f",
             "gridcolor": "#C8D4E3",
             "linecolor": "#C8D4E3",
             "minorgridcolor": "#C8D4E3",
             "startlinecolor": "#2a3f5f"
            },
            "type": "carpet"
           }
          ],
          "choropleth": [
           {
            "colorbar": {
             "outlinewidth": 0,
             "ticks": ""
            },
            "type": "choropleth"
           }
          ],
          "contour": [
           {
            "colorbar": {
             "outlinewidth": 0,
             "ticks": ""
            },
            "colorscale": [
             [
              0,
              "#0d0887"
             ],
             [
              0.1111111111111111,
              "#46039f"
             ],
             [
              0.2222222222222222,
              "#7201a8"
             ],
             [
              0.3333333333333333,
              "#9c179e"
             ],
             [
              0.4444444444444444,
              "#bd3786"
             ],
             [
              0.5555555555555556,
              "#d8576b"
             ],
             [
              0.6666666666666666,
              "#ed7953"
             ],
             [
              0.7777777777777778,
              "#fb9f3a"
             ],
             [
              0.8888888888888888,
              "#fdca26"
             ],
             [
              1,
              "#f0f921"
             ]
            ],
            "type": "contour"
           }
          ],
          "contourcarpet": [
           {
            "colorbar": {
             "outlinewidth": 0,
             "ticks": ""
            },
            "type": "contourcarpet"
           }
          ],
          "heatmap": [
           {
            "colorbar": {
             "outlinewidth": 0,
             "ticks": ""
            },
            "colorscale": [
             [
              0,
              "#0d0887"
             ],
             [
              0.1111111111111111,
              "#46039f"
             ],
             [
              0.2222222222222222,
              "#7201a8"
             ],
             [
              0.3333333333333333,
              "#9c179e"
             ],
             [
              0.4444444444444444,
              "#bd3786"
             ],
             [
              0.5555555555555556,
              "#d8576b"
             ],
             [
              0.6666666666666666,
              "#ed7953"
             ],
             [
              0.7777777777777778,
              "#fb9f3a"
             ],
             [
              0.8888888888888888,
              "#fdca26"
             ],
             [
              1,
              "#f0f921"
             ]
            ],
            "type": "heatmap"
           }
          ],
          "heatmapgl": [
           {
            "colorbar": {
             "outlinewidth": 0,
             "ticks": ""
            },
            "colorscale": [
             [
              0,
              "#0d0887"
             ],
             [
              0.1111111111111111,
              "#46039f"
             ],
             [
              0.2222222222222222,
              "#7201a8"
             ],
             [
              0.3333333333333333,
              "#9c179e"
             ],
             [
              0.4444444444444444,
              "#bd3786"
             ],
             [
              0.5555555555555556,
              "#d8576b"
             ],
             [
              0.6666666666666666,
              "#ed7953"
             ],
             [
              0.7777777777777778,
              "#fb9f3a"
             ],
             [
              0.8888888888888888,
              "#fdca26"
             ],
             [
              1,
              "#f0f921"
             ]
            ],
            "type": "heatmapgl"
           }
          ],
          "histogram": [
           {
            "marker": {
             "pattern": {
              "fillmode": "overlay",
              "size": 10,
              "solidity": 0.2
             }
            },
            "type": "histogram"
           }
          ],
          "histogram2d": [
           {
            "colorbar": {
             "outlinewidth": 0,
             "ticks": ""
            },
            "colorscale": [
             [
              0,
              "#0d0887"
             ],
             [
              0.1111111111111111,
              "#46039f"
             ],
             [
              0.2222222222222222,
              "#7201a8"
             ],
             [
              0.3333333333333333,
              "#9c179e"
             ],
             [
              0.4444444444444444,
              "#bd3786"
             ],
             [
              0.5555555555555556,
              "#d8576b"
             ],
             [
              0.6666666666666666,
              "#ed7953"
             ],
             [
              0.7777777777777778,
              "#fb9f3a"
             ],
             [
              0.8888888888888888,
              "#fdca26"
             ],
             [
              1,
              "#f0f921"
             ]
            ],
            "type": "histogram2d"
           }
          ],
          "histogram2dcontour": [
           {
            "colorbar": {
             "outlinewidth": 0,
             "ticks": ""
            },
            "colorscale": [
             [
              0,
              "#0d0887"
             ],
             [
              0.1111111111111111,
              "#46039f"
             ],
             [
              0.2222222222222222,
              "#7201a8"
             ],
             [
              0.3333333333333333,
              "#9c179e"
             ],
             [
              0.4444444444444444,
              "#bd3786"
             ],
             [
              0.5555555555555556,
              "#d8576b"
             ],
             [
              0.6666666666666666,
              "#ed7953"
             ],
             [
              0.7777777777777778,
              "#fb9f3a"
             ],
             [
              0.8888888888888888,
              "#fdca26"
             ],
             [
              1,
              "#f0f921"
             ]
            ],
            "type": "histogram2dcontour"
           }
          ],
          "mesh3d": [
           {
            "colorbar": {
             "outlinewidth": 0,
             "ticks": ""
            },
            "type": "mesh3d"
           }
          ],
          "parcoords": [
           {
            "line": {
             "colorbar": {
              "outlinewidth": 0,
              "ticks": ""
             }
            },
            "type": "parcoords"
           }
          ],
          "pie": [
           {
            "automargin": true,
            "type": "pie"
           }
          ],
          "scatter": [
           {
            "fillpattern": {
             "fillmode": "overlay",
             "size": 10,
             "solidity": 0.2
            },
            "type": "scatter"
           }
          ],
          "scatter3d": [
           {
            "line": {
             "colorbar": {
              "outlinewidth": 0,
              "ticks": ""
             }
            },
            "marker": {
             "colorbar": {
              "outlinewidth": 0,
              "ticks": ""
             }
            },
            "type": "scatter3d"
           }
          ],
          "scattercarpet": [
           {
            "marker": {
             "colorbar": {
              "outlinewidth": 0,
              "ticks": ""
             }
            },
            "type": "scattercarpet"
           }
          ],
          "scattergeo": [
           {
            "marker": {
             "colorbar": {
              "outlinewidth": 0,
              "ticks": ""
             }
            },
            "type": "scattergeo"
           }
          ],
          "scattergl": [
           {
            "marker": {
             "colorbar": {
              "outlinewidth": 0,
              "ticks": ""
             }
            },
            "type": "scattergl"
           }
          ],
          "scattermapbox": [
           {
            "marker": {
             "colorbar": {
              "outlinewidth": 0,
              "ticks": ""
             }
            },
            "type": "scattermapbox"
           }
          ],
          "scatterpolar": [
           {
            "marker": {
             "colorbar": {
              "outlinewidth": 0,
              "ticks": ""
             }
            },
            "type": "scatterpolar"
           }
          ],
          "scatterpolargl": [
           {
            "marker": {
             "colorbar": {
              "outlinewidth": 0,
              "ticks": ""
             }
            },
            "type": "scatterpolargl"
           }
          ],
          "scatterternary": [
           {
            "marker": {
             "colorbar": {
              "outlinewidth": 0,
              "ticks": ""
             }
            },
            "type": "scatterternary"
           }
          ],
          "surface": [
           {
            "colorbar": {
             "outlinewidth": 0,
             "ticks": ""
            },
            "colorscale": [
             [
              0,
              "#0d0887"
             ],
             [
              0.1111111111111111,
              "#46039f"
             ],
             [
              0.2222222222222222,
              "#7201a8"
             ],
             [
              0.3333333333333333,
              "#9c179e"
             ],
             [
              0.4444444444444444,
              "#bd3786"
             ],
             [
              0.5555555555555556,
              "#d8576b"
             ],
             [
              0.6666666666666666,
              "#ed7953"
             ],
             [
              0.7777777777777778,
              "#fb9f3a"
             ],
             [
              0.8888888888888888,
              "#fdca26"
             ],
             [
              1,
              "#f0f921"
             ]
            ],
            "type": "surface"
           }
          ],
          "table": [
           {
            "cells": {
             "fill": {
              "color": "#EBF0F8"
             },
             "line": {
              "color": "white"
             }
            },
            "header": {
             "fill": {
              "color": "#C8D4E3"
             },
             "line": {
              "color": "white"
             }
            },
            "type": "table"
           }
          ]
         },
         "layout": {
          "annotationdefaults": {
           "arrowcolor": "#2a3f5f",
           "arrowhead": 0,
           "arrowwidth": 1
          },
          "autotypenumbers": "strict",
          "coloraxis": {
           "colorbar": {
            "outlinewidth": 0,
            "ticks": ""
           }
          },
          "colorscale": {
           "diverging": [
            [
             0,
             "#8e0152"
            ],
            [
             0.1,
             "#c51b7d"
            ],
            [
             0.2,
             "#de77ae"
            ],
            [
             0.3,
             "#f1b6da"
            ],
            [
             0.4,
             "#fde0ef"
            ],
            [
             0.5,
             "#f7f7f7"
            ],
            [
             0.6,
             "#e6f5d0"
            ],
            [
             0.7,
             "#b8e186"
            ],
            [
             0.8,
             "#7fbc41"
            ],
            [
             0.9,
             "#4d9221"
            ],
            [
             1,
             "#276419"
            ]
           ],
           "sequential": [
            [
             0,
             "#0d0887"
            ],
            [
             0.1111111111111111,
             "#46039f"
            ],
            [
             0.2222222222222222,
             "#7201a8"
            ],
            [
             0.3333333333333333,
             "#9c179e"
            ],
            [
             0.4444444444444444,
             "#bd3786"
            ],
            [
             0.5555555555555556,
             "#d8576b"
            ],
            [
             0.6666666666666666,
             "#ed7953"
            ],
            [
             0.7777777777777778,
             "#fb9f3a"
            ],
            [
             0.8888888888888888,
             "#fdca26"
            ],
            [
             1,
             "#f0f921"
            ]
           ],
           "sequentialminus": [
            [
             0,
             "#0d0887"
            ],
            [
             0.1111111111111111,
             "#46039f"
            ],
            [
             0.2222222222222222,
             "#7201a8"
            ],
            [
             0.3333333333333333,
             "#9c179e"
            ],
            [
             0.4444444444444444,
             "#bd3786"
            ],
            [
             0.5555555555555556,
             "#d8576b"
            ],
            [
             0.6666666666666666,
             "#ed7953"
            ],
            [
             0.7777777777777778,
             "#fb9f3a"
            ],
            [
             0.8888888888888888,
             "#fdca26"
            ],
            [
             1,
             "#f0f921"
            ]
           ]
          },
          "colorway": [
           "#636efa",
           "#EF553B",
           "#00cc96",
           "#ab63fa",
           "#FFA15A",
           "#19d3f3",
           "#FF6692",
           "#B6E880",
           "#FF97FF",
           "#FECB52"
          ],
          "font": {
           "color": "#2a3f5f"
          },
          "geo": {
           "bgcolor": "white",
           "lakecolor": "white",
           "landcolor": "white",
           "showlakes": true,
           "showland": true,
           "subunitcolor": "#C8D4E3"
          },
          "hoverlabel": {
           "align": "left"
          },
          "hovermode": "closest",
          "mapbox": {
           "style": "light"
          },
          "paper_bgcolor": "white",
          "plot_bgcolor": "white",
          "polar": {
           "angularaxis": {
            "gridcolor": "#EBF0F8",
            "linecolor": "#EBF0F8",
            "ticks": ""
           },
           "bgcolor": "white",
           "radialaxis": {
            "gridcolor": "#EBF0F8",
            "linecolor": "#EBF0F8",
            "ticks": ""
           }
          },
          "scene": {
           "xaxis": {
            "backgroundcolor": "white",
            "gridcolor": "#DFE8F3",
            "gridwidth": 2,
            "linecolor": "#EBF0F8",
            "showbackground": true,
            "ticks": "",
            "zerolinecolor": "#EBF0F8"
           },
           "yaxis": {
            "backgroundcolor": "white",
            "gridcolor": "#DFE8F3",
            "gridwidth": 2,
            "linecolor": "#EBF0F8",
            "showbackground": true,
            "ticks": "",
            "zerolinecolor": "#EBF0F8"
           },
           "zaxis": {
            "backgroundcolor": "white",
            "gridcolor": "#DFE8F3",
            "gridwidth": 2,
            "linecolor": "#EBF0F8",
            "showbackground": true,
            "ticks": "",
            "zerolinecolor": "#EBF0F8"
           }
          },
          "shapedefaults": {
           "line": {
            "color": "#2a3f5f"
           }
          },
          "ternary": {
           "aaxis": {
            "gridcolor": "#DFE8F3",
            "linecolor": "#A2B1C6",
            "ticks": ""
           },
           "baxis": {
            "gridcolor": "#DFE8F3",
            "linecolor": "#A2B1C6",
            "ticks": ""
           },
           "bgcolor": "white",
           "caxis": {
            "gridcolor": "#DFE8F3",
            "linecolor": "#A2B1C6",
            "ticks": ""
           }
          },
          "title": {
           "x": 0.05
          },
          "xaxis": {
           "automargin": true,
           "gridcolor": "#EBF0F8",
           "linecolor": "#EBF0F8",
           "ticks": "",
           "title": {
            "standoff": 15
           },
           "zerolinecolor": "#EBF0F8",
           "zerolinewidth": 2
          },
          "yaxis": {
           "automargin": true,
           "gridcolor": "#EBF0F8",
           "linecolor": "#EBF0F8",
           "ticks": "",
           "title": {
            "standoff": 15
           },
           "zerolinecolor": "#EBF0F8",
           "zerolinewidth": 2
          }
         }
        },
        "title": {
         "text": "Accuracy over folds"
        },
        "xaxis": {
         "title": {
          "text": "Fold"
         }
        },
        "yaxis": {
         "title": {
          "text": "Score"
         }
        }
       }
      }
     },
     "metadata": {},
     "output_type": "display_data"
    }
   ],
   "source": [
    "# Visualize Cross-Validation results: Scatter Plot for a choosen metric over the folds\n",
    "# metrics names = accuracy, precision, recall, f1, loss\n",
    "\n",
    "fig = plot_line_accuracy_log_loss(results_cv_knn, metric='accuracy')\n",
    "fig.show()"
   ]
  },
  {
   "cell_type": "code",
   "execution_count": 7,
   "metadata": {},
   "outputs": [
    {
     "data": {
      "application/vnd.plotly.v1+json": {
       "config": {
        "plotlyServerURL": "https://plot.ly"
       },
       "data": [
        {
         "error_y": {
          "array": [
           0.004222871944811633,
           0.004432082344790767,
           0.004222871944811633,
           0.004215085828290025
          ],
          "type": "data",
          "visible": true
         },
         "marker": {
          "color": "lightblue"
         },
         "name": "Train",
         "type": "bar",
         "x": [
          "Accuracy",
          "Precision",
          "Recall",
          "F1 Score"
         ],
         "y": [
          0.9522222222222222,
          0.9541553111275063,
          0.9522222222222222,
          0.9514243406654239
         ]
        },
        {
         "error_y": {
          "array": [
           0.02740640638812593,
           0.02705726105240716,
           0.02740640638812593,
           0.02855717598570895
          ],
          "type": "data",
          "visible": true
         },
         "marker": {
          "color": "salmon"
         },
         "name": "Test",
         "type": "bar",
         "x": [
          "Accuracy",
          "Precision",
          "Recall",
          "F1 Score"
         ],
         "y": [
          0.9380000000000001,
          0.9438724608724609,
          0.9380000000000001,
          0.936915142230528
         ]
        }
       ],
       "layout": {
        "barmode": "group",
        "legend": {
         "title": {
          "text": "Dataset"
         }
        },
        "template": {
         "data": {
          "bar": [
           {
            "error_x": {
             "color": "#2a3f5f"
            },
            "error_y": {
             "color": "#2a3f5f"
            },
            "marker": {
             "line": {
              "color": "white",
              "width": 0.5
             },
             "pattern": {
              "fillmode": "overlay",
              "size": 10,
              "solidity": 0.2
             }
            },
            "type": "bar"
           }
          ],
          "barpolar": [
           {
            "marker": {
             "line": {
              "color": "white",
              "width": 0.5
             },
             "pattern": {
              "fillmode": "overlay",
              "size": 10,
              "solidity": 0.2
             }
            },
            "type": "barpolar"
           }
          ],
          "carpet": [
           {
            "aaxis": {
             "endlinecolor": "#2a3f5f",
             "gridcolor": "#C8D4E3",
             "linecolor": "#C8D4E3",
             "minorgridcolor": "#C8D4E3",
             "startlinecolor": "#2a3f5f"
            },
            "baxis": {
             "endlinecolor": "#2a3f5f",
             "gridcolor": "#C8D4E3",
             "linecolor": "#C8D4E3",
             "minorgridcolor": "#C8D4E3",
             "startlinecolor": "#2a3f5f"
            },
            "type": "carpet"
           }
          ],
          "choropleth": [
           {
            "colorbar": {
             "outlinewidth": 0,
             "ticks": ""
            },
            "type": "choropleth"
           }
          ],
          "contour": [
           {
            "colorbar": {
             "outlinewidth": 0,
             "ticks": ""
            },
            "colorscale": [
             [
              0,
              "#0d0887"
             ],
             [
              0.1111111111111111,
              "#46039f"
             ],
             [
              0.2222222222222222,
              "#7201a8"
             ],
             [
              0.3333333333333333,
              "#9c179e"
             ],
             [
              0.4444444444444444,
              "#bd3786"
             ],
             [
              0.5555555555555556,
              "#d8576b"
             ],
             [
              0.6666666666666666,
              "#ed7953"
             ],
             [
              0.7777777777777778,
              "#fb9f3a"
             ],
             [
              0.8888888888888888,
              "#fdca26"
             ],
             [
              1,
              "#f0f921"
             ]
            ],
            "type": "contour"
           }
          ],
          "contourcarpet": [
           {
            "colorbar": {
             "outlinewidth": 0,
             "ticks": ""
            },
            "type": "contourcarpet"
           }
          ],
          "heatmap": [
           {
            "colorbar": {
             "outlinewidth": 0,
             "ticks": ""
            },
            "colorscale": [
             [
              0,
              "#0d0887"
             ],
             [
              0.1111111111111111,
              "#46039f"
             ],
             [
              0.2222222222222222,
              "#7201a8"
             ],
             [
              0.3333333333333333,
              "#9c179e"
             ],
             [
              0.4444444444444444,
              "#bd3786"
             ],
             [
              0.5555555555555556,
              "#d8576b"
             ],
             [
              0.6666666666666666,
              "#ed7953"
             ],
             [
              0.7777777777777778,
              "#fb9f3a"
             ],
             [
              0.8888888888888888,
              "#fdca26"
             ],
             [
              1,
              "#f0f921"
             ]
            ],
            "type": "heatmap"
           }
          ],
          "heatmapgl": [
           {
            "colorbar": {
             "outlinewidth": 0,
             "ticks": ""
            },
            "colorscale": [
             [
              0,
              "#0d0887"
             ],
             [
              0.1111111111111111,
              "#46039f"
             ],
             [
              0.2222222222222222,
              "#7201a8"
             ],
             [
              0.3333333333333333,
              "#9c179e"
             ],
             [
              0.4444444444444444,
              "#bd3786"
             ],
             [
              0.5555555555555556,
              "#d8576b"
             ],
             [
              0.6666666666666666,
              "#ed7953"
             ],
             [
              0.7777777777777778,
              "#fb9f3a"
             ],
             [
              0.8888888888888888,
              "#fdca26"
             ],
             [
              1,
              "#f0f921"
             ]
            ],
            "type": "heatmapgl"
           }
          ],
          "histogram": [
           {
            "marker": {
             "pattern": {
              "fillmode": "overlay",
              "size": 10,
              "solidity": 0.2
             }
            },
            "type": "histogram"
           }
          ],
          "histogram2d": [
           {
            "colorbar": {
             "outlinewidth": 0,
             "ticks": ""
            },
            "colorscale": [
             [
              0,
              "#0d0887"
             ],
             [
              0.1111111111111111,
              "#46039f"
             ],
             [
              0.2222222222222222,
              "#7201a8"
             ],
             [
              0.3333333333333333,
              "#9c179e"
             ],
             [
              0.4444444444444444,
              "#bd3786"
             ],
             [
              0.5555555555555556,
              "#d8576b"
             ],
             [
              0.6666666666666666,
              "#ed7953"
             ],
             [
              0.7777777777777778,
              "#fb9f3a"
             ],
             [
              0.8888888888888888,
              "#fdca26"
             ],
             [
              1,
              "#f0f921"
             ]
            ],
            "type": "histogram2d"
           }
          ],
          "histogram2dcontour": [
           {
            "colorbar": {
             "outlinewidth": 0,
             "ticks": ""
            },
            "colorscale": [
             [
              0,
              "#0d0887"
             ],
             [
              0.1111111111111111,
              "#46039f"
             ],
             [
              0.2222222222222222,
              "#7201a8"
             ],
             [
              0.3333333333333333,
              "#9c179e"
             ],
             [
              0.4444444444444444,
              "#bd3786"
             ],
             [
              0.5555555555555556,
              "#d8576b"
             ],
             [
              0.6666666666666666,
              "#ed7953"
             ],
             [
              0.7777777777777778,
              "#fb9f3a"
             ],
             [
              0.8888888888888888,
              "#fdca26"
             ],
             [
              1,
              "#f0f921"
             ]
            ],
            "type": "histogram2dcontour"
           }
          ],
          "mesh3d": [
           {
            "colorbar": {
             "outlinewidth": 0,
             "ticks": ""
            },
            "type": "mesh3d"
           }
          ],
          "parcoords": [
           {
            "line": {
             "colorbar": {
              "outlinewidth": 0,
              "ticks": ""
             }
            },
            "type": "parcoords"
           }
          ],
          "pie": [
           {
            "automargin": true,
            "type": "pie"
           }
          ],
          "scatter": [
           {
            "fillpattern": {
             "fillmode": "overlay",
             "size": 10,
             "solidity": 0.2
            },
            "type": "scatter"
           }
          ],
          "scatter3d": [
           {
            "line": {
             "colorbar": {
              "outlinewidth": 0,
              "ticks": ""
             }
            },
            "marker": {
             "colorbar": {
              "outlinewidth": 0,
              "ticks": ""
             }
            },
            "type": "scatter3d"
           }
          ],
          "scattercarpet": [
           {
            "marker": {
             "colorbar": {
              "outlinewidth": 0,
              "ticks": ""
             }
            },
            "type": "scattercarpet"
           }
          ],
          "scattergeo": [
           {
            "marker": {
             "colorbar": {
              "outlinewidth": 0,
              "ticks": ""
             }
            },
            "type": "scattergeo"
           }
          ],
          "scattergl": [
           {
            "marker": {
             "colorbar": {
              "outlinewidth": 0,
              "ticks": ""
             }
            },
            "type": "scattergl"
           }
          ],
          "scattermapbox": [
           {
            "marker": {
             "colorbar": {
              "outlinewidth": 0,
              "ticks": ""
             }
            },
            "type": "scattermapbox"
           }
          ],
          "scatterpolar": [
           {
            "marker": {
             "colorbar": {
              "outlinewidth": 0,
              "ticks": ""
             }
            },
            "type": "scatterpolar"
           }
          ],
          "scatterpolargl": [
           {
            "marker": {
             "colorbar": {
              "outlinewidth": 0,
              "ticks": ""
             }
            },
            "type": "scatterpolargl"
           }
          ],
          "scatterternary": [
           {
            "marker": {
             "colorbar": {
              "outlinewidth": 0,
              "ticks": ""
             }
            },
            "type": "scatterternary"
           }
          ],
          "surface": [
           {
            "colorbar": {
             "outlinewidth": 0,
             "ticks": ""
            },
            "colorscale": [
             [
              0,
              "#0d0887"
             ],
             [
              0.1111111111111111,
              "#46039f"
             ],
             [
              0.2222222222222222,
              "#7201a8"
             ],
             [
              0.3333333333333333,
              "#9c179e"
             ],
             [
              0.4444444444444444,
              "#bd3786"
             ],
             [
              0.5555555555555556,
              "#d8576b"
             ],
             [
              0.6666666666666666,
              "#ed7953"
             ],
             [
              0.7777777777777778,
              "#fb9f3a"
             ],
             [
              0.8888888888888888,
              "#fdca26"
             ],
             [
              1,
              "#f0f921"
             ]
            ],
            "type": "surface"
           }
          ],
          "table": [
           {
            "cells": {
             "fill": {
              "color": "#EBF0F8"
             },
             "line": {
              "color": "white"
             }
            },
            "header": {
             "fill": {
              "color": "#C8D4E3"
             },
             "line": {
              "color": "white"
             }
            },
            "type": "table"
           }
          ]
         },
         "layout": {
          "annotationdefaults": {
           "arrowcolor": "#2a3f5f",
           "arrowhead": 0,
           "arrowwidth": 1
          },
          "autotypenumbers": "strict",
          "coloraxis": {
           "colorbar": {
            "outlinewidth": 0,
            "ticks": ""
           }
          },
          "colorscale": {
           "diverging": [
            [
             0,
             "#8e0152"
            ],
            [
             0.1,
             "#c51b7d"
            ],
            [
             0.2,
             "#de77ae"
            ],
            [
             0.3,
             "#f1b6da"
            ],
            [
             0.4,
             "#fde0ef"
            ],
            [
             0.5,
             "#f7f7f7"
            ],
            [
             0.6,
             "#e6f5d0"
            ],
            [
             0.7,
             "#b8e186"
            ],
            [
             0.8,
             "#7fbc41"
            ],
            [
             0.9,
             "#4d9221"
            ],
            [
             1,
             "#276419"
            ]
           ],
           "sequential": [
            [
             0,
             "#0d0887"
            ],
            [
             0.1111111111111111,
             "#46039f"
            ],
            [
             0.2222222222222222,
             "#7201a8"
            ],
            [
             0.3333333333333333,
             "#9c179e"
            ],
            [
             0.4444444444444444,
             "#bd3786"
            ],
            [
             0.5555555555555556,
             "#d8576b"
            ],
            [
             0.6666666666666666,
             "#ed7953"
            ],
            [
             0.7777777777777778,
             "#fb9f3a"
            ],
            [
             0.8888888888888888,
             "#fdca26"
            ],
            [
             1,
             "#f0f921"
            ]
           ],
           "sequentialminus": [
            [
             0,
             "#0d0887"
            ],
            [
             0.1111111111111111,
             "#46039f"
            ],
            [
             0.2222222222222222,
             "#7201a8"
            ],
            [
             0.3333333333333333,
             "#9c179e"
            ],
            [
             0.4444444444444444,
             "#bd3786"
            ],
            [
             0.5555555555555556,
             "#d8576b"
            ],
            [
             0.6666666666666666,
             "#ed7953"
            ],
            [
             0.7777777777777778,
             "#fb9f3a"
            ],
            [
             0.8888888888888888,
             "#fdca26"
            ],
            [
             1,
             "#f0f921"
            ]
           ]
          },
          "colorway": [
           "#636efa",
           "#EF553B",
           "#00cc96",
           "#ab63fa",
           "#FFA15A",
           "#19d3f3",
           "#FF6692",
           "#B6E880",
           "#FF97FF",
           "#FECB52"
          ],
          "font": {
           "color": "#2a3f5f"
          },
          "geo": {
           "bgcolor": "white",
           "lakecolor": "white",
           "landcolor": "white",
           "showlakes": true,
           "showland": true,
           "subunitcolor": "#C8D4E3"
          },
          "hoverlabel": {
           "align": "left"
          },
          "hovermode": "closest",
          "mapbox": {
           "style": "light"
          },
          "paper_bgcolor": "white",
          "plot_bgcolor": "white",
          "polar": {
           "angularaxis": {
            "gridcolor": "#EBF0F8",
            "linecolor": "#EBF0F8",
            "ticks": ""
           },
           "bgcolor": "white",
           "radialaxis": {
            "gridcolor": "#EBF0F8",
            "linecolor": "#EBF0F8",
            "ticks": ""
           }
          },
          "scene": {
           "xaxis": {
            "backgroundcolor": "white",
            "gridcolor": "#DFE8F3",
            "gridwidth": 2,
            "linecolor": "#EBF0F8",
            "showbackground": true,
            "ticks": "",
            "zerolinecolor": "#EBF0F8"
           },
           "yaxis": {
            "backgroundcolor": "white",
            "gridcolor": "#DFE8F3",
            "gridwidth": 2,
            "linecolor": "#EBF0F8",
            "showbackground": true,
            "ticks": "",
            "zerolinecolor": "#EBF0F8"
           },
           "zaxis": {
            "backgroundcolor": "white",
            "gridcolor": "#DFE8F3",
            "gridwidth": 2,
            "linecolor": "#EBF0F8",
            "showbackground": true,
            "ticks": "",
            "zerolinecolor": "#EBF0F8"
           }
          },
          "shapedefaults": {
           "line": {
            "color": "#2a3f5f"
           }
          },
          "ternary": {
           "aaxis": {
            "gridcolor": "#DFE8F3",
            "linecolor": "#A2B1C6",
            "ticks": ""
           },
           "baxis": {
            "gridcolor": "#DFE8F3",
            "linecolor": "#A2B1C6",
            "ticks": ""
           },
           "bgcolor": "white",
           "caxis": {
            "gridcolor": "#DFE8F3",
            "linecolor": "#A2B1C6",
            "ticks": ""
           }
          },
          "title": {
           "x": 0.05
          },
          "xaxis": {
           "automargin": true,
           "gridcolor": "#EBF0F8",
           "linecolor": "#EBF0F8",
           "ticks": "",
           "title": {
            "standoff": 15
           },
           "zerolinecolor": "#EBF0F8",
           "zerolinewidth": 2
          },
          "yaxis": {
           "automargin": true,
           "gridcolor": "#EBF0F8",
           "linecolor": "#EBF0F8",
           "ticks": "",
           "title": {
            "standoff": 15
           },
           "zerolinecolor": "#EBF0F8",
           "zerolinewidth": 2
          }
         }
        },
        "title": {
         "text": "Mean and Standard Deviation of Metrics for Training and Test Sets"
        },
        "xaxis": {
         "title": {
          "text": "Metric Type"
         }
        },
        "yaxis": {
         "title": {
          "text": "Score"
         }
        }
       }
      }
     },
     "metadata": {},
     "output_type": "display_data"
    }
   ],
   "source": [
    "# Bar plots to see KNN model performances (mean and std)\n",
    "\n",
    "fig = plot_bar_metrics(results_cv_knn)\n",
    "fig.show()"
   ]
  },
  {
   "cell_type": "code",
   "execution_count": 12,
   "metadata": {},
   "outputs": [
    {
     "data": {
      "application/vnd.plotly.v1+json": {
       "config": {
        "plotlyServerURL": "https://plot.ly"
       },
       "data": [
        {
         "alignmentgroup": "True",
         "box": {
          "visible": true
         },
         "hovertemplate": "Dataset=%{x}<br>Score=%{y}<extra></extra>",
         "legendgroup": "Train",
         "marker": {
          "color": "#636efa"
         },
         "name": "Train",
         "offsetgroup": "Train",
         "orientation": "v",
         "points": "all",
         "scalegroup": "True",
         "showlegend": true,
         "type": "violin",
         "x": [
          "Train",
          "Train",
          "Train",
          "Train",
          "Train",
          "Train",
          "Train",
          "Train",
          "Train",
          "Train"
         ],
         "x0": " ",
         "xaxis": "x",
         "y": [
          0.954497544409433,
          0.9482227401649427,
          0.9458205882302269,
          0.9437019969278035,
          0.9525600241389715,
          0.9526221622310295,
          0.9546450681934553,
          0.9524307249588609,
          0.9524945305590466,
          0.9572480268404698
         ],
         "y0": " ",
         "yaxis": "y"
        },
        {
         "alignmentgroup": "True",
         "box": {
          "visible": true
         },
         "hovertemplate": "Dataset=%{x}<br>Score=%{y}<extra></extra>",
         "legendgroup": "Test",
         "marker": {
          "color": "#EF553B"
         },
         "name": "Test",
         "offsetgroup": "Test",
         "orientation": "v",
         "points": "all",
         "scalegroup": "True",
         "showlegend": true,
         "type": "violin",
         "x": [
          "Test",
          "Test",
          "Test",
          "Test",
          "Test",
          "Test",
          "Test",
          "Test",
          "Test",
          "Test"
         ],
         "x0": " ",
         "xaxis": "x",
         "y": [
          0.9186189258312021,
          0.9388972431077695,
          0.9799498746867168,
          0.9595959595959596,
          0.8987969924812029,
          0.9386189258312021,
          0.9188184364654952,
          0.9607655502392345,
          0.96,
          0.8950895140664963
         ],
         "y0": " ",
         "yaxis": "y"
        }
       ],
       "layout": {
        "legend": {
         "title": {
          "text": "Dataset"
         },
         "tracegroupgap": 0
        },
        "template": {
         "data": {
          "bar": [
           {
            "error_x": {
             "color": "#2a3f5f"
            },
            "error_y": {
             "color": "#2a3f5f"
            },
            "marker": {
             "line": {
              "color": "white",
              "width": 0.5
             },
             "pattern": {
              "fillmode": "overlay",
              "size": 10,
              "solidity": 0.2
             }
            },
            "type": "bar"
           }
          ],
          "barpolar": [
           {
            "marker": {
             "line": {
              "color": "white",
              "width": 0.5
             },
             "pattern": {
              "fillmode": "overlay",
              "size": 10,
              "solidity": 0.2
             }
            },
            "type": "barpolar"
           }
          ],
          "carpet": [
           {
            "aaxis": {
             "endlinecolor": "#2a3f5f",
             "gridcolor": "#C8D4E3",
             "linecolor": "#C8D4E3",
             "minorgridcolor": "#C8D4E3",
             "startlinecolor": "#2a3f5f"
            },
            "baxis": {
             "endlinecolor": "#2a3f5f",
             "gridcolor": "#C8D4E3",
             "linecolor": "#C8D4E3",
             "minorgridcolor": "#C8D4E3",
             "startlinecolor": "#2a3f5f"
            },
            "type": "carpet"
           }
          ],
          "choropleth": [
           {
            "colorbar": {
             "outlinewidth": 0,
             "ticks": ""
            },
            "type": "choropleth"
           }
          ],
          "contour": [
           {
            "colorbar": {
             "outlinewidth": 0,
             "ticks": ""
            },
            "colorscale": [
             [
              0,
              "#0d0887"
             ],
             [
              0.1111111111111111,
              "#46039f"
             ],
             [
              0.2222222222222222,
              "#7201a8"
             ],
             [
              0.3333333333333333,
              "#9c179e"
             ],
             [
              0.4444444444444444,
              "#bd3786"
             ],
             [
              0.5555555555555556,
              "#d8576b"
             ],
             [
              0.6666666666666666,
              "#ed7953"
             ],
             [
              0.7777777777777778,
              "#fb9f3a"
             ],
             [
              0.8888888888888888,
              "#fdca26"
             ],
             [
              1,
              "#f0f921"
             ]
            ],
            "type": "contour"
           }
          ],
          "contourcarpet": [
           {
            "colorbar": {
             "outlinewidth": 0,
             "ticks": ""
            },
            "type": "contourcarpet"
           }
          ],
          "heatmap": [
           {
            "colorbar": {
             "outlinewidth": 0,
             "ticks": ""
            },
            "colorscale": [
             [
              0,
              "#0d0887"
             ],
             [
              0.1111111111111111,
              "#46039f"
             ],
             [
              0.2222222222222222,
              "#7201a8"
             ],
             [
              0.3333333333333333,
              "#9c179e"
             ],
             [
              0.4444444444444444,
              "#bd3786"
             ],
             [
              0.5555555555555556,
              "#d8576b"
             ],
             [
              0.6666666666666666,
              "#ed7953"
             ],
             [
              0.7777777777777778,
              "#fb9f3a"
             ],
             [
              0.8888888888888888,
              "#fdca26"
             ],
             [
              1,
              "#f0f921"
             ]
            ],
            "type": "heatmap"
           }
          ],
          "heatmapgl": [
           {
            "colorbar": {
             "outlinewidth": 0,
             "ticks": ""
            },
            "colorscale": [
             [
              0,
              "#0d0887"
             ],
             [
              0.1111111111111111,
              "#46039f"
             ],
             [
              0.2222222222222222,
              "#7201a8"
             ],
             [
              0.3333333333333333,
              "#9c179e"
             ],
             [
              0.4444444444444444,
              "#bd3786"
             ],
             [
              0.5555555555555556,
              "#d8576b"
             ],
             [
              0.6666666666666666,
              "#ed7953"
             ],
             [
              0.7777777777777778,
              "#fb9f3a"
             ],
             [
              0.8888888888888888,
              "#fdca26"
             ],
             [
              1,
              "#f0f921"
             ]
            ],
            "type": "heatmapgl"
           }
          ],
          "histogram": [
           {
            "marker": {
             "pattern": {
              "fillmode": "overlay",
              "size": 10,
              "solidity": 0.2
             }
            },
            "type": "histogram"
           }
          ],
          "histogram2d": [
           {
            "colorbar": {
             "outlinewidth": 0,
             "ticks": ""
            },
            "colorscale": [
             [
              0,
              "#0d0887"
             ],
             [
              0.1111111111111111,
              "#46039f"
             ],
             [
              0.2222222222222222,
              "#7201a8"
             ],
             [
              0.3333333333333333,
              "#9c179e"
             ],
             [
              0.4444444444444444,
              "#bd3786"
             ],
             [
              0.5555555555555556,
              "#d8576b"
             ],
             [
              0.6666666666666666,
              "#ed7953"
             ],
             [
              0.7777777777777778,
              "#fb9f3a"
             ],
             [
              0.8888888888888888,
              "#fdca26"
             ],
             [
              1,
              "#f0f921"
             ]
            ],
            "type": "histogram2d"
           }
          ],
          "histogram2dcontour": [
           {
            "colorbar": {
             "outlinewidth": 0,
             "ticks": ""
            },
            "colorscale": [
             [
              0,
              "#0d0887"
             ],
             [
              0.1111111111111111,
              "#46039f"
             ],
             [
              0.2222222222222222,
              "#7201a8"
             ],
             [
              0.3333333333333333,
              "#9c179e"
             ],
             [
              0.4444444444444444,
              "#bd3786"
             ],
             [
              0.5555555555555556,
              "#d8576b"
             ],
             [
              0.6666666666666666,
              "#ed7953"
             ],
             [
              0.7777777777777778,
              "#fb9f3a"
             ],
             [
              0.8888888888888888,
              "#fdca26"
             ],
             [
              1,
              "#f0f921"
             ]
            ],
            "type": "histogram2dcontour"
           }
          ],
          "mesh3d": [
           {
            "colorbar": {
             "outlinewidth": 0,
             "ticks": ""
            },
            "type": "mesh3d"
           }
          ],
          "parcoords": [
           {
            "line": {
             "colorbar": {
              "outlinewidth": 0,
              "ticks": ""
             }
            },
            "type": "parcoords"
           }
          ],
          "pie": [
           {
            "automargin": true,
            "type": "pie"
           }
          ],
          "scatter": [
           {
            "fillpattern": {
             "fillmode": "overlay",
             "size": 10,
             "solidity": 0.2
            },
            "type": "scatter"
           }
          ],
          "scatter3d": [
           {
            "line": {
             "colorbar": {
              "outlinewidth": 0,
              "ticks": ""
             }
            },
            "marker": {
             "colorbar": {
              "outlinewidth": 0,
              "ticks": ""
             }
            },
            "type": "scatter3d"
           }
          ],
          "scattercarpet": [
           {
            "marker": {
             "colorbar": {
              "outlinewidth": 0,
              "ticks": ""
             }
            },
            "type": "scattercarpet"
           }
          ],
          "scattergeo": [
           {
            "marker": {
             "colorbar": {
              "outlinewidth": 0,
              "ticks": ""
             }
            },
            "type": "scattergeo"
           }
          ],
          "scattergl": [
           {
            "marker": {
             "colorbar": {
              "outlinewidth": 0,
              "ticks": ""
             }
            },
            "type": "scattergl"
           }
          ],
          "scattermapbox": [
           {
            "marker": {
             "colorbar": {
              "outlinewidth": 0,
              "ticks": ""
             }
            },
            "type": "scattermapbox"
           }
          ],
          "scatterpolar": [
           {
            "marker": {
             "colorbar": {
              "outlinewidth": 0,
              "ticks": ""
             }
            },
            "type": "scatterpolar"
           }
          ],
          "scatterpolargl": [
           {
            "marker": {
             "colorbar": {
              "outlinewidth": 0,
              "ticks": ""
             }
            },
            "type": "scatterpolargl"
           }
          ],
          "scatterternary": [
           {
            "marker": {
             "colorbar": {
              "outlinewidth": 0,
              "ticks": ""
             }
            },
            "type": "scatterternary"
           }
          ],
          "surface": [
           {
            "colorbar": {
             "outlinewidth": 0,
             "ticks": ""
            },
            "colorscale": [
             [
              0,
              "#0d0887"
             ],
             [
              0.1111111111111111,
              "#46039f"
             ],
             [
              0.2222222222222222,
              "#7201a8"
             ],
             [
              0.3333333333333333,
              "#9c179e"
             ],
             [
              0.4444444444444444,
              "#bd3786"
             ],
             [
              0.5555555555555556,
              "#d8576b"
             ],
             [
              0.6666666666666666,
              "#ed7953"
             ],
             [
              0.7777777777777778,
              "#fb9f3a"
             ],
             [
              0.8888888888888888,
              "#fdca26"
             ],
             [
              1,
              "#f0f921"
             ]
            ],
            "type": "surface"
           }
          ],
          "table": [
           {
            "cells": {
             "fill": {
              "color": "#EBF0F8"
             },
             "line": {
              "color": "white"
             }
            },
            "header": {
             "fill": {
              "color": "#C8D4E3"
             },
             "line": {
              "color": "white"
             }
            },
            "type": "table"
           }
          ]
         },
         "layout": {
          "annotationdefaults": {
           "arrowcolor": "#2a3f5f",
           "arrowhead": 0,
           "arrowwidth": 1
          },
          "autotypenumbers": "strict",
          "coloraxis": {
           "colorbar": {
            "outlinewidth": 0,
            "ticks": ""
           }
          },
          "colorscale": {
           "diverging": [
            [
             0,
             "#8e0152"
            ],
            [
             0.1,
             "#c51b7d"
            ],
            [
             0.2,
             "#de77ae"
            ],
            [
             0.3,
             "#f1b6da"
            ],
            [
             0.4,
             "#fde0ef"
            ],
            [
             0.5,
             "#f7f7f7"
            ],
            [
             0.6,
             "#e6f5d0"
            ],
            [
             0.7,
             "#b8e186"
            ],
            [
             0.8,
             "#7fbc41"
            ],
            [
             0.9,
             "#4d9221"
            ],
            [
             1,
             "#276419"
            ]
           ],
           "sequential": [
            [
             0,
             "#0d0887"
            ],
            [
             0.1111111111111111,
             "#46039f"
            ],
            [
             0.2222222222222222,
             "#7201a8"
            ],
            [
             0.3333333333333333,
             "#9c179e"
            ],
            [
             0.4444444444444444,
             "#bd3786"
            ],
            [
             0.5555555555555556,
             "#d8576b"
            ],
            [
             0.6666666666666666,
             "#ed7953"
            ],
            [
             0.7777777777777778,
             "#fb9f3a"
            ],
            [
             0.8888888888888888,
             "#fdca26"
            ],
            [
             1,
             "#f0f921"
            ]
           ],
           "sequentialminus": [
            [
             0,
             "#0d0887"
            ],
            [
             0.1111111111111111,
             "#46039f"
            ],
            [
             0.2222222222222222,
             "#7201a8"
            ],
            [
             0.3333333333333333,
             "#9c179e"
            ],
            [
             0.4444444444444444,
             "#bd3786"
            ],
            [
             0.5555555555555556,
             "#d8576b"
            ],
            [
             0.6666666666666666,
             "#ed7953"
            ],
            [
             0.7777777777777778,
             "#fb9f3a"
            ],
            [
             0.8888888888888888,
             "#fdca26"
            ],
            [
             1,
             "#f0f921"
            ]
           ]
          },
          "colorway": [
           "#636efa",
           "#EF553B",
           "#00cc96",
           "#ab63fa",
           "#FFA15A",
           "#19d3f3",
           "#FF6692",
           "#B6E880",
           "#FF97FF",
           "#FECB52"
          ],
          "font": {
           "color": "#2a3f5f"
          },
          "geo": {
           "bgcolor": "white",
           "lakecolor": "white",
           "landcolor": "white",
           "showlakes": true,
           "showland": true,
           "subunitcolor": "#C8D4E3"
          },
          "hoverlabel": {
           "align": "left"
          },
          "hovermode": "closest",
          "mapbox": {
           "style": "light"
          },
          "paper_bgcolor": "white",
          "plot_bgcolor": "white",
          "polar": {
           "angularaxis": {
            "gridcolor": "#EBF0F8",
            "linecolor": "#EBF0F8",
            "ticks": ""
           },
           "bgcolor": "white",
           "radialaxis": {
            "gridcolor": "#EBF0F8",
            "linecolor": "#EBF0F8",
            "ticks": ""
           }
          },
          "scene": {
           "xaxis": {
            "backgroundcolor": "white",
            "gridcolor": "#DFE8F3",
            "gridwidth": 2,
            "linecolor": "#EBF0F8",
            "showbackground": true,
            "ticks": "",
            "zerolinecolor": "#EBF0F8"
           },
           "yaxis": {
            "backgroundcolor": "white",
            "gridcolor": "#DFE8F3",
            "gridwidth": 2,
            "linecolor": "#EBF0F8",
            "showbackground": true,
            "ticks": "",
            "zerolinecolor": "#EBF0F8"
           },
           "zaxis": {
            "backgroundcolor": "white",
            "gridcolor": "#DFE8F3",
            "gridwidth": 2,
            "linecolor": "#EBF0F8",
            "showbackground": true,
            "ticks": "",
            "zerolinecolor": "#EBF0F8"
           }
          },
          "shapedefaults": {
           "line": {
            "color": "#2a3f5f"
           }
          },
          "ternary": {
           "aaxis": {
            "gridcolor": "#DFE8F3",
            "linecolor": "#A2B1C6",
            "ticks": ""
           },
           "baxis": {
            "gridcolor": "#DFE8F3",
            "linecolor": "#A2B1C6",
            "ticks": ""
           },
           "bgcolor": "white",
           "caxis": {
            "gridcolor": "#DFE8F3",
            "linecolor": "#A2B1C6",
            "ticks": ""
           }
          },
          "title": {
           "x": 0.05
          },
          "xaxis": {
           "automargin": true,
           "gridcolor": "#EBF0F8",
           "linecolor": "#EBF0F8",
           "ticks": "",
           "title": {
            "standoff": 15
           },
           "zerolinecolor": "#EBF0F8",
           "zerolinewidth": 2
          },
          "yaxis": {
           "automargin": true,
           "gridcolor": "#EBF0F8",
           "linecolor": "#EBF0F8",
           "ticks": "",
           "title": {
            "standoff": 15
           },
           "zerolinecolor": "#EBF0F8",
           "zerolinewidth": 2
          }
         }
        },
        "title": {
         "text": "Violin Plot for F1 Metric"
        },
        "violinmode": "overlay",
        "xaxis": {
         "anchor": "y",
         "categoryarray": [
          "Train",
          "Test"
         ],
         "categoryorder": "array",
         "domain": [
          0,
          1
         ],
         "title": {
          "text": "Dataset"
         }
        },
        "yaxis": {
         "anchor": "x",
         "domain": [
          0,
          1
         ],
         "title": {
          "text": "F1 Score"
         }
        }
       }
      }
     },
     "metadata": {},
     "output_type": "display_data"
    }
   ],
   "source": [
    "# Violin Plot for a choosen metric among 'accuracy', 'precision', 'recall', 'f1', 'loss' both train and test \n",
    "\n",
    "fig = plot_violin_metric(results_cv_knn, 'f1')\n",
    "fig.show()"
   ]
  },
  {
   "cell_type": "markdown",
   "metadata": {},
   "source": [
    "## [EXTRA] Try other Machine Learning Classifiers\n",
    "*This section has the purpose to see how other ML classifiers could perfome respect to KNN*\n",
    "**This section could be refactored, at the moment, it something to be done**\n",
    "\n",
    "- Results:\n",
    "    1. KNN reached 92% accuracy in training and 93% in test\n",
    "    2. SVM has the best perfomances with >93% in training and 93% in test, grid search is a little bit slower than KNN\n",
    "    3. worst performance with Decision Tree, maybe it is too simple for a multiclass problem like this\n",
    "    4. Linear Discriminant Analysis and Random Forest have similar results respect to KNN \n",
    "    5. XGBoost seems to suffer of underfitting"
   ]
  },
  {
   "cell_type": "code",
   "execution_count": 8,
   "metadata": {},
   "outputs": [],
   "source": [
    "# Import Libraries\n",
    "\n",
    "from sklearn.discriminant_analysis import LinearDiscriminantAnalysis\n",
    "import warnings\n",
    "warnings.filterwarnings(\"ignore\", category=UserWarning)\n",
    "from sklearn.svm import SVC\n",
    "from sklearn.tree import DecisionTreeClassifier\n",
    "from sklearn.ensemble import RandomForestClassifier\n",
    "from xgboost import XGBClassifier\n",
    "\n",
    "from src.ml_functions import model_optimization\n",
    "from src.constants import RANDOM_SEED"
   ]
  },
  {
   "cell_type": "code",
   "execution_count": 9,
   "metadata": {},
   "outputs": [
    {
     "data": {
      "text/html": [
       "<div>\n",
       "<style scoped>\n",
       "    .dataframe tbody tr th:only-of-type {\n",
       "        vertical-align: middle;\n",
       "    }\n",
       "\n",
       "    .dataframe tbody tr th {\n",
       "        vertical-align: top;\n",
       "    }\n",
       "\n",
       "    .dataframe thead th {\n",
       "        text-align: right;\n",
       "    }\n",
       "</style>\n",
       "<table border=\"1\" class=\"dataframe\">\n",
       "  <thead>\n",
       "    <tr style=\"text-align: right;\">\n",
       "      <th></th>\n",
       "      <th>Weight</th>\n",
       "      <th>Average diameter</th>\n",
       "      <th>Average length</th>\n",
       "      <th>Peel hardness</th>\n",
       "      <th>Sweetness</th>\n",
       "      <th>Fruit</th>\n",
       "    </tr>\n",
       "  </thead>\n",
       "  <tbody>\n",
       "    <tr>\n",
       "      <th>0</th>\n",
       "      <td>1.461616</td>\n",
       "      <td>0.048372</td>\n",
       "      <td>1.284930</td>\n",
       "      <td>1.199712</td>\n",
       "      <td>-0.936364</td>\n",
       "      <td>Apple</td>\n",
       "    </tr>\n",
       "    <tr>\n",
       "      <th>1</th>\n",
       "      <td>1.131798</td>\n",
       "      <td>-0.204317</td>\n",
       "      <td>0.451391</td>\n",
       "      <td>-0.131240</td>\n",
       "      <td>0.219035</td>\n",
       "      <td>Apple</td>\n",
       "    </tr>\n",
       "    <tr>\n",
       "      <th>2</th>\n",
       "      <td>1.295211</td>\n",
       "      <td>-0.076493</td>\n",
       "      <td>0.417292</td>\n",
       "      <td>0.912536</td>\n",
       "      <td>-0.564420</td>\n",
       "      <td>Apple</td>\n",
       "    </tr>\n",
       "    <tr>\n",
       "      <th>3</th>\n",
       "      <td>0.711112</td>\n",
       "      <td>-0.776332</td>\n",
       "      <td>0.561267</td>\n",
       "      <td>0.426545</td>\n",
       "      <td>-0.825572</td>\n",
       "      <td>Apple</td>\n",
       "    </tr>\n",
       "    <tr>\n",
       "      <th>4</th>\n",
       "      <td>0.352126</td>\n",
       "      <td>-0.169442</td>\n",
       "      <td>0.182386</td>\n",
       "      <td>0.945671</td>\n",
       "      <td>0.226949</td>\n",
       "      <td>Apple</td>\n",
       "    </tr>\n",
       "  </tbody>\n",
       "</table>\n",
       "</div>"
      ],
      "text/plain": [
       "     Weight  Average diameter  Average length  Peel hardness  Sweetness  Fruit\n",
       "0  1.461616          0.048372        1.284930       1.199712  -0.936364  Apple\n",
       "1  1.131798         -0.204317        0.451391      -0.131240   0.219035  Apple\n",
       "2  1.295211         -0.076493        0.417292       0.912536  -0.564420  Apple\n",
       "3  0.711112         -0.776332        0.561267       0.426545  -0.825572  Apple\n",
       "4  0.352126         -0.169442        0.182386       0.945671   0.226949  Apple"
      ]
     },
     "execution_count": 9,
     "metadata": {},
     "output_type": "execute_result"
    }
   ],
   "source": [
    "# Import Transformed Dataset\n",
    "\n",
    "df_standard_transformed = read_csv(\"Data/Fruits_Dataset_Preprocessed_Standard.csv\")\n",
    "df_standard_transformed.head()"
   ]
  },
  {
   "cell_type": "code",
   "execution_count": 10,
   "metadata": {},
   "outputs": [
    {
     "name": "stdout",
     "output_type": "stream",
     "text": [
      "========================================\n",
      "Dataset Shape before splitting: (500, 6)\n",
      "X train Shape after splitting: (400, 5)\n",
      "X test Shape after splitting: (100, 5)\n",
      "y train Shape after splitting: (400,)\n",
      "y test Shape after splitting: (100,)\n",
      "========================================\n"
     ]
    }
   ],
   "source": [
    "# Splitting dataset\n",
    "\n",
    "label = 'Fruit'\n",
    "\n",
    "X_train, X_test, y_train, y_test = data_split(df_standard_transformed, label, test_size=0.2)\n",
    "\n",
    "print(\"=\"*40)\n",
    "print(f\"Dataset Shape before splitting: {df_standard_transformed.shape}\")\n",
    "print(f\"X train Shape after splitting: {X_train.shape}\")\n",
    "print(f\"X test Shape after splitting: {X_test.shape}\")\n",
    "print(f\"y train Shape after splitting: {y_train.shape}\")\n",
    "print(f\"y test Shape after splitting: {y_test.shape}\")\n",
    "print(\"=\"*40)"
   ]
  },
  {
   "cell_type": "markdown",
   "metadata": {},
   "source": [
    "### Linear Discriminant Analysis"
   ]
  },
  {
   "cell_type": "code",
   "execution_count": 11,
   "metadata": {},
   "outputs": [
    {
     "name": "stdout",
     "output_type": "stream",
     "text": [
      "======================================================================\n",
      "Best parameters: {'shrinkage': 0.1, 'solver': 'lsqr', 'tol': 0.0001}\n",
      "Best model: LinearDiscriminantAnalysis(shrinkage=0.1, solver='lsqr')\n",
      "Best accuracy score: 0.9225\n",
      "======================================================================\n",
      "\n",
      "Results saved to Results/results_lda_gridsearch_cv.csv\n"
     ]
    }
   ],
   "source": [
    "# Linear Discriminant Analysis Model and Parameter grid\n",
    "\n",
    "lda_model = LinearDiscriminantAnalysis()\n",
    "lda_param_grid = {\n",
    "    'solver': ['svd', 'lsqr', 'eigen'],  # Solver for LDA\n",
    "    'shrinkage': [None, 'auto', 0.1, 0.5, 1.0],  # Shrinkage parameter for 'lsqr' and 'eigen' solvers\n",
    "    'tol': [1e-4, 1e-3, 1e-2, 1e-1]  # Tolerance for the solver convergence\n",
    "}\n",
    "\n",
    "best_model, results_df = model_optimization(X_train, y_train, lda_model, lda_param_grid, k_cv=5, scoring='accuracy', save_res=True, \n",
    "                                            results_filename=\"results_lda_gridsearch_cv.csv\")"
   ]
  },
  {
   "cell_type": "code",
   "execution_count": 14,
   "metadata": {},
   "outputs": [
    {
     "name": "stdout",
     "output_type": "stream",
     "text": [
      "======================================================================\n",
      "Accuracy: 0.94\n",
      "Classification Report:\n",
      "              precision    recall  f1-score   support\n",
      "\n",
      "       Apple       0.86      0.95      0.90        20\n",
      "      Banana       1.00      1.00      1.00        20\n",
      "       Grape       1.00      1.00      1.00        20\n",
      "        Kiwi       0.90      0.95      0.93        20\n",
      "      Orange       0.94      0.80      0.86        20\n",
      "\n",
      "    accuracy                           0.94       100\n",
      "   macro avg       0.94      0.94      0.94       100\n",
      "weighted avg       0.94      0.94      0.94       100\n",
      "\n"
     ]
    },
    {
     "data": {
      "image/png": "[encoded data removed]",
      "text/plain": [
       "<Figure size 800x600 with 1 Axes>"
      ]
     },
     "metadata": {},
     "output_type": "display_data"
    }
   ],
   "source": [
    "# Model evaluation on Test set\n",
    "\n",
    "fig, fig_2 = evaluate_model(best_model, X_test, y_test)\n",
    "fig.show()"
   ]
  },
  {
   "cell_type": "markdown",
   "metadata": {},
   "source": [
    "### SVM"
   ]
  },
  {
   "cell_type": "code",
   "execution_count": 16,
   "metadata": {},
   "outputs": [
    {
     "name": "stdout",
     "output_type": "stream",
     "text": [
      "======================================================================\n",
      "Best parameters: {'C': 0.1, 'coef0': 0.1, 'degree': 2, 'gamma': 'scale', 'kernel': 'sigmoid'}\n",
      "Best model: SVC(C=0.1, coef0=0.1, degree=2, kernel='sigmoid')\n",
      "Best accuracy score: 0.9324999999999999\n",
      "======================================================================\n",
      "\n",
      "Results saved to Results/results_svm_gridsearch_cv.csv\n"
     ]
    }
   ],
   "source": [
    "# SVM Model and Parameter grid\n",
    "\n",
    "svm_model = SVC()\n",
    "svm_param_grid = {\n",
    "    'C': [0.1, 1, 10, 20],  # Regularization parameter. Inverse of regularization strength, smaller values specify stronger regularization.\n",
    "    'kernel': ['linear', 'rbf', 'poly', 'sigmoid'],  # Kernel type\n",
    "    'gamma': ['scale', 'auto', 0.01, 0.1, 1],  # Kernel coefficient for 'rbf', 'poly', and 'sigmoid'\n",
    "    'degree': [2, 3, 4],  # Degree of the polynomial kernel function (if kernel is 'poly')\n",
    "    'coef0': [0.0, 0.1, 0.5]  # Independent term in kernel function (for 'poly' and 'sigmoid')\n",
    "}\n",
    "\n",
    "best_model, results_df = model_optimization(X_train, y_train, svm_model, svm_param_grid, k_cv=5, scoring='accuracy', save_res=True, \n",
    "                                            results_filename=\"results_svm_gridsearch_cv.csv\")"
   ]
  },
  {
   "cell_type": "code",
   "execution_count": 17,
   "metadata": {},
   "outputs": [
    {
     "name": "stdout",
     "output_type": "stream",
     "text": [
      "======================================================================\n",
      "Accuracy: 0.93\n",
      "Classification Report:\n",
      "              precision    recall  f1-score   support\n",
      "\n",
      "       Apple       0.86      0.95      0.90        20\n",
      "      Banana       1.00      1.00      1.00        20\n",
      "       Grape       1.00      1.00      1.00        20\n",
      "        Kiwi       0.94      0.85      0.89        20\n",
      "      Orange       0.85      0.85      0.85        20\n",
      "\n",
      "    accuracy                           0.93       100\n",
      "   macro avg       0.93      0.93      0.93       100\n",
      "weighted avg       0.93      0.93      0.93       100\n",
      "\n"
     ]
    },
    {
     "data": {
      "image/png": "[encoded data removed]",
      "text/plain": [
       "<Figure size 800x600 with 1 Axes>"
      ]
     },
     "metadata": {},
     "output_type": "display_data"
    }
   ],
   "source": [
    "# Model evaluation on Test set\n",
    "\n",
    "fig, fig_2 = evaluate_model(best_model, X_test, y_test)\n",
    "fig.show()"
   ]
  },
  {
   "cell_type": "markdown",
   "metadata": {},
   "source": [
    "### Decision Tree"
   ]
  },
  {
   "cell_type": "code",
   "execution_count": 18,
   "metadata": {},
   "outputs": [
    {
     "name": "stdout",
     "output_type": "stream",
     "text": [
      "======================================================================\n",
      "Best parameters: {'criterion': 'gini', 'max_depth': None, 'max_features': None, 'min_samples_leaf': 4, 'min_samples_split': 10, 'splitter': 'random'}\n",
      "Best model: DecisionTreeClassifier(min_samples_leaf=4, min_samples_split=10,\n",
      "                       random_state=59, splitter='random')\n",
      "Best accuracy score: 0.8925000000000001\n",
      "======================================================================\n",
      "\n",
      "Results saved to Results/results_dt_gridsearch_cv.csv\n"
     ]
    }
   ],
   "source": [
    "# Decision Tree Model and Parameter grid\n",
    "\n",
    "dt_model = DecisionTreeClassifier(random_state=RANDOM_SEED)\n",
    "dt_param_grid = {\n",
    "    'criterion': ['gini', 'entropy'],  # Function to measure the quality of a split\n",
    "    'max_depth': [None, 5, 10, 15, 20],  # If None, then nodes are expanded until all leaves are pure or until all leaves contain less than min_samples_split samples.\n",
    "    'min_samples_split': [2, 5, 10],  # Minimum number of samples required to split an internal node\n",
    "    'min_samples_leaf': [1, 2, 4],  # Minimum number of samples required to be at a leaf node\n",
    "    'max_features': ['sqrt', 'log2', None],  # Number of features to consider when looking for the best split. If None, then max_features=n_features.\n",
    "    'splitter': ['best', 'random']  # The strategy used to choose the split at each node\n",
    "}\n",
    "\n",
    "best_model, results_df = model_optimization(X_train, y_train, dt_model, dt_param_grid, k_cv=5, scoring='accuracy', save_res=True, \n",
    "                                            results_filename=\"results_dt_gridsearch_cv.csv\")"
   ]
  },
  {
   "cell_type": "code",
   "execution_count": 19,
   "metadata": {},
   "outputs": [
    {
     "name": "stdout",
     "output_type": "stream",
     "text": [
      "======================================================================\n",
      "Accuracy: 0.89\n",
      "Classification Report:\n",
      "              precision    recall  f1-score   support\n",
      "\n",
      "       Apple       0.76      0.95      0.84        20\n",
      "      Banana       1.00      1.00      1.00        20\n",
      "       Grape       1.00      1.00      1.00        20\n",
      "        Kiwi       0.89      0.85      0.87        20\n",
      "      Orange       0.81      0.65      0.72        20\n",
      "\n",
      "    accuracy                           0.89       100\n",
      "   macro avg       0.89      0.89      0.89       100\n",
      "weighted avg       0.89      0.89      0.89       100\n",
      "\n"
     ]
    },
    {
     "data": {
      "image/png": "[encoded data removed]",
      "text/plain": [
       "<Figure size 800x600 with 1 Axes>"
      ]
     },
     "metadata": {},
     "output_type": "display_data"
    }
   ],
   "source": [
    "# Model evaluation on Test set\n",
    "\n",
    "fig, fig_2 = evaluate_model(best_model, X_test, y_test)\n",
    "fig.show()"
   ]
  },
  {
   "cell_type": "markdown",
   "metadata": {},
   "source": [
    "### Random Forest"
   ]
  },
  {
   "cell_type": "code",
   "execution_count": 20,
   "metadata": {},
   "outputs": [
    {
     "name": "stdout",
     "output_type": "stream",
     "text": [
      "======================================================================\n",
      "Best parameters: {'criterion': 'gini', 'max_depth': 10, 'max_features': 'sqrt', 'min_samples_leaf': 1, 'min_samples_split': 5, 'n_estimators': 100}\n",
      "Best model: RandomForestClassifier(max_depth=10, min_samples_split=5, n_jobs=-1,\n",
      "                       random_state=59)\n",
      "Best accuracy score: 0.9275\n",
      "======================================================================\n",
      "\n",
      "Results saved to Results/results_rf_gridsearch_cv.csv\n"
     ]
    }
   ],
   "source": [
    "# Random Forest Model and Parameter grid\n",
    "\n",
    "rf_model = RandomForestClassifier(random_state=RANDOM_SEED, n_jobs=-1)\n",
    "rf_param_grid = {\n",
    "    'n_estimators': [50, 100, 200],  # Number of trees in the forest\n",
    "    'max_depth': [None, 5, 10, 20, 30],  \n",
    "    'min_samples_split': [2, 5, 10],  # Minimum number of samples required to split an internal node\n",
    "    'min_samples_leaf': [1, 2, 4],  # Minimum number of samples required to be at a leaf node\n",
    "    'max_features': ['sqrt', 'log2', None],  # Number of features to consider when looking for the best split\n",
    "    'criterion': ['gini', 'entropy']  # Function to measure the quality of a split\n",
    "}\n",
    "\n",
    "best_model, results_df = model_optimization(X_train, y_train, rf_model, rf_param_grid, k_cv=5, scoring='accuracy', save_res=True, \n",
    "                                            results_filename=\"results_rf_gridsearch_cv.csv\")"
   ]
  },
  {
   "cell_type": "code",
   "execution_count": 21,
   "metadata": {},
   "outputs": [
    {
     "name": "stdout",
     "output_type": "stream",
     "text": [
      "======================================================================\n",
      "Accuracy: 0.93\n",
      "Classification Report:\n",
      "              precision    recall  f1-score   support\n",
      "\n",
      "       Apple       0.79      0.95      0.86        20\n",
      "      Banana       1.00      1.00      1.00        20\n",
      "       Grape       1.00      1.00      1.00        20\n",
      "        Kiwi       1.00      0.85      0.92        20\n",
      "      Orange       0.89      0.85      0.87        20\n",
      "\n",
      "    accuracy                           0.93       100\n",
      "   macro avg       0.94      0.93      0.93       100\n",
      "weighted avg       0.94      0.93      0.93       100\n",
      "\n"
     ]
    },
    {
     "data": {
      "image/png": "[encoded data removed]",
      "text/plain": [
       "<Figure size 800x600 with 1 Axes>"
      ]
     },
     "metadata": {},
     "output_type": "display_data"
    }
   ],
   "source": [
    "# Model evaluation on Test set\n",
    "\n",
    "fig, fig_2 = evaluate_model(best_model, X_test, y_test)\n",
    "fig.show()"
   ]
  },
  {
   "cell_type": "markdown",
   "metadata": {},
   "source": [
    "### XGBoost"
   ]
  },
  {
   "cell_type": "code",
   "execution_count": 22,
   "metadata": {},
   "outputs": [
    {
     "name": "stdout",
     "output_type": "stream",
     "text": [
      "======================================================================\n",
      "Best parameters: {'gamma': 0.1, 'learning_rate': 0.2, 'max_depth': 3, 'n_estimators': 50}\n",
      "Best model: XGBClassifier(base_score=None, booster=None, callbacks=None,\n",
      "              colsample_bylevel=None, colsample_bynode=None,\n",
      "              colsample_bytree=None, device=None, early_stopping_rounds=None,\n",
      "              enable_categorical=False, eval_metric='mlogloss',\n",
      "              feature_types=None, gamma=0.1, grow_policy=None,\n",
      "              importance_type=None, interaction_constraints=None,\n",
      "              learning_rate=0.2, max_bin=None, max_cat_threshold=None,\n",
      "              max_cat_to_onehot=None, max_delta_step=None, max_depth=3,\n",
      "              max_leaves=None, min_child_weight=None, missing=nan,\n",
      "              monotone_constraints=None, multi_strategy=None, n_estimators=50,\n",
      "              n_jobs=-1, num_parallel_tree=None, objective='multi:softprob', ...)\n",
      "Best accuracy score: 0.915\n",
      "======================================================================\n",
      "\n",
      "Results saved to Results/results_xgb_gridsearch_cv.csv\n"
     ]
    }
   ],
   "source": [
    "# XGBoost Model and Parameter grid\n",
    "\n",
    "xgb_model = XGBClassifier(eval_metric='mlogloss', n_jobs = -1)\n",
    "\n",
    "xgb_param_grid = {\n",
    "    'n_estimators': [50, 100, 200],  \n",
    "    'max_depth': [3, 6, 10],  \n",
    "    'learning_rate': [0.01, 0.1, 0.2],  # Step size shrinkage\n",
    "    'gamma': [0, 0.1, 0.2]  # Minimum loss reduction to make a further partition on a leaf node\n",
    "}\n",
    "\n",
    "\n",
    "target_value_names = {\n",
    "    'Apple' : 0,\n",
    "    'Banana' : 1,\n",
    "    'Orange' : 2,\n",
    "    'Grape' : 3,\n",
    "    'Kiwi' : 4\n",
    "}\n",
    "y_train = y_train.map(lambda x : target_value_names[x])\n",
    "\n",
    "best_model, results_df = model_optimization(X_train, y_train, xgb_model, xgb_param_grid, k_cv=5, scoring='accuracy', save_res=True, \n",
    "                                            results_filename=\"results_xgb_gridsearch_cv.csv\")"
   ]
  },
  {
   "cell_type": "code",
   "execution_count": 23,
   "metadata": {},
   "outputs": [
    {
     "name": "stdout",
     "output_type": "stream",
     "text": [
      "======================================================================\n",
      "Accuracy: 0.94\n",
      "Classification Report:\n",
      "              precision    recall  f1-score   support\n",
      "\n",
      "           0       0.83      0.95      0.88        20\n",
      "           1       1.00      1.00      1.00        20\n",
      "           2       0.89      0.85      0.87        20\n",
      "           3       1.00      1.00      1.00        20\n",
      "           4       1.00      0.90      0.95        20\n",
      "\n",
      "    accuracy                           0.94       100\n",
      "   macro avg       0.94      0.94      0.94       100\n",
      "weighted avg       0.94      0.94      0.94       100\n",
      "\n"
     ]
    },
    {
     "data": {
      "image/png": "[encoded data removed]",
      "text/plain": [
       "<Figure size 800x600 with 1 Axes>"
      ]
     },
     "metadata": {},
     "output_type": "display_data"
    }
   ],
   "source": [
    "# Model evaluation on Test set\n",
    "\n",
    "target_value_names = {\n",
    "            'Apple' : 0,\n",
    "            'Banana' : 1,\n",
    "            'Orange' : 2,\n",
    "            'Grape' : 3,\n",
    "            'Kiwi' : 4\n",
    "        }\n",
    "y_test = y_test.map(lambda x : target_value_names[x])\n",
    "\n",
    "fig, fig_2 = evaluate_model(best_model, X_test, y_test)\n",
    "fig.show()"
   ]
  }
 ],
 "metadata": {
  "kernelspec": {
   "display_name": "Python 3",
   "language": "python",
   "name": "python3"
  },
  "language_info": {
   "codemirror_mode": {
    "name": "ipython",
    "version": 3
   },
   "file_extension": ".py",
   "mimetype": "text/x-python",
   "name": "python",
   "nbconvert_exporter": "python",
   "pygments_lexer": "ipython3",
   "version": "3.11.9"
  }
 },
 "nbformat": 4,
 "nbformat_minor": 2
}
